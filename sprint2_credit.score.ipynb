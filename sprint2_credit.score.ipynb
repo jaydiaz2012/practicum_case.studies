{
  "cells": [
    {
      "cell_type": "markdown",
      "metadata": {
        "id": "view-in-github",
        "colab_type": "text"
      },
      "source": [
        "<a href=\"https://colab.research.google.com/github/jaydiaz2012/jaynderling_csvs/blob/main/sprint_2_credit_score_final_jeremie.ipynb\" target=\"_parent\"><img src=\"https://colab.research.google.com/assets/colab-badge.svg\" alt=\"Open In Colab\"/></a>"
      ]
    },
    {
      "cell_type": "markdown",
      "metadata": {
        "id": "3NhUsUxQ2Ifk"
      },
      "source": [
        "# Analyzing borrowers’ risk of defaulting\n",
        "\n",
        "Your project is to prepare a report for a bank’s loan division. You’ll need to find out if a customer’s marital status and number of children has an impact on whether they will default on a loan. The bank already has some data on customers’ credit worthiness.\n",
        "\n",
        "Your report will be considered when building the **credit score** of a potential customer. The **credit score** is used to evaluate the ability of a potential borrower to repay their loan."
      ]
    },
    {
      "cell_type": "markdown",
      "metadata": {
        "id": "zRqdTMkg2Ifp"
      },
      "source": [
        "## Open the data file and have a look at the general information. "
      ]
    },
    {
      "cell_type": "code",
      "execution_count": 2,
      "metadata": {
        "colab": {
          "base_uri": "https://localhost:8080/",
          "height": 74
        },
        "id": "9cbzi-Lv2Ifq",
        "outputId": "81dc5202-3ea5-4e20-adf1-39f2d1a921a4"
      },
      "outputs": [
        {
          "output_type": "display_data",
          "data": {
            "text/plain": [
              "<IPython.core.display.HTML object>"
            ],
            "text/html": [
              "\n",
              "     <input type=\"file\" id=\"files-09aface2-b146-4e1c-8690-3e0ab0713d2c\" name=\"files[]\" multiple disabled\n",
              "        style=\"border:none\" />\n",
              "     <output id=\"result-09aface2-b146-4e1c-8690-3e0ab0713d2c\">\n",
              "      Upload widget is only available when the cell has been executed in the\n",
              "      current browser session. Please rerun this cell to enable.\n",
              "      </output>\n",
              "      <script>// Copyright 2017 Google LLC\n",
              "//\n",
              "// Licensed under the Apache License, Version 2.0 (the \"License\");\n",
              "// you may not use this file except in compliance with the License.\n",
              "// You may obtain a copy of the License at\n",
              "//\n",
              "//      http://www.apache.org/licenses/LICENSE-2.0\n",
              "//\n",
              "// Unless required by applicable law or agreed to in writing, software\n",
              "// distributed under the License is distributed on an \"AS IS\" BASIS,\n",
              "// WITHOUT WARRANTIES OR CONDITIONS OF ANY KIND, either express or implied.\n",
              "// See the License for the specific language governing permissions and\n",
              "// limitations under the License.\n",
              "\n",
              "/**\n",
              " * @fileoverview Helpers for google.colab Python module.\n",
              " */\n",
              "(function(scope) {\n",
              "function span(text, styleAttributes = {}) {\n",
              "  const element = document.createElement('span');\n",
              "  element.textContent = text;\n",
              "  for (const key of Object.keys(styleAttributes)) {\n",
              "    element.style[key] = styleAttributes[key];\n",
              "  }\n",
              "  return element;\n",
              "}\n",
              "\n",
              "// Max number of bytes which will be uploaded at a time.\n",
              "const MAX_PAYLOAD_SIZE = 100 * 1024;\n",
              "\n",
              "function _uploadFiles(inputId, outputId) {\n",
              "  const steps = uploadFilesStep(inputId, outputId);\n",
              "  const outputElement = document.getElementById(outputId);\n",
              "  // Cache steps on the outputElement to make it available for the next call\n",
              "  // to uploadFilesContinue from Python.\n",
              "  outputElement.steps = steps;\n",
              "\n",
              "  return _uploadFilesContinue(outputId);\n",
              "}\n",
              "\n",
              "// This is roughly an async generator (not supported in the browser yet),\n",
              "// where there are multiple asynchronous steps and the Python side is going\n",
              "// to poll for completion of each step.\n",
              "// This uses a Promise to block the python side on completion of each step,\n",
              "// then passes the result of the previous step as the input to the next step.\n",
              "function _uploadFilesContinue(outputId) {\n",
              "  const outputElement = document.getElementById(outputId);\n",
              "  const steps = outputElement.steps;\n",
              "\n",
              "  const next = steps.next(outputElement.lastPromiseValue);\n",
              "  return Promise.resolve(next.value.promise).then((value) => {\n",
              "    // Cache the last promise value to make it available to the next\n",
              "    // step of the generator.\n",
              "    outputElement.lastPromiseValue = value;\n",
              "    return next.value.response;\n",
              "  });\n",
              "}\n",
              "\n",
              "/**\n",
              " * Generator function which is called between each async step of the upload\n",
              " * process.\n",
              " * @param {string} inputId Element ID of the input file picker element.\n",
              " * @param {string} outputId Element ID of the output display.\n",
              " * @return {!Iterable<!Object>} Iterable of next steps.\n",
              " */\n",
              "function* uploadFilesStep(inputId, outputId) {\n",
              "  const inputElement = document.getElementById(inputId);\n",
              "  inputElement.disabled = false;\n",
              "\n",
              "  const outputElement = document.getElementById(outputId);\n",
              "  outputElement.innerHTML = '';\n",
              "\n",
              "  const pickedPromise = new Promise((resolve) => {\n",
              "    inputElement.addEventListener('change', (e) => {\n",
              "      resolve(e.target.files);\n",
              "    });\n",
              "  });\n",
              "\n",
              "  const cancel = document.createElement('button');\n",
              "  inputElement.parentElement.appendChild(cancel);\n",
              "  cancel.textContent = 'Cancel upload';\n",
              "  const cancelPromise = new Promise((resolve) => {\n",
              "    cancel.onclick = () => {\n",
              "      resolve(null);\n",
              "    };\n",
              "  });\n",
              "\n",
              "  // Wait for the user to pick the files.\n",
              "  const files = yield {\n",
              "    promise: Promise.race([pickedPromise, cancelPromise]),\n",
              "    response: {\n",
              "      action: 'starting',\n",
              "    }\n",
              "  };\n",
              "\n",
              "  cancel.remove();\n",
              "\n",
              "  // Disable the input element since further picks are not allowed.\n",
              "  inputElement.disabled = true;\n",
              "\n",
              "  if (!files) {\n",
              "    return {\n",
              "      response: {\n",
              "        action: 'complete',\n",
              "      }\n",
              "    };\n",
              "  }\n",
              "\n",
              "  for (const file of files) {\n",
              "    const li = document.createElement('li');\n",
              "    li.append(span(file.name, {fontWeight: 'bold'}));\n",
              "    li.append(span(\n",
              "        `(${file.type || 'n/a'}) - ${file.size} bytes, ` +\n",
              "        `last modified: ${\n",
              "            file.lastModifiedDate ? file.lastModifiedDate.toLocaleDateString() :\n",
              "                                    'n/a'} - `));\n",
              "    const percent = span('0% done');\n",
              "    li.appendChild(percent);\n",
              "\n",
              "    outputElement.appendChild(li);\n",
              "\n",
              "    const fileDataPromise = new Promise((resolve) => {\n",
              "      const reader = new FileReader();\n",
              "      reader.onload = (e) => {\n",
              "        resolve(e.target.result);\n",
              "      };\n",
              "      reader.readAsArrayBuffer(file);\n",
              "    });\n",
              "    // Wait for the data to be ready.\n",
              "    let fileData = yield {\n",
              "      promise: fileDataPromise,\n",
              "      response: {\n",
              "        action: 'continue',\n",
              "      }\n",
              "    };\n",
              "\n",
              "    // Use a chunked sending to avoid message size limits. See b/62115660.\n",
              "    let position = 0;\n",
              "    do {\n",
              "      const length = Math.min(fileData.byteLength - position, MAX_PAYLOAD_SIZE);\n",
              "      const chunk = new Uint8Array(fileData, position, length);\n",
              "      position += length;\n",
              "\n",
              "      const base64 = btoa(String.fromCharCode.apply(null, chunk));\n",
              "      yield {\n",
              "        response: {\n",
              "          action: 'append',\n",
              "          file: file.name,\n",
              "          data: base64,\n",
              "        },\n",
              "      };\n",
              "\n",
              "      let percentDone = fileData.byteLength === 0 ?\n",
              "          100 :\n",
              "          Math.round((position / fileData.byteLength) * 100);\n",
              "      percent.textContent = `${percentDone}% done`;\n",
              "\n",
              "    } while (position < fileData.byteLength);\n",
              "  }\n",
              "\n",
              "  // All done.\n",
              "  yield {\n",
              "    response: {\n",
              "      action: 'complete',\n",
              "    }\n",
              "  };\n",
              "}\n",
              "\n",
              "scope.google = scope.google || {};\n",
              "scope.google.colab = scope.google.colab || {};\n",
              "scope.google.colab._files = {\n",
              "  _uploadFiles,\n",
              "  _uploadFilesContinue,\n",
              "};\n",
              "})(self);\n",
              "</script> "
            ]
          },
          "metadata": {}
        },
        {
          "output_type": "stream",
          "name": "stdout",
          "text": [
            "Saving credit_scoring_eng.csv to credit_scoring_eng.csv\n"
          ]
        }
      ],
      "source": [
        "# Loading all the libraries\n",
        "import pandas as pd\n",
        "import numpy as np\n",
        "import pandas as pd\n",
        "from scipy import stats\n",
        "import seaborn as sns \n",
        "import matplotlib.pyplot as plt \n",
        "import warnings\n",
        "warnings.filterwarnings('ignore')\n",
        "\n",
        "# Load the data\n",
        "from google.colab import files \n",
        "data_to_load = files.upload()"
      ]
    },
    {
      "cell_type": "code",
      "source": [
        "import io \n",
        "df = pd.read_csv(io.BytesIO(data_to_load['credit_scoring_eng.csv']))"
      ],
      "metadata": {
        "id": "LmRUMkUj2lzs"
      },
      "execution_count": 3,
      "outputs": []
    },
    {
      "cell_type": "markdown",
      "metadata": {
        "id": "zbmiLp4H2Ifr"
      },
      "source": [
        "## Task 1. Data exploration\n",
        "\n",
        "**Description of the data**\n",
        "- `children` - the number of children in the family\n",
        "- `days_employed` - work experience in days\n",
        "- `dob_years` - client's age in years\n",
        "- `education` - client's education\n",
        "- `education_id` - education identifier\n",
        "- `family_status` - marital status\n",
        "- `family_status_id` - marital status identifier\n",
        "- `gender` - gender of the client\n",
        "- `income_type` - type of employment\n",
        "- `debt` - was there any debt on loan repayment\n",
        "- `total_income` - monthly income\n",
        "- `purpose` - the purpose of obtaining a loan"
      ]
    },
    {
      "cell_type": "code",
      "source": [
        "def check_data_stuff(df):\n",
        "  print(\"Dataframe has {} rows and {} columns\".format(df.shape[0], df.shape[1]))\n",
        "  print('\\n*********************************')\n",
        "  print(df.describe())\n",
        "  print('\\n *********************************')\n",
        "  print(df.shape)\n",
        "\n",
        "check_data_stuff(df)"
      ],
      "metadata": {
        "colab": {
          "base_uri": "https://localhost:8080/"
        },
        "id": "d0tI6_HTlK2z",
        "outputId": "d3551559-3ea6-44e6-dd8f-024365e09dc1"
      },
      "execution_count": 12,
      "outputs": [
        {
          "output_type": "stream",
          "name": "stdout",
          "text": [
            "Dataframe has 21525 rows and 12 columns\n",
            "\n",
            "*********************************\n",
            "           children  days_employed     dob_years  education_id  \\\n",
            "count  21525.000000   19351.000000  21525.000000  21525.000000   \n",
            "mean       0.538908   63046.497661     43.293380      0.817236   \n",
            "std        1.381587  140827.311974     12.574584      0.548138   \n",
            "min       -1.000000  -18388.949901      0.000000      0.000000   \n",
            "25%        0.000000   -2747.423625     33.000000      1.000000   \n",
            "50%        0.000000   -1203.369529     42.000000      1.000000   \n",
            "75%        1.000000    -291.095954     53.000000      1.000000   \n",
            "max       20.000000  401755.400475     75.000000      4.000000   \n",
            "\n",
            "       family_status_id          debt   total_income  \n",
            "count      21525.000000  21525.000000   19351.000000  \n",
            "mean           0.972544      0.080883   26787.568355  \n",
            "std            1.420324      0.272661   16475.450632  \n",
            "min            0.000000      0.000000    3306.762000  \n",
            "25%            0.000000      0.000000   16488.504500  \n",
            "50%            0.000000      0.000000   23202.870000  \n",
            "75%            1.000000      0.000000   32549.611000  \n",
            "max            4.000000      1.000000  362496.645000  \n",
            "\n",
            " *********************************\n",
            "(21525, 12)\n"
          ]
        }
      ]
    },
    {
      "cell_type": "code",
      "execution_count": 13,
      "metadata": {
        "scrolled": true,
        "colab": {
          "base_uri": "https://localhost:8080/",
          "height": 363
        },
        "id": "VTPv_BUS2Ifs",
        "outputId": "b5ed44de-0c3d-4a82-d287-c54aeeafb159"
      },
      "outputs": [
        {
          "output_type": "execute_result",
          "data": {
            "text/plain": [
              "   children  days_employed  dob_years            education  education_id  \\\n",
              "0         1   -8437.673028         42    bachelor's degree             0   \n",
              "1         1   -4024.803754         36  secondary education             1   \n",
              "2         0   -5623.422610         33  Secondary Education             1   \n",
              "3         3   -4124.747207         32  secondary education             1   \n",
              "4         0  340266.072047         53  secondary education             1   \n",
              "5         0    -926.185831         27    bachelor's degree             0   \n",
              "6         0   -2879.202052         43    bachelor's degree             0   \n",
              "7         0    -152.779569         50  SECONDARY EDUCATION             1   \n",
              "8         2   -6929.865299         35    BACHELOR'S DEGREE             0   \n",
              "9         0   -2188.756445         41  secondary education             1   \n",
              "\n",
              "       family_status  family_status_id gender income_type  debt  total_income  \\\n",
              "0            married                 0      F    employee     0     40620.102   \n",
              "1            married                 0      F    employee     0     17932.802   \n",
              "2            married                 0      M    employee     0     23341.752   \n",
              "3            married                 0      M    employee     0     42820.568   \n",
              "4  civil partnership                 1      F     retiree     0     25378.572   \n",
              "5  civil partnership                 1      M    business     0     40922.170   \n",
              "6            married                 0      F    business     0     38484.156   \n",
              "7            married                 0      M    employee     0     21731.829   \n",
              "8  civil partnership                 1      F    employee     0     15337.093   \n",
              "9            married                 0      M    employee     0     23108.150   \n",
              "\n",
              "                               purpose  \n",
              "0                purchase of the house  \n",
              "1                         car purchase  \n",
              "2                purchase of the house  \n",
              "3              supplementary education  \n",
              "4                    to have a wedding  \n",
              "5                purchase of the house  \n",
              "6                 housing transactions  \n",
              "7                            education  \n",
              "8                     having a wedding  \n",
              "9  purchase of the house for my family  "
            ],
            "text/html": [
              "\n",
              "  <div id=\"df-e3757a26-e765-44b0-8e69-9cdc568f7ade\">\n",
              "    <div class=\"colab-df-container\">\n",
              "      <div>\n",
              "<style scoped>\n",
              "    .dataframe tbody tr th:only-of-type {\n",
              "        vertical-align: middle;\n",
              "    }\n",
              "\n",
              "    .dataframe tbody tr th {\n",
              "        vertical-align: top;\n",
              "    }\n",
              "\n",
              "    .dataframe thead th {\n",
              "        text-align: right;\n",
              "    }\n",
              "</style>\n",
              "<table border=\"1\" class=\"dataframe\">\n",
              "  <thead>\n",
              "    <tr style=\"text-align: right;\">\n",
              "      <th></th>\n",
              "      <th>children</th>\n",
              "      <th>days_employed</th>\n",
              "      <th>dob_years</th>\n",
              "      <th>education</th>\n",
              "      <th>education_id</th>\n",
              "      <th>family_status</th>\n",
              "      <th>family_status_id</th>\n",
              "      <th>gender</th>\n",
              "      <th>income_type</th>\n",
              "      <th>debt</th>\n",
              "      <th>total_income</th>\n",
              "      <th>purpose</th>\n",
              "    </tr>\n",
              "  </thead>\n",
              "  <tbody>\n",
              "    <tr>\n",
              "      <th>0</th>\n",
              "      <td>1</td>\n",
              "      <td>-8437.673028</td>\n",
              "      <td>42</td>\n",
              "      <td>bachelor's degree</td>\n",
              "      <td>0</td>\n",
              "      <td>married</td>\n",
              "      <td>0</td>\n",
              "      <td>F</td>\n",
              "      <td>employee</td>\n",
              "      <td>0</td>\n",
              "      <td>40620.102</td>\n",
              "      <td>purchase of the house</td>\n",
              "    </tr>\n",
              "    <tr>\n",
              "      <th>1</th>\n",
              "      <td>1</td>\n",
              "      <td>-4024.803754</td>\n",
              "      <td>36</td>\n",
              "      <td>secondary education</td>\n",
              "      <td>1</td>\n",
              "      <td>married</td>\n",
              "      <td>0</td>\n",
              "      <td>F</td>\n",
              "      <td>employee</td>\n",
              "      <td>0</td>\n",
              "      <td>17932.802</td>\n",
              "      <td>car purchase</td>\n",
              "    </tr>\n",
              "    <tr>\n",
              "      <th>2</th>\n",
              "      <td>0</td>\n",
              "      <td>-5623.422610</td>\n",
              "      <td>33</td>\n",
              "      <td>Secondary Education</td>\n",
              "      <td>1</td>\n",
              "      <td>married</td>\n",
              "      <td>0</td>\n",
              "      <td>M</td>\n",
              "      <td>employee</td>\n",
              "      <td>0</td>\n",
              "      <td>23341.752</td>\n",
              "      <td>purchase of the house</td>\n",
              "    </tr>\n",
              "    <tr>\n",
              "      <th>3</th>\n",
              "      <td>3</td>\n",
              "      <td>-4124.747207</td>\n",
              "      <td>32</td>\n",
              "      <td>secondary education</td>\n",
              "      <td>1</td>\n",
              "      <td>married</td>\n",
              "      <td>0</td>\n",
              "      <td>M</td>\n",
              "      <td>employee</td>\n",
              "      <td>0</td>\n",
              "      <td>42820.568</td>\n",
              "      <td>supplementary education</td>\n",
              "    </tr>\n",
              "    <tr>\n",
              "      <th>4</th>\n",
              "      <td>0</td>\n",
              "      <td>340266.072047</td>\n",
              "      <td>53</td>\n",
              "      <td>secondary education</td>\n",
              "      <td>1</td>\n",
              "      <td>civil partnership</td>\n",
              "      <td>1</td>\n",
              "      <td>F</td>\n",
              "      <td>retiree</td>\n",
              "      <td>0</td>\n",
              "      <td>25378.572</td>\n",
              "      <td>to have a wedding</td>\n",
              "    </tr>\n",
              "    <tr>\n",
              "      <th>5</th>\n",
              "      <td>0</td>\n",
              "      <td>-926.185831</td>\n",
              "      <td>27</td>\n",
              "      <td>bachelor's degree</td>\n",
              "      <td>0</td>\n",
              "      <td>civil partnership</td>\n",
              "      <td>1</td>\n",
              "      <td>M</td>\n",
              "      <td>business</td>\n",
              "      <td>0</td>\n",
              "      <td>40922.170</td>\n",
              "      <td>purchase of the house</td>\n",
              "    </tr>\n",
              "    <tr>\n",
              "      <th>6</th>\n",
              "      <td>0</td>\n",
              "      <td>-2879.202052</td>\n",
              "      <td>43</td>\n",
              "      <td>bachelor's degree</td>\n",
              "      <td>0</td>\n",
              "      <td>married</td>\n",
              "      <td>0</td>\n",
              "      <td>F</td>\n",
              "      <td>business</td>\n",
              "      <td>0</td>\n",
              "      <td>38484.156</td>\n",
              "      <td>housing transactions</td>\n",
              "    </tr>\n",
              "    <tr>\n",
              "      <th>7</th>\n",
              "      <td>0</td>\n",
              "      <td>-152.779569</td>\n",
              "      <td>50</td>\n",
              "      <td>SECONDARY EDUCATION</td>\n",
              "      <td>1</td>\n",
              "      <td>married</td>\n",
              "      <td>0</td>\n",
              "      <td>M</td>\n",
              "      <td>employee</td>\n",
              "      <td>0</td>\n",
              "      <td>21731.829</td>\n",
              "      <td>education</td>\n",
              "    </tr>\n",
              "    <tr>\n",
              "      <th>8</th>\n",
              "      <td>2</td>\n",
              "      <td>-6929.865299</td>\n",
              "      <td>35</td>\n",
              "      <td>BACHELOR'S DEGREE</td>\n",
              "      <td>0</td>\n",
              "      <td>civil partnership</td>\n",
              "      <td>1</td>\n",
              "      <td>F</td>\n",
              "      <td>employee</td>\n",
              "      <td>0</td>\n",
              "      <td>15337.093</td>\n",
              "      <td>having a wedding</td>\n",
              "    </tr>\n",
              "    <tr>\n",
              "      <th>9</th>\n",
              "      <td>0</td>\n",
              "      <td>-2188.756445</td>\n",
              "      <td>41</td>\n",
              "      <td>secondary education</td>\n",
              "      <td>1</td>\n",
              "      <td>married</td>\n",
              "      <td>0</td>\n",
              "      <td>M</td>\n",
              "      <td>employee</td>\n",
              "      <td>0</td>\n",
              "      <td>23108.150</td>\n",
              "      <td>purchase of the house for my family</td>\n",
              "    </tr>\n",
              "  </tbody>\n",
              "</table>\n",
              "</div>\n",
              "      <button class=\"colab-df-convert\" onclick=\"convertToInteractive('df-e3757a26-e765-44b0-8e69-9cdc568f7ade')\"\n",
              "              title=\"Convert this dataframe to an interactive table.\"\n",
              "              style=\"display:none;\">\n",
              "        \n",
              "  <svg xmlns=\"http://www.w3.org/2000/svg\" height=\"24px\"viewBox=\"0 0 24 24\"\n",
              "       width=\"24px\">\n",
              "    <path d=\"M0 0h24v24H0V0z\" fill=\"none\"/>\n",
              "    <path d=\"M18.56 5.44l.94 2.06.94-2.06 2.06-.94-2.06-.94-.94-2.06-.94 2.06-2.06.94zm-11 1L8.5 8.5l.94-2.06 2.06-.94-2.06-.94L8.5 2.5l-.94 2.06-2.06.94zm10 10l.94 2.06.94-2.06 2.06-.94-2.06-.94-.94-2.06-.94 2.06-2.06.94z\"/><path d=\"M17.41 7.96l-1.37-1.37c-.4-.4-.92-.59-1.43-.59-.52 0-1.04.2-1.43.59L10.3 9.45l-7.72 7.72c-.78.78-.78 2.05 0 2.83L4 21.41c.39.39.9.59 1.41.59.51 0 1.02-.2 1.41-.59l7.78-7.78 2.81-2.81c.8-.78.8-2.07 0-2.86zM5.41 20L4 18.59l7.72-7.72 1.47 1.35L5.41 20z\"/>\n",
              "  </svg>\n",
              "      </button>\n",
              "      \n",
              "  <style>\n",
              "    .colab-df-container {\n",
              "      display:flex;\n",
              "      flex-wrap:wrap;\n",
              "      gap: 12px;\n",
              "    }\n",
              "\n",
              "    .colab-df-convert {\n",
              "      background-color: #E8F0FE;\n",
              "      border: none;\n",
              "      border-radius: 50%;\n",
              "      cursor: pointer;\n",
              "      display: none;\n",
              "      fill: #1967D2;\n",
              "      height: 32px;\n",
              "      padding: 0 0 0 0;\n",
              "      width: 32px;\n",
              "    }\n",
              "\n",
              "    .colab-df-convert:hover {\n",
              "      background-color: #E2EBFA;\n",
              "      box-shadow: 0px 1px 2px rgba(60, 64, 67, 0.3), 0px 1px 3px 1px rgba(60, 64, 67, 0.15);\n",
              "      fill: #174EA6;\n",
              "    }\n",
              "\n",
              "    [theme=dark] .colab-df-convert {\n",
              "      background-color: #3B4455;\n",
              "      fill: #D2E3FC;\n",
              "    }\n",
              "\n",
              "    [theme=dark] .colab-df-convert:hover {\n",
              "      background-color: #434B5C;\n",
              "      box-shadow: 0px 1px 3px 1px rgba(0, 0, 0, 0.15);\n",
              "      filter: drop-shadow(0px 1px 2px rgba(0, 0, 0, 0.3));\n",
              "      fill: #FFFFFF;\n",
              "    }\n",
              "  </style>\n",
              "\n",
              "      <script>\n",
              "        const buttonEl =\n",
              "          document.querySelector('#df-e3757a26-e765-44b0-8e69-9cdc568f7ade button.colab-df-convert');\n",
              "        buttonEl.style.display =\n",
              "          google.colab.kernel.accessAllowed ? 'block' : 'none';\n",
              "\n",
              "        async function convertToInteractive(key) {\n",
              "          const element = document.querySelector('#df-e3757a26-e765-44b0-8e69-9cdc568f7ade');\n",
              "          const dataTable =\n",
              "            await google.colab.kernel.invokeFunction('convertToInteractive',\n",
              "                                                     [key], {});\n",
              "          if (!dataTable) return;\n",
              "\n",
              "          const docLinkHtml = 'Like what you see? Visit the ' +\n",
              "            '<a target=\"_blank\" href=https://colab.research.google.com/notebooks/data_table.ipynb>data table notebook</a>'\n",
              "            + ' to learn more about interactive tables.';\n",
              "          element.innerHTML = '';\n",
              "          dataTable['output_type'] = 'display_data';\n",
              "          await google.colab.output.renderOutput(dataTable, element);\n",
              "          const docLink = document.createElement('div');\n",
              "          docLink.innerHTML = docLinkHtml;\n",
              "          element.appendChild(docLink);\n",
              "        }\n",
              "      </script>\n",
              "    </div>\n",
              "  </div>\n",
              "  "
            ]
          },
          "metadata": {},
          "execution_count": 13
        }
      ],
      "source": [
        "df.head(10)\n",
        "\n"
      ]
    },
    {
      "cell_type": "code",
      "source": [
        "df.tail(10)"
      ],
      "metadata": {
        "colab": {
          "base_uri": "https://localhost:8080/",
          "height": 363
        },
        "id": "EbGPcyA7x-Rk",
        "outputId": "67dde1d8-6456-44a8-c91b-3cc3c9d470b4"
      },
      "execution_count": 14,
      "outputs": [
        {
          "output_type": "execute_result",
          "data": {
            "text/plain": [
              "       children  days_employed  dob_years            education  education_id  \\\n",
              "21515         1    -467.685130         28  secondary education             1   \n",
              "21516         0    -914.391429         42    bachelor's degree             0   \n",
              "21517         0    -404.679034         42    bachelor's degree             0   \n",
              "21518         0  373995.710838         59  SECONDARY EDUCATION             1   \n",
              "21519         1   -2351.431934         37      graduate degree             4   \n",
              "21520         1   -4529.316663         43  secondary education             1   \n",
              "21521         0  343937.404131         67  secondary education             1   \n",
              "21522         1   -2113.346888         38  secondary education             1   \n",
              "21523         3   -3112.481705         38  secondary education             1   \n",
              "21524         2   -1984.507589         40  secondary education             1   \n",
              "\n",
              "           family_status  family_status_id gender income_type  debt  \\\n",
              "21515            married                 0      F    employee     1   \n",
              "21516            married                 0      F    business     0   \n",
              "21517  civil partnership                 1      F    business     0   \n",
              "21518            married                 0      F     retiree     0   \n",
              "21519           divorced                 3      M    employee     0   \n",
              "21520  civil partnership                 1      F    business     0   \n",
              "21521            married                 0      F     retiree     0   \n",
              "21522  civil partnership                 1      M    employee     1   \n",
              "21523            married                 0      M    employee     1   \n",
              "21524            married                 0      F    employee     0   \n",
              "\n",
              "       total_income                     purpose  \n",
              "21515     17517.812          to become educated  \n",
              "21516     51649.244    purchase of my own house  \n",
              "21517     28489.529           buying my own car  \n",
              "21518     24618.344           purchase of a car  \n",
              "21519     18551.846  buy commercial real estate  \n",
              "21520     35966.698        housing transactions  \n",
              "21521     24959.969           purchase of a car  \n",
              "21522     14347.610                    property  \n",
              "21523     39054.888           buying my own car  \n",
              "21524     13127.587                to buy a car  "
            ],
            "text/html": [
              "\n",
              "  <div id=\"df-7809b0e4-f45d-41f3-a08e-9eeed8577582\">\n",
              "    <div class=\"colab-df-container\">\n",
              "      <div>\n",
              "<style scoped>\n",
              "    .dataframe tbody tr th:only-of-type {\n",
              "        vertical-align: middle;\n",
              "    }\n",
              "\n",
              "    .dataframe tbody tr th {\n",
              "        vertical-align: top;\n",
              "    }\n",
              "\n",
              "    .dataframe thead th {\n",
              "        text-align: right;\n",
              "    }\n",
              "</style>\n",
              "<table border=\"1\" class=\"dataframe\">\n",
              "  <thead>\n",
              "    <tr style=\"text-align: right;\">\n",
              "      <th></th>\n",
              "      <th>children</th>\n",
              "      <th>days_employed</th>\n",
              "      <th>dob_years</th>\n",
              "      <th>education</th>\n",
              "      <th>education_id</th>\n",
              "      <th>family_status</th>\n",
              "      <th>family_status_id</th>\n",
              "      <th>gender</th>\n",
              "      <th>income_type</th>\n",
              "      <th>debt</th>\n",
              "      <th>total_income</th>\n",
              "      <th>purpose</th>\n",
              "    </tr>\n",
              "  </thead>\n",
              "  <tbody>\n",
              "    <tr>\n",
              "      <th>21515</th>\n",
              "      <td>1</td>\n",
              "      <td>-467.685130</td>\n",
              "      <td>28</td>\n",
              "      <td>secondary education</td>\n",
              "      <td>1</td>\n",
              "      <td>married</td>\n",
              "      <td>0</td>\n",
              "      <td>F</td>\n",
              "      <td>employee</td>\n",
              "      <td>1</td>\n",
              "      <td>17517.812</td>\n",
              "      <td>to become educated</td>\n",
              "    </tr>\n",
              "    <tr>\n",
              "      <th>21516</th>\n",
              "      <td>0</td>\n",
              "      <td>-914.391429</td>\n",
              "      <td>42</td>\n",
              "      <td>bachelor's degree</td>\n",
              "      <td>0</td>\n",
              "      <td>married</td>\n",
              "      <td>0</td>\n",
              "      <td>F</td>\n",
              "      <td>business</td>\n",
              "      <td>0</td>\n",
              "      <td>51649.244</td>\n",
              "      <td>purchase of my own house</td>\n",
              "    </tr>\n",
              "    <tr>\n",
              "      <th>21517</th>\n",
              "      <td>0</td>\n",
              "      <td>-404.679034</td>\n",
              "      <td>42</td>\n",
              "      <td>bachelor's degree</td>\n",
              "      <td>0</td>\n",
              "      <td>civil partnership</td>\n",
              "      <td>1</td>\n",
              "      <td>F</td>\n",
              "      <td>business</td>\n",
              "      <td>0</td>\n",
              "      <td>28489.529</td>\n",
              "      <td>buying my own car</td>\n",
              "    </tr>\n",
              "    <tr>\n",
              "      <th>21518</th>\n",
              "      <td>0</td>\n",
              "      <td>373995.710838</td>\n",
              "      <td>59</td>\n",
              "      <td>SECONDARY EDUCATION</td>\n",
              "      <td>1</td>\n",
              "      <td>married</td>\n",
              "      <td>0</td>\n",
              "      <td>F</td>\n",
              "      <td>retiree</td>\n",
              "      <td>0</td>\n",
              "      <td>24618.344</td>\n",
              "      <td>purchase of a car</td>\n",
              "    </tr>\n",
              "    <tr>\n",
              "      <th>21519</th>\n",
              "      <td>1</td>\n",
              "      <td>-2351.431934</td>\n",
              "      <td>37</td>\n",
              "      <td>graduate degree</td>\n",
              "      <td>4</td>\n",
              "      <td>divorced</td>\n",
              "      <td>3</td>\n",
              "      <td>M</td>\n",
              "      <td>employee</td>\n",
              "      <td>0</td>\n",
              "      <td>18551.846</td>\n",
              "      <td>buy commercial real estate</td>\n",
              "    </tr>\n",
              "    <tr>\n",
              "      <th>21520</th>\n",
              "      <td>1</td>\n",
              "      <td>-4529.316663</td>\n",
              "      <td>43</td>\n",
              "      <td>secondary education</td>\n",
              "      <td>1</td>\n",
              "      <td>civil partnership</td>\n",
              "      <td>1</td>\n",
              "      <td>F</td>\n",
              "      <td>business</td>\n",
              "      <td>0</td>\n",
              "      <td>35966.698</td>\n",
              "      <td>housing transactions</td>\n",
              "    </tr>\n",
              "    <tr>\n",
              "      <th>21521</th>\n",
              "      <td>0</td>\n",
              "      <td>343937.404131</td>\n",
              "      <td>67</td>\n",
              "      <td>secondary education</td>\n",
              "      <td>1</td>\n",
              "      <td>married</td>\n",
              "      <td>0</td>\n",
              "      <td>F</td>\n",
              "      <td>retiree</td>\n",
              "      <td>0</td>\n",
              "      <td>24959.969</td>\n",
              "      <td>purchase of a car</td>\n",
              "    </tr>\n",
              "    <tr>\n",
              "      <th>21522</th>\n",
              "      <td>1</td>\n",
              "      <td>-2113.346888</td>\n",
              "      <td>38</td>\n",
              "      <td>secondary education</td>\n",
              "      <td>1</td>\n",
              "      <td>civil partnership</td>\n",
              "      <td>1</td>\n",
              "      <td>M</td>\n",
              "      <td>employee</td>\n",
              "      <td>1</td>\n",
              "      <td>14347.610</td>\n",
              "      <td>property</td>\n",
              "    </tr>\n",
              "    <tr>\n",
              "      <th>21523</th>\n",
              "      <td>3</td>\n",
              "      <td>-3112.481705</td>\n",
              "      <td>38</td>\n",
              "      <td>secondary education</td>\n",
              "      <td>1</td>\n",
              "      <td>married</td>\n",
              "      <td>0</td>\n",
              "      <td>M</td>\n",
              "      <td>employee</td>\n",
              "      <td>1</td>\n",
              "      <td>39054.888</td>\n",
              "      <td>buying my own car</td>\n",
              "    </tr>\n",
              "    <tr>\n",
              "      <th>21524</th>\n",
              "      <td>2</td>\n",
              "      <td>-1984.507589</td>\n",
              "      <td>40</td>\n",
              "      <td>secondary education</td>\n",
              "      <td>1</td>\n",
              "      <td>married</td>\n",
              "      <td>0</td>\n",
              "      <td>F</td>\n",
              "      <td>employee</td>\n",
              "      <td>0</td>\n",
              "      <td>13127.587</td>\n",
              "      <td>to buy a car</td>\n",
              "    </tr>\n",
              "  </tbody>\n",
              "</table>\n",
              "</div>\n",
              "      <button class=\"colab-df-convert\" onclick=\"convertToInteractive('df-7809b0e4-f45d-41f3-a08e-9eeed8577582')\"\n",
              "              title=\"Convert this dataframe to an interactive table.\"\n",
              "              style=\"display:none;\">\n",
              "        \n",
              "  <svg xmlns=\"http://www.w3.org/2000/svg\" height=\"24px\"viewBox=\"0 0 24 24\"\n",
              "       width=\"24px\">\n",
              "    <path d=\"M0 0h24v24H0V0z\" fill=\"none\"/>\n",
              "    <path d=\"M18.56 5.44l.94 2.06.94-2.06 2.06-.94-2.06-.94-.94-2.06-.94 2.06-2.06.94zm-11 1L8.5 8.5l.94-2.06 2.06-.94-2.06-.94L8.5 2.5l-.94 2.06-2.06.94zm10 10l.94 2.06.94-2.06 2.06-.94-2.06-.94-.94-2.06-.94 2.06-2.06.94z\"/><path d=\"M17.41 7.96l-1.37-1.37c-.4-.4-.92-.59-1.43-.59-.52 0-1.04.2-1.43.59L10.3 9.45l-7.72 7.72c-.78.78-.78 2.05 0 2.83L4 21.41c.39.39.9.59 1.41.59.51 0 1.02-.2 1.41-.59l7.78-7.78 2.81-2.81c.8-.78.8-2.07 0-2.86zM5.41 20L4 18.59l7.72-7.72 1.47 1.35L5.41 20z\"/>\n",
              "  </svg>\n",
              "      </button>\n",
              "      \n",
              "  <style>\n",
              "    .colab-df-container {\n",
              "      display:flex;\n",
              "      flex-wrap:wrap;\n",
              "      gap: 12px;\n",
              "    }\n",
              "\n",
              "    .colab-df-convert {\n",
              "      background-color: #E8F0FE;\n",
              "      border: none;\n",
              "      border-radius: 50%;\n",
              "      cursor: pointer;\n",
              "      display: none;\n",
              "      fill: #1967D2;\n",
              "      height: 32px;\n",
              "      padding: 0 0 0 0;\n",
              "      width: 32px;\n",
              "    }\n",
              "\n",
              "    .colab-df-convert:hover {\n",
              "      background-color: #E2EBFA;\n",
              "      box-shadow: 0px 1px 2px rgba(60, 64, 67, 0.3), 0px 1px 3px 1px rgba(60, 64, 67, 0.15);\n",
              "      fill: #174EA6;\n",
              "    }\n",
              "\n",
              "    [theme=dark] .colab-df-convert {\n",
              "      background-color: #3B4455;\n",
              "      fill: #D2E3FC;\n",
              "    }\n",
              "\n",
              "    [theme=dark] .colab-df-convert:hover {\n",
              "      background-color: #434B5C;\n",
              "      box-shadow: 0px 1px 3px 1px rgba(0, 0, 0, 0.15);\n",
              "      filter: drop-shadow(0px 1px 2px rgba(0, 0, 0, 0.3));\n",
              "      fill: #FFFFFF;\n",
              "    }\n",
              "  </style>\n",
              "\n",
              "      <script>\n",
              "        const buttonEl =\n",
              "          document.querySelector('#df-7809b0e4-f45d-41f3-a08e-9eeed8577582 button.colab-df-convert');\n",
              "        buttonEl.style.display =\n",
              "          google.colab.kernel.accessAllowed ? 'block' : 'none';\n",
              "\n",
              "        async function convertToInteractive(key) {\n",
              "          const element = document.querySelector('#df-7809b0e4-f45d-41f3-a08e-9eeed8577582');\n",
              "          const dataTable =\n",
              "            await google.colab.kernel.invokeFunction('convertToInteractive',\n",
              "                                                     [key], {});\n",
              "          if (!dataTable) return;\n",
              "\n",
              "          const docLinkHtml = 'Like what you see? Visit the ' +\n",
              "            '<a target=\"_blank\" href=https://colab.research.google.com/notebooks/data_table.ipynb>data table notebook</a>'\n",
              "            + ' to learn more about interactive tables.';\n",
              "          element.innerHTML = '';\n",
              "          dataTable['output_type'] = 'display_data';\n",
              "          await google.colab.output.renderOutput(dataTable, element);\n",
              "          const docLink = document.createElement('div');\n",
              "          docLink.innerHTML = docLinkHtml;\n",
              "          element.appendChild(docLink);\n",
              "        }\n",
              "      </script>\n",
              "    </div>\n",
              "  </div>\n",
              "  "
            ]
          },
          "metadata": {},
          "execution_count": 14
        }
      ]
    },
    {
      "cell_type": "markdown",
      "metadata": {
        "id": "CMiiTJRd2Ift"
      },
      "source": [
        "Observations:\n",
        "<p>The days_employed column contain negative values. It needs to be investigated further. The entries in education column are inconsistent with the cases. Some are in lower case while the rest are in uppoer case. Education_id and family_status_id seems to show responses in various scale. Values in the Debt column seems to be Boolean. There's Nan in a single row which shows that there are duplicate values.</p>  "
      ]
    },
    {
      "cell_type": "code",
      "execution_count": 15,
      "metadata": {
        "scrolled": false,
        "colab": {
          "base_uri": "https://localhost:8080/"
        },
        "id": "G9jXDI8-2Ift",
        "outputId": "8b636ec6-ffb8-4d3b-a37f-70c49dc2be72"
      },
      "outputs": [
        {
          "output_type": "stream",
          "name": "stdout",
          "text": [
            "<class 'pandas.core.frame.DataFrame'>\n",
            "RangeIndex: 21525 entries, 0 to 21524\n",
            "Data columns (total 12 columns):\n",
            " #   Column            Non-Null Count  Dtype  \n",
            "---  ------            --------------  -----  \n",
            " 0   children          21525 non-null  int64  \n",
            " 1   days_employed     19351 non-null  float64\n",
            " 2   dob_years         21525 non-null  int64  \n",
            " 3   education         21525 non-null  object \n",
            " 4   education_id      21525 non-null  int64  \n",
            " 5   family_status     21525 non-null  object \n",
            " 6   family_status_id  21525 non-null  int64  \n",
            " 7   gender            21525 non-null  object \n",
            " 8   income_type       21525 non-null  object \n",
            " 9   debt              21525 non-null  int64  \n",
            " 10  total_income      19351 non-null  float64\n",
            " 11  purpose           21525 non-null  object \n",
            "dtypes: float64(2), int64(5), object(5)\n",
            "memory usage: 2.0+ MB\n"
          ]
        }
      ],
      "source": [
        "df.info(show_counts=True, verbose=True)\n"
      ]
    },
    {
      "cell_type": "code",
      "source": [
        "df.columns"
      ],
      "metadata": {
        "colab": {
          "base_uri": "https://localhost:8080/"
        },
        "id": "gw-VAuhCeuIM",
        "outputId": "29caafd6-01d8-43c2-d296-7b03745e4cad"
      },
      "execution_count": 16,
      "outputs": [
        {
          "output_type": "execute_result",
          "data": {
            "text/plain": [
              "Index(['children', 'days_employed', 'dob_years', 'education', 'education_id',\n",
              "       'family_status', 'family_status_id', 'gender', 'income_type', 'debt',\n",
              "       'total_income', 'purpose'],\n",
              "      dtype='object')"
            ]
          },
          "metadata": {},
          "execution_count": 16
        }
      ]
    },
    {
      "cell_type": "code",
      "source": [
        "def check_data_category(df):\n",
        "  print(df['education'].sort_values().unique())\n",
        "  print('\\n*********************************')\n",
        "  print(df['gender'].sort_values().unique())\n",
        "  print('\\n *********************************')\n",
        "  print(df['education'].sort_values().unique())\n",
        "  print('\\n *********************************')\n",
        "  print(df['family_status'].sort_values().unique())\n",
        "  print('\\n *********************************')\n",
        "  print(df['income_type'].sort_values().unique())\n",
        "  print('\\n *********************************')\n",
        "  print(df['purpose'].sort_values().unique())\n",
        "\n",
        "check_data_category(df)"
      ],
      "metadata": {
        "colab": {
          "base_uri": "https://localhost:8080/"
        },
        "id": "5Lq3EQwVriX0",
        "outputId": "96c6c036-8e21-414d-ca4c-7705b740dcd8"
      },
      "execution_count": 17,
      "outputs": [
        {
          "output_type": "stream",
          "name": "stdout",
          "text": [
            "[\"BACHELOR'S DEGREE\" \"Bachelor's Degree\" 'GRADUATE DEGREE'\n",
            " 'Graduate Degree' 'PRIMARY EDUCATION' 'Primary Education'\n",
            " 'SECONDARY EDUCATION' 'SOME COLLEGE' 'Secondary Education' 'Some College'\n",
            " \"bachelor's degree\" 'graduate degree' 'primary education'\n",
            " 'secondary education' 'some college']\n",
            "\n",
            "*********************************\n",
            "['F' 'M' 'XNA']\n",
            "\n",
            " *********************************\n",
            "[\"BACHELOR'S DEGREE\" \"Bachelor's Degree\" 'GRADUATE DEGREE'\n",
            " 'Graduate Degree' 'PRIMARY EDUCATION' 'Primary Education'\n",
            " 'SECONDARY EDUCATION' 'SOME COLLEGE' 'Secondary Education' 'Some College'\n",
            " \"bachelor's degree\" 'graduate degree' 'primary education'\n",
            " 'secondary education' 'some college']\n",
            "\n",
            " *********************************\n",
            "['civil partnership' 'divorced' 'married' 'unmarried' 'widow / widower']\n",
            "\n",
            " *********************************\n",
            "['business' 'civil servant' 'employee' 'entrepreneur'\n",
            " 'paternity / maternity leave' 'retiree' 'student' 'unemployed']\n",
            "\n",
            " *********************************\n",
            "['building a property' 'building a real estate'\n",
            " 'buy commercial real estate' 'buy real estate'\n",
            " 'buy residential real estate' 'buying a second-hand car'\n",
            " 'buying my own car' 'buying property for renting out' 'car'\n",
            " 'car purchase' 'cars' 'construction of own property' 'education'\n",
            " 'getting an education' 'getting higher education' 'going to university'\n",
            " 'having a wedding' 'housing' 'housing renovation' 'housing transactions'\n",
            " 'profile education' 'property' 'purchase of a car'\n",
            " 'purchase of my own house' 'purchase of the house'\n",
            " 'purchase of the house for my family' 'real estate transactions'\n",
            " 'second-hand car purchase' 'supplementary education' 'to become educated'\n",
            " 'to buy a car' 'to get a supplementary education' 'to have a wedding'\n",
            " 'to own a car' 'transactions with commercial real estate'\n",
            " 'transactions with my real estate' 'university education'\n",
            " 'wedding ceremony']\n"
          ]
        }
      ]
    },
    {
      "cell_type": "code",
      "source": [
        "categorical = df.dtypes[df.dtypes == \"object\"].index\n",
        "df[categorical].describe().transpose()"
      ],
      "metadata": {
        "colab": {
          "base_uri": "https://localhost:8080/",
          "height": 206
        },
        "id": "nlaACIHDjH9a",
        "outputId": "acc5a114-43af-41ba-ec3c-83541a8e5767"
      },
      "execution_count": 18,
      "outputs": [
        {
          "output_type": "execute_result",
          "data": {
            "text/plain": [
              "               count unique                  top   freq\n",
              "education      21525     15  secondary education  13750\n",
              "family_status  21525      5              married  12380\n",
              "gender         21525      3                    F  14236\n",
              "income_type    21525      8             employee  11119\n",
              "purpose        21525     38     wedding ceremony    797"
            ],
            "text/html": [
              "\n",
              "  <div id=\"df-83bb00f8-918a-4499-b59b-97523915d316\">\n",
              "    <div class=\"colab-df-container\">\n",
              "      <div>\n",
              "<style scoped>\n",
              "    .dataframe tbody tr th:only-of-type {\n",
              "        vertical-align: middle;\n",
              "    }\n",
              "\n",
              "    .dataframe tbody tr th {\n",
              "        vertical-align: top;\n",
              "    }\n",
              "\n",
              "    .dataframe thead th {\n",
              "        text-align: right;\n",
              "    }\n",
              "</style>\n",
              "<table border=\"1\" class=\"dataframe\">\n",
              "  <thead>\n",
              "    <tr style=\"text-align: right;\">\n",
              "      <th></th>\n",
              "      <th>count</th>\n",
              "      <th>unique</th>\n",
              "      <th>top</th>\n",
              "      <th>freq</th>\n",
              "    </tr>\n",
              "  </thead>\n",
              "  <tbody>\n",
              "    <tr>\n",
              "      <th>education</th>\n",
              "      <td>21525</td>\n",
              "      <td>15</td>\n",
              "      <td>secondary education</td>\n",
              "      <td>13750</td>\n",
              "    </tr>\n",
              "    <tr>\n",
              "      <th>family_status</th>\n",
              "      <td>21525</td>\n",
              "      <td>5</td>\n",
              "      <td>married</td>\n",
              "      <td>12380</td>\n",
              "    </tr>\n",
              "    <tr>\n",
              "      <th>gender</th>\n",
              "      <td>21525</td>\n",
              "      <td>3</td>\n",
              "      <td>F</td>\n",
              "      <td>14236</td>\n",
              "    </tr>\n",
              "    <tr>\n",
              "      <th>income_type</th>\n",
              "      <td>21525</td>\n",
              "      <td>8</td>\n",
              "      <td>employee</td>\n",
              "      <td>11119</td>\n",
              "    </tr>\n",
              "    <tr>\n",
              "      <th>purpose</th>\n",
              "      <td>21525</td>\n",
              "      <td>38</td>\n",
              "      <td>wedding ceremony</td>\n",
              "      <td>797</td>\n",
              "    </tr>\n",
              "  </tbody>\n",
              "</table>\n",
              "</div>\n",
              "      <button class=\"colab-df-convert\" onclick=\"convertToInteractive('df-83bb00f8-918a-4499-b59b-97523915d316')\"\n",
              "              title=\"Convert this dataframe to an interactive table.\"\n",
              "              style=\"display:none;\">\n",
              "        \n",
              "  <svg xmlns=\"http://www.w3.org/2000/svg\" height=\"24px\"viewBox=\"0 0 24 24\"\n",
              "       width=\"24px\">\n",
              "    <path d=\"M0 0h24v24H0V0z\" fill=\"none\"/>\n",
              "    <path d=\"M18.56 5.44l.94 2.06.94-2.06 2.06-.94-2.06-.94-.94-2.06-.94 2.06-2.06.94zm-11 1L8.5 8.5l.94-2.06 2.06-.94-2.06-.94L8.5 2.5l-.94 2.06-2.06.94zm10 10l.94 2.06.94-2.06 2.06-.94-2.06-.94-.94-2.06-.94 2.06-2.06.94z\"/><path d=\"M17.41 7.96l-1.37-1.37c-.4-.4-.92-.59-1.43-.59-.52 0-1.04.2-1.43.59L10.3 9.45l-7.72 7.72c-.78.78-.78 2.05 0 2.83L4 21.41c.39.39.9.59 1.41.59.51 0 1.02-.2 1.41-.59l7.78-7.78 2.81-2.81c.8-.78.8-2.07 0-2.86zM5.41 20L4 18.59l7.72-7.72 1.47 1.35L5.41 20z\"/>\n",
              "  </svg>\n",
              "      </button>\n",
              "      \n",
              "  <style>\n",
              "    .colab-df-container {\n",
              "      display:flex;\n",
              "      flex-wrap:wrap;\n",
              "      gap: 12px;\n",
              "    }\n",
              "\n",
              "    .colab-df-convert {\n",
              "      background-color: #E8F0FE;\n",
              "      border: none;\n",
              "      border-radius: 50%;\n",
              "      cursor: pointer;\n",
              "      display: none;\n",
              "      fill: #1967D2;\n",
              "      height: 32px;\n",
              "      padding: 0 0 0 0;\n",
              "      width: 32px;\n",
              "    }\n",
              "\n",
              "    .colab-df-convert:hover {\n",
              "      background-color: #E2EBFA;\n",
              "      box-shadow: 0px 1px 2px rgba(60, 64, 67, 0.3), 0px 1px 3px 1px rgba(60, 64, 67, 0.15);\n",
              "      fill: #174EA6;\n",
              "    }\n",
              "\n",
              "    [theme=dark] .colab-df-convert {\n",
              "      background-color: #3B4455;\n",
              "      fill: #D2E3FC;\n",
              "    }\n",
              "\n",
              "    [theme=dark] .colab-df-convert:hover {\n",
              "      background-color: #434B5C;\n",
              "      box-shadow: 0px 1px 3px 1px rgba(0, 0, 0, 0.15);\n",
              "      filter: drop-shadow(0px 1px 2px rgba(0, 0, 0, 0.3));\n",
              "      fill: #FFFFFF;\n",
              "    }\n",
              "  </style>\n",
              "\n",
              "      <script>\n",
              "        const buttonEl =\n",
              "          document.querySelector('#df-83bb00f8-918a-4499-b59b-97523915d316 button.colab-df-convert');\n",
              "        buttonEl.style.display =\n",
              "          google.colab.kernel.accessAllowed ? 'block' : 'none';\n",
              "\n",
              "        async function convertToInteractive(key) {\n",
              "          const element = document.querySelector('#df-83bb00f8-918a-4499-b59b-97523915d316');\n",
              "          const dataTable =\n",
              "            await google.colab.kernel.invokeFunction('convertToInteractive',\n",
              "                                                     [key], {});\n",
              "          if (!dataTable) return;\n",
              "\n",
              "          const docLinkHtml = 'Like what you see? Visit the ' +\n",
              "            '<a target=\"_blank\" href=https://colab.research.google.com/notebooks/data_table.ipynb>data table notebook</a>'\n",
              "            + ' to learn more about interactive tables.';\n",
              "          element.innerHTML = '';\n",
              "          dataTable['output_type'] = 'display_data';\n",
              "          await google.colab.output.renderOutput(dataTable, element);\n",
              "          const docLink = document.createElement('div');\n",
              "          docLink.innerHTML = docLinkHtml;\n",
              "          element.appendChild(docLink);\n",
              "        }\n",
              "      </script>\n",
              "    </div>\n",
              "  </div>\n",
              "  "
            ]
          },
          "metadata": {},
          "execution_count": 18
        }
      ]
    },
    {
      "cell_type": "code",
      "source": [
        "numCol  = df.dtypes[df.dtypes != \"0\"].index\n",
        "df[numCol].describe().transpose()"
      ],
      "metadata": {
        "colab": {
          "base_uri": "https://localhost:8080/",
          "height": 269
        },
        "id": "IusYo5ENOOU-",
        "outputId": "fda70392-8a05-4612-9452-2bfe006360de"
      },
      "execution_count": 19,
      "outputs": [
        {
          "output_type": "execute_result",
          "data": {
            "text/plain": [
              "                    count          mean            std           min  \\\n",
              "children          21525.0      0.538908       1.381587     -1.000000   \n",
              "days_employed     19351.0  63046.497661  140827.311974 -18388.949901   \n",
              "dob_years         21525.0     43.293380      12.574584      0.000000   \n",
              "education_id      21525.0      0.817236       0.548138      0.000000   \n",
              "family_status_id  21525.0      0.972544       1.420324      0.000000   \n",
              "debt              21525.0      0.080883       0.272661      0.000000   \n",
              "total_income      19351.0  26787.568355   16475.450632   3306.762000   \n",
              "\n",
              "                           25%           50%           75%            max  \n",
              "children              0.000000      0.000000      1.000000      20.000000  \n",
              "days_employed     -2747.423625  -1203.369529   -291.095954  401755.400475  \n",
              "dob_years            33.000000     42.000000     53.000000      75.000000  \n",
              "education_id          1.000000      1.000000      1.000000       4.000000  \n",
              "family_status_id      0.000000      0.000000      1.000000       4.000000  \n",
              "debt                  0.000000      0.000000      0.000000       1.000000  \n",
              "total_income      16488.504500  23202.870000  32549.611000  362496.645000  "
            ],
            "text/html": [
              "\n",
              "  <div id=\"df-22faca6a-575e-44a2-9dc0-ddf89baea9cd\">\n",
              "    <div class=\"colab-df-container\">\n",
              "      <div>\n",
              "<style scoped>\n",
              "    .dataframe tbody tr th:only-of-type {\n",
              "        vertical-align: middle;\n",
              "    }\n",
              "\n",
              "    .dataframe tbody tr th {\n",
              "        vertical-align: top;\n",
              "    }\n",
              "\n",
              "    .dataframe thead th {\n",
              "        text-align: right;\n",
              "    }\n",
              "</style>\n",
              "<table border=\"1\" class=\"dataframe\">\n",
              "  <thead>\n",
              "    <tr style=\"text-align: right;\">\n",
              "      <th></th>\n",
              "      <th>count</th>\n",
              "      <th>mean</th>\n",
              "      <th>std</th>\n",
              "      <th>min</th>\n",
              "      <th>25%</th>\n",
              "      <th>50%</th>\n",
              "      <th>75%</th>\n",
              "      <th>max</th>\n",
              "    </tr>\n",
              "  </thead>\n",
              "  <tbody>\n",
              "    <tr>\n",
              "      <th>children</th>\n",
              "      <td>21525.0</td>\n",
              "      <td>0.538908</td>\n",
              "      <td>1.381587</td>\n",
              "      <td>-1.000000</td>\n",
              "      <td>0.000000</td>\n",
              "      <td>0.000000</td>\n",
              "      <td>1.000000</td>\n",
              "      <td>20.000000</td>\n",
              "    </tr>\n",
              "    <tr>\n",
              "      <th>days_employed</th>\n",
              "      <td>19351.0</td>\n",
              "      <td>63046.497661</td>\n",
              "      <td>140827.311974</td>\n",
              "      <td>-18388.949901</td>\n",
              "      <td>-2747.423625</td>\n",
              "      <td>-1203.369529</td>\n",
              "      <td>-291.095954</td>\n",
              "      <td>401755.400475</td>\n",
              "    </tr>\n",
              "    <tr>\n",
              "      <th>dob_years</th>\n",
              "      <td>21525.0</td>\n",
              "      <td>43.293380</td>\n",
              "      <td>12.574584</td>\n",
              "      <td>0.000000</td>\n",
              "      <td>33.000000</td>\n",
              "      <td>42.000000</td>\n",
              "      <td>53.000000</td>\n",
              "      <td>75.000000</td>\n",
              "    </tr>\n",
              "    <tr>\n",
              "      <th>education_id</th>\n",
              "      <td>21525.0</td>\n",
              "      <td>0.817236</td>\n",
              "      <td>0.548138</td>\n",
              "      <td>0.000000</td>\n",
              "      <td>1.000000</td>\n",
              "      <td>1.000000</td>\n",
              "      <td>1.000000</td>\n",
              "      <td>4.000000</td>\n",
              "    </tr>\n",
              "    <tr>\n",
              "      <th>family_status_id</th>\n",
              "      <td>21525.0</td>\n",
              "      <td>0.972544</td>\n",
              "      <td>1.420324</td>\n",
              "      <td>0.000000</td>\n",
              "      <td>0.000000</td>\n",
              "      <td>0.000000</td>\n",
              "      <td>1.000000</td>\n",
              "      <td>4.000000</td>\n",
              "    </tr>\n",
              "    <tr>\n",
              "      <th>debt</th>\n",
              "      <td>21525.0</td>\n",
              "      <td>0.080883</td>\n",
              "      <td>0.272661</td>\n",
              "      <td>0.000000</td>\n",
              "      <td>0.000000</td>\n",
              "      <td>0.000000</td>\n",
              "      <td>0.000000</td>\n",
              "      <td>1.000000</td>\n",
              "    </tr>\n",
              "    <tr>\n",
              "      <th>total_income</th>\n",
              "      <td>19351.0</td>\n",
              "      <td>26787.568355</td>\n",
              "      <td>16475.450632</td>\n",
              "      <td>3306.762000</td>\n",
              "      <td>16488.504500</td>\n",
              "      <td>23202.870000</td>\n",
              "      <td>32549.611000</td>\n",
              "      <td>362496.645000</td>\n",
              "    </tr>\n",
              "  </tbody>\n",
              "</table>\n",
              "</div>\n",
              "      <button class=\"colab-df-convert\" onclick=\"convertToInteractive('df-22faca6a-575e-44a2-9dc0-ddf89baea9cd')\"\n",
              "              title=\"Convert this dataframe to an interactive table.\"\n",
              "              style=\"display:none;\">\n",
              "        \n",
              "  <svg xmlns=\"http://www.w3.org/2000/svg\" height=\"24px\"viewBox=\"0 0 24 24\"\n",
              "       width=\"24px\">\n",
              "    <path d=\"M0 0h24v24H0V0z\" fill=\"none\"/>\n",
              "    <path d=\"M18.56 5.44l.94 2.06.94-2.06 2.06-.94-2.06-.94-.94-2.06-.94 2.06-2.06.94zm-11 1L8.5 8.5l.94-2.06 2.06-.94-2.06-.94L8.5 2.5l-.94 2.06-2.06.94zm10 10l.94 2.06.94-2.06 2.06-.94-2.06-.94-.94-2.06-.94 2.06-2.06.94z\"/><path d=\"M17.41 7.96l-1.37-1.37c-.4-.4-.92-.59-1.43-.59-.52 0-1.04.2-1.43.59L10.3 9.45l-7.72 7.72c-.78.78-.78 2.05 0 2.83L4 21.41c.39.39.9.59 1.41.59.51 0 1.02-.2 1.41-.59l7.78-7.78 2.81-2.81c.8-.78.8-2.07 0-2.86zM5.41 20L4 18.59l7.72-7.72 1.47 1.35L5.41 20z\"/>\n",
              "  </svg>\n",
              "      </button>\n",
              "      \n",
              "  <style>\n",
              "    .colab-df-container {\n",
              "      display:flex;\n",
              "      flex-wrap:wrap;\n",
              "      gap: 12px;\n",
              "    }\n",
              "\n",
              "    .colab-df-convert {\n",
              "      background-color: #E8F0FE;\n",
              "      border: none;\n",
              "      border-radius: 50%;\n",
              "      cursor: pointer;\n",
              "      display: none;\n",
              "      fill: #1967D2;\n",
              "      height: 32px;\n",
              "      padding: 0 0 0 0;\n",
              "      width: 32px;\n",
              "    }\n",
              "\n",
              "    .colab-df-convert:hover {\n",
              "      background-color: #E2EBFA;\n",
              "      box-shadow: 0px 1px 2px rgba(60, 64, 67, 0.3), 0px 1px 3px 1px rgba(60, 64, 67, 0.15);\n",
              "      fill: #174EA6;\n",
              "    }\n",
              "\n",
              "    [theme=dark] .colab-df-convert {\n",
              "      background-color: #3B4455;\n",
              "      fill: #D2E3FC;\n",
              "    }\n",
              "\n",
              "    [theme=dark] .colab-df-convert:hover {\n",
              "      background-color: #434B5C;\n",
              "      box-shadow: 0px 1px 3px 1px rgba(0, 0, 0, 0.15);\n",
              "      filter: drop-shadow(0px 1px 2px rgba(0, 0, 0, 0.3));\n",
              "      fill: #FFFFFF;\n",
              "    }\n",
              "  </style>\n",
              "\n",
              "      <script>\n",
              "        const buttonEl =\n",
              "          document.querySelector('#df-22faca6a-575e-44a2-9dc0-ddf89baea9cd button.colab-df-convert');\n",
              "        buttonEl.style.display =\n",
              "          google.colab.kernel.accessAllowed ? 'block' : 'none';\n",
              "\n",
              "        async function convertToInteractive(key) {\n",
              "          const element = document.querySelector('#df-22faca6a-575e-44a2-9dc0-ddf89baea9cd');\n",
              "          const dataTable =\n",
              "            await google.colab.kernel.invokeFunction('convertToInteractive',\n",
              "                                                     [key], {});\n",
              "          if (!dataTable) return;\n",
              "\n",
              "          const docLinkHtml = 'Like what you see? Visit the ' +\n",
              "            '<a target=\"_blank\" href=https://colab.research.google.com/notebooks/data_table.ipynb>data table notebook</a>'\n",
              "            + ' to learn more about interactive tables.';\n",
              "          element.innerHTML = '';\n",
              "          dataTable['output_type'] = 'display_data';\n",
              "          await google.colab.output.renderOutput(dataTable, element);\n",
              "          const docLink = document.createElement('div');\n",
              "          docLink.innerHTML = docLinkHtml;\n",
              "          element.appendChild(docLink);\n",
              "        }\n",
              "      </script>\n",
              "    </div>\n",
              "  </div>\n",
              "  "
            ]
          },
          "metadata": {},
          "execution_count": 19
        }
      ]
    },
    {
      "cell_type": "code",
      "source": [
        "for d in df.columns:\n",
        "  print(d)\n",
        "  print(df[d].value_counts())\n",
        "  print('\\n**********************************\\n')"
      ],
      "metadata": {
        "colab": {
          "base_uri": "https://localhost:8080/"
        },
        "id": "aLstb7yykFvC",
        "outputId": "7646aeb0-3481-4f8a-b877-7db2ba49f30a"
      },
      "execution_count": 20,
      "outputs": [
        {
          "output_type": "stream",
          "name": "stdout",
          "text": [
            "children\n",
            " 0     14149\n",
            " 1      4818\n",
            " 2      2055\n",
            " 3       330\n",
            " 20       76\n",
            "-1        47\n",
            " 4        41\n",
            " 5         9\n",
            "Name: children, dtype: int64\n",
            "\n",
            "**********************************\n",
            "\n",
            "days_employed\n",
            "-8437.673028      1\n",
            "-3507.818775      1\n",
            " 354500.415854    1\n",
            "-769.717438       1\n",
            "-3963.590317      1\n",
            "                 ..\n",
            "-1099.957609      1\n",
            "-209.984794       1\n",
            " 398099.392433    1\n",
            "-1271.038880      1\n",
            "-1984.507589      1\n",
            "Name: days_employed, Length: 19351, dtype: int64\n",
            "\n",
            "**********************************\n",
            "\n",
            "dob_years\n",
            "35    617\n",
            "40    609\n",
            "41    607\n",
            "34    603\n",
            "38    598\n",
            "42    597\n",
            "33    581\n",
            "39    573\n",
            "31    560\n",
            "36    555\n",
            "44    547\n",
            "29    545\n",
            "30    540\n",
            "48    538\n",
            "37    537\n",
            "50    514\n",
            "43    513\n",
            "32    510\n",
            "49    508\n",
            "28    503\n",
            "45    497\n",
            "27    493\n",
            "56    487\n",
            "52    484\n",
            "47    480\n",
            "54    479\n",
            "46    475\n",
            "58    461\n",
            "57    460\n",
            "53    459\n",
            "51    448\n",
            "59    444\n",
            "55    443\n",
            "26    408\n",
            "60    377\n",
            "25    357\n",
            "61    355\n",
            "62    352\n",
            "63    269\n",
            "64    265\n",
            "24    264\n",
            "23    254\n",
            "65    194\n",
            "22    183\n",
            "66    183\n",
            "67    167\n",
            "21    111\n",
            "0     101\n",
            "68     99\n",
            "69     85\n",
            "70     65\n",
            "71     58\n",
            "20     51\n",
            "72     33\n",
            "19     14\n",
            "73      8\n",
            "74      6\n",
            "75      1\n",
            "Name: dob_years, dtype: int64\n",
            "\n",
            "**********************************\n",
            "\n",
            "education\n",
            "secondary education    13750\n",
            "bachelor's degree       4718\n",
            "SECONDARY EDUCATION      772\n",
            "Secondary Education      711\n",
            "some college             668\n",
            "BACHELOR'S DEGREE        274\n",
            "Bachelor's Degree        268\n",
            "primary education        250\n",
            "Some College              47\n",
            "SOME COLLEGE              29\n",
            "PRIMARY EDUCATION         17\n",
            "Primary Education         15\n",
            "graduate degree            4\n",
            "Graduate Degree            1\n",
            "GRADUATE DEGREE            1\n",
            "Name: education, dtype: int64\n",
            "\n",
            "**********************************\n",
            "\n",
            "education_id\n",
            "1    15233\n",
            "0     5260\n",
            "2      744\n",
            "3      282\n",
            "4        6\n",
            "Name: education_id, dtype: int64\n",
            "\n",
            "**********************************\n",
            "\n",
            "family_status\n",
            "married              12380\n",
            "civil partnership     4177\n",
            "unmarried             2813\n",
            "divorced              1195\n",
            "widow / widower        960\n",
            "Name: family_status, dtype: int64\n",
            "\n",
            "**********************************\n",
            "\n",
            "family_status_id\n",
            "0    12380\n",
            "1     4177\n",
            "4     2813\n",
            "3     1195\n",
            "2      960\n",
            "Name: family_status_id, dtype: int64\n",
            "\n",
            "**********************************\n",
            "\n",
            "gender\n",
            "F      14236\n",
            "M       7288\n",
            "XNA        1\n",
            "Name: gender, dtype: int64\n",
            "\n",
            "**********************************\n",
            "\n",
            "income_type\n",
            "employee                       11119\n",
            "business                        5085\n",
            "retiree                         3856\n",
            "civil servant                   1459\n",
            "unemployed                         2\n",
            "entrepreneur                       2\n",
            "student                            1\n",
            "paternity / maternity leave        1\n",
            "Name: income_type, dtype: int64\n",
            "\n",
            "**********************************\n",
            "\n",
            "debt\n",
            "0    19784\n",
            "1     1741\n",
            "Name: debt, dtype: int64\n",
            "\n",
            "**********************************\n",
            "\n",
            "total_income\n",
            "17312.717    2\n",
            "42413.096    2\n",
            "31791.384    2\n",
            "21005.772    1\n",
            "18591.443    1\n",
            "            ..\n",
            "27020.895    1\n",
            "23686.835    1\n",
            "9606.294     1\n",
            "28156.762    1\n",
            "13127.587    1\n",
            "Name: total_income, Length: 19348, dtype: int64\n",
            "\n",
            "**********************************\n",
            "\n",
            "purpose\n",
            "wedding ceremony                            797\n",
            "having a wedding                            777\n",
            "to have a wedding                           774\n",
            "real estate transactions                    676\n",
            "buy commercial real estate                  664\n",
            "buying property for renting out             653\n",
            "housing transactions                        653\n",
            "transactions with commercial real estate    651\n",
            "purchase of the house                       647\n",
            "housing                                     647\n",
            "purchase of the house for my family         641\n",
            "construction of own property                635\n",
            "property                                    634\n",
            "transactions with my real estate            630\n",
            "building a real estate                      626\n",
            "buy real estate                             624\n",
            "building a property                         620\n",
            "purchase of my own house                    620\n",
            "housing renovation                          612\n",
            "buy residential real estate                 607\n",
            "buying my own car                           505\n",
            "going to university                         496\n",
            "car                                         495\n",
            "second-hand car purchase                    489\n",
            "to own a car                                480\n",
            "buying a second-hand car                    479\n",
            "cars                                        478\n",
            "to buy a car                                472\n",
            "supplementary education                     462\n",
            "car purchase                                462\n",
            "purchase of a car                           455\n",
            "university education                        453\n",
            "education                                   447\n",
            "to get a supplementary education            447\n",
            "getting an education                        443\n",
            "profile education                           436\n",
            "getting higher education                    426\n",
            "to become educated                          412\n",
            "Name: purpose, dtype: int64\n",
            "\n",
            "**********************************\n",
            "\n"
          ]
        }
      ]
    },
    {
      "cell_type": "code",
      "source": [
        "df.isnull().sum().sort_values(ascending=False)"
      ],
      "metadata": {
        "colab": {
          "base_uri": "https://localhost:8080/"
        },
        "id": "EQ5UDrhiIloK",
        "outputId": "546f1081-9d3e-4faa-be5b-a4bdfbd2168e"
      },
      "execution_count": 22,
      "outputs": [
        {
          "output_type": "execute_result",
          "data": {
            "text/plain": [
              "days_employed       2174\n",
              "total_income        2174\n",
              "children               0\n",
              "dob_years              0\n",
              "education              0\n",
              "education_id           0\n",
              "family_status          0\n",
              "family_status_id       0\n",
              "gender                 0\n",
              "income_type            0\n",
              "debt                   0\n",
              "purpose                0\n",
              "dtype: int64"
            ]
          },
          "metadata": {},
          "execution_count": 22
        }
      ]
    },
    {
      "cell_type": "markdown",
      "metadata": {
        "id": "k99wvddt2Ifu"
      },
      "source": [
        "Observations: \n",
        "<p> 1. Using the .describe () method, we can see that the count in some columns are inconsistent. There are missing values in columns days_employed and total_income. Based on previous observations, there are also duplicated values and other discrepancies in the columns.</p>\n",
        "<p> 2. Both days_employed and total_income have exactly the same number of missing values. At present, I don't see if both correlates to one another. Although, since the aim is to find out the likelihood customers can default on their loan applications, total_income can affect the result. Credit score depends on the financial capability of the customers.</p>  "
      ]
    },
    {
      "cell_type": "code",
      "execution_count": 23,
      "metadata": {
        "id": "mdtm-Ikg2Ifv",
        "colab": {
          "base_uri": "https://localhost:8080/"
        },
        "outputId": "78b5b8e6-8c5d-4ae2-a494-2b3341773d20"
      },
      "outputs": [
        {
          "output_type": "execute_result",
          "data": {
            "text/plain": [
              "children  days_employed   dob_years  education            education_id  family_status      family_status_id  gender  income_type    debt  total_income  purpose                                 \n",
              "-1        -9851.184337    44         secondary education  1             divorced           3                 F       employee       0     17758.530     to own a car                                1\n",
              " 1        -7117.338200    42         secondary education  1             married            0                 F       civil servant  0     36511.880     housing renovation                          1\n",
              "          -7137.319761    35         secondary education  1             married            0                 F       employee       0     20696.434     property                                    1\n",
              "          -7146.299384    50         bachelor's degree    0             married            0                 F       employee       0     16782.180     housing transactions                        1\n",
              "          -7152.420165    49         secondary education  1             married            0                 F       employee       0     17529.023     building a real estate                      1\n",
              "                                                                                                                                                                                                   ..\n",
              " 0        -1019.065321    45         secondary education  1             married            0                 F       business       0     34758.642     to get a supplementary education            1\n",
              "          -1019.319566    38         bachelor's degree    0             married            0                 M       business       0     22633.993     buy commercial real estate                  1\n",
              "          -1019.684185    62         secondary education  1             widow / widower    2                 F       employee       0     13070.213     housing transactions                        1\n",
              "          -1020.182597    42         secondary education  1             married            0                 M       employee       0     22863.225     building a real estate                      1\n",
              " 20        385267.263676  62         secondary education  1             civil partnership  1                 F       retiree        0     30755.372     transactions with commercial real estate    1\n",
              "Length: 19351, dtype: int64"
            ]
          },
          "metadata": {},
          "execution_count": 23
        }
      ],
      "source": [
        "df.value_counts()\n"
      ]
    },
    {
      "cell_type": "code",
      "source": [
        "df.mean()"
      ],
      "metadata": {
        "colab": {
          "base_uri": "https://localhost:8080/"
        },
        "id": "E7OQkFc3NwPl",
        "outputId": "f2062501-b00e-4641-f63d-69a52da35b12"
      },
      "execution_count": 24,
      "outputs": [
        {
          "output_type": "execute_result",
          "data": {
            "text/plain": [
              "children                0.538908\n",
              "days_employed       63046.497661\n",
              "dob_years              43.293380\n",
              "education_id            0.817236\n",
              "family_status_id        0.972544\n",
              "debt                    0.080883\n",
              "total_income        26787.568355\n",
              "dtype: float64"
            ]
          },
          "metadata": {},
          "execution_count": 24
        }
      ]
    },
    {
      "cell_type": "code",
      "source": [
        "df.median()"
      ],
      "metadata": {
        "colab": {
          "base_uri": "https://localhost:8080/"
        },
        "id": "0QG7IR5-r2rL",
        "outputId": "0e6a4b64-fffe-4460-eca8-43fc6111a888"
      },
      "execution_count": 25,
      "outputs": [
        {
          "output_type": "execute_result",
          "data": {
            "text/plain": [
              "children                0.000000\n",
              "days_employed       -1203.369529\n",
              "dob_years              42.000000\n",
              "education_id            1.000000\n",
              "family_status_id        0.000000\n",
              "debt                    0.000000\n",
              "total_income        23202.870000\n",
              "dtype: float64"
            ]
          },
          "metadata": {},
          "execution_count": 25
        }
      ]
    },
    {
      "cell_type": "markdown",
      "metadata": {
        "id": "IXQH4mU72Ifv"
      },
      "source": [
        "**Intermediate conclusion**\n",
        "\n",
        "The number of rows in the filtered table match the number of missing values. The values could be erroneous but still considered as values due to their data type.  \n",
        "\n",
        "Next steps to check and investigate further the columns with the missing values. "
      ]
    },
    {
      "cell_type": "code",
      "source": [
        "round(10* (df.isnull().sum() / len(df)*10)).sort_values(ascending=False)"
      ],
      "metadata": {
        "colab": {
          "base_uri": "https://localhost:8080/"
        },
        "id": "wzbw9Dy07tdJ",
        "outputId": "e7577ba4-c490-49bf-8889-b4cda123cdb9"
      },
      "execution_count": 125,
      "outputs": [
        {
          "output_type": "execute_result",
          "data": {
            "text/plain": [
              "children            0.0\n",
              "days_employed       0.0\n",
              "dob_years           0.0\n",
              "education           0.0\n",
              "education_id        0.0\n",
              "family_status       0.0\n",
              "family_status_id    0.0\n",
              "gender              0.0\n",
              "income_type         0.0\n",
              "debt                0.0\n",
              "total_income        0.0\n",
              "purpose             0.0\n",
              "dtype: float64"
            ]
          },
          "metadata": {},
          "execution_count": 125
        }
      ]
    },
    {
      "cell_type": "code",
      "source": [
        "round(100 * (df.isnull().sum(axis=1)/len(df)),2).sort_values(ascending=False)"
      ],
      "metadata": {
        "colab": {
          "base_uri": "https://localhost:8080/"
        },
        "id": "mnjz9ey-e0mM",
        "outputId": "c80e1132-829e-4df3-a5bc-24954cc5da0f"
      },
      "execution_count": 126,
      "outputs": [
        {
          "output_type": "execute_result",
          "data": {
            "text/plain": [
              "0        0.0\n",
              "14311    0.0\n",
              "14309    0.0\n",
              "14308    0.0\n",
              "14307    0.0\n",
              "        ... \n",
              "7124     0.0\n",
              "7123     0.0\n",
              "7122     0.0\n",
              "7121     0.0\n",
              "21524    0.0\n",
              "Length: 19260, dtype: float64"
            ]
          },
          "metadata": {},
          "execution_count": 126
        }
      ]
    },
    {
      "cell_type": "markdown",
      "metadata": {
        "id": "kXZ4w7aF2Ifw"
      },
      "source": [
        "The missing values are both the same number in th columns, days_employed and total_income.  "
      ]
    },
    {
      "cell_type": "code",
      "source": [
        "missing_values = df.isnull().sum()\n",
        "print(missing_values)"
      ],
      "metadata": {
        "colab": {
          "base_uri": "https://localhost:8080/"
        },
        "id": "7LzNw-YU7guJ",
        "outputId": "17ac644e-f978-4c26-f3f8-5042f88cef5b"
      },
      "execution_count": 33,
      "outputs": [
        {
          "output_type": "stream",
          "name": "stdout",
          "text": [
            "children            0\n",
            "days_employed       0\n",
            "dob_years           0\n",
            "education           0\n",
            "education_id        0\n",
            "family_status       0\n",
            "family_status_id    0\n",
            "gender              0\n",
            "income_type         0\n",
            "debt                0\n",
            "total_income        0\n",
            "purpose             0\n",
            "dtype: int64\n"
          ]
        }
      ]
    },
    {
      "cell_type": "code",
      "source": [
        "df.columns[df.isnull().any()]"
      ],
      "metadata": {
        "colab": {
          "base_uri": "https://localhost:8080/"
        },
        "id": "xKdnQnlAgMti",
        "outputId": "0ffe66a1-4542-4080-8397-8ad93e873838"
      },
      "execution_count": 128,
      "outputs": [
        {
          "output_type": "execute_result",
          "data": {
            "text/plain": [
              "Index([], dtype='object')"
            ]
          },
          "metadata": {},
          "execution_count": 128
        }
      ]
    },
    {
      "cell_type": "code",
      "source": [
        "df.dropna(subset=['days_employed', 'total_income'], inplace=True)"
      ],
      "metadata": {
        "id": "oa05V2RRhDOV"
      },
      "execution_count": 36,
      "outputs": []
    },
    {
      "cell_type": "code",
      "source": [
        "df.isnull().sum()"
      ],
      "metadata": {
        "colab": {
          "base_uri": "https://localhost:8080/"
        },
        "id": "GNvHK6FCikpw",
        "outputId": "182f2bc4-8ecb-4ed0-8691-d3a226c54f36"
      },
      "execution_count": 37,
      "outputs": [
        {
          "output_type": "execute_result",
          "data": {
            "text/plain": [
              "children            0\n",
              "days_employed       0\n",
              "dob_years           0\n",
              "education           0\n",
              "education_id        0\n",
              "family_status       0\n",
              "family_status_id    0\n",
              "gender              0\n",
              "income_type         0\n",
              "debt                0\n",
              "total_income        0\n",
              "purpose             0\n",
              "dtype: int64"
            ]
          },
          "metadata": {},
          "execution_count": 37
        }
      ]
    },
    {
      "cell_type": "code",
      "source": [
        "df.shape"
      ],
      "metadata": {
        "colab": {
          "base_uri": "https://localhost:8080/"
        },
        "id": "cheg7WbdidVG",
        "outputId": "8558954c-5b19-4898-c197-790e25b33288"
      },
      "execution_count": 38,
      "outputs": [
        {
          "output_type": "execute_result",
          "data": {
            "text/plain": [
              "(19351, 12)"
            ]
          },
          "metadata": {},
          "execution_count": 38
        }
      ]
    },
    {
      "cell_type": "markdown",
      "metadata": {
        "id": "BpB6R1Bw2Ifw"
      },
      "source": [
        "**Conclusion**\n",
        "\n",
        "The filtered table is not the same as the original table. There were missing values that were dropped. From 21525 rows, it shrank to 19351 rows. The pattern is that both days_employed and total_income have the same number of missing values. The two aforementined columns should be further investigated  to check if they affect each other.  "
      ]
    },
    {
      "cell_type": "markdown",
      "metadata": {
        "id": "uOx4BmEB2Ifx"
      },
      "source": [
        "## Data transformation\n"
      ]
    },
    {
      "cell_type": "code",
      "source": [
        "print(df.duplicated().sum())"
      ],
      "metadata": {
        "colab": {
          "base_uri": "https://localhost:8080/"
        },
        "id": "mg1ObIDxFfBb",
        "outputId": "d02579e6-3d2c-4441-84c1-a58ed25b5fca"
      },
      "execution_count": 39,
      "outputs": [
        {
          "output_type": "stream",
          "name": "stdout",
          "text": [
            "0\n"
          ]
        }
      ]
    },
    {
      "cell_type": "code",
      "execution_count": 40,
      "metadata": {
        "id": "unL1bGaa2Ifx",
        "colab": {
          "base_uri": "https://localhost:8080/"
        },
        "outputId": "57a5a160-9533-4b69-cf06-e8cddaca9e2b"
      },
      "outputs": [
        {
          "output_type": "execute_result",
          "data": {
            "text/plain": [
              "secondary education    12342\n",
              "bachelor's degree       4222\n",
              "SECONDARY EDUCATION      705\n",
              "Secondary Education      646\n",
              "some college             613\n",
              "BACHELOR'S DEGREE        251\n",
              "Bachelor's Degree        243\n",
              "primary education        231\n",
              "Some College              40\n",
              "SOME COLLEGE              22\n",
              "PRIMARY EDUCATION         16\n",
              "Primary Education         14\n",
              "graduate degree            4\n",
              "Graduate Degree            1\n",
              "GRADUATE DEGREE            1\n",
              "Name: education, dtype: int64"
            ]
          },
          "metadata": {},
          "execution_count": 40
        }
      ],
      "source": [
        "df['education'].value_counts()"
      ]
    },
    {
      "cell_type": "markdown",
      "source": [
        "**Checking the education attainment of the loan applicants.**"
      ],
      "metadata": {
        "id": "FSxOPp4V3TRG"
      }
    },
    {
      "cell_type": "code",
      "execution_count": 42,
      "metadata": {
        "scrolled": true,
        "id": "zNy9bVnH2Ify",
        "colab": {
          "base_uri": "https://localhost:8080/"
        },
        "outputId": "7e235407-c1d3-4b90-80b3-23c6711cf233"
      },
      "outputs": [
        {
          "output_type": "execute_result",
          "data": {
            "text/plain": [
              "array([\"BACHELOR'S DEGREE\", \"Bachelor's Degree\", 'GRADUATE DEGREE',\n",
              "       'Graduate Degree', 'PRIMARY EDUCATION', 'Primary Education',\n",
              "       'SECONDARY EDUCATION', 'SOME COLLEGE', 'Secondary Education',\n",
              "       'Some College', \"bachelor's degree\", 'graduate degree',\n",
              "       'primary education', 'secondary education', 'some college'],\n",
              "      dtype=object)"
            ]
          },
          "metadata": {},
          "execution_count": 42
        }
      ],
      "source": [
        "df['education'].sort_values().unique() \n"
      ]
    },
    {
      "cell_type": "code",
      "execution_count": 43,
      "metadata": {
        "id": "IqLjGMlA2Ify"
      },
      "outputs": [],
      "source": [
        "def replace_wrong_education(wrong_education, correct_education): \n",
        "    for wrong_educ in wrong_education: \n",
        "        df['education'] = df['education'].replace(wrong_educ, correct_education)\n",
        "\n"
      ]
    },
    {
      "cell_type": "code",
      "source": [
        "duplicates = [\"BACHELOR\\'S DEGREE\", \"Bachelor\\'s Degree\"] \n",
        "name = 'bachelor\\'s degree'\n",
        "replace_wrong_education(duplicates, name)\n",
        "duplicates = [\"GRADUATE DEGREE\", \"Graduate Degree\"] \n",
        "name = 'graduate degree'\n",
        "replace_wrong_education(duplicates, name)\n",
        "duplicates = [\"PRIMARY EDUCATION\", \"Primary Education\"] \n",
        "name = 'primary education'\n",
        "replace_wrong_education(duplicates, name)\n",
        "duplicates = [\"SECONDARY EDUCATION\", \"Secondary Education\"] \n",
        "name = 'secondary education'\n",
        "replace_wrong_education(duplicates, name)\n",
        "duplicates = [\"SOME COLLEGE\", \"Some College\"] \n",
        "name = 'some college'\n",
        "replace_wrong_education(duplicates, name)"
      ],
      "metadata": {
        "id": "13WN6e09HE3S"
      },
      "execution_count": 44,
      "outputs": []
    },
    {
      "cell_type": "code",
      "source": [
        "print(df['education'].sort_values().unique())"
      ],
      "metadata": {
        "colab": {
          "base_uri": "https://localhost:8080/"
        },
        "id": "6clWl4CWINZT",
        "outputId": "654a29dc-8cc7-47b9-dbc6-0d869e178326"
      },
      "execution_count": 45,
      "outputs": [
        {
          "output_type": "stream",
          "name": "stdout",
          "text": [
            "[\"bachelor's degree\" 'graduate degree' 'primary education'\n",
            " 'secondary education' 'some college']\n"
          ]
        }
      ]
    },
    {
      "cell_type": "code",
      "source": [
        "df.shape"
      ],
      "metadata": {
        "colab": {
          "base_uri": "https://localhost:8080/"
        },
        "id": "-JuM79h0JYR5",
        "outputId": "c0bfd429-f4fa-4290-b574-cc61cb89cd37"
      },
      "execution_count": 46,
      "outputs": [
        {
          "output_type": "execute_result",
          "data": {
            "text/plain": [
              "(19351, 12)"
            ]
          },
          "metadata": {},
          "execution_count": 46
        }
      ]
    },
    {
      "cell_type": "code",
      "source": [
        "df['education']"
      ],
      "metadata": {
        "colab": {
          "base_uri": "https://localhost:8080/"
        },
        "id": "vuLFVlCRJndr",
        "outputId": "062359c4-d0e3-48ba-c526-13946cb7df7d"
      },
      "execution_count": 47,
      "outputs": [
        {
          "output_type": "execute_result",
          "data": {
            "text/plain": [
              "0          bachelor's degree\n",
              "1        secondary education\n",
              "2        secondary education\n",
              "3        secondary education\n",
              "4        secondary education\n",
              "                ...         \n",
              "21520    secondary education\n",
              "21521    secondary education\n",
              "21522    secondary education\n",
              "21523    secondary education\n",
              "21524    secondary education\n",
              "Name: education, Length: 19351, dtype: object"
            ]
          },
          "metadata": {},
          "execution_count": 47
        }
      ]
    },
    {
      "cell_type": "code",
      "source": [
        "import seaborn as sns\n",
        "sns.histplot(x=df['education'], bins=10, kde=True);"
      ],
      "metadata": {
        "colab": {
          "base_uri": "https://localhost:8080/",
          "height": 279
        },
        "id": "y8hzZB0K3s0W",
        "outputId": "6c39f607-59bf-4a95-b0f3-36e409318084"
      },
      "execution_count": 54,
      "outputs": [
        {
          "output_type": "display_data",
          "data": {
            "text/plain": [
              "<Figure size 432x288 with 1 Axes>"
            ],
            "image/png": "[encoded data removed]"
          },
          "metadata": {
            "needs_background": "light"
          }
        }
      ]
    },
    {
      "cell_type": "markdown",
      "metadata": {
        "id": "P8MMviZE2Ify"
      },
      "source": [
        "**Checking the number of children of the loan applicants.**"
      ]
    },
    {
      "cell_type": "code",
      "execution_count": 48,
      "metadata": {
        "id": "lv8TQf2i2Ify",
        "colab": {
          "base_uri": "https://localhost:8080/"
        },
        "outputId": "dce68efe-7154-4177-c5fc-c6888dcd6a9f"
      },
      "outputs": [
        {
          "output_type": "execute_result",
          "data": {
            "text/plain": [
              " 0     12710\n",
              " 1      4343\n",
              " 2      1851\n",
              " 3       294\n",
              " 20       67\n",
              "-1        44\n",
              " 4        34\n",
              " 5         8\n",
              "Name: children, dtype: int64"
            ]
          },
          "metadata": {},
          "execution_count": 48
        }
      ],
      "source": [
        "df['children'].value_counts()\n"
      ]
    },
    {
      "cell_type": "code",
      "source": [
        "sns.histplot(x=df['children'], bins=10, kde=True);"
      ],
      "metadata": {
        "colab": {
          "base_uri": "https://localhost:8080/",
          "height": 279
        },
        "id": "v5vWtwd2hMgP",
        "outputId": "72a17b72-ef09-4cb0-a392-951af3db13e1"
      },
      "execution_count": 51,
      "outputs": [
        {
          "output_type": "display_data",
          "data": {
            "text/plain": [
              "<Figure size 432x288 with 1 Axes>"
            ],
            "image/png": "[encoded data removed]"
          },
          "metadata": {
            "needs_background": "light"
          }
        }
      ]
    },
    {
      "cell_type": "code",
      "source": [
        "df[df['children'] == 20].shape"
      ],
      "metadata": {
        "colab": {
          "base_uri": "https://localhost:8080/"
        },
        "id": "yVwuhztZhXlQ",
        "outputId": "6e252292-2b95-4b1e-92cd-cf5b8e8d2d01"
      },
      "execution_count": 61,
      "outputs": [
        {
          "output_type": "execute_result",
          "data": {
            "text/plain": [
              "(67, 12)"
            ]
          },
          "metadata": {},
          "execution_count": 61
        }
      ]
    },
    {
      "cell_type": "code",
      "source": [
        "df[df['children'] == 20]"
      ],
      "metadata": {
        "colab": {
          "base_uri": "https://localhost:8080/",
          "height": 424
        },
        "id": "guQlBPyihY1W",
        "outputId": "2a42f580-7649-4ad9-de00-227dec866e6b"
      },
      "execution_count": 62,
      "outputs": [
        {
          "output_type": "execute_result",
          "data": {
            "text/plain": [
              "       children  days_employed  dob_years            education  education_id  \\\n",
              "606          20    -880.221113         21  secondary education             1   \n",
              "720          20    -855.595512         44  secondary education             1   \n",
              "1074         20   -3310.411598         56  secondary education             1   \n",
              "2510         20   -2714.161249         59    bachelor's degree             0   \n",
              "2941         20   -2161.591519          0  secondary education             1   \n",
              "...         ...            ...        ...                  ...           ...   \n",
              "20355        20   -2695.079206         45  secondary education             1   \n",
              "21008        20   -1240.257910         40  secondary education             1   \n",
              "21325        20    -601.174883         37  secondary education             1   \n",
              "21404        20    -494.788448         52  secondary education             1   \n",
              "21491        20    -173.954460         27  secondary education             1   \n",
              "\n",
              "           family_status  family_status_id gender income_type  debt  \\\n",
              "606              married                 0      M    business     0   \n",
              "720              married                 0      F    business     0   \n",
              "1074             married                 0      F    employee     1   \n",
              "2510     widow / widower                 2      F    employee     0   \n",
              "2941             married                 0      F    employee     0   \n",
              "...                  ...               ...    ...         ...   ...   \n",
              "20355  civil partnership                 1      M    employee     1   \n",
              "21008            married                 0      F    employee     1   \n",
              "21325            married                 0      F    business     0   \n",
              "21404            married                 0      M    business     0   \n",
              "21491            married                 0      F    employee     0   \n",
              "\n",
              "       total_income                                   purpose  \n",
              "606       23253.578                     purchase of the house  \n",
              "720       18079.798                           buy real estate  \n",
              "1074      36722.966                      getting an education  \n",
              "2510      42315.974  transactions with commercial real estate  \n",
              "2941      31958.391                              to buy a car  \n",
              "...             ...                                       ...  \n",
              "20355     28467.621                          having a wedding  \n",
              "21008     21363.842                              to own a car  \n",
              "21325     16477.771                         profile education  \n",
              "21404     25060.749          transactions with my real estate  \n",
              "21491     24883.344                  buying a second-hand car  \n",
              "\n",
              "[67 rows x 12 columns]"
            ],
            "text/html": [
              "\n",
              "  <div id=\"df-fb410212-4608-46b3-8c92-3ae4432b83cc\">\n",
              "    <div class=\"colab-df-container\">\n",
              "      <div>\n",
              "<style scoped>\n",
              "    .dataframe tbody tr th:only-of-type {\n",
              "        vertical-align: middle;\n",
              "    }\n",
              "\n",
              "    .dataframe tbody tr th {\n",
              "        vertical-align: top;\n",
              "    }\n",
              "\n",
              "    .dataframe thead th {\n",
              "        text-align: right;\n",
              "    }\n",
              "</style>\n",
              "<table border=\"1\" class=\"dataframe\">\n",
              "  <thead>\n",
              "    <tr style=\"text-align: right;\">\n",
              "      <th></th>\n",
              "      <th>children</th>\n",
              "      <th>days_employed</th>\n",
              "      <th>dob_years</th>\n",
              "      <th>education</th>\n",
              "      <th>education_id</th>\n",
              "      <th>family_status</th>\n",
              "      <th>family_status_id</th>\n",
              "      <th>gender</th>\n",
              "      <th>income_type</th>\n",
              "      <th>debt</th>\n",
              "      <th>total_income</th>\n",
              "      <th>purpose</th>\n",
              "    </tr>\n",
              "  </thead>\n",
              "  <tbody>\n",
              "    <tr>\n",
              "      <th>606</th>\n",
              "      <td>20</td>\n",
              "      <td>-880.221113</td>\n",
              "      <td>21</td>\n",
              "      <td>secondary education</td>\n",
              "      <td>1</td>\n",
              "      <td>married</td>\n",
              "      <td>0</td>\n",
              "      <td>M</td>\n",
              "      <td>business</td>\n",
              "      <td>0</td>\n",
              "      <td>23253.578</td>\n",
              "      <td>purchase of the house</td>\n",
              "    </tr>\n",
              "    <tr>\n",
              "      <th>720</th>\n",
              "      <td>20</td>\n",
              "      <td>-855.595512</td>\n",
              "      <td>44</td>\n",
              "      <td>secondary education</td>\n",
              "      <td>1</td>\n",
              "      <td>married</td>\n",
              "      <td>0</td>\n",
              "      <td>F</td>\n",
              "      <td>business</td>\n",
              "      <td>0</td>\n",
              "      <td>18079.798</td>\n",
              "      <td>buy real estate</td>\n",
              "    </tr>\n",
              "    <tr>\n",
              "      <th>1074</th>\n",
              "      <td>20</td>\n",
              "      <td>-3310.411598</td>\n",
              "      <td>56</td>\n",
              "      <td>secondary education</td>\n",
              "      <td>1</td>\n",
              "      <td>married</td>\n",
              "      <td>0</td>\n",
              "      <td>F</td>\n",
              "      <td>employee</td>\n",
              "      <td>1</td>\n",
              "      <td>36722.966</td>\n",
              "      <td>getting an education</td>\n",
              "    </tr>\n",
              "    <tr>\n",
              "      <th>2510</th>\n",
              "      <td>20</td>\n",
              "      <td>-2714.161249</td>\n",
              "      <td>59</td>\n",
              "      <td>bachelor's degree</td>\n",
              "      <td>0</td>\n",
              "      <td>widow / widower</td>\n",
              "      <td>2</td>\n",
              "      <td>F</td>\n",
              "      <td>employee</td>\n",
              "      <td>0</td>\n",
              "      <td>42315.974</td>\n",
              "      <td>transactions with commercial real estate</td>\n",
              "    </tr>\n",
              "    <tr>\n",
              "      <th>2941</th>\n",
              "      <td>20</td>\n",
              "      <td>-2161.591519</td>\n",
              "      <td>0</td>\n",
              "      <td>secondary education</td>\n",
              "      <td>1</td>\n",
              "      <td>married</td>\n",
              "      <td>0</td>\n",
              "      <td>F</td>\n",
              "      <td>employee</td>\n",
              "      <td>0</td>\n",
              "      <td>31958.391</td>\n",
              "      <td>to buy a car</td>\n",
              "    </tr>\n",
              "    <tr>\n",
              "      <th>...</th>\n",
              "      <td>...</td>\n",
              "      <td>...</td>\n",
              "      <td>...</td>\n",
              "      <td>...</td>\n",
              "      <td>...</td>\n",
              "      <td>...</td>\n",
              "      <td>...</td>\n",
              "      <td>...</td>\n",
              "      <td>...</td>\n",
              "      <td>...</td>\n",
              "      <td>...</td>\n",
              "      <td>...</td>\n",
              "    </tr>\n",
              "    <tr>\n",
              "      <th>20355</th>\n",
              "      <td>20</td>\n",
              "      <td>-2695.079206</td>\n",
              "      <td>45</td>\n",
              "      <td>secondary education</td>\n",
              "      <td>1</td>\n",
              "      <td>civil partnership</td>\n",
              "      <td>1</td>\n",
              "      <td>M</td>\n",
              "      <td>employee</td>\n",
              "      <td>1</td>\n",
              "      <td>28467.621</td>\n",
              "      <td>having a wedding</td>\n",
              "    </tr>\n",
              "    <tr>\n",
              "      <th>21008</th>\n",
              "      <td>20</td>\n",
              "      <td>-1240.257910</td>\n",
              "      <td>40</td>\n",
              "      <td>secondary education</td>\n",
              "      <td>1</td>\n",
              "      <td>married</td>\n",
              "      <td>0</td>\n",
              "      <td>F</td>\n",
              "      <td>employee</td>\n",
              "      <td>1</td>\n",
              "      <td>21363.842</td>\n",
              "      <td>to own a car</td>\n",
              "    </tr>\n",
              "    <tr>\n",
              "      <th>21325</th>\n",
              "      <td>20</td>\n",
              "      <td>-601.174883</td>\n",
              "      <td>37</td>\n",
              "      <td>secondary education</td>\n",
              "      <td>1</td>\n",
              "      <td>married</td>\n",
              "      <td>0</td>\n",
              "      <td>F</td>\n",
              "      <td>business</td>\n",
              "      <td>0</td>\n",
              "      <td>16477.771</td>\n",
              "      <td>profile education</td>\n",
              "    </tr>\n",
              "    <tr>\n",
              "      <th>21404</th>\n",
              "      <td>20</td>\n",
              "      <td>-494.788448</td>\n",
              "      <td>52</td>\n",
              "      <td>secondary education</td>\n",
              "      <td>1</td>\n",
              "      <td>married</td>\n",
              "      <td>0</td>\n",
              "      <td>M</td>\n",
              "      <td>business</td>\n",
              "      <td>0</td>\n",
              "      <td>25060.749</td>\n",
              "      <td>transactions with my real estate</td>\n",
              "    </tr>\n",
              "    <tr>\n",
              "      <th>21491</th>\n",
              "      <td>20</td>\n",
              "      <td>-173.954460</td>\n",
              "      <td>27</td>\n",
              "      <td>secondary education</td>\n",
              "      <td>1</td>\n",
              "      <td>married</td>\n",
              "      <td>0</td>\n",
              "      <td>F</td>\n",
              "      <td>employee</td>\n",
              "      <td>0</td>\n",
              "      <td>24883.344</td>\n",
              "      <td>buying a second-hand car</td>\n",
              "    </tr>\n",
              "  </tbody>\n",
              "</table>\n",
              "<p>67 rows × 12 columns</p>\n",
              "</div>\n",
              "      <button class=\"colab-df-convert\" onclick=\"convertToInteractive('df-fb410212-4608-46b3-8c92-3ae4432b83cc')\"\n",
              "              title=\"Convert this dataframe to an interactive table.\"\n",
              "              style=\"display:none;\">\n",
              "        \n",
              "  <svg xmlns=\"http://www.w3.org/2000/svg\" height=\"24px\"viewBox=\"0 0 24 24\"\n",
              "       width=\"24px\">\n",
              "    <path d=\"M0 0h24v24H0V0z\" fill=\"none\"/>\n",
              "    <path d=\"M18.56 5.44l.94 2.06.94-2.06 2.06-.94-2.06-.94-.94-2.06-.94 2.06-2.06.94zm-11 1L8.5 8.5l.94-2.06 2.06-.94-2.06-.94L8.5 2.5l-.94 2.06-2.06.94zm10 10l.94 2.06.94-2.06 2.06-.94-2.06-.94-.94-2.06-.94 2.06-2.06.94z\"/><path d=\"M17.41 7.96l-1.37-1.37c-.4-.4-.92-.59-1.43-.59-.52 0-1.04.2-1.43.59L10.3 9.45l-7.72 7.72c-.78.78-.78 2.05 0 2.83L4 21.41c.39.39.9.59 1.41.59.51 0 1.02-.2 1.41-.59l7.78-7.78 2.81-2.81c.8-.78.8-2.07 0-2.86zM5.41 20L4 18.59l7.72-7.72 1.47 1.35L5.41 20z\"/>\n",
              "  </svg>\n",
              "      </button>\n",
              "      \n",
              "  <style>\n",
              "    .colab-df-container {\n",
              "      display:flex;\n",
              "      flex-wrap:wrap;\n",
              "      gap: 12px;\n",
              "    }\n",
              "\n",
              "    .colab-df-convert {\n",
              "      background-color: #E8F0FE;\n",
              "      border: none;\n",
              "      border-radius: 50%;\n",
              "      cursor: pointer;\n",
              "      display: none;\n",
              "      fill: #1967D2;\n",
              "      height: 32px;\n",
              "      padding: 0 0 0 0;\n",
              "      width: 32px;\n",
              "    }\n",
              "\n",
              "    .colab-df-convert:hover {\n",
              "      background-color: #E2EBFA;\n",
              "      box-shadow: 0px 1px 2px rgba(60, 64, 67, 0.3), 0px 1px 3px 1px rgba(60, 64, 67, 0.15);\n",
              "      fill: #174EA6;\n",
              "    }\n",
              "\n",
              "    [theme=dark] .colab-df-convert {\n",
              "      background-color: #3B4455;\n",
              "      fill: #D2E3FC;\n",
              "    }\n",
              "\n",
              "    [theme=dark] .colab-df-convert:hover {\n",
              "      background-color: #434B5C;\n",
              "      box-shadow: 0px 1px 3px 1px rgba(0, 0, 0, 0.15);\n",
              "      filter: drop-shadow(0px 1px 2px rgba(0, 0, 0, 0.3));\n",
              "      fill: #FFFFFF;\n",
              "    }\n",
              "  </style>\n",
              "\n",
              "      <script>\n",
              "        const buttonEl =\n",
              "          document.querySelector('#df-fb410212-4608-46b3-8c92-3ae4432b83cc button.colab-df-convert');\n",
              "        buttonEl.style.display =\n",
              "          google.colab.kernel.accessAllowed ? 'block' : 'none';\n",
              "\n",
              "        async function convertToInteractive(key) {\n",
              "          const element = document.querySelector('#df-fb410212-4608-46b3-8c92-3ae4432b83cc');\n",
              "          const dataTable =\n",
              "            await google.colab.kernel.invokeFunction('convertToInteractive',\n",
              "                                                     [key], {});\n",
              "          if (!dataTable) return;\n",
              "\n",
              "          const docLinkHtml = 'Like what you see? Visit the ' +\n",
              "            '<a target=\"_blank\" href=https://colab.research.google.com/notebooks/data_table.ipynb>data table notebook</a>'\n",
              "            + ' to learn more about interactive tables.';\n",
              "          element.innerHTML = '';\n",
              "          dataTable['output_type'] = 'display_data';\n",
              "          await google.colab.output.renderOutput(dataTable, element);\n",
              "          const docLink = document.createElement('div');\n",
              "          docLink.innerHTML = docLinkHtml;\n",
              "          element.appendChild(docLink);\n",
              "        }\n",
              "      </script>\n",
              "    </div>\n",
              "  </div>\n",
              "  "
            ]
          },
          "metadata": {},
          "execution_count": 62
        }
      ]
    },
    {
      "cell_type": "code",
      "source": [
        "df['children'] = df['children'].replace([20], 2)"
      ],
      "metadata": {
        "id": "tywtFUXWK4Fg"
      },
      "execution_count": 63,
      "outputs": []
    },
    {
      "cell_type": "code",
      "source": [
        "df[df['children'] == 20].shape"
      ],
      "metadata": {
        "colab": {
          "base_uri": "https://localhost:8080/"
        },
        "id": "O0yJ3-qUMu5B",
        "outputId": "f1aa7dce-6121-4cf8-acb6-485b89c12703"
      },
      "execution_count": 64,
      "outputs": [
        {
          "output_type": "execute_result",
          "data": {
            "text/plain": [
              "(0, 12)"
            ]
          },
          "metadata": {},
          "execution_count": 64
        }
      ]
    },
    {
      "cell_type": "code",
      "source": [
        "df['children'].value_counts()"
      ],
      "metadata": {
        "colab": {
          "base_uri": "https://localhost:8080/"
        },
        "id": "kiLCF2c6M1Vj",
        "outputId": "dae17938-1c28-4fb9-86e8-199459e113e2"
      },
      "execution_count": 65,
      "outputs": [
        {
          "output_type": "execute_result",
          "data": {
            "text/plain": [
              " 0    12710\n",
              " 1     4343\n",
              " 2     1918\n",
              " 3      294\n",
              "-1       44\n",
              " 4       34\n",
              " 5        8\n",
              "Name: children, dtype: int64"
            ]
          },
          "metadata": {},
          "execution_count": 65
        }
      ]
    },
    {
      "cell_type": "code",
      "source": [
        "df[df['children'] == -1].shape"
      ],
      "metadata": {
        "colab": {
          "base_uri": "https://localhost:8080/"
        },
        "id": "9TtKJwOFJ4_j",
        "outputId": "c3711cc7-2b36-4da5-bfef-a896e0d0202e"
      },
      "execution_count": 66,
      "outputs": [
        {
          "output_type": "execute_result",
          "data": {
            "text/plain": [
              "(44, 12)"
            ]
          },
          "metadata": {},
          "execution_count": 66
        }
      ]
    },
    {
      "cell_type": "code",
      "source": [
        "df[df['children'] == -1]"
      ],
      "metadata": {
        "colab": {
          "base_uri": "https://localhost:8080/",
          "height": 1000
        },
        "id": "1rcdThelKDkS",
        "outputId": "e4b23286-ea2b-4827-a259-a85bb99365e9"
      },
      "execution_count": 67,
      "outputs": [
        {
          "output_type": "execute_result",
          "data": {
            "text/plain": [
              "       children  days_employed  dob_years            education  education_id  \\\n",
              "291          -1   -4417.703588         46  secondary education             1   \n",
              "705          -1    -902.084528         50  secondary education             1   \n",
              "742          -1   -3174.456205         57  secondary education             1   \n",
              "800          -1  349987.852217         54  secondary education             1   \n",
              "1363         -1   -1195.264956         55  secondary education             1   \n",
              "1929         -1   -1461.303336         38  secondary education             1   \n",
              "2073         -1   -2539.761232         42  secondary education             1   \n",
              "3814         -1   -3045.290443         26  secondary education             1   \n",
              "4201         -1    -901.101738         41  secondary education             1   \n",
              "4402         -1  398001.302888         64  secondary education             1   \n",
              "4542         -1   -1811.899756         32  secondary education             1   \n",
              "5272         -1   -1143.485347         46  secondary education             1   \n",
              "6013         -1   -1361.258696         46    bachelor's degree             0   \n",
              "6385         -1  370215.476226         48  secondary education             1   \n",
              "7190         -1   -5928.202068         34  secondary education             1   \n",
              "7278         -1    -526.318451         51  secondary education             1   \n",
              "7685         -1   -3237.360455         53  secondary education             1   \n",
              "8229         -1   -1803.441074         54    bachelor's degree             0   \n",
              "8251         -1   -3113.998449         31  secondary education             1   \n",
              "8561         -1    -195.479496         31  secondary education             1   \n",
              "9565         -1   -2896.629686         34    bachelor's degree             0   \n",
              "9574         -1   -2710.419901         28    bachelor's degree             0   \n",
              "10177        -1   -1743.604011         37  secondary education             1   \n",
              "10365        -1  345774.125957         63    bachelor's degree             0   \n",
              "10918        -1  340499.039342         50  secondary education             1   \n",
              "11109        -1   -3438.463024         59  secondary education             1   \n",
              "11268        -1   -1048.782203         30    bachelor's degree             0   \n",
              "11617        -1    -370.827130         27  secondary education             1   \n",
              "12304        -1   -8493.101252         61         some college             2   \n",
              "14357        -1    -268.337037         23  secondary education             1   \n",
              "15147        -1   -9851.184337         44  secondary education             1   \n",
              "15435        -1   -3614.220232         40    bachelor's degree             0   \n",
              "16129        -1    -457.861760         33  secondary education             1   \n",
              "16265        -1   -2802.218127         40    bachelor's degree             0   \n",
              "17095        -1   -2809.693200         34  secondary education             1   \n",
              "17429        -1    -895.379738         37  secondary education             1   \n",
              "17657        -1   -4571.957475         41  secondary education             1   \n",
              "18219        -1   -3575.215641         33  secondary education             1   \n",
              "19100        -1    -617.246968         38  secondary education             1   \n",
              "19366        -1    -372.034749         43  secondary education             1   \n",
              "19417        -1  350340.760224         28  secondary education             1   \n",
              "20393        -1  355157.107212         69  secondary education             1   \n",
              "20717        -1    -661.822321         32    bachelor's degree             0   \n",
              "21140        -1   -1422.668059         44  secondary education             1   \n",
              "\n",
              "           family_status  family_status_id gender    income_type  debt  \\\n",
              "291    civil partnership                 1      F       employee     0   \n",
              "705              married                 0      F  civil servant     0   \n",
              "742              married                 0      F       employee     0   \n",
              "800            unmarried                 4      F        retiree     0   \n",
              "1363             married                 0      F       business     0   \n",
              "1929           unmarried                 4      M       employee     0   \n",
              "2073            divorced                 3      F       business     0   \n",
              "3814   civil partnership                 1      F  civil servant     0   \n",
              "4201             married                 0      F  civil servant     0   \n",
              "4402             married                 0      F        retiree     0   \n",
              "4542             married                 0      F       employee     0   \n",
              "5272     widow / widower                 2      F       employee     0   \n",
              "6013             married                 0      F       employee     0   \n",
              "6385     widow / widower                 2      F        retiree     0   \n",
              "7190             married                 0      M       employee     0   \n",
              "7278             married                 0      F       employee     0   \n",
              "7685     widow / widower                 2      F       employee     0   \n",
              "8229             married                 0      F       business     0   \n",
              "8251   civil partnership                 1      F       employee     0   \n",
              "8561             married                 0      F       employee     0   \n",
              "9565             married                 0      M       employee     0   \n",
              "9574             married                 0      M  civil servant     0   \n",
              "10177            married                 0      M       employee     0   \n",
              "10365    widow / widower                 2      F        retiree     0   \n",
              "10918            married                 0      M        retiree     0   \n",
              "11109            married                 0      F       employee     0   \n",
              "11268  civil partnership                 1      F       business     0   \n",
              "11617            married                 0      F       business     0   \n",
              "12304            married                 0      M       employee     0   \n",
              "14357           divorced                 3      F       business     0   \n",
              "15147           divorced                 3      F       employee     0   \n",
              "15435  civil partnership                 1      F       employee     0   \n",
              "16129            married                 0      F       employee     1   \n",
              "16265            married                 0      M       employee     0   \n",
              "17095            married                 0      F       employee     0   \n",
              "17429            married                 0      F       business     0   \n",
              "17657            married                 0      F       employee     0   \n",
              "18219            married                 0      F       employee     0   \n",
              "19100          unmarried                 4      M       employee     0   \n",
              "19366            married                 0      M       employee     0   \n",
              "19417           divorced                 3      F        retiree     0   \n",
              "20393          unmarried                 4      F        retiree     0   \n",
              "20717            married                 0      F       employee     0   \n",
              "21140            married                 0      F       business     0   \n",
              "\n",
              "       total_income                                   purpose  \n",
              "291       16450.615                         profile education  \n",
              "705       22061.264                              car purchase  \n",
              "742       10282.887                   supplementary education  \n",
              "800       13806.996                   supplementary education  \n",
              "1363      11128.112                         profile education  \n",
              "1929      17459.451                     purchase of the house  \n",
              "2073      26022.177                     purchase of the house  \n",
              "3814      21102.846                          having a wedding  \n",
              "4201      36220.123          transactions with my real estate  \n",
              "4402      26122.250                           buy real estate  \n",
              "4542      25687.155                                 education  \n",
              "5272      44593.283                           buy real estate  \n",
              "6013      22881.353              construction of own property  \n",
              "6385       5768.392                                 education  \n",
              "7190      29490.420                              car purchase  \n",
              "7278      23508.603  transactions with commercial real estate  \n",
              "7685      25548.188                    building a real estate  \n",
              "8229      22209.453                           buy real estate  \n",
              "8251       8705.929                              to own a car  \n",
              "8561      23292.461                        housing renovation  \n",
              "9565      20280.745                  real estate transactions  \n",
              "9574      48501.946          to get a supplementary education  \n",
              "10177     49658.801                      getting an education  \n",
              "10365     27322.040                    building a real estate  \n",
              "10918     27322.044                  purchase of my own house  \n",
              "11109     35179.842                      housing transactions  \n",
              "11268     51456.592                              to buy a car  \n",
              "11617     26334.602           buying property for renting out  \n",
              "12304     50400.989                                  property  \n",
              "14357     14761.213               buy residential real estate  \n",
              "15147     17758.530                              to own a car  \n",
              "15435     15700.406                         to have a wedding  \n",
              "16129     23942.573                                       car  \n",
              "16265     17917.516                     purchase of the house  \n",
              "17095     29207.022                  buying a second-hand car  \n",
              "17429     34370.243                                   housing  \n",
              "17657     19536.867          transactions with my real estate  \n",
              "18219     20537.924                      university education  \n",
              "19100     19552.880                    building a real estate  \n",
              "19366     24894.203                  second-hand car purchase  \n",
              "19417      8459.679                                      cars  \n",
              "20393     18643.367                  real estate transactions  \n",
              "20717     21984.862               buy residential real estate  \n",
              "21140     27129.935          transactions with my real estate  "
            ],
            "text/html": [
              "\n",
              "  <div id=\"df-7413d3b0-d64b-4e9e-987c-921e212ae6bb\">\n",
              "    <div class=\"colab-df-container\">\n",
              "      <div>\n",
              "<style scoped>\n",
              "    .dataframe tbody tr th:only-of-type {\n",
              "        vertical-align: middle;\n",
              "    }\n",
              "\n",
              "    .dataframe tbody tr th {\n",
              "        vertical-align: top;\n",
              "    }\n",
              "\n",
              "    .dataframe thead th {\n",
              "        text-align: right;\n",
              "    }\n",
              "</style>\n",
              "<table border=\"1\" class=\"dataframe\">\n",
              "  <thead>\n",
              "    <tr style=\"text-align: right;\">\n",
              "      <th></th>\n",
              "      <th>children</th>\n",
              "      <th>days_employed</th>\n",
              "      <th>dob_years</th>\n",
              "      <th>education</th>\n",
              "      <th>education_id</th>\n",
              "      <th>family_status</th>\n",
              "      <th>family_status_id</th>\n",
              "      <th>gender</th>\n",
              "      <th>income_type</th>\n",
              "      <th>debt</th>\n",
              "      <th>total_income</th>\n",
              "      <th>purpose</th>\n",
              "    </tr>\n",
              "  </thead>\n",
              "  <tbody>\n",
              "    <tr>\n",
              "      <th>291</th>\n",
              "      <td>-1</td>\n",
              "      <td>-4417.703588</td>\n",
              "      <td>46</td>\n",
              "      <td>secondary education</td>\n",
              "      <td>1</td>\n",
              "      <td>civil partnership</td>\n",
              "      <td>1</td>\n",
              "      <td>F</td>\n",
              "      <td>employee</td>\n",
              "      <td>0</td>\n",
              "      <td>16450.615</td>\n",
              "      <td>profile education</td>\n",
              "    </tr>\n",
              "    <tr>\n",
              "      <th>705</th>\n",
              "      <td>-1</td>\n",
              "      <td>-902.084528</td>\n",
              "      <td>50</td>\n",
              "      <td>secondary education</td>\n",
              "      <td>1</td>\n",
              "      <td>married</td>\n",
              "      <td>0</td>\n",
              "      <td>F</td>\n",
              "      <td>civil servant</td>\n",
              "      <td>0</td>\n",
              "      <td>22061.264</td>\n",
              "      <td>car purchase</td>\n",
              "    </tr>\n",
              "    <tr>\n",
              "      <th>742</th>\n",
              "      <td>-1</td>\n",
              "      <td>-3174.456205</td>\n",
              "      <td>57</td>\n",
              "      <td>secondary education</td>\n",
              "      <td>1</td>\n",
              "      <td>married</td>\n",
              "      <td>0</td>\n",
              "      <td>F</td>\n",
              "      <td>employee</td>\n",
              "      <td>0</td>\n",
              "      <td>10282.887</td>\n",
              "      <td>supplementary education</td>\n",
              "    </tr>\n",
              "    <tr>\n",
              "      <th>800</th>\n",
              "      <td>-1</td>\n",
              "      <td>349987.852217</td>\n",
              "      <td>54</td>\n",
              "      <td>secondary education</td>\n",
              "      <td>1</td>\n",
              "      <td>unmarried</td>\n",
              "      <td>4</td>\n",
              "      <td>F</td>\n",
              "      <td>retiree</td>\n",
              "      <td>0</td>\n",
              "      <td>13806.996</td>\n",
              "      <td>supplementary education</td>\n",
              "    </tr>\n",
              "    <tr>\n",
              "      <th>1363</th>\n",
              "      <td>-1</td>\n",
              "      <td>-1195.264956</td>\n",
              "      <td>55</td>\n",
              "      <td>secondary education</td>\n",
              "      <td>1</td>\n",
              "      <td>married</td>\n",
              "      <td>0</td>\n",
              "      <td>F</td>\n",
              "      <td>business</td>\n",
              "      <td>0</td>\n",
              "      <td>11128.112</td>\n",
              "      <td>profile education</td>\n",
              "    </tr>\n",
              "    <tr>\n",
              "      <th>1929</th>\n",
              "      <td>-1</td>\n",
              "      <td>-1461.303336</td>\n",
              "      <td>38</td>\n",
              "      <td>secondary education</td>\n",
              "      <td>1</td>\n",
              "      <td>unmarried</td>\n",
              "      <td>4</td>\n",
              "      <td>M</td>\n",
              "      <td>employee</td>\n",
              "      <td>0</td>\n",
              "      <td>17459.451</td>\n",
              "      <td>purchase of the house</td>\n",
              "    </tr>\n",
              "    <tr>\n",
              "      <th>2073</th>\n",
              "      <td>-1</td>\n",
              "      <td>-2539.761232</td>\n",
              "      <td>42</td>\n",
              "      <td>secondary education</td>\n",
              "      <td>1</td>\n",
              "      <td>divorced</td>\n",
              "      <td>3</td>\n",
              "      <td>F</td>\n",
              "      <td>business</td>\n",
              "      <td>0</td>\n",
              "      <td>26022.177</td>\n",
              "      <td>purchase of the house</td>\n",
              "    </tr>\n",
              "    <tr>\n",
              "      <th>3814</th>\n",
              "      <td>-1</td>\n",
              "      <td>-3045.290443</td>\n",
              "      <td>26</td>\n",
              "      <td>secondary education</td>\n",
              "      <td>1</td>\n",
              "      <td>civil partnership</td>\n",
              "      <td>1</td>\n",
              "      <td>F</td>\n",
              "      <td>civil servant</td>\n",
              "      <td>0</td>\n",
              "      <td>21102.846</td>\n",
              "      <td>having a wedding</td>\n",
              "    </tr>\n",
              "    <tr>\n",
              "      <th>4201</th>\n",
              "      <td>-1</td>\n",
              "      <td>-901.101738</td>\n",
              "      <td>41</td>\n",
              "      <td>secondary education</td>\n",
              "      <td>1</td>\n",
              "      <td>married</td>\n",
              "      <td>0</td>\n",
              "      <td>F</td>\n",
              "      <td>civil servant</td>\n",
              "      <td>0</td>\n",
              "      <td>36220.123</td>\n",
              "      <td>transactions with my real estate</td>\n",
              "    </tr>\n",
              "    <tr>\n",
              "      <th>4402</th>\n",
              "      <td>-1</td>\n",
              "      <td>398001.302888</td>\n",
              "      <td>64</td>\n",
              "      <td>secondary education</td>\n",
              "      <td>1</td>\n",
              "      <td>married</td>\n",
              "      <td>0</td>\n",
              "      <td>F</td>\n",
              "      <td>retiree</td>\n",
              "      <td>0</td>\n",
              "      <td>26122.250</td>\n",
              "      <td>buy real estate</td>\n",
              "    </tr>\n",
              "    <tr>\n",
              "      <th>4542</th>\n",
              "      <td>-1</td>\n",
              "      <td>-1811.899756</td>\n",
              "      <td>32</td>\n",
              "      <td>secondary education</td>\n",
              "      <td>1</td>\n",
              "      <td>married</td>\n",
              "      <td>0</td>\n",
              "      <td>F</td>\n",
              "      <td>employee</td>\n",
              "      <td>0</td>\n",
              "      <td>25687.155</td>\n",
              "      <td>education</td>\n",
              "    </tr>\n",
              "    <tr>\n",
              "      <th>5272</th>\n",
              "      <td>-1</td>\n",
              "      <td>-1143.485347</td>\n",
              "      <td>46</td>\n",
              "      <td>secondary education</td>\n",
              "      <td>1</td>\n",
              "      <td>widow / widower</td>\n",
              "      <td>2</td>\n",
              "      <td>F</td>\n",
              "      <td>employee</td>\n",
              "      <td>0</td>\n",
              "      <td>44593.283</td>\n",
              "      <td>buy real estate</td>\n",
              "    </tr>\n",
              "    <tr>\n",
              "      <th>6013</th>\n",
              "      <td>-1</td>\n",
              "      <td>-1361.258696</td>\n",
              "      <td>46</td>\n",
              "      <td>bachelor's degree</td>\n",
              "      <td>0</td>\n",
              "      <td>married</td>\n",
              "      <td>0</td>\n",
              "      <td>F</td>\n",
              "      <td>employee</td>\n",
              "      <td>0</td>\n",
              "      <td>22881.353</td>\n",
              "      <td>construction of own property</td>\n",
              "    </tr>\n",
              "    <tr>\n",
              "      <th>6385</th>\n",
              "      <td>-1</td>\n",
              "      <td>370215.476226</td>\n",
              "      <td>48</td>\n",
              "      <td>secondary education</td>\n",
              "      <td>1</td>\n",
              "      <td>widow / widower</td>\n",
              "      <td>2</td>\n",
              "      <td>F</td>\n",
              "      <td>retiree</td>\n",
              "      <td>0</td>\n",
              "      <td>5768.392</td>\n",
              "      <td>education</td>\n",
              "    </tr>\n",
              "    <tr>\n",
              "      <th>7190</th>\n",
              "      <td>-1</td>\n",
              "      <td>-5928.202068</td>\n",
              "      <td>34</td>\n",
              "      <td>secondary education</td>\n",
              "      <td>1</td>\n",
              "      <td>married</td>\n",
              "      <td>0</td>\n",
              "      <td>M</td>\n",
              "      <td>employee</td>\n",
              "      <td>0</td>\n",
              "      <td>29490.420</td>\n",
              "      <td>car purchase</td>\n",
              "    </tr>\n",
              "    <tr>\n",
              "      <th>7278</th>\n",
              "      <td>-1</td>\n",
              "      <td>-526.318451</td>\n",
              "      <td>51</td>\n",
              "      <td>secondary education</td>\n",
              "      <td>1</td>\n",
              "      <td>married</td>\n",
              "      <td>0</td>\n",
              "      <td>F</td>\n",
              "      <td>employee</td>\n",
              "      <td>0</td>\n",
              "      <td>23508.603</td>\n",
              "      <td>transactions with commercial real estate</td>\n",
              "    </tr>\n",
              "    <tr>\n",
              "      <th>7685</th>\n",
              "      <td>-1</td>\n",
              "      <td>-3237.360455</td>\n",
              "      <td>53</td>\n",
              "      <td>secondary education</td>\n",
              "      <td>1</td>\n",
              "      <td>widow / widower</td>\n",
              "      <td>2</td>\n",
              "      <td>F</td>\n",
              "      <td>employee</td>\n",
              "      <td>0</td>\n",
              "      <td>25548.188</td>\n",
              "      <td>building a real estate</td>\n",
              "    </tr>\n",
              "    <tr>\n",
              "      <th>8229</th>\n",
              "      <td>-1</td>\n",
              "      <td>-1803.441074</td>\n",
              "      <td>54</td>\n",
              "      <td>bachelor's degree</td>\n",
              "      <td>0</td>\n",
              "      <td>married</td>\n",
              "      <td>0</td>\n",
              "      <td>F</td>\n",
              "      <td>business</td>\n",
              "      <td>0</td>\n",
              "      <td>22209.453</td>\n",
              "      <td>buy real estate</td>\n",
              "    </tr>\n",
              "    <tr>\n",
              "      <th>8251</th>\n",
              "      <td>-1</td>\n",
              "      <td>-3113.998449</td>\n",
              "      <td>31</td>\n",
              "      <td>secondary education</td>\n",
              "      <td>1</td>\n",
              "      <td>civil partnership</td>\n",
              "      <td>1</td>\n",
              "      <td>F</td>\n",
              "      <td>employee</td>\n",
              "      <td>0</td>\n",
              "      <td>8705.929</td>\n",
              "      <td>to own a car</td>\n",
              "    </tr>\n",
              "    <tr>\n",
              "      <th>8561</th>\n",
              "      <td>-1</td>\n",
              "      <td>-195.479496</td>\n",
              "      <td>31</td>\n",
              "      <td>secondary education</td>\n",
              "      <td>1</td>\n",
              "      <td>married</td>\n",
              "      <td>0</td>\n",
              "      <td>F</td>\n",
              "      <td>employee</td>\n",
              "      <td>0</td>\n",
              "      <td>23292.461</td>\n",
              "      <td>housing renovation</td>\n",
              "    </tr>\n",
              "    <tr>\n",
              "      <th>9565</th>\n",
              "      <td>-1</td>\n",
              "      <td>-2896.629686</td>\n",
              "      <td>34</td>\n",
              "      <td>bachelor's degree</td>\n",
              "      <td>0</td>\n",
              "      <td>married</td>\n",
              "      <td>0</td>\n",
              "      <td>M</td>\n",
              "      <td>employee</td>\n",
              "      <td>0</td>\n",
              "      <td>20280.745</td>\n",
              "      <td>real estate transactions</td>\n",
              "    </tr>\n",
              "    <tr>\n",
              "      <th>9574</th>\n",
              "      <td>-1</td>\n",
              "      <td>-2710.419901</td>\n",
              "      <td>28</td>\n",
              "      <td>bachelor's degree</td>\n",
              "      <td>0</td>\n",
              "      <td>married</td>\n",
              "      <td>0</td>\n",
              "      <td>M</td>\n",
              "      <td>civil servant</td>\n",
              "      <td>0</td>\n",
              "      <td>48501.946</td>\n",
              "      <td>to get a supplementary education</td>\n",
              "    </tr>\n",
              "    <tr>\n",
              "      <th>10177</th>\n",
              "      <td>-1</td>\n",
              "      <td>-1743.604011</td>\n",
              "      <td>37</td>\n",
              "      <td>secondary education</td>\n",
              "      <td>1</td>\n",
              "      <td>married</td>\n",
              "      <td>0</td>\n",
              "      <td>M</td>\n",
              "      <td>employee</td>\n",
              "      <td>0</td>\n",
              "      <td>49658.801</td>\n",
              "      <td>getting an education</td>\n",
              "    </tr>\n",
              "    <tr>\n",
              "      <th>10365</th>\n",
              "      <td>-1</td>\n",
              "      <td>345774.125957</td>\n",
              "      <td>63</td>\n",
              "      <td>bachelor's degree</td>\n",
              "      <td>0</td>\n",
              "      <td>widow / widower</td>\n",
              "      <td>2</td>\n",
              "      <td>F</td>\n",
              "      <td>retiree</td>\n",
              "      <td>0</td>\n",
              "      <td>27322.040</td>\n",
              "      <td>building a real estate</td>\n",
              "    </tr>\n",
              "    <tr>\n",
              "      <th>10918</th>\n",
              "      <td>-1</td>\n",
              "      <td>340499.039342</td>\n",
              "      <td>50</td>\n",
              "      <td>secondary education</td>\n",
              "      <td>1</td>\n",
              "      <td>married</td>\n",
              "      <td>0</td>\n",
              "      <td>M</td>\n",
              "      <td>retiree</td>\n",
              "      <td>0</td>\n",
              "      <td>27322.044</td>\n",
              "      <td>purchase of my own house</td>\n",
              "    </tr>\n",
              "    <tr>\n",
              "      <th>11109</th>\n",
              "      <td>-1</td>\n",
              "      <td>-3438.463024</td>\n",
              "      <td>59</td>\n",
              "      <td>secondary education</td>\n",
              "      <td>1</td>\n",
              "      <td>married</td>\n",
              "      <td>0</td>\n",
              "      <td>F</td>\n",
              "      <td>employee</td>\n",
              "      <td>0</td>\n",
              "      <td>35179.842</td>\n",
              "      <td>housing transactions</td>\n",
              "    </tr>\n",
              "    <tr>\n",
              "      <th>11268</th>\n",
              "      <td>-1</td>\n",
              "      <td>-1048.782203</td>\n",
              "      <td>30</td>\n",
              "      <td>bachelor's degree</td>\n",
              "      <td>0</td>\n",
              "      <td>civil partnership</td>\n",
              "      <td>1</td>\n",
              "      <td>F</td>\n",
              "      <td>business</td>\n",
              "      <td>0</td>\n",
              "      <td>51456.592</td>\n",
              "      <td>to buy a car</td>\n",
              "    </tr>\n",
              "    <tr>\n",
              "      <th>11617</th>\n",
              "      <td>-1</td>\n",
              "      <td>-370.827130</td>\n",
              "      <td>27</td>\n",
              "      <td>secondary education</td>\n",
              "      <td>1</td>\n",
              "      <td>married</td>\n",
              "      <td>0</td>\n",
              "      <td>F</td>\n",
              "      <td>business</td>\n",
              "      <td>0</td>\n",
              "      <td>26334.602</td>\n",
              "      <td>buying property for renting out</td>\n",
              "    </tr>\n",
              "    <tr>\n",
              "      <th>12304</th>\n",
              "      <td>-1</td>\n",
              "      <td>-8493.101252</td>\n",
              "      <td>61</td>\n",
              "      <td>some college</td>\n",
              "      <td>2</td>\n",
              "      <td>married</td>\n",
              "      <td>0</td>\n",
              "      <td>M</td>\n",
              "      <td>employee</td>\n",
              "      <td>0</td>\n",
              "      <td>50400.989</td>\n",
              "      <td>property</td>\n",
              "    </tr>\n",
              "    <tr>\n",
              "      <th>14357</th>\n",
              "      <td>-1</td>\n",
              "      <td>-268.337037</td>\n",
              "      <td>23</td>\n",
              "      <td>secondary education</td>\n",
              "      <td>1</td>\n",
              "      <td>divorced</td>\n",
              "      <td>3</td>\n",
              "      <td>F</td>\n",
              "      <td>business</td>\n",
              "      <td>0</td>\n",
              "      <td>14761.213</td>\n",
              "      <td>buy residential real estate</td>\n",
              "    </tr>\n",
              "    <tr>\n",
              "      <th>15147</th>\n",
              "      <td>-1</td>\n",
              "      <td>-9851.184337</td>\n",
              "      <td>44</td>\n",
              "      <td>secondary education</td>\n",
              "      <td>1</td>\n",
              "      <td>divorced</td>\n",
              "      <td>3</td>\n",
              "      <td>F</td>\n",
              "      <td>employee</td>\n",
              "      <td>0</td>\n",
              "      <td>17758.530</td>\n",
              "      <td>to own a car</td>\n",
              "    </tr>\n",
              "    <tr>\n",
              "      <th>15435</th>\n",
              "      <td>-1</td>\n",
              "      <td>-3614.220232</td>\n",
              "      <td>40</td>\n",
              "      <td>bachelor's degree</td>\n",
              "      <td>0</td>\n",
              "      <td>civil partnership</td>\n",
              "      <td>1</td>\n",
              "      <td>F</td>\n",
              "      <td>employee</td>\n",
              "      <td>0</td>\n",
              "      <td>15700.406</td>\n",
              "      <td>to have a wedding</td>\n",
              "    </tr>\n",
              "    <tr>\n",
              "      <th>16129</th>\n",
              "      <td>-1</td>\n",
              "      <td>-457.861760</td>\n",
              "      <td>33</td>\n",
              "      <td>secondary education</td>\n",
              "      <td>1</td>\n",
              "      <td>married</td>\n",
              "      <td>0</td>\n",
              "      <td>F</td>\n",
              "      <td>employee</td>\n",
              "      <td>1</td>\n",
              "      <td>23942.573</td>\n",
              "      <td>car</td>\n",
              "    </tr>\n",
              "    <tr>\n",
              "      <th>16265</th>\n",
              "      <td>-1</td>\n",
              "      <td>-2802.218127</td>\n",
              "      <td>40</td>\n",
              "      <td>bachelor's degree</td>\n",
              "      <td>0</td>\n",
              "      <td>married</td>\n",
              "      <td>0</td>\n",
              "      <td>M</td>\n",
              "      <td>employee</td>\n",
              "      <td>0</td>\n",
              "      <td>17917.516</td>\n",
              "      <td>purchase of the house</td>\n",
              "    </tr>\n",
              "    <tr>\n",
              "      <th>17095</th>\n",
              "      <td>-1</td>\n",
              "      <td>-2809.693200</td>\n",
              "      <td>34</td>\n",
              "      <td>secondary education</td>\n",
              "      <td>1</td>\n",
              "      <td>married</td>\n",
              "      <td>0</td>\n",
              "      <td>F</td>\n",
              "      <td>employee</td>\n",
              "      <td>0</td>\n",
              "      <td>29207.022</td>\n",
              "      <td>buying a second-hand car</td>\n",
              "    </tr>\n",
              "    <tr>\n",
              "      <th>17429</th>\n",
              "      <td>-1</td>\n",
              "      <td>-895.379738</td>\n",
              "      <td>37</td>\n",
              "      <td>secondary education</td>\n",
              "      <td>1</td>\n",
              "      <td>married</td>\n",
              "      <td>0</td>\n",
              "      <td>F</td>\n",
              "      <td>business</td>\n",
              "      <td>0</td>\n",
              "      <td>34370.243</td>\n",
              "      <td>housing</td>\n",
              "    </tr>\n",
              "    <tr>\n",
              "      <th>17657</th>\n",
              "      <td>-1</td>\n",
              "      <td>-4571.957475</td>\n",
              "      <td>41</td>\n",
              "      <td>secondary education</td>\n",
              "      <td>1</td>\n",
              "      <td>married</td>\n",
              "      <td>0</td>\n",
              "      <td>F</td>\n",
              "      <td>employee</td>\n",
              "      <td>0</td>\n",
              "      <td>19536.867</td>\n",
              "      <td>transactions with my real estate</td>\n",
              "    </tr>\n",
              "    <tr>\n",
              "      <th>18219</th>\n",
              "      <td>-1</td>\n",
              "      <td>-3575.215641</td>\n",
              "      <td>33</td>\n",
              "      <td>secondary education</td>\n",
              "      <td>1</td>\n",
              "      <td>married</td>\n",
              "      <td>0</td>\n",
              "      <td>F</td>\n",
              "      <td>employee</td>\n",
              "      <td>0</td>\n",
              "      <td>20537.924</td>\n",
              "      <td>university education</td>\n",
              "    </tr>\n",
              "    <tr>\n",
              "      <th>19100</th>\n",
              "      <td>-1</td>\n",
              "      <td>-617.246968</td>\n",
              "      <td>38</td>\n",
              "      <td>secondary education</td>\n",
              "      <td>1</td>\n",
              "      <td>unmarried</td>\n",
              "      <td>4</td>\n",
              "      <td>M</td>\n",
              "      <td>employee</td>\n",
              "      <td>0</td>\n",
              "      <td>19552.880</td>\n",
              "      <td>building a real estate</td>\n",
              "    </tr>\n",
              "    <tr>\n",
              "      <th>19366</th>\n",
              "      <td>-1</td>\n",
              "      <td>-372.034749</td>\n",
              "      <td>43</td>\n",
              "      <td>secondary education</td>\n",
              "      <td>1</td>\n",
              "      <td>married</td>\n",
              "      <td>0</td>\n",
              "      <td>M</td>\n",
              "      <td>employee</td>\n",
              "      <td>0</td>\n",
              "      <td>24894.203</td>\n",
              "      <td>second-hand car purchase</td>\n",
              "    </tr>\n",
              "    <tr>\n",
              "      <th>19417</th>\n",
              "      <td>-1</td>\n",
              "      <td>350340.760224</td>\n",
              "      <td>28</td>\n",
              "      <td>secondary education</td>\n",
              "      <td>1</td>\n",
              "      <td>divorced</td>\n",
              "      <td>3</td>\n",
              "      <td>F</td>\n",
              "      <td>retiree</td>\n",
              "      <td>0</td>\n",
              "      <td>8459.679</td>\n",
              "      <td>cars</td>\n",
              "    </tr>\n",
              "    <tr>\n",
              "      <th>20393</th>\n",
              "      <td>-1</td>\n",
              "      <td>355157.107212</td>\n",
              "      <td>69</td>\n",
              "      <td>secondary education</td>\n",
              "      <td>1</td>\n",
              "      <td>unmarried</td>\n",
              "      <td>4</td>\n",
              "      <td>F</td>\n",
              "      <td>retiree</td>\n",
              "      <td>0</td>\n",
              "      <td>18643.367</td>\n",
              "      <td>real estate transactions</td>\n",
              "    </tr>\n",
              "    <tr>\n",
              "      <th>20717</th>\n",
              "      <td>-1</td>\n",
              "      <td>-661.822321</td>\n",
              "      <td>32</td>\n",
              "      <td>bachelor's degree</td>\n",
              "      <td>0</td>\n",
              "      <td>married</td>\n",
              "      <td>0</td>\n",
              "      <td>F</td>\n",
              "      <td>employee</td>\n",
              "      <td>0</td>\n",
              "      <td>21984.862</td>\n",
              "      <td>buy residential real estate</td>\n",
              "    </tr>\n",
              "    <tr>\n",
              "      <th>21140</th>\n",
              "      <td>-1</td>\n",
              "      <td>-1422.668059</td>\n",
              "      <td>44</td>\n",
              "      <td>secondary education</td>\n",
              "      <td>1</td>\n",
              "      <td>married</td>\n",
              "      <td>0</td>\n",
              "      <td>F</td>\n",
              "      <td>business</td>\n",
              "      <td>0</td>\n",
              "      <td>27129.935</td>\n",
              "      <td>transactions with my real estate</td>\n",
              "    </tr>\n",
              "  </tbody>\n",
              "</table>\n",
              "</div>\n",
              "      <button class=\"colab-df-convert\" onclick=\"convertToInteractive('df-7413d3b0-d64b-4e9e-987c-921e212ae6bb')\"\n",
              "              title=\"Convert this dataframe to an interactive table.\"\n",
              "              style=\"display:none;\">\n",
              "        \n",
              "  <svg xmlns=\"http://www.w3.org/2000/svg\" height=\"24px\"viewBox=\"0 0 24 24\"\n",
              "       width=\"24px\">\n",
              "    <path d=\"M0 0h24v24H0V0z\" fill=\"none\"/>\n",
              "    <path d=\"M18.56 5.44l.94 2.06.94-2.06 2.06-.94-2.06-.94-.94-2.06-.94 2.06-2.06.94zm-11 1L8.5 8.5l.94-2.06 2.06-.94-2.06-.94L8.5 2.5l-.94 2.06-2.06.94zm10 10l.94 2.06.94-2.06 2.06-.94-2.06-.94-.94-2.06-.94 2.06-2.06.94z\"/><path d=\"M17.41 7.96l-1.37-1.37c-.4-.4-.92-.59-1.43-.59-.52 0-1.04.2-1.43.59L10.3 9.45l-7.72 7.72c-.78.78-.78 2.05 0 2.83L4 21.41c.39.39.9.59 1.41.59.51 0 1.02-.2 1.41-.59l7.78-7.78 2.81-2.81c.8-.78.8-2.07 0-2.86zM5.41 20L4 18.59l7.72-7.72 1.47 1.35L5.41 20z\"/>\n",
              "  </svg>\n",
              "      </button>\n",
              "      \n",
              "  <style>\n",
              "    .colab-df-container {\n",
              "      display:flex;\n",
              "      flex-wrap:wrap;\n",
              "      gap: 12px;\n",
              "    }\n",
              "\n",
              "    .colab-df-convert {\n",
              "      background-color: #E8F0FE;\n",
              "      border: none;\n",
              "      border-radius: 50%;\n",
              "      cursor: pointer;\n",
              "      display: none;\n",
              "      fill: #1967D2;\n",
              "      height: 32px;\n",
              "      padding: 0 0 0 0;\n",
              "      width: 32px;\n",
              "    }\n",
              "\n",
              "    .colab-df-convert:hover {\n",
              "      background-color: #E2EBFA;\n",
              "      box-shadow: 0px 1px 2px rgba(60, 64, 67, 0.3), 0px 1px 3px 1px rgba(60, 64, 67, 0.15);\n",
              "      fill: #174EA6;\n",
              "    }\n",
              "\n",
              "    [theme=dark] .colab-df-convert {\n",
              "      background-color: #3B4455;\n",
              "      fill: #D2E3FC;\n",
              "    }\n",
              "\n",
              "    [theme=dark] .colab-df-convert:hover {\n",
              "      background-color: #434B5C;\n",
              "      box-shadow: 0px 1px 3px 1px rgba(0, 0, 0, 0.15);\n",
              "      filter: drop-shadow(0px 1px 2px rgba(0, 0, 0, 0.3));\n",
              "      fill: #FFFFFF;\n",
              "    }\n",
              "  </style>\n",
              "\n",
              "      <script>\n",
              "        const buttonEl =\n",
              "          document.querySelector('#df-7413d3b0-d64b-4e9e-987c-921e212ae6bb button.colab-df-convert');\n",
              "        buttonEl.style.display =\n",
              "          google.colab.kernel.accessAllowed ? 'block' : 'none';\n",
              "\n",
              "        async function convertToInteractive(key) {\n",
              "          const element = document.querySelector('#df-7413d3b0-d64b-4e9e-987c-921e212ae6bb');\n",
              "          const dataTable =\n",
              "            await google.colab.kernel.invokeFunction('convertToInteractive',\n",
              "                                                     [key], {});\n",
              "          if (!dataTable) return;\n",
              "\n",
              "          const docLinkHtml = 'Like what you see? Visit the ' +\n",
              "            '<a target=\"_blank\" href=https://colab.research.google.com/notebooks/data_table.ipynb>data table notebook</a>'\n",
              "            + ' to learn more about interactive tables.';\n",
              "          element.innerHTML = '';\n",
              "          dataTable['output_type'] = 'display_data';\n",
              "          await google.colab.output.renderOutput(dataTable, element);\n",
              "          const docLink = document.createElement('div');\n",
              "          docLink.innerHTML = docLinkHtml;\n",
              "          element.appendChild(docLink);\n",
              "        }\n",
              "      </script>\n",
              "    </div>\n",
              "  </div>\n",
              "  "
            ]
          },
          "metadata": {},
          "execution_count": 67
        }
      ]
    },
    {
      "cell_type": "code",
      "source": [
        "df['children'] = df['children'].replace([-1], 1)"
      ],
      "metadata": {
        "id": "6WCoBISnM9SD"
      },
      "execution_count": 68,
      "outputs": []
    },
    {
      "cell_type": "code",
      "source": [
        "df[df['children'] == -1].shape"
      ],
      "metadata": {
        "colab": {
          "base_uri": "https://localhost:8080/"
        },
        "id": "PwKRrZglNCE8",
        "outputId": "ae5e879f-9ca1-456f-ffd1-4fb0c7cb0f1e"
      },
      "execution_count": 69,
      "outputs": [
        {
          "output_type": "execute_result",
          "data": {
            "text/plain": [
              "(0, 12)"
            ]
          },
          "metadata": {},
          "execution_count": 69
        }
      ]
    },
    {
      "cell_type": "code",
      "source": [
        "df['children'].value_counts()"
      ],
      "metadata": {
        "colab": {
          "base_uri": "https://localhost:8080/"
        },
        "id": "t6PhSaiMNIqQ",
        "outputId": "2f2d51c4-e249-4733-803f-720c546b8764"
      },
      "execution_count": 70,
      "outputs": [
        {
          "output_type": "execute_result",
          "data": {
            "text/plain": [
              "0    12710\n",
              "1     4387\n",
              "2     1918\n",
              "3      294\n",
              "4       34\n",
              "5        8\n",
              "Name: children, dtype: int64"
            ]
          },
          "metadata": {},
          "execution_count": 70
        }
      ]
    },
    {
      "cell_type": "markdown",
      "metadata": {
        "id": "EMHjzGU92Ify"
      },
      "source": [
        "Observations:\n",
        "<p>In the children column, there are values with negative values (-1) and 20. This could be a human error of putting in the correct values which are 1 and 2 respectively. Thus, I replaced those incorrect values with the right ones.</p> "
      ]
    },
    {
      "cell_type": "code",
      "execution_count": 129,
      "metadata": {
        "id": "mBuF4kN_2Ify",
        "colab": {
          "base_uri": "https://localhost:8080/"
        },
        "outputId": "6190f3b7-582e-4bf9-9468-67319b9e23ec"
      },
      "outputs": [
        {
          "output_type": "execute_result",
          "data": {
            "text/plain": [
              "0        1\n",
              "1        1\n",
              "2        0\n",
              "3        3\n",
              "4        0\n",
              "        ..\n",
              "21520    1\n",
              "21521    0\n",
              "21522    1\n",
              "21523    3\n",
              "21524    2\n",
              "Name: children, Length: 19260, dtype: int64"
            ]
          },
          "metadata": {},
          "execution_count": 129
        }
      ],
      "source": [
        "df['children']\n"
      ]
    },
    {
      "cell_type": "code",
      "source": [
        "sns.countplot('children', data =df)\n",
        "plt.show()"
      ],
      "metadata": {
        "colab": {
          "base_uri": "https://localhost:8080/",
          "height": 279
        },
        "id": "MbcOSJ_B9Y_m",
        "outputId": "67e072e3-8a14-4c2e-ca11-453e79a76b5a"
      },
      "execution_count": 73,
      "outputs": [
        {
          "output_type": "display_data",
          "data": {
            "text/plain": [
              "<Figure size 432x288 with 1 Axes>"
            ],
            "image/png": "[encoded data removed]"
          },
          "metadata": {
            "needs_background": "light"
          }
        }
      ]
    },
    {
      "cell_type": "markdown",
      "metadata": {
        "id": "mgIPpnNV2Ifz"
      },
      "source": [
        "**Checking the 'days_employed' column.**\n",
        "</p>The main issues will be the length of days the customers were employed. Its a float, so, it can only mean some worked less than a day. But when cross-referencing it with income_type column which shows values of student, retired... it needs to be investigated. The income_type column could have impact to the days_employed column.</p>\n"
      ]
    },
    {
      "cell_type": "code",
      "execution_count": 74,
      "metadata": {
        "id": "hVsaHm0D2Ifz",
        "colab": {
          "base_uri": "https://localhost:8080/"
        },
        "outputId": "d8bc085c-b0d8-42f3-fff1-aa698e43e93b"
      },
      "outputs": [
        {
          "output_type": "execute_result",
          "data": {
            "text/plain": [
              "count     19351.000000\n",
              "mean      63046.497661\n",
              "std      140827.311974\n",
              "min      -18388.949901\n",
              "25%       -2747.423625\n",
              "50%       -1203.369529\n",
              "75%        -291.095954\n",
              "max      401755.400475\n",
              "Name: days_employed, dtype: float64"
            ]
          },
          "metadata": {},
          "execution_count": 74
        }
      ],
      "source": [
        "df['days_employed'].describe()\n"
      ]
    },
    {
      "cell_type": "code",
      "source": [
        "df['days_employed'].isnull().sum() / len(df['days_employed']) * 100"
      ],
      "metadata": {
        "colab": {
          "base_uri": "https://localhost:8080/"
        },
        "id": "3saxUPPxOsdJ",
        "outputId": "1bda3801-5b23-4fa3-af78-1342b96ff8bd"
      },
      "execution_count": 75,
      "outputs": [
        {
          "output_type": "execute_result",
          "data": {
            "text/plain": [
              "0.0"
            ]
          },
          "metadata": {},
          "execution_count": 75
        }
      ]
    },
    {
      "cell_type": "code",
      "source": [
        "df['days_employed'] = df['days_employed'].fillna(0)"
      ],
      "metadata": {
        "id": "6iGJ4pRTeaeO"
      },
      "execution_count": 76,
      "outputs": []
    },
    {
      "cell_type": "markdown",
      "metadata": {
        "id": "3RA2jL132Ifz"
      },
      "source": [
        "**Observations:**\n",
        "Looking at the statistics table, the max value is 401755 which is impossible as the number of days in the working age of an individual as well as the min value as negative. It needs to be further investigated. "
      ]
    },
    {
      "cell_type": "code",
      "execution_count": 77,
      "metadata": {
        "id": "-nbIN1E92Ifz",
        "colab": {
          "base_uri": "https://localhost:8080/"
        },
        "outputId": "7cfe9a1a-8237-431d-9f5f-317a29b73e69"
      },
      "outputs": [
        {
          "output_type": "execute_result",
          "data": {
            "text/plain": [
              "count     19351.000000\n",
              "mean      66914.728907\n",
              "std      139030.880527\n",
              "min          24.141633\n",
              "25%         927.009265\n",
              "50%        2194.220567\n",
              "75%        5537.882441\n",
              "max      401755.400475\n",
              "Name: days_employed, dtype: float64"
            ]
          },
          "metadata": {},
          "execution_count": 77
        }
      ],
      "source": [
        "df['days_employed'] = df['days_employed'].apply(lambda x: abs(x) if x < 0 else x)\n",
        "df['days_employed'].describe()\n"
      ]
    },
    {
      "cell_type": "code",
      "source": [
        "df['days_employed'].sort_values(ascending=False)"
      ],
      "metadata": {
        "colab": {
          "base_uri": "https://localhost:8080/"
        },
        "id": "UPgxo2s3QEub",
        "outputId": "2a3514b6-65f3-407b-b045-990910ac6d2d"
      },
      "execution_count": 78,
      "outputs": [
        {
          "output_type": "execute_result",
          "data": {
            "text/plain": [
              "6954     401755.400475\n",
              "10006    401715.811749\n",
              "7664     401675.093434\n",
              "2156     401674.466633\n",
              "7794     401663.850046\n",
              "             ...      \n",
              "2127         34.701045\n",
              "9683         33.520665\n",
              "6157         30.195337\n",
              "8336         24.240695\n",
              "17437        24.141633\n",
              "Name: days_employed, Length: 19351, dtype: float64"
            ]
          },
          "metadata": {},
          "execution_count": 78
        }
      ]
    },
    {
      "cell_type": "code",
      "source": [
        "print(df['days_employed'].describe(percentiles=[0.01,0.1,0.25,0.5,0.75,0.99]))\n",
        "print()\n",
        "plt.style.use('ggplot')\n",
        "plt.figure(figsize=(11,5))\n",
        "sns.boxplot(df['days_employed'])\n",
        "plt.show()"
      ],
      "metadata": {
        "colab": {
          "base_uri": "https://localhost:8080/",
          "height": 576
        },
        "id": "cLhPAexjQhNR",
        "outputId": "51f71bfb-b6a3-493f-b6ed-ab9f779e8034"
      },
      "execution_count": 79,
      "outputs": [
        {
          "output_type": "stream",
          "name": "stdout",
          "text": [
            "count     19351.000000\n",
            "mean      66914.728907\n",
            "std      139030.880527\n",
            "min          24.141633\n",
            "1%          113.426296\n",
            "10%         385.009877\n",
            "25%         927.009265\n",
            "50%        2194.220567\n",
            "75%        5537.882441\n",
            "99%      397588.993236\n",
            "max      401755.400475\n",
            "Name: days_employed, dtype: float64\n",
            "\n"
          ]
        },
        {
          "output_type": "display_data",
          "data": {
            "text/plain": [
              "<Figure size 792x360 with 1 Axes>"
            ],
            "image/png": "[encoded data removed]"
          },
          "metadata": {}
        }
      ]
    },
    {
      "cell_type": "code",
      "source": [
        "df[(df['days_employed'] >= 300000) & (df['days_employed']<=450000)]"
      ],
      "metadata": {
        "colab": {
          "base_uri": "https://localhost:8080/",
          "height": 424
        },
        "id": "UBkcc2E3QxGO",
        "outputId": "96197f43-d7e8-4385-f410-a52f4a104748"
      },
      "execution_count": 80,
      "outputs": [
        {
          "output_type": "execute_result",
          "data": {
            "text/plain": [
              "       children  days_employed  dob_years            education  education_id  \\\n",
              "4             0  340266.072047         53  secondary education             1   \n",
              "18            0  400281.136913         53  secondary education             1   \n",
              "24            1  338551.952911         57  secondary education             1   \n",
              "25            0  363548.489348         67  secondary education             1   \n",
              "30            1  335581.668515         62  secondary education             1   \n",
              "...         ...            ...        ...                  ...           ...   \n",
              "21505         0  338904.866406         53  secondary education             1   \n",
              "21508         0  386497.714078         62  secondary education             1   \n",
              "21509         0  362161.054124         59    bachelor's degree             0   \n",
              "21518         0  373995.710838         59  secondary education             1   \n",
              "21521         0  343937.404131         67  secondary education             1   \n",
              "\n",
              "           family_status  family_status_id gender income_type  debt  \\\n",
              "4      civil partnership                 1      F     retiree     0   \n",
              "18       widow / widower                 2      F     retiree     0   \n",
              "24             unmarried                 4      F     retiree     0   \n",
              "25               married                 0      M     retiree     0   \n",
              "30               married                 0      F     retiree     0   \n",
              "...                  ...               ...    ...         ...   ...   \n",
              "21505  civil partnership                 1      M     retiree     0   \n",
              "21508            married                 0      M     retiree     0   \n",
              "21509            married                 0      M     retiree     0   \n",
              "21518            married                 0      F     retiree     0   \n",
              "21521            married                 0      F     retiree     0   \n",
              "\n",
              "       total_income                                   purpose  \n",
              "4         25378.572                         to have a wedding  \n",
              "18         9091.804                  buying a second-hand car  \n",
              "24        46487.558  transactions with commercial real estate  \n",
              "25         8818.041                           buy real estate  \n",
              "30        27432.971  transactions with commercial real estate  \n",
              "...             ...                                       ...  \n",
              "21505     12070.399                         to have a wedding  \n",
              "21508     11622.175                                  property  \n",
              "21509     11684.650                  real estate transactions  \n",
              "21518     24618.344                         purchase of a car  \n",
              "21521     24959.969                         purchase of a car  \n",
              "\n",
              "[3445 rows x 12 columns]"
            ],
            "text/html": [
              "\n",
              "  <div id=\"df-282b9bf5-979b-4375-8523-c226998bd2fb\">\n",
              "    <div class=\"colab-df-container\">\n",
              "      <div>\n",
              "<style scoped>\n",
              "    .dataframe tbody tr th:only-of-type {\n",
              "        vertical-align: middle;\n",
              "    }\n",
              "\n",
              "    .dataframe tbody tr th {\n",
              "        vertical-align: top;\n",
              "    }\n",
              "\n",
              "    .dataframe thead th {\n",
              "        text-align: right;\n",
              "    }\n",
              "</style>\n",
              "<table border=\"1\" class=\"dataframe\">\n",
              "  <thead>\n",
              "    <tr style=\"text-align: right;\">\n",
              "      <th></th>\n",
              "      <th>children</th>\n",
              "      <th>days_employed</th>\n",
              "      <th>dob_years</th>\n",
              "      <th>education</th>\n",
              "      <th>education_id</th>\n",
              "      <th>family_status</th>\n",
              "      <th>family_status_id</th>\n",
              "      <th>gender</th>\n",
              "      <th>income_type</th>\n",
              "      <th>debt</th>\n",
              "      <th>total_income</th>\n",
              "      <th>purpose</th>\n",
              "    </tr>\n",
              "  </thead>\n",
              "  <tbody>\n",
              "    <tr>\n",
              "      <th>4</th>\n",
              "      <td>0</td>\n",
              "      <td>340266.072047</td>\n",
              "      <td>53</td>\n",
              "      <td>secondary education</td>\n",
              "      <td>1</td>\n",
              "      <td>civil partnership</td>\n",
              "      <td>1</td>\n",
              "      <td>F</td>\n",
              "      <td>retiree</td>\n",
              "      <td>0</td>\n",
              "      <td>25378.572</td>\n",
              "      <td>to have a wedding</td>\n",
              "    </tr>\n",
              "    <tr>\n",
              "      <th>18</th>\n",
              "      <td>0</td>\n",
              "      <td>400281.136913</td>\n",
              "      <td>53</td>\n",
              "      <td>secondary education</td>\n",
              "      <td>1</td>\n",
              "      <td>widow / widower</td>\n",
              "      <td>2</td>\n",
              "      <td>F</td>\n",
              "      <td>retiree</td>\n",
              "      <td>0</td>\n",
              "      <td>9091.804</td>\n",
              "      <td>buying a second-hand car</td>\n",
              "    </tr>\n",
              "    <tr>\n",
              "      <th>24</th>\n",
              "      <td>1</td>\n",
              "      <td>338551.952911</td>\n",
              "      <td>57</td>\n",
              "      <td>secondary education</td>\n",
              "      <td>1</td>\n",
              "      <td>unmarried</td>\n",
              "      <td>4</td>\n",
              "      <td>F</td>\n",
              "      <td>retiree</td>\n",
              "      <td>0</td>\n",
              "      <td>46487.558</td>\n",
              "      <td>transactions with commercial real estate</td>\n",
              "    </tr>\n",
              "    <tr>\n",
              "      <th>25</th>\n",
              "      <td>0</td>\n",
              "      <td>363548.489348</td>\n",
              "      <td>67</td>\n",
              "      <td>secondary education</td>\n",
              "      <td>1</td>\n",
              "      <td>married</td>\n",
              "      <td>0</td>\n",
              "      <td>M</td>\n",
              "      <td>retiree</td>\n",
              "      <td>0</td>\n",
              "      <td>8818.041</td>\n",
              "      <td>buy real estate</td>\n",
              "    </tr>\n",
              "    <tr>\n",
              "      <th>30</th>\n",
              "      <td>1</td>\n",
              "      <td>335581.668515</td>\n",
              "      <td>62</td>\n",
              "      <td>secondary education</td>\n",
              "      <td>1</td>\n",
              "      <td>married</td>\n",
              "      <td>0</td>\n",
              "      <td>F</td>\n",
              "      <td>retiree</td>\n",
              "      <td>0</td>\n",
              "      <td>27432.971</td>\n",
              "      <td>transactions with commercial real estate</td>\n",
              "    </tr>\n",
              "    <tr>\n",
              "      <th>...</th>\n",
              "      <td>...</td>\n",
              "      <td>...</td>\n",
              "      <td>...</td>\n",
              "      <td>...</td>\n",
              "      <td>...</td>\n",
              "      <td>...</td>\n",
              "      <td>...</td>\n",
              "      <td>...</td>\n",
              "      <td>...</td>\n",
              "      <td>...</td>\n",
              "      <td>...</td>\n",
              "      <td>...</td>\n",
              "    </tr>\n",
              "    <tr>\n",
              "      <th>21505</th>\n",
              "      <td>0</td>\n",
              "      <td>338904.866406</td>\n",
              "      <td>53</td>\n",
              "      <td>secondary education</td>\n",
              "      <td>1</td>\n",
              "      <td>civil partnership</td>\n",
              "      <td>1</td>\n",
              "      <td>M</td>\n",
              "      <td>retiree</td>\n",
              "      <td>0</td>\n",
              "      <td>12070.399</td>\n",
              "      <td>to have a wedding</td>\n",
              "    </tr>\n",
              "    <tr>\n",
              "      <th>21508</th>\n",
              "      <td>0</td>\n",
              "      <td>386497.714078</td>\n",
              "      <td>62</td>\n",
              "      <td>secondary education</td>\n",
              "      <td>1</td>\n",
              "      <td>married</td>\n",
              "      <td>0</td>\n",
              "      <td>M</td>\n",
              "      <td>retiree</td>\n",
              "      <td>0</td>\n",
              "      <td>11622.175</td>\n",
              "      <td>property</td>\n",
              "    </tr>\n",
              "    <tr>\n",
              "      <th>21509</th>\n",
              "      <td>0</td>\n",
              "      <td>362161.054124</td>\n",
              "      <td>59</td>\n",
              "      <td>bachelor's degree</td>\n",
              "      <td>0</td>\n",
              "      <td>married</td>\n",
              "      <td>0</td>\n",
              "      <td>M</td>\n",
              "      <td>retiree</td>\n",
              "      <td>0</td>\n",
              "      <td>11684.650</td>\n",
              "      <td>real estate transactions</td>\n",
              "    </tr>\n",
              "    <tr>\n",
              "      <th>21518</th>\n",
              "      <td>0</td>\n",
              "      <td>373995.710838</td>\n",
              "      <td>59</td>\n",
              "      <td>secondary education</td>\n",
              "      <td>1</td>\n",
              "      <td>married</td>\n",
              "      <td>0</td>\n",
              "      <td>F</td>\n",
              "      <td>retiree</td>\n",
              "      <td>0</td>\n",
              "      <td>24618.344</td>\n",
              "      <td>purchase of a car</td>\n",
              "    </tr>\n",
              "    <tr>\n",
              "      <th>21521</th>\n",
              "      <td>0</td>\n",
              "      <td>343937.404131</td>\n",
              "      <td>67</td>\n",
              "      <td>secondary education</td>\n",
              "      <td>1</td>\n",
              "      <td>married</td>\n",
              "      <td>0</td>\n",
              "      <td>F</td>\n",
              "      <td>retiree</td>\n",
              "      <td>0</td>\n",
              "      <td>24959.969</td>\n",
              "      <td>purchase of a car</td>\n",
              "    </tr>\n",
              "  </tbody>\n",
              "</table>\n",
              "<p>3445 rows × 12 columns</p>\n",
              "</div>\n",
              "      <button class=\"colab-df-convert\" onclick=\"convertToInteractive('df-282b9bf5-979b-4375-8523-c226998bd2fb')\"\n",
              "              title=\"Convert this dataframe to an interactive table.\"\n",
              "              style=\"display:none;\">\n",
              "        \n",
              "  <svg xmlns=\"http://www.w3.org/2000/svg\" height=\"24px\"viewBox=\"0 0 24 24\"\n",
              "       width=\"24px\">\n",
              "    <path d=\"M0 0h24v24H0V0z\" fill=\"none\"/>\n",
              "    <path d=\"M18.56 5.44l.94 2.06.94-2.06 2.06-.94-2.06-.94-.94-2.06-.94 2.06-2.06.94zm-11 1L8.5 8.5l.94-2.06 2.06-.94-2.06-.94L8.5 2.5l-.94 2.06-2.06.94zm10 10l.94 2.06.94-2.06 2.06-.94-2.06-.94-.94-2.06-.94 2.06-2.06.94z\"/><path d=\"M17.41 7.96l-1.37-1.37c-.4-.4-.92-.59-1.43-.59-.52 0-1.04.2-1.43.59L10.3 9.45l-7.72 7.72c-.78.78-.78 2.05 0 2.83L4 21.41c.39.39.9.59 1.41.59.51 0 1.02-.2 1.41-.59l7.78-7.78 2.81-2.81c.8-.78.8-2.07 0-2.86zM5.41 20L4 18.59l7.72-7.72 1.47 1.35L5.41 20z\"/>\n",
              "  </svg>\n",
              "      </button>\n",
              "      \n",
              "  <style>\n",
              "    .colab-df-container {\n",
              "      display:flex;\n",
              "      flex-wrap:wrap;\n",
              "      gap: 12px;\n",
              "    }\n",
              "\n",
              "    .colab-df-convert {\n",
              "      background-color: #E8F0FE;\n",
              "      border: none;\n",
              "      border-radius: 50%;\n",
              "      cursor: pointer;\n",
              "      display: none;\n",
              "      fill: #1967D2;\n",
              "      height: 32px;\n",
              "      padding: 0 0 0 0;\n",
              "      width: 32px;\n",
              "    }\n",
              "\n",
              "    .colab-df-convert:hover {\n",
              "      background-color: #E2EBFA;\n",
              "      box-shadow: 0px 1px 2px rgba(60, 64, 67, 0.3), 0px 1px 3px 1px rgba(60, 64, 67, 0.15);\n",
              "      fill: #174EA6;\n",
              "    }\n",
              "\n",
              "    [theme=dark] .colab-df-convert {\n",
              "      background-color: #3B4455;\n",
              "      fill: #D2E3FC;\n",
              "    }\n",
              "\n",
              "    [theme=dark] .colab-df-convert:hover {\n",
              "      background-color: #434B5C;\n",
              "      box-shadow: 0px 1px 3px 1px rgba(0, 0, 0, 0.15);\n",
              "      filter: drop-shadow(0px 1px 2px rgba(0, 0, 0, 0.3));\n",
              "      fill: #FFFFFF;\n",
              "    }\n",
              "  </style>\n",
              "\n",
              "      <script>\n",
              "        const buttonEl =\n",
              "          document.querySelector('#df-282b9bf5-979b-4375-8523-c226998bd2fb button.colab-df-convert');\n",
              "        buttonEl.style.display =\n",
              "          google.colab.kernel.accessAllowed ? 'block' : 'none';\n",
              "\n",
              "        async function convertToInteractive(key) {\n",
              "          const element = document.querySelector('#df-282b9bf5-979b-4375-8523-c226998bd2fb');\n",
              "          const dataTable =\n",
              "            await google.colab.kernel.invokeFunction('convertToInteractive',\n",
              "                                                     [key], {});\n",
              "          if (!dataTable) return;\n",
              "\n",
              "          const docLinkHtml = 'Like what you see? Visit the ' +\n",
              "            '<a target=\"_blank\" href=https://colab.research.google.com/notebooks/data_table.ipynb>data table notebook</a>'\n",
              "            + ' to learn more about interactive tables.';\n",
              "          element.innerHTML = '';\n",
              "          dataTable['output_type'] = 'display_data';\n",
              "          await google.colab.output.renderOutput(dataTable, element);\n",
              "          const docLink = document.createElement('div');\n",
              "          docLink.innerHTML = docLinkHtml;\n",
              "          element.appendChild(docLink);\n",
              "        }\n",
              "      </script>\n",
              "    </div>\n",
              "  </div>\n",
              "  "
            ]
          },
          "metadata": {},
          "execution_count": 80
        }
      ]
    },
    {
      "cell_type": "code",
      "source": [
        "print(df[(df['days_employed'] >= 300000) & (df['days_employed']<=450000)])"
      ],
      "metadata": {
        "id": "n0iAf8SXcAEk",
        "colab": {
          "base_uri": "https://localhost:8080/"
        },
        "outputId": "c5bde036-619e-4e33-b060-4160d51bedea"
      },
      "execution_count": 81,
      "outputs": [
        {
          "output_type": "stream",
          "name": "stdout",
          "text": [
            "       children  days_employed  dob_years            education  education_id  \\\n",
            "4             0  340266.072047         53  secondary education             1   \n",
            "18            0  400281.136913         53  secondary education             1   \n",
            "24            1  338551.952911         57  secondary education             1   \n",
            "25            0  363548.489348         67  secondary education             1   \n",
            "30            1  335581.668515         62  secondary education             1   \n",
            "...         ...            ...        ...                  ...           ...   \n",
            "21505         0  338904.866406         53  secondary education             1   \n",
            "21508         0  386497.714078         62  secondary education             1   \n",
            "21509         0  362161.054124         59    bachelor's degree             0   \n",
            "21518         0  373995.710838         59  secondary education             1   \n",
            "21521         0  343937.404131         67  secondary education             1   \n",
            "\n",
            "           family_status  family_status_id gender income_type  debt  \\\n",
            "4      civil partnership                 1      F     retiree     0   \n",
            "18       widow / widower                 2      F     retiree     0   \n",
            "24             unmarried                 4      F     retiree     0   \n",
            "25               married                 0      M     retiree     0   \n",
            "30               married                 0      F     retiree     0   \n",
            "...                  ...               ...    ...         ...   ...   \n",
            "21505  civil partnership                 1      M     retiree     0   \n",
            "21508            married                 0      M     retiree     0   \n",
            "21509            married                 0      M     retiree     0   \n",
            "21518            married                 0      F     retiree     0   \n",
            "21521            married                 0      F     retiree     0   \n",
            "\n",
            "       total_income                                   purpose  \n",
            "4         25378.572                         to have a wedding  \n",
            "18         9091.804                  buying a second-hand car  \n",
            "24        46487.558  transactions with commercial real estate  \n",
            "25         8818.041                           buy real estate  \n",
            "30        27432.971  transactions with commercial real estate  \n",
            "...             ...                                       ...  \n",
            "21505     12070.399                         to have a wedding  \n",
            "21508     11622.175                                  property  \n",
            "21509     11684.650                  real estate transactions  \n",
            "21518     24618.344                         purchase of a car  \n",
            "21521     24959.969                         purchase of a car  \n",
            "\n",
            "[3445 rows x 12 columns]\n"
          ]
        }
      ]
    },
    {
      "cell_type": "markdown",
      "metadata": {
        "id": "H_yukpKA2Ifz"
      },
      "source": [
        "**Checking the 'dob_years' column.**"
      ]
    },
    {
      "cell_type": "code",
      "execution_count": 130,
      "metadata": {
        "scrolled": true,
        "id": "FE1fa4bQ2If0",
        "colab": {
          "base_uri": "https://localhost:8080/"
        },
        "outputId": "03f48764-95e9-407d-8b17-27fa470c2abe"
      },
      "outputs": [
        {
          "output_type": "execute_result",
          "data": {
            "text/plain": [
              "35    553\n",
              "41    548\n",
              "38    544\n",
              "40    543\n",
              "34    534\n",
              "42    532\n",
              "33    530\n",
              "39    522\n",
              "44    503\n",
              "29    495\n",
              "31    495\n",
              "48    492\n",
              "36    492\n",
              "37    484\n",
              "30    482\n",
              "32    473\n",
              "43    463\n",
              "50    463\n",
              "49    458\n",
              "27    457\n",
              "45    447\n",
              "28    446\n",
              "56    433\n",
              "52    431\n",
              "46    427\n",
              "54    424\n",
              "47    421\n",
              "53    415\n",
              "59    410\n",
              "58    405\n",
              "57    404\n",
              "51    398\n",
              "55    395\n",
              "26    373\n",
              "60    338\n",
              "25    334\n",
              "61    317\n",
              "62    314\n",
              "24    243\n",
              "63    240\n",
              "64    228\n",
              "23    218\n",
              "65    174\n",
              "22    166\n",
              "66    163\n",
              "67    151\n",
              "21     93\n",
              "68     90\n",
              "69     80\n",
              "70     62\n",
              "71     53\n",
              "20     46\n",
              "72     31\n",
              "19     13\n",
              "73      7\n",
              "74      6\n",
              "75      1\n",
              "Name: dob_years, dtype: int64"
            ]
          },
          "metadata": {},
          "execution_count": 130
        }
      ],
      "source": [
        "df['dob_years'].value_counts()\n"
      ]
    },
    {
      "cell_type": "code",
      "source": [
        "df[df['dob_years'] == 0]\n"
      ],
      "metadata": {
        "colab": {
          "base_uri": "https://localhost:8080/",
          "height": 424
        },
        "id": "hzgIXBlJX5uw",
        "outputId": "eedcdcc5-c7df-4725-df56-2222f60b530f"
      },
      "execution_count": 83,
      "outputs": [
        {
          "output_type": "execute_result",
          "data": {
            "text/plain": [
              "       children  days_employed  dob_years            education  education_id  \\\n",
              "99            0  346541.618895          0  secondary education             1   \n",
              "149           0    2664.273168          0  secondary education             1   \n",
              "270           3    1872.663186          0  secondary education             1   \n",
              "578           0  397856.565013          0  secondary education             1   \n",
              "1040          0    1158.029561          0    bachelor's degree             0   \n",
              "...         ...            ...        ...                  ...           ...   \n",
              "19371         1    2356.250615          0    bachelor's degree             0   \n",
              "20462         0  338734.868540          0  secondary education             1   \n",
              "20577         0  331741.271455          0  secondary education             1   \n",
              "21179         2     108.967042          0    bachelor's degree             0   \n",
              "21313         0    1268.487728          0  secondary education             1   \n",
              "\n",
              "      family_status  family_status_id gender income_type  debt  total_income  \\\n",
              "99          married                 0      F     retiree     0     11406.644   \n",
              "149        divorced                 3      F    employee     0     11228.230   \n",
              "270         married                 0      F    employee     0     16346.633   \n",
              "578         married                 0      F     retiree     0     15619.310   \n",
              "1040       divorced                 3      F    business     0     48639.062   \n",
              "...             ...               ...    ...         ...   ...           ...   \n",
              "19371       married                 0      F    business     0     12469.795   \n",
              "20462       married                 0      F     retiree     0     41471.027   \n",
              "20577     unmarried                 4      F     retiree     0     20766.202   \n",
              "21179       married                 0      M    business     0     38512.321   \n",
              "21313     unmarried                 4      M    employee     0     24387.070   \n",
              "\n",
              "                            purpose  \n",
              "99                              car  \n",
              "149            housing transactions  \n",
              "270              housing renovation  \n",
              "578    construction of own property  \n",
              "1040                   to own a car  \n",
              "...                             ...  \n",
              "19371                           car  \n",
              "20462      purchase of my own house  \n",
              "20577                      property  \n",
              "21179        building a real estate  \n",
              "21313          housing transactions  \n",
              "\n",
              "[91 rows x 12 columns]"
            ],
            "text/html": [
              "\n",
              "  <div id=\"df-eaf2323d-1466-49e4-b8df-9ec57b1ce427\">\n",
              "    <div class=\"colab-df-container\">\n",
              "      <div>\n",
              "<style scoped>\n",
              "    .dataframe tbody tr th:only-of-type {\n",
              "        vertical-align: middle;\n",
              "    }\n",
              "\n",
              "    .dataframe tbody tr th {\n",
              "        vertical-align: top;\n",
              "    }\n",
              "\n",
              "    .dataframe thead th {\n",
              "        text-align: right;\n",
              "    }\n",
              "</style>\n",
              "<table border=\"1\" class=\"dataframe\">\n",
              "  <thead>\n",
              "    <tr style=\"text-align: right;\">\n",
              "      <th></th>\n",
              "      <th>children</th>\n",
              "      <th>days_employed</th>\n",
              "      <th>dob_years</th>\n",
              "      <th>education</th>\n",
              "      <th>education_id</th>\n",
              "      <th>family_status</th>\n",
              "      <th>family_status_id</th>\n",
              "      <th>gender</th>\n",
              "      <th>income_type</th>\n",
              "      <th>debt</th>\n",
              "      <th>total_income</th>\n",
              "      <th>purpose</th>\n",
              "    </tr>\n",
              "  </thead>\n",
              "  <tbody>\n",
              "    <tr>\n",
              "      <th>99</th>\n",
              "      <td>0</td>\n",
              "      <td>346541.618895</td>\n",
              "      <td>0</td>\n",
              "      <td>secondary education</td>\n",
              "      <td>1</td>\n",
              "      <td>married</td>\n",
              "      <td>0</td>\n",
              "      <td>F</td>\n",
              "      <td>retiree</td>\n",
              "      <td>0</td>\n",
              "      <td>11406.644</td>\n",
              "      <td>car</td>\n",
              "    </tr>\n",
              "    <tr>\n",
              "      <th>149</th>\n",
              "      <td>0</td>\n",
              "      <td>2664.273168</td>\n",
              "      <td>0</td>\n",
              "      <td>secondary education</td>\n",
              "      <td>1</td>\n",
              "      <td>divorced</td>\n",
              "      <td>3</td>\n",
              "      <td>F</td>\n",
              "      <td>employee</td>\n",
              "      <td>0</td>\n",
              "      <td>11228.230</td>\n",
              "      <td>housing transactions</td>\n",
              "    </tr>\n",
              "    <tr>\n",
              "      <th>270</th>\n",
              "      <td>3</td>\n",
              "      <td>1872.663186</td>\n",
              "      <td>0</td>\n",
              "      <td>secondary education</td>\n",
              "      <td>1</td>\n",
              "      <td>married</td>\n",
              "      <td>0</td>\n",
              "      <td>F</td>\n",
              "      <td>employee</td>\n",
              "      <td>0</td>\n",
              "      <td>16346.633</td>\n",
              "      <td>housing renovation</td>\n",
              "    </tr>\n",
              "    <tr>\n",
              "      <th>578</th>\n",
              "      <td>0</td>\n",
              "      <td>397856.565013</td>\n",
              "      <td>0</td>\n",
              "      <td>secondary education</td>\n",
              "      <td>1</td>\n",
              "      <td>married</td>\n",
              "      <td>0</td>\n",
              "      <td>F</td>\n",
              "      <td>retiree</td>\n",
              "      <td>0</td>\n",
              "      <td>15619.310</td>\n",
              "      <td>construction of own property</td>\n",
              "    </tr>\n",
              "    <tr>\n",
              "      <th>1040</th>\n",
              "      <td>0</td>\n",
              "      <td>1158.029561</td>\n",
              "      <td>0</td>\n",
              "      <td>bachelor's degree</td>\n",
              "      <td>0</td>\n",
              "      <td>divorced</td>\n",
              "      <td>3</td>\n",
              "      <td>F</td>\n",
              "      <td>business</td>\n",
              "      <td>0</td>\n",
              "      <td>48639.062</td>\n",
              "      <td>to own a car</td>\n",
              "    </tr>\n",
              "    <tr>\n",
              "      <th>...</th>\n",
              "      <td>...</td>\n",
              "      <td>...</td>\n",
              "      <td>...</td>\n",
              "      <td>...</td>\n",
              "      <td>...</td>\n",
              "      <td>...</td>\n",
              "      <td>...</td>\n",
              "      <td>...</td>\n",
              "      <td>...</td>\n",
              "      <td>...</td>\n",
              "      <td>...</td>\n",
              "      <td>...</td>\n",
              "    </tr>\n",
              "    <tr>\n",
              "      <th>19371</th>\n",
              "      <td>1</td>\n",
              "      <td>2356.250615</td>\n",
              "      <td>0</td>\n",
              "      <td>bachelor's degree</td>\n",
              "      <td>0</td>\n",
              "      <td>married</td>\n",
              "      <td>0</td>\n",
              "      <td>F</td>\n",
              "      <td>business</td>\n",
              "      <td>0</td>\n",
              "      <td>12469.795</td>\n",
              "      <td>car</td>\n",
              "    </tr>\n",
              "    <tr>\n",
              "      <th>20462</th>\n",
              "      <td>0</td>\n",
              "      <td>338734.868540</td>\n",
              "      <td>0</td>\n",
              "      <td>secondary education</td>\n",
              "      <td>1</td>\n",
              "      <td>married</td>\n",
              "      <td>0</td>\n",
              "      <td>F</td>\n",
              "      <td>retiree</td>\n",
              "      <td>0</td>\n",
              "      <td>41471.027</td>\n",
              "      <td>purchase of my own house</td>\n",
              "    </tr>\n",
              "    <tr>\n",
              "      <th>20577</th>\n",
              "      <td>0</td>\n",
              "      <td>331741.271455</td>\n",
              "      <td>0</td>\n",
              "      <td>secondary education</td>\n",
              "      <td>1</td>\n",
              "      <td>unmarried</td>\n",
              "      <td>4</td>\n",
              "      <td>F</td>\n",
              "      <td>retiree</td>\n",
              "      <td>0</td>\n",
              "      <td>20766.202</td>\n",
              "      <td>property</td>\n",
              "    </tr>\n",
              "    <tr>\n",
              "      <th>21179</th>\n",
              "      <td>2</td>\n",
              "      <td>108.967042</td>\n",
              "      <td>0</td>\n",
              "      <td>bachelor's degree</td>\n",
              "      <td>0</td>\n",
              "      <td>married</td>\n",
              "      <td>0</td>\n",
              "      <td>M</td>\n",
              "      <td>business</td>\n",
              "      <td>0</td>\n",
              "      <td>38512.321</td>\n",
              "      <td>building a real estate</td>\n",
              "    </tr>\n",
              "    <tr>\n",
              "      <th>21313</th>\n",
              "      <td>0</td>\n",
              "      <td>1268.487728</td>\n",
              "      <td>0</td>\n",
              "      <td>secondary education</td>\n",
              "      <td>1</td>\n",
              "      <td>unmarried</td>\n",
              "      <td>4</td>\n",
              "      <td>M</td>\n",
              "      <td>employee</td>\n",
              "      <td>0</td>\n",
              "      <td>24387.070</td>\n",
              "      <td>housing transactions</td>\n",
              "    </tr>\n",
              "  </tbody>\n",
              "</table>\n",
              "<p>91 rows × 12 columns</p>\n",
              "</div>\n",
              "      <button class=\"colab-df-convert\" onclick=\"convertToInteractive('df-eaf2323d-1466-49e4-b8df-9ec57b1ce427')\"\n",
              "              title=\"Convert this dataframe to an interactive table.\"\n",
              "              style=\"display:none;\">\n",
              "        \n",
              "  <svg xmlns=\"http://www.w3.org/2000/svg\" height=\"24px\"viewBox=\"0 0 24 24\"\n",
              "       width=\"24px\">\n",
              "    <path d=\"M0 0h24v24H0V0z\" fill=\"none\"/>\n",
              "    <path d=\"M18.56 5.44l.94 2.06.94-2.06 2.06-.94-2.06-.94-.94-2.06-.94 2.06-2.06.94zm-11 1L8.5 8.5l.94-2.06 2.06-.94-2.06-.94L8.5 2.5l-.94 2.06-2.06.94zm10 10l.94 2.06.94-2.06 2.06-.94-2.06-.94-.94-2.06-.94 2.06-2.06.94z\"/><path d=\"M17.41 7.96l-1.37-1.37c-.4-.4-.92-.59-1.43-.59-.52 0-1.04.2-1.43.59L10.3 9.45l-7.72 7.72c-.78.78-.78 2.05 0 2.83L4 21.41c.39.39.9.59 1.41.59.51 0 1.02-.2 1.41-.59l7.78-7.78 2.81-2.81c.8-.78.8-2.07 0-2.86zM5.41 20L4 18.59l7.72-7.72 1.47 1.35L5.41 20z\"/>\n",
              "  </svg>\n",
              "      </button>\n",
              "      \n",
              "  <style>\n",
              "    .colab-df-container {\n",
              "      display:flex;\n",
              "      flex-wrap:wrap;\n",
              "      gap: 12px;\n",
              "    }\n",
              "\n",
              "    .colab-df-convert {\n",
              "      background-color: #E8F0FE;\n",
              "      border: none;\n",
              "      border-radius: 50%;\n",
              "      cursor: pointer;\n",
              "      display: none;\n",
              "      fill: #1967D2;\n",
              "      height: 32px;\n",
              "      padding: 0 0 0 0;\n",
              "      width: 32px;\n",
              "    }\n",
              "\n",
              "    .colab-df-convert:hover {\n",
              "      background-color: #E2EBFA;\n",
              "      box-shadow: 0px 1px 2px rgba(60, 64, 67, 0.3), 0px 1px 3px 1px rgba(60, 64, 67, 0.15);\n",
              "      fill: #174EA6;\n",
              "    }\n",
              "\n",
              "    [theme=dark] .colab-df-convert {\n",
              "      background-color: #3B4455;\n",
              "      fill: #D2E3FC;\n",
              "    }\n",
              "\n",
              "    [theme=dark] .colab-df-convert:hover {\n",
              "      background-color: #434B5C;\n",
              "      box-shadow: 0px 1px 3px 1px rgba(0, 0, 0, 0.15);\n",
              "      filter: drop-shadow(0px 1px 2px rgba(0, 0, 0, 0.3));\n",
              "      fill: #FFFFFF;\n",
              "    }\n",
              "  </style>\n",
              "\n",
              "      <script>\n",
              "        const buttonEl =\n",
              "          document.querySelector('#df-eaf2323d-1466-49e4-b8df-9ec57b1ce427 button.colab-df-convert');\n",
              "        buttonEl.style.display =\n",
              "          google.colab.kernel.accessAllowed ? 'block' : 'none';\n",
              "\n",
              "        async function convertToInteractive(key) {\n",
              "          const element = document.querySelector('#df-eaf2323d-1466-49e4-b8df-9ec57b1ce427');\n",
              "          const dataTable =\n",
              "            await google.colab.kernel.invokeFunction('convertToInteractive',\n",
              "                                                     [key], {});\n",
              "          if (!dataTable) return;\n",
              "\n",
              "          const docLinkHtml = 'Like what you see? Visit the ' +\n",
              "            '<a target=\"_blank\" href=https://colab.research.google.com/notebooks/data_table.ipynb>data table notebook</a>'\n",
              "            + ' to learn more about interactive tables.';\n",
              "          element.innerHTML = '';\n",
              "          dataTable['output_type'] = 'display_data';\n",
              "          await google.colab.output.renderOutput(dataTable, element);\n",
              "          const docLink = document.createElement('div');\n",
              "          docLink.innerHTML = docLinkHtml;\n",
              "          element.appendChild(docLink);\n",
              "        }\n",
              "      </script>\n",
              "    </div>\n",
              "  </div>\n",
              "  "
            ]
          },
          "metadata": {},
          "execution_count": 83
        }
      ]
    },
    {
      "cell_type": "code",
      "source": [
        "df['dob_years'].describe()"
      ],
      "metadata": {
        "colab": {
          "base_uri": "https://localhost:8080/"
        },
        "id": "NC0dxuAruQW-",
        "outputId": "486f2200-510a-48de-d069-0e7f3690a609"
      },
      "execution_count": 84,
      "outputs": [
        {
          "output_type": "execute_result",
          "data": {
            "text/plain": [
              "count    19351.000000\n",
              "mean        43.255336\n",
              "std         12.579170\n",
              "min          0.000000\n",
              "25%         33.000000\n",
              "50%         42.000000\n",
              "75%         53.000000\n",
              "max         75.000000\n",
              "Name: dob_years, dtype: float64"
            ]
          },
          "metadata": {},
          "execution_count": 84
        }
      ]
    },
    {
      "cell_type": "markdown",
      "metadata": {
        "id": "b1v3nULb2If0"
      },
      "source": [
        "**Observations**\n",
        "<p>It's better to drop the rows with 0 values since its impossible to think clients have no age. This is clearly a human error but there's no way of knowing what's the correct input of these zero ages.</p> "
      ]
    },
    {
      "cell_type": "code",
      "source": [
        "index = df[(df['dob_years'] >= 100)|(df['dob_years'] <= 18)].index\n",
        "df.drop(index, inplace=True)\n",
        "df['dob_years'].describe()"
      ],
      "metadata": {
        "colab": {
          "base_uri": "https://localhost:8080/"
        },
        "id": "HLd78qzeuMJ4",
        "outputId": "b04602ef-43a5-4ea2-b557-36efb79d4431"
      },
      "execution_count": 85,
      "outputs": [
        {
          "output_type": "execute_result",
          "data": {
            "text/plain": [
              "count    19260.000000\n",
              "mean        43.459709\n",
              "std         12.251560\n",
              "min         19.000000\n",
              "25%         33.000000\n",
              "50%         43.000000\n",
              "75%         53.000000\n",
              "max         75.000000\n",
              "Name: dob_years, dtype: float64"
            ]
          },
          "metadata": {},
          "execution_count": 85
        }
      ]
    },
    {
      "cell_type": "code",
      "source": [
        "df.loc[98:100, :]"
      ],
      "metadata": {
        "colab": {
          "base_uri": "https://localhost:8080/",
          "height": 112
        },
        "id": "qbaw_L5ZvOIR",
        "outputId": "8c05a5a4-3dd2-46b2-b7d3-984328de7f76"
      },
      "execution_count": 86,
      "outputs": [
        {
          "output_type": "execute_result",
          "data": {
            "text/plain": [
              "     children  days_employed  dob_years            education  education_id  \\\n",
              "98          0  364906.205736         54    bachelor's degree             0   \n",
              "100         0     605.026441         49  secondary education             1   \n",
              "\n",
              "       family_status  family_status_id gender income_type  debt  total_income  \\\n",
              "98           married                 0      F     retiree     0     31953.168   \n",
              "100  widow / widower                 2      F    employee     1     28221.581   \n",
              "\n",
              "                             purpose  \n",
              "98   buying property for renting out  \n",
              "100         real estate transactions  "
            ],
            "text/html": [
              "\n",
              "  <div id=\"df-cc2fc848-504d-4691-b761-66c4c5710a17\">\n",
              "    <div class=\"colab-df-container\">\n",
              "      <div>\n",
              "<style scoped>\n",
              "    .dataframe tbody tr th:only-of-type {\n",
              "        vertical-align: middle;\n",
              "    }\n",
              "\n",
              "    .dataframe tbody tr th {\n",
              "        vertical-align: top;\n",
              "    }\n",
              "\n",
              "    .dataframe thead th {\n",
              "        text-align: right;\n",
              "    }\n",
              "</style>\n",
              "<table border=\"1\" class=\"dataframe\">\n",
              "  <thead>\n",
              "    <tr style=\"text-align: right;\">\n",
              "      <th></th>\n",
              "      <th>children</th>\n",
              "      <th>days_employed</th>\n",
              "      <th>dob_years</th>\n",
              "      <th>education</th>\n",
              "      <th>education_id</th>\n",
              "      <th>family_status</th>\n",
              "      <th>family_status_id</th>\n",
              "      <th>gender</th>\n",
              "      <th>income_type</th>\n",
              "      <th>debt</th>\n",
              "      <th>total_income</th>\n",
              "      <th>purpose</th>\n",
              "    </tr>\n",
              "  </thead>\n",
              "  <tbody>\n",
              "    <tr>\n",
              "      <th>98</th>\n",
              "      <td>0</td>\n",
              "      <td>364906.205736</td>\n",
              "      <td>54</td>\n",
              "      <td>bachelor's degree</td>\n",
              "      <td>0</td>\n",
              "      <td>married</td>\n",
              "      <td>0</td>\n",
              "      <td>F</td>\n",
              "      <td>retiree</td>\n",
              "      <td>0</td>\n",
              "      <td>31953.168</td>\n",
              "      <td>buying property for renting out</td>\n",
              "    </tr>\n",
              "    <tr>\n",
              "      <th>100</th>\n",
              "      <td>0</td>\n",
              "      <td>605.026441</td>\n",
              "      <td>49</td>\n",
              "      <td>secondary education</td>\n",
              "      <td>1</td>\n",
              "      <td>widow / widower</td>\n",
              "      <td>2</td>\n",
              "      <td>F</td>\n",
              "      <td>employee</td>\n",
              "      <td>1</td>\n",
              "      <td>28221.581</td>\n",
              "      <td>real estate transactions</td>\n",
              "    </tr>\n",
              "  </tbody>\n",
              "</table>\n",
              "</div>\n",
              "      <button class=\"colab-df-convert\" onclick=\"convertToInteractive('df-cc2fc848-504d-4691-b761-66c4c5710a17')\"\n",
              "              title=\"Convert this dataframe to an interactive table.\"\n",
              "              style=\"display:none;\">\n",
              "        \n",
              "  <svg xmlns=\"http://www.w3.org/2000/svg\" height=\"24px\"viewBox=\"0 0 24 24\"\n",
              "       width=\"24px\">\n",
              "    <path d=\"M0 0h24v24H0V0z\" fill=\"none\"/>\n",
              "    <path d=\"M18.56 5.44l.94 2.06.94-2.06 2.06-.94-2.06-.94-.94-2.06-.94 2.06-2.06.94zm-11 1L8.5 8.5l.94-2.06 2.06-.94-2.06-.94L8.5 2.5l-.94 2.06-2.06.94zm10 10l.94 2.06.94-2.06 2.06-.94-2.06-.94-.94-2.06-.94 2.06-2.06.94z\"/><path d=\"M17.41 7.96l-1.37-1.37c-.4-.4-.92-.59-1.43-.59-.52 0-1.04.2-1.43.59L10.3 9.45l-7.72 7.72c-.78.78-.78 2.05 0 2.83L4 21.41c.39.39.9.59 1.41.59.51 0 1.02-.2 1.41-.59l7.78-7.78 2.81-2.81c.8-.78.8-2.07 0-2.86zM5.41 20L4 18.59l7.72-7.72 1.47 1.35L5.41 20z\"/>\n",
              "  </svg>\n",
              "      </button>\n",
              "      \n",
              "  <style>\n",
              "    .colab-df-container {\n",
              "      display:flex;\n",
              "      flex-wrap:wrap;\n",
              "      gap: 12px;\n",
              "    }\n",
              "\n",
              "    .colab-df-convert {\n",
              "      background-color: #E8F0FE;\n",
              "      border: none;\n",
              "      border-radius: 50%;\n",
              "      cursor: pointer;\n",
              "      display: none;\n",
              "      fill: #1967D2;\n",
              "      height: 32px;\n",
              "      padding: 0 0 0 0;\n",
              "      width: 32px;\n",
              "    }\n",
              "\n",
              "    .colab-df-convert:hover {\n",
              "      background-color: #E2EBFA;\n",
              "      box-shadow: 0px 1px 2px rgba(60, 64, 67, 0.3), 0px 1px 3px 1px rgba(60, 64, 67, 0.15);\n",
              "      fill: #174EA6;\n",
              "    }\n",
              "\n",
              "    [theme=dark] .colab-df-convert {\n",
              "      background-color: #3B4455;\n",
              "      fill: #D2E3FC;\n",
              "    }\n",
              "\n",
              "    [theme=dark] .colab-df-convert:hover {\n",
              "      background-color: #434B5C;\n",
              "      box-shadow: 0px 1px 3px 1px rgba(0, 0, 0, 0.15);\n",
              "      filter: drop-shadow(0px 1px 2px rgba(0, 0, 0, 0.3));\n",
              "      fill: #FFFFFF;\n",
              "    }\n",
              "  </style>\n",
              "\n",
              "      <script>\n",
              "        const buttonEl =\n",
              "          document.querySelector('#df-cc2fc848-504d-4691-b761-66c4c5710a17 button.colab-df-convert');\n",
              "        buttonEl.style.display =\n",
              "          google.colab.kernel.accessAllowed ? 'block' : 'none';\n",
              "\n",
              "        async function convertToInteractive(key) {\n",
              "          const element = document.querySelector('#df-cc2fc848-504d-4691-b761-66c4c5710a17');\n",
              "          const dataTable =\n",
              "            await google.colab.kernel.invokeFunction('convertToInteractive',\n",
              "                                                     [key], {});\n",
              "          if (!dataTable) return;\n",
              "\n",
              "          const docLinkHtml = 'Like what you see? Visit the ' +\n",
              "            '<a target=\"_blank\" href=https://colab.research.google.com/notebooks/data_table.ipynb>data table notebook</a>'\n",
              "            + ' to learn more about interactive tables.';\n",
              "          element.innerHTML = '';\n",
              "          dataTable['output_type'] = 'display_data';\n",
              "          await google.colab.output.renderOutput(dataTable, element);\n",
              "          const docLink = document.createElement('div');\n",
              "          docLink.innerHTML = docLinkHtml;\n",
              "          element.appendChild(docLink);\n",
              "        }\n",
              "      </script>\n",
              "    </div>\n",
              "  </div>\n",
              "  "
            ]
          },
          "metadata": {},
          "execution_count": 86
        }
      ]
    },
    {
      "cell_type": "code",
      "execution_count": 87,
      "metadata": {
        "id": "Ui_TztBw2If0",
        "colab": {
          "base_uri": "https://localhost:8080/"
        },
        "outputId": "f1216ff4-d105-4298-923c-34dc09460bc5"
      },
      "outputs": [
        {
          "output_type": "stream",
          "name": "stdout",
          "text": [
            "Empty DataFrame\n",
            "Columns: [children, days_employed, dob_years, education, education_id, family_status, family_status_id, gender, income_type, debt, total_income, purpose]\n",
            "Index: []\n"
          ]
        }
      ],
      "source": [
        "print(df[df['dob_years'] == 0])"
      ]
    },
    {
      "cell_type": "markdown",
      "metadata": {
        "id": "3JSUsgY22If0"
      },
      "source": [
        "**Check the `family_status` column**"
      ]
    },
    {
      "cell_type": "code",
      "execution_count": 88,
      "metadata": {
        "id": "WQO2IllZ2If0",
        "colab": {
          "base_uri": "https://localhost:8080/"
        },
        "outputId": "f25ac4e4-3599-420c-f83d-918f212d244b"
      },
      "outputs": [
        {
          "output_type": "execute_result",
          "data": {
            "text/plain": [
              "married              11098\n",
              "civil partnership     3717\n",
              "unmarried             2510\n",
              "divorced              1074\n",
              "widow / widower        861\n",
              "Name: family_status, dtype: int64"
            ]
          },
          "metadata": {},
          "execution_count": 88
        }
      ],
      "source": [
        "df['family_status'].value_counts()"
      ]
    },
    {
      "cell_type": "markdown",
      "metadata": {
        "id": "RmYNfmlK2If1"
      },
      "source": [
        "Observations: No issues. Data seems solid and believable with the categories."
      ]
    },
    {
      "cell_type": "markdown",
      "source": [
        "**Checking the 'gender' column.**"
      ],
      "metadata": {
        "id": "wZEga_LE_xIk"
      }
    },
    {
      "cell_type": "code",
      "execution_count": 102,
      "metadata": {
        "id": "-7eTx2iX2If1",
        "colab": {
          "base_uri": "https://localhost:8080/"
        },
        "outputId": "ad8ea29e-f9c4-47d8-f522-8680157a6181"
      },
      "outputs": [
        {
          "output_type": "execute_result",
          "data": {
            "text/plain": [
              "F    12689\n",
              "M     6571\n",
              "Name: gender, dtype: int64"
            ]
          },
          "metadata": {},
          "execution_count": 102
        }
      ],
      "source": [
        "df['gender'].value_counts()"
      ]
    },
    {
      "cell_type": "markdown",
      "source": [
        "**Observations.**\n",
        "<p> The value XNA is erroneous. Either the loan applicant prefers not to disclose the gender or some human error, it should be corrected. Slicing the dataframe to investigated, it looks like the loan applicant is Female. Thus, I converted the erroneous value to F. "
      ],
      "metadata": {
        "id": "P0gAsjUk_5up"
      }
    },
    {
      "cell_type": "code",
      "execution_count": 112,
      "metadata": {
        "id": "bKtHaogd2If1",
        "colab": {
          "base_uri": "https://localhost:8080/",
          "height": 49
        },
        "outputId": "6009e2e6-470c-4bc5-e4b2-58695d62a508"
      },
      "outputs": [
        {
          "output_type": "execute_result",
          "data": {
            "text/plain": [
              "Empty DataFrame\n",
              "Columns: [children, days_employed, dob_years, education, education_id, family_status, family_status_id, gender, income_type, debt, total_income, purpose]\n",
              "Index: []"
            ],
            "text/html": [
              "\n",
              "  <div id=\"df-7b8ac353-f38d-4c89-be29-000258613c55\">\n",
              "    <div class=\"colab-df-container\">\n",
              "      <div>\n",
              "<style scoped>\n",
              "    .dataframe tbody tr th:only-of-type {\n",
              "        vertical-align: middle;\n",
              "    }\n",
              "\n",
              "    .dataframe tbody tr th {\n",
              "        vertical-align: top;\n",
              "    }\n",
              "\n",
              "    .dataframe thead th {\n",
              "        text-align: right;\n",
              "    }\n",
              "</style>\n",
              "<table border=\"1\" class=\"dataframe\">\n",
              "  <thead>\n",
              "    <tr style=\"text-align: right;\">\n",
              "      <th></th>\n",
              "      <th>children</th>\n",
              "      <th>days_employed</th>\n",
              "      <th>dob_years</th>\n",
              "      <th>education</th>\n",
              "      <th>education_id</th>\n",
              "      <th>family_status</th>\n",
              "      <th>family_status_id</th>\n",
              "      <th>gender</th>\n",
              "      <th>income_type</th>\n",
              "      <th>debt</th>\n",
              "      <th>total_income</th>\n",
              "      <th>purpose</th>\n",
              "    </tr>\n",
              "  </thead>\n",
              "  <tbody>\n",
              "  </tbody>\n",
              "</table>\n",
              "</div>\n",
              "      <button class=\"colab-df-convert\" onclick=\"convertToInteractive('df-7b8ac353-f38d-4c89-be29-000258613c55')\"\n",
              "              title=\"Convert this dataframe to an interactive table.\"\n",
              "              style=\"display:none;\">\n",
              "        \n",
              "  <svg xmlns=\"http://www.w3.org/2000/svg\" height=\"24px\"viewBox=\"0 0 24 24\"\n",
              "       width=\"24px\">\n",
              "    <path d=\"M0 0h24v24H0V0z\" fill=\"none\"/>\n",
              "    <path d=\"M18.56 5.44l.94 2.06.94-2.06 2.06-.94-2.06-.94-.94-2.06-.94 2.06-2.06.94zm-11 1L8.5 8.5l.94-2.06 2.06-.94-2.06-.94L8.5 2.5l-.94 2.06-2.06.94zm10 10l.94 2.06.94-2.06 2.06-.94-2.06-.94-.94-2.06-.94 2.06-2.06.94z\"/><path d=\"M17.41 7.96l-1.37-1.37c-.4-.4-.92-.59-1.43-.59-.52 0-1.04.2-1.43.59L10.3 9.45l-7.72 7.72c-.78.78-.78 2.05 0 2.83L4 21.41c.39.39.9.59 1.41.59.51 0 1.02-.2 1.41-.59l7.78-7.78 2.81-2.81c.8-.78.8-2.07 0-2.86zM5.41 20L4 18.59l7.72-7.72 1.47 1.35L5.41 20z\"/>\n",
              "  </svg>\n",
              "      </button>\n",
              "      \n",
              "  <style>\n",
              "    .colab-df-container {\n",
              "      display:flex;\n",
              "      flex-wrap:wrap;\n",
              "      gap: 12px;\n",
              "    }\n",
              "\n",
              "    .colab-df-convert {\n",
              "      background-color: #E8F0FE;\n",
              "      border: none;\n",
              "      border-radius: 50%;\n",
              "      cursor: pointer;\n",
              "      display: none;\n",
              "      fill: #1967D2;\n",
              "      height: 32px;\n",
              "      padding: 0 0 0 0;\n",
              "      width: 32px;\n",
              "    }\n",
              "\n",
              "    .colab-df-convert:hover {\n",
              "      background-color: #E2EBFA;\n",
              "      box-shadow: 0px 1px 2px rgba(60, 64, 67, 0.3), 0px 1px 3px 1px rgba(60, 64, 67, 0.15);\n",
              "      fill: #174EA6;\n",
              "    }\n",
              "\n",
              "    [theme=dark] .colab-df-convert {\n",
              "      background-color: #3B4455;\n",
              "      fill: #D2E3FC;\n",
              "    }\n",
              "\n",
              "    [theme=dark] .colab-df-convert:hover {\n",
              "      background-color: #434B5C;\n",
              "      box-shadow: 0px 1px 3px 1px rgba(0, 0, 0, 0.15);\n",
              "      filter: drop-shadow(0px 1px 2px rgba(0, 0, 0, 0.3));\n",
              "      fill: #FFFFFF;\n",
              "    }\n",
              "  </style>\n",
              "\n",
              "      <script>\n",
              "        const buttonEl =\n",
              "          document.querySelector('#df-7b8ac353-f38d-4c89-be29-000258613c55 button.colab-df-convert');\n",
              "        buttonEl.style.display =\n",
              "          google.colab.kernel.accessAllowed ? 'block' : 'none';\n",
              "\n",
              "        async function convertToInteractive(key) {\n",
              "          const element = document.querySelector('#df-7b8ac353-f38d-4c89-be29-000258613c55');\n",
              "          const dataTable =\n",
              "            await google.colab.kernel.invokeFunction('convertToInteractive',\n",
              "                                                     [key], {});\n",
              "          if (!dataTable) return;\n",
              "\n",
              "          const docLinkHtml = 'Like what you see? Visit the ' +\n",
              "            '<a target=\"_blank\" href=https://colab.research.google.com/notebooks/data_table.ipynb>data table notebook</a>'\n",
              "            + ' to learn more about interactive tables.';\n",
              "          element.innerHTML = '';\n",
              "          dataTable['output_type'] = 'display_data';\n",
              "          await google.colab.output.renderOutput(dataTable, element);\n",
              "          const docLink = document.createElement('div');\n",
              "          docLink.innerHTML = docLinkHtml;\n",
              "          element.appendChild(docLink);\n",
              "        }\n",
              "      </script>\n",
              "    </div>\n",
              "  </div>\n",
              "  "
            ]
          },
          "metadata": {},
          "execution_count": 112
        }
      ],
      "source": [
        "df[df['gender'] == 'XNA']"
      ]
    },
    {
      "cell_type": "code",
      "source": [
        "df['gender'] = df['gender'].apply(lambda x: 'F' if x == 'XNA' else x)\n",
        "df['gender'].value_counts()"
      ],
      "metadata": {
        "colab": {
          "base_uri": "https://localhost:8080/"
        },
        "id": "sYoHdh2_KuTs",
        "outputId": "222e3a02-0bbf-4fca-c5d0-6fc03210f3a5"
      },
      "execution_count": 106,
      "outputs": [
        {
          "output_type": "execute_result",
          "data": {
            "text/plain": [
              "F    12689\n",
              "M     6571\n",
              "Name: gender, dtype: int64"
            ]
          },
          "metadata": {},
          "execution_count": 106
        }
      ]
    },
    {
      "cell_type": "code",
      "execution_count": 107,
      "metadata": {
        "id": "pxxLoRWt2If1",
        "colab": {
          "base_uri": "https://localhost:8080/",
          "height": 35
        },
        "outputId": "453f3a40-02a8-4ced-82c3-4a585cd8d1db"
      },
      "outputs": [
        {
          "output_type": "execute_result",
          "data": {
            "text/plain": [
              "'F'"
            ],
            "application/vnd.google.colaboratory.intrinsic+json": {
              "type": "string"
            }
          },
          "metadata": {},
          "execution_count": 107
        }
      ],
      "source": [
        "df.loc[10701, 'gender']\n",
        "\n"
      ]
    },
    {
      "cell_type": "markdown",
      "metadata": {
        "id": "x7RcRxkN2If1"
      },
      "source": [
        "**Check the `income_type` column.**"
      ]
    },
    {
      "cell_type": "code",
      "execution_count": 108,
      "metadata": {
        "id": "zN_LPQfu2If1",
        "colab": {
          "base_uri": "https://localhost:8080/"
        },
        "outputId": "66f269e3-8283-460c-8d5f-872e883d00bb"
      },
      "outputs": [
        {
          "output_type": "execute_result",
          "data": {
            "text/plain": [
              "employee                       9964\n",
              "business                       4559\n",
              "retiree                        3426\n",
              "civil servant                  1306\n",
              "unemployed                        2\n",
              "student                           1\n",
              "entrepreneur                      1\n",
              "paternity / maternity leave       1\n",
              "Name: income_type, dtype: int64"
            ]
          },
          "metadata": {},
          "execution_count": 108
        }
      ],
      "source": [
        "# Let's see the values in the column\n",
        "df['income_type'].value_counts()"
      ]
    },
    {
      "cell_type": "code",
      "execution_count": 109,
      "metadata": {
        "id": "rbFIP25I2If1",
        "colab": {
          "base_uri": "https://localhost:8080/"
        },
        "outputId": "54281277-ff69-41c0-88cd-94ee75556eea"
      },
      "outputs": [
        {
          "output_type": "execute_result",
          "data": {
            "text/plain": [
              "0.0"
            ]
          },
          "metadata": {},
          "execution_count": 109
        }
      ],
      "source": [
        "# Address the problematic values, if they exist\n",
        "df['income_type'].isnull().sum() / len(df['income_type']) * 100"
      ]
    },
    {
      "cell_type": "code",
      "source": [
        "df[df['income_type'] == 'paternity / maternity leave']"
      ],
      "metadata": {
        "colab": {
          "base_uri": "https://localhost:8080/",
          "height": 81
        },
        "id": "LV-Cjzg0gmDo",
        "outputId": "9b878516-bf8f-4b73-ba5b-5bf51d995645"
      },
      "execution_count": 110,
      "outputs": [
        {
          "output_type": "execute_result",
          "data": {
            "text/plain": [
              "       children  days_employed  dob_years            education  education_id  \\\n",
              "20845         2    3296.759962         39  secondary education             1   \n",
              "\n",
              "      family_status  family_status_id gender                  income_type  \\\n",
              "20845       married                 0      F  paternity / maternity leave   \n",
              "\n",
              "       debt  total_income purpose  \n",
              "20845     1      8612.661     car  "
            ],
            "text/html": [
              "\n",
              "  <div id=\"df-77eaee4b-082e-4f30-b6ef-b26b9c2c2d91\">\n",
              "    <div class=\"colab-df-container\">\n",
              "      <div>\n",
              "<style scoped>\n",
              "    .dataframe tbody tr th:only-of-type {\n",
              "        vertical-align: middle;\n",
              "    }\n",
              "\n",
              "    .dataframe tbody tr th {\n",
              "        vertical-align: top;\n",
              "    }\n",
              "\n",
              "    .dataframe thead th {\n",
              "        text-align: right;\n",
              "    }\n",
              "</style>\n",
              "<table border=\"1\" class=\"dataframe\">\n",
              "  <thead>\n",
              "    <tr style=\"text-align: right;\">\n",
              "      <th></th>\n",
              "      <th>children</th>\n",
              "      <th>days_employed</th>\n",
              "      <th>dob_years</th>\n",
              "      <th>education</th>\n",
              "      <th>education_id</th>\n",
              "      <th>family_status</th>\n",
              "      <th>family_status_id</th>\n",
              "      <th>gender</th>\n",
              "      <th>income_type</th>\n",
              "      <th>debt</th>\n",
              "      <th>total_income</th>\n",
              "      <th>purpose</th>\n",
              "    </tr>\n",
              "  </thead>\n",
              "  <tbody>\n",
              "    <tr>\n",
              "      <th>20845</th>\n",
              "      <td>2</td>\n",
              "      <td>3296.759962</td>\n",
              "      <td>39</td>\n",
              "      <td>secondary education</td>\n",
              "      <td>1</td>\n",
              "      <td>married</td>\n",
              "      <td>0</td>\n",
              "      <td>F</td>\n",
              "      <td>paternity / maternity leave</td>\n",
              "      <td>1</td>\n",
              "      <td>8612.661</td>\n",
              "      <td>car</td>\n",
              "    </tr>\n",
              "  </tbody>\n",
              "</table>\n",
              "</div>\n",
              "      <button class=\"colab-df-convert\" onclick=\"convertToInteractive('df-77eaee4b-082e-4f30-b6ef-b26b9c2c2d91')\"\n",
              "              title=\"Convert this dataframe to an interactive table.\"\n",
              "              style=\"display:none;\">\n",
              "        \n",
              "  <svg xmlns=\"http://www.w3.org/2000/svg\" height=\"24px\"viewBox=\"0 0 24 24\"\n",
              "       width=\"24px\">\n",
              "    <path d=\"M0 0h24v24H0V0z\" fill=\"none\"/>\n",
              "    <path d=\"M18.56 5.44l.94 2.06.94-2.06 2.06-.94-2.06-.94-.94-2.06-.94 2.06-2.06.94zm-11 1L8.5 8.5l.94-2.06 2.06-.94-2.06-.94L8.5 2.5l-.94 2.06-2.06.94zm10 10l.94 2.06.94-2.06 2.06-.94-2.06-.94-.94-2.06-.94 2.06-2.06.94z\"/><path d=\"M17.41 7.96l-1.37-1.37c-.4-.4-.92-.59-1.43-.59-.52 0-1.04.2-1.43.59L10.3 9.45l-7.72 7.72c-.78.78-.78 2.05 0 2.83L4 21.41c.39.39.9.59 1.41.59.51 0 1.02-.2 1.41-.59l7.78-7.78 2.81-2.81c.8-.78.8-2.07 0-2.86zM5.41 20L4 18.59l7.72-7.72 1.47 1.35L5.41 20z\"/>\n",
              "  </svg>\n",
              "      </button>\n",
              "      \n",
              "  <style>\n",
              "    .colab-df-container {\n",
              "      display:flex;\n",
              "      flex-wrap:wrap;\n",
              "      gap: 12px;\n",
              "    }\n",
              "\n",
              "    .colab-df-convert {\n",
              "      background-color: #E8F0FE;\n",
              "      border: none;\n",
              "      border-radius: 50%;\n",
              "      cursor: pointer;\n",
              "      display: none;\n",
              "      fill: #1967D2;\n",
              "      height: 32px;\n",
              "      padding: 0 0 0 0;\n",
              "      width: 32px;\n",
              "    }\n",
              "\n",
              "    .colab-df-convert:hover {\n",
              "      background-color: #E2EBFA;\n",
              "      box-shadow: 0px 1px 2px rgba(60, 64, 67, 0.3), 0px 1px 3px 1px rgba(60, 64, 67, 0.15);\n",
              "      fill: #174EA6;\n",
              "    }\n",
              "\n",
              "    [theme=dark] .colab-df-convert {\n",
              "      background-color: #3B4455;\n",
              "      fill: #D2E3FC;\n",
              "    }\n",
              "\n",
              "    [theme=dark] .colab-df-convert:hover {\n",
              "      background-color: #434B5C;\n",
              "      box-shadow: 0px 1px 3px 1px rgba(0, 0, 0, 0.15);\n",
              "      filter: drop-shadow(0px 1px 2px rgba(0, 0, 0, 0.3));\n",
              "      fill: #FFFFFF;\n",
              "    }\n",
              "  </style>\n",
              "\n",
              "      <script>\n",
              "        const buttonEl =\n",
              "          document.querySelector('#df-77eaee4b-082e-4f30-b6ef-b26b9c2c2d91 button.colab-df-convert');\n",
              "        buttonEl.style.display =\n",
              "          google.colab.kernel.accessAllowed ? 'block' : 'none';\n",
              "\n",
              "        async function convertToInteractive(key) {\n",
              "          const element = document.querySelector('#df-77eaee4b-082e-4f30-b6ef-b26b9c2c2d91');\n",
              "          const dataTable =\n",
              "            await google.colab.kernel.invokeFunction('convertToInteractive',\n",
              "                                                     [key], {});\n",
              "          if (!dataTable) return;\n",
              "\n",
              "          const docLinkHtml = 'Like what you see? Visit the ' +\n",
              "            '<a target=\"_blank\" href=https://colab.research.google.com/notebooks/data_table.ipynb>data table notebook</a>'\n",
              "            + ' to learn more about interactive tables.';\n",
              "          element.innerHTML = '';\n",
              "          dataTable['output_type'] = 'display_data';\n",
              "          await google.colab.output.renderOutput(dataTable, element);\n",
              "          const docLink = document.createElement('div');\n",
              "          docLink.innerHTML = docLinkHtml;\n",
              "          element.appendChild(docLink);\n",
              "        }\n",
              "      </script>\n",
              "    </div>\n",
              "  </div>\n",
              "  "
            ]
          },
          "metadata": {},
          "execution_count": 110
        }
      ]
    },
    {
      "cell_type": "code",
      "source": [
        "df['income_type'] = df['income_type'].apply(lambda x: 'employee' if x == 'paternity / maternity leave' else x)"
      ],
      "metadata": {
        "id": "6cg-vwk6o4Cy"
      },
      "execution_count": 111,
      "outputs": []
    },
    {
      "cell_type": "code",
      "execution_count": 119,
      "metadata": {
        "id": "vGitICMU2If2",
        "colab": {
          "base_uri": "https://localhost:8080/"
        },
        "outputId": "f921ba5e-871a-4ed0-d456-b711f794dd0d"
      },
      "outputs": [
        {
          "output_type": "stream",
          "name": "stdout",
          "text": [
            "Empty DataFrame\n",
            "Columns: [children, days_employed, dob_years, education, education_id, family_status, family_status_id, gender, income_type, debt, total_income, purpose]\n",
            "Index: []\n"
          ]
        }
      ],
      "source": [
        "print(df[df['income_type'] == 'paternity / maternity leave'])"
      ]
    },
    {
      "cell_type": "markdown",
      "source": [
        "**Checking Duplicates**"
      ],
      "metadata": {
        "id": "TWrK3MqqBX3_"
      }
    },
    {
      "cell_type": "code",
      "source": [
        "def check_duplicate(df):\n",
        "    if df.duplicated().all():\n",
        "        return  'There are Duplicate Data.' \n",
        "    else :\n",
        "        return 'Data is clean. No Duplicate Data Found.'"
      ],
      "metadata": {
        "id": "ECKpC8lGG2gz"
      },
      "execution_count": 120,
      "outputs": []
    },
    {
      "cell_type": "code",
      "source": [
        "check_duplicate(df)"
      ],
      "metadata": {
        "colab": {
          "base_uri": "https://localhost:8080/",
          "height": 35
        },
        "id": "OJM353Q3G7US",
        "outputId": "599bbf8e-c4a6-4b01-83a0-ccb8211af955"
      },
      "execution_count": 121,
      "outputs": [
        {
          "output_type": "execute_result",
          "data": {
            "text/plain": [
              "'Data is clean. No Duplicate Data Found.'"
            ],
            "application/vnd.google.colaboratory.intrinsic+json": {
              "type": "string"
            }
          },
          "metadata": {},
          "execution_count": 121
        }
      ]
    },
    {
      "cell_type": "code",
      "source": [
        "df.duplicated().sum()"
      ],
      "metadata": {
        "colab": {
          "base_uri": "https://localhost:8080/"
        },
        "id": "eo-UtDlNHIgC",
        "outputId": "a40dc098-0ba6-4859-fa57-48cbbe4e6ca3"
      },
      "execution_count": 122,
      "outputs": [
        {
          "output_type": "execute_result",
          "data": {
            "text/plain": [
              "0"
            ]
          },
          "metadata": {},
          "execution_count": 122
        }
      ]
    },
    {
      "cell_type": "code",
      "execution_count": 123,
      "metadata": {
        "id": "GcpttTcN2If2",
        "colab": {
          "base_uri": "https://localhost:8080/"
        },
        "outputId": "4c91b247-1e38-4c5f-83de-f3a5c894b820"
      },
      "outputs": [
        {
          "output_type": "execute_result",
          "data": {
            "text/plain": [
              "(19260, 12)"
            ]
          },
          "metadata": {},
          "execution_count": 123
        }
      ],
      "source": [
        "df.shape\n"
      ]
    },
    {
      "cell_type": "code",
      "execution_count": 124,
      "metadata": {
        "id": "LwStlmBb2If2",
        "colab": {
          "base_uri": "https://localhost:8080/"
        },
        "outputId": "9bf2c177-9add-4d13-86bc-c2b577280bc1"
      },
      "outputs": [
        {
          "output_type": "stream",
          "name": "stdout",
          "text": [
            "<class 'pandas.core.frame.DataFrame'>\n",
            "Int64Index: 19260 entries, 0 to 21524\n",
            "Data columns (total 12 columns):\n",
            " #   Column            Non-Null Count  Dtype  \n",
            "---  ------            --------------  -----  \n",
            " 0   children          19260 non-null  int64  \n",
            " 1   days_employed     19260 non-null  float64\n",
            " 2   dob_years         19260 non-null  int64  \n",
            " 3   education         19260 non-null  object \n",
            " 4   education_id      19260 non-null  int64  \n",
            " 5   family_status     19260 non-null  object \n",
            " 6   family_status_id  19260 non-null  int64  \n",
            " 7   gender            19260 non-null  object \n",
            " 8   income_type       19260 non-null  object \n",
            " 9   debt              19260 non-null  int64  \n",
            " 10  total_income      19260 non-null  float64\n",
            " 11  purpose           19260 non-null  object \n",
            "dtypes: float64(2), int64(5), object(5)\n",
            "memory usage: 2.4+ MB\n"
          ]
        }
      ],
      "source": [
        "df.info()"
      ]
    },
    {
      "cell_type": "markdown",
      "metadata": {
        "id": "1rYbvYrx2If2"
      },
      "source": [
        "**Observations**\n",
        "<p> The original dataframe has inconsistent values with 21525 entries and 23 columns. The columns days_employed and total_income have the same number of missing values. After correcting for missing values, duplicates, dropping and replacing erroneous errors, the filtered dataframe have now 19260 entries that is consistent all throughout the columns. "
      ]
    },
    {
      "cell_type": "markdown",
      "metadata": {
        "id": "GXpL-UFU2If2"
      },
      "source": [
        "# Working with missing values"
      ]
    },
    {
      "cell_type": "markdown",
      "metadata": {
        "id": "hikvdeNs2If3"
      },
      "source": [
        "### Restoring missing values in `total_income`"
      ]
    },
    {
      "cell_type": "code",
      "source": [
        "df['total_income'].isna().sum()"
      ],
      "metadata": {
        "colab": {
          "base_uri": "https://localhost:8080/"
        },
        "id": "hYPkVr4Z2eLJ",
        "outputId": "8d0df580-e891-478c-cced-40fea6d162ce"
      },
      "execution_count": 197,
      "outputs": [
        {
          "output_type": "execute_result",
          "data": {
            "text/plain": [
              "0"
            ]
          },
          "metadata": {},
          "execution_count": 197
        }
      ]
    },
    {
      "cell_type": "markdown",
      "source": [
        "**Categorizing Age Group**"
      ],
      "metadata": {
        "id": "XE9LgotwC63Z"
      }
    },
    {
      "cell_type": "code",
      "execution_count": 131,
      "metadata": {
        "id": "O2CPtwOw2If3"
      },
      "outputs": [],
      "source": [
        "def age_group(dob_years):\n",
        "    if dob_years <= 18:\n",
        "        return 'Child'\n",
        "    if dob_years <= 64:\n",
        "        return 'Adult'\n",
        "    return 'Retired'    "
      ]
    },
    {
      "cell_type": "code",
      "execution_count": 132,
      "metadata": {
        "id": "n_BqJQeQ2If3",
        "colab": {
          "base_uri": "https://localhost:8080/"
        },
        "outputId": "30d6082f-98e5-4680-ebdf-3a088a7df11f"
      },
      "outputs": [
        {
          "output_type": "stream",
          "name": "stdout",
          "text": [
            "Adult\n"
          ]
        }
      ],
      "source": [
        "print(age_group(20)) "
      ]
    },
    {
      "cell_type": "code",
      "source": [
        "df['age_group'] = df['dob_years'].apply(age_group)\n",
        "print(df.head(10)) "
      ],
      "metadata": {
        "colab": {
          "base_uri": "https://localhost:8080/"
        },
        "id": "h3oOtEqY1BCX",
        "outputId": "c4ed9fee-eef1-40d7-f404-a9cea1d0bcd1"
      },
      "execution_count": 137,
      "outputs": [
        {
          "output_type": "stream",
          "name": "stdout",
          "text": [
            "   children  days_employed  dob_years            education  education_id  \\\n",
            "0         1    8437.673028         42    bachelor's degree             0   \n",
            "1         1    4024.803754         36  secondary education             1   \n",
            "2         0    5623.422610         33  secondary education             1   \n",
            "3         3    4124.747207         32  secondary education             1   \n",
            "4         0  340266.072047         53  secondary education             1   \n",
            "5         0     926.185831         27    bachelor's degree             0   \n",
            "6         0    2879.202052         43    bachelor's degree             0   \n",
            "7         0     152.779569         50  secondary education             1   \n",
            "8         2    6929.865299         35    bachelor's degree             0   \n",
            "9         0    2188.756445         41  secondary education             1   \n",
            "\n",
            "       family_status  family_status_id gender income_type  debt  total_income  \\\n",
            "0            married                 0      F    employee     0     40620.102   \n",
            "1            married                 0      F    employee     0     17932.802   \n",
            "2            married                 0      M    employee     0     23341.752   \n",
            "3            married                 0      M    employee     0     42820.568   \n",
            "4  civil partnership                 1      F     retiree     0     25378.572   \n",
            "5  civil partnership                 1      M    business     0     40922.170   \n",
            "6            married                 0      F    business     0     38484.156   \n",
            "7            married                 0      M    employee     0     21731.829   \n",
            "8  civil partnership                 1      F    employee     0     15337.093   \n",
            "9            married                 0      M    employee     0     23108.150   \n",
            "\n",
            "                               purpose age_group  \n",
            "0                purchase of the house     Adult  \n",
            "1                         car purchase     Adult  \n",
            "2                purchase of the house     Adult  \n",
            "3              supplementary education     Adult  \n",
            "4                    to have a wedding     Adult  \n",
            "5                purchase of the house     Adult  \n",
            "6                 housing transactions     Adult  \n",
            "7                            education     Adult  \n",
            "8                     having a wedding     Adult  \n",
            "9  purchase of the house for my family     Adult  \n"
          ]
        }
      ]
    },
    {
      "cell_type": "code",
      "source": [
        "grouped = pd.pivot_table(data=df, index='age_group', values='dob_years', aggfunc='count')\n",
        "print(grouped)"
      ],
      "metadata": {
        "colab": {
          "base_uri": "https://localhost:8080/"
        },
        "id": "d79vbWHmPvTN",
        "outputId": "57479f79-be41-4fa3-eae7-efb287c0caa0"
      },
      "execution_count": 141,
      "outputs": [
        {
          "output_type": "stream",
          "name": "stdout",
          "text": [
            "           dob_years\n",
            "age_group           \n",
            "Adult          18442\n",
            "Retired          818\n"
          ]
        }
      ]
    },
    {
      "cell_type": "code",
      "source": [
        "grouped1 = pd.pivot_table(data=df, index='age_group', values='total_income', aggfunc='median')\n",
        "print(grouped1)"
      ],
      "metadata": {
        "colab": {
          "base_uri": "https://localhost:8080/"
        },
        "id": "_VDpJyOsEYLP",
        "outputId": "7c3ab924-78d3-433e-ee57-357a9bd62be7"
      },
      "execution_count": 142,
      "outputs": [
        {
          "output_type": "stream",
          "name": "stdout",
          "text": [
            "           total_income\n",
            "age_group              \n",
            "Adult         23382.688\n",
            "Retired       18471.391\n"
          ]
        }
      ]
    },
    {
      "cell_type": "markdown",
      "metadata": {
        "id": "99VvSDJj2If3"
      },
      "source": [
        "**Observations:**\n",
        "<p> There are more than 95% loan applicants who are adults than retired. Adults are more able to pay back their loan rather than retired. However, looking at the total income of the age group, the retired loan applicants are close to adult loan applicants which means the retired loan applicants are capable of paying back their loan. "
      ]
    },
    {
      "cell_type": "code",
      "execution_count": 143,
      "metadata": {
        "id": "xogU677B2If4",
        "colab": {
          "base_uri": "https://localhost:8080/"
        },
        "outputId": "1805392e-b867-4f48-835d-25313707a45a"
      },
      "outputs": [
        {
          "output_type": "execute_result",
          "data": {
            "text/plain": [
              "0    40620.102\n",
              "1    17932.802\n",
              "2    23341.752\n",
              "3    42820.568\n",
              "4    25378.572\n",
              "5    40922.170\n",
              "6    38484.156\n",
              "7    21731.829\n",
              "8    15337.093\n",
              "9    23108.150\n",
              "Name: total_income, dtype: float64"
            ]
          },
          "metadata": {},
          "execution_count": 143
        }
      ],
      "source": [
        "df['total_income'].head(10)"
      ]
    },
    {
      "cell_type": "code",
      "execution_count": 144,
      "metadata": {
        "id": "8EKAq-3g2If4",
        "colab": {
          "base_uri": "https://localhost:8080/"
        },
        "outputId": "4aeceef0-c01c-417b-832f-aee5b3058984"
      },
      "outputs": [
        {
          "output_type": "execute_result",
          "data": {
            "text/plain": [
              "count     19260.000000\n",
              "mean      26794.435857\n",
              "std       16493.972601\n",
              "min        3306.762000\n",
              "25%       16494.872500\n",
              "50%       23201.873500\n",
              "75%       32539.207750\n",
              "max      362496.645000\n",
              "Name: total_income, dtype: float64"
            ]
          },
          "metadata": {},
          "execution_count": 144
        }
      ],
      "source": [
        "df['total_income'].describe()\n"
      ]
    },
    {
      "cell_type": "code",
      "source": [
        "df1 = df[categorical]\n",
        "df1.head()"
      ],
      "metadata": {
        "colab": {
          "base_uri": "https://localhost:8080/",
          "height": 206
        },
        "id": "Ljib8ADmNYlc",
        "outputId": "20419442-d51b-45c1-f1d7-6dc6024d548d"
      },
      "execution_count": 145,
      "outputs": [
        {
          "output_type": "execute_result",
          "data": {
            "text/plain": [
              "             education      family_status gender income_type  \\\n",
              "0    bachelor's degree            married      F    employee   \n",
              "1  secondary education            married      F    employee   \n",
              "2  secondary education            married      M    employee   \n",
              "3  secondary education            married      M    employee   \n",
              "4  secondary education  civil partnership      F     retiree   \n",
              "\n",
              "                   purpose  \n",
              "0    purchase of the house  \n",
              "1             car purchase  \n",
              "2    purchase of the house  \n",
              "3  supplementary education  \n",
              "4        to have a wedding  "
            ],
            "text/html": [
              "\n",
              "  <div id=\"df-7be91a6f-3acb-49d8-9b01-863bfa0c9c64\">\n",
              "    <div class=\"colab-df-container\">\n",
              "      <div>\n",
              "<style scoped>\n",
              "    .dataframe tbody tr th:only-of-type {\n",
              "        vertical-align: middle;\n",
              "    }\n",
              "\n",
              "    .dataframe tbody tr th {\n",
              "        vertical-align: top;\n",
              "    }\n",
              "\n",
              "    .dataframe thead th {\n",
              "        text-align: right;\n",
              "    }\n",
              "</style>\n",
              "<table border=\"1\" class=\"dataframe\">\n",
              "  <thead>\n",
              "    <tr style=\"text-align: right;\">\n",
              "      <th></th>\n",
              "      <th>education</th>\n",
              "      <th>family_status</th>\n",
              "      <th>gender</th>\n",
              "      <th>income_type</th>\n",
              "      <th>purpose</th>\n",
              "    </tr>\n",
              "  </thead>\n",
              "  <tbody>\n",
              "    <tr>\n",
              "      <th>0</th>\n",
              "      <td>bachelor's degree</td>\n",
              "      <td>married</td>\n",
              "      <td>F</td>\n",
              "      <td>employee</td>\n",
              "      <td>purchase of the house</td>\n",
              "    </tr>\n",
              "    <tr>\n",
              "      <th>1</th>\n",
              "      <td>secondary education</td>\n",
              "      <td>married</td>\n",
              "      <td>F</td>\n",
              "      <td>employee</td>\n",
              "      <td>car purchase</td>\n",
              "    </tr>\n",
              "    <tr>\n",
              "      <th>2</th>\n",
              "      <td>secondary education</td>\n",
              "      <td>married</td>\n",
              "      <td>M</td>\n",
              "      <td>employee</td>\n",
              "      <td>purchase of the house</td>\n",
              "    </tr>\n",
              "    <tr>\n",
              "      <th>3</th>\n",
              "      <td>secondary education</td>\n",
              "      <td>married</td>\n",
              "      <td>M</td>\n",
              "      <td>employee</td>\n",
              "      <td>supplementary education</td>\n",
              "    </tr>\n",
              "    <tr>\n",
              "      <th>4</th>\n",
              "      <td>secondary education</td>\n",
              "      <td>civil partnership</td>\n",
              "      <td>F</td>\n",
              "      <td>retiree</td>\n",
              "      <td>to have a wedding</td>\n",
              "    </tr>\n",
              "  </tbody>\n",
              "</table>\n",
              "</div>\n",
              "      <button class=\"colab-df-convert\" onclick=\"convertToInteractive('df-7be91a6f-3acb-49d8-9b01-863bfa0c9c64')\"\n",
              "              title=\"Convert this dataframe to an interactive table.\"\n",
              "              style=\"display:none;\">\n",
              "        \n",
              "  <svg xmlns=\"http://www.w3.org/2000/svg\" height=\"24px\"viewBox=\"0 0 24 24\"\n",
              "       width=\"24px\">\n",
              "    <path d=\"M0 0h24v24H0V0z\" fill=\"none\"/>\n",
              "    <path d=\"M18.56 5.44l.94 2.06.94-2.06 2.06-.94-2.06-.94-.94-2.06-.94 2.06-2.06.94zm-11 1L8.5 8.5l.94-2.06 2.06-.94-2.06-.94L8.5 2.5l-.94 2.06-2.06.94zm10 10l.94 2.06.94-2.06 2.06-.94-2.06-.94-.94-2.06-.94 2.06-2.06.94z\"/><path d=\"M17.41 7.96l-1.37-1.37c-.4-.4-.92-.59-1.43-.59-.52 0-1.04.2-1.43.59L10.3 9.45l-7.72 7.72c-.78.78-.78 2.05 0 2.83L4 21.41c.39.39.9.59 1.41.59.51 0 1.02-.2 1.41-.59l7.78-7.78 2.81-2.81c.8-.78.8-2.07 0-2.86zM5.41 20L4 18.59l7.72-7.72 1.47 1.35L5.41 20z\"/>\n",
              "  </svg>\n",
              "      </button>\n",
              "      \n",
              "  <style>\n",
              "    .colab-df-container {\n",
              "      display:flex;\n",
              "      flex-wrap:wrap;\n",
              "      gap: 12px;\n",
              "    }\n",
              "\n",
              "    .colab-df-convert {\n",
              "      background-color: #E8F0FE;\n",
              "      border: none;\n",
              "      border-radius: 50%;\n",
              "      cursor: pointer;\n",
              "      display: none;\n",
              "      fill: #1967D2;\n",
              "      height: 32px;\n",
              "      padding: 0 0 0 0;\n",
              "      width: 32px;\n",
              "    }\n",
              "\n",
              "    .colab-df-convert:hover {\n",
              "      background-color: #E2EBFA;\n",
              "      box-shadow: 0px 1px 2px rgba(60, 64, 67, 0.3), 0px 1px 3px 1px rgba(60, 64, 67, 0.15);\n",
              "      fill: #174EA6;\n",
              "    }\n",
              "\n",
              "    [theme=dark] .colab-df-convert {\n",
              "      background-color: #3B4455;\n",
              "      fill: #D2E3FC;\n",
              "    }\n",
              "\n",
              "    [theme=dark] .colab-df-convert:hover {\n",
              "      background-color: #434B5C;\n",
              "      box-shadow: 0px 1px 3px 1px rgba(0, 0, 0, 0.15);\n",
              "      filter: drop-shadow(0px 1px 2px rgba(0, 0, 0, 0.3));\n",
              "      fill: #FFFFFF;\n",
              "    }\n",
              "  </style>\n",
              "\n",
              "      <script>\n",
              "        const buttonEl =\n",
              "          document.querySelector('#df-7be91a6f-3acb-49d8-9b01-863bfa0c9c64 button.colab-df-convert');\n",
              "        buttonEl.style.display =\n",
              "          google.colab.kernel.accessAllowed ? 'block' : 'none';\n",
              "\n",
              "        async function convertToInteractive(key) {\n",
              "          const element = document.querySelector('#df-7be91a6f-3acb-49d8-9b01-863bfa0c9c64');\n",
              "          const dataTable =\n",
              "            await google.colab.kernel.invokeFunction('convertToInteractive',\n",
              "                                                     [key], {});\n",
              "          if (!dataTable) return;\n",
              "\n",
              "          const docLinkHtml = 'Like what you see? Visit the ' +\n",
              "            '<a target=\"_blank\" href=https://colab.research.google.com/notebooks/data_table.ipynb>data table notebook</a>'\n",
              "            + ' to learn more about interactive tables.';\n",
              "          element.innerHTML = '';\n",
              "          dataTable['output_type'] = 'display_data';\n",
              "          await google.colab.output.renderOutput(dataTable, element);\n",
              "          const docLink = document.createElement('div');\n",
              "          docLink.innerHTML = docLinkHtml;\n",
              "          element.appendChild(docLink);\n",
              "        }\n",
              "      </script>\n",
              "    </div>\n",
              "  </div>\n",
              "  "
            ]
          },
          "metadata": {},
          "execution_count": 145
        }
      ]
    },
    {
      "cell_type": "markdown",
      "source": [
        "**Grouping Categorical Columns with Total_Income**\n",
        "<p> To find out if there is a correlation of some of the categorical columns to total_income, I used groupby and get their mean and median values.</p>"
      ],
      "metadata": {
        "id": "v9qNZiRMJSVI"
      }
    },
    {
      "cell_type": "code",
      "source": [
        "df_groupby = df.groupby(['gender','education','family_status'])['total_income'].aggregate('mean').unstack()\n",
        "print(df_groupby)"
      ],
      "metadata": {
        "colab": {
          "base_uri": "https://localhost:8080/"
        },
        "id": "rSc_2hfTNl20",
        "outputId": "63d43b75-7be3-42ff-c62c-24cefbac9959"
      },
      "execution_count": 146,
      "outputs": [
        {
          "output_type": "stream",
          "name": "stdout",
          "text": [
            "family_status               civil partnership      divorced       married  \\\n",
            "gender education                                                            \n",
            "F      bachelor's degree         30457.299251  30990.335287  30072.373307   \n",
            "       graduate degree                    NaN           NaN  29345.394000   \n",
            "       primary education         19979.276857  19804.439800  19148.954475   \n",
            "       secondary education       23032.993352  24017.901757  22269.478019   \n",
            "       some college              25663.093436  37463.759778  26808.754188   \n",
            "M      bachelor's degree         39399.934916  40913.058293  40388.886142   \n",
            "       graduate degree                    NaN  18551.846000  29373.096500   \n",
            "       primary education         20135.487067  18320.423600  25400.655229   \n",
            "       secondary education       28346.883412  27930.500168  28744.833042   \n",
            "       some college              32752.735694  28843.260000  35104.973386   \n",
            "\n",
            "family_status                  unmarried  widow / widower  \n",
            "gender education                                           \n",
            "F      bachelor's degree    31299.115156     28490.961777  \n",
            "       graduate degree               NaN              NaN  \n",
            "       primary education    16978.843154     18515.937833  \n",
            "       secondary education  23592.016044     22247.717597  \n",
            "       some college         24830.885659     24420.224846  \n",
            "M      bachelor's degree    33541.957563     23360.727455  \n",
            "       graduate degree      31771.321000              NaN  \n",
            "       primary education    24102.138158     14914.590750  \n",
            "       secondary education  26463.518990     23183.251200  \n",
            "       some college         31251.306659              NaN  \n"
          ]
        }
      ]
    },
    {
      "cell_type": "code",
      "source": [
        "df_groupby.sort_values(by=['gender'], ascending=False)"
      ],
      "metadata": {
        "colab": {
          "base_uri": "https://localhost:8080/",
          "height": 394
        },
        "id": "t6mKlLe_TOge",
        "outputId": "545de2e4-b69e-4696-a0a1-5e2cbf292104"
      },
      "execution_count": 147,
      "outputs": [
        {
          "output_type": "execute_result",
          "data": {
            "text/plain": [
              "family_status               civil partnership      divorced       married  \\\n",
              "gender education                                                            \n",
              "M      bachelor's degree         39399.934916  40913.058293  40388.886142   \n",
              "       graduate degree                    NaN  18551.846000  29373.096500   \n",
              "       primary education         20135.487067  18320.423600  25400.655229   \n",
              "       secondary education       28346.883412  27930.500168  28744.833042   \n",
              "       some college              32752.735694  28843.260000  35104.973386   \n",
              "F      bachelor's degree         30457.299251  30990.335287  30072.373307   \n",
              "       graduate degree                    NaN           NaN  29345.394000   \n",
              "       primary education         19979.276857  19804.439800  19148.954475   \n",
              "       secondary education       23032.993352  24017.901757  22269.478019   \n",
              "       some college              25663.093436  37463.759778  26808.754188   \n",
              "\n",
              "family_status                  unmarried  widow / widower  \n",
              "gender education                                           \n",
              "M      bachelor's degree    33541.957563     23360.727455  \n",
              "       graduate degree      31771.321000              NaN  \n",
              "       primary education    24102.138158     14914.590750  \n",
              "       secondary education  26463.518990     23183.251200  \n",
              "       some college         31251.306659              NaN  \n",
              "F      bachelor's degree    31299.115156     28490.961777  \n",
              "       graduate degree               NaN              NaN  \n",
              "       primary education    16978.843154     18515.937833  \n",
              "       secondary education  23592.016044     22247.717597  \n",
              "       some college         24830.885659     24420.224846  "
            ],
            "text/html": [
              "\n",
              "  <div id=\"df-f5f9b110-23c0-4898-beae-dc26ec0d4194\">\n",
              "    <div class=\"colab-df-container\">\n",
              "      <div>\n",
              "<style scoped>\n",
              "    .dataframe tbody tr th:only-of-type {\n",
              "        vertical-align: middle;\n",
              "    }\n",
              "\n",
              "    .dataframe tbody tr th {\n",
              "        vertical-align: top;\n",
              "    }\n",
              "\n",
              "    .dataframe thead th {\n",
              "        text-align: right;\n",
              "    }\n",
              "</style>\n",
              "<table border=\"1\" class=\"dataframe\">\n",
              "  <thead>\n",
              "    <tr style=\"text-align: right;\">\n",
              "      <th></th>\n",
              "      <th>family_status</th>\n",
              "      <th>civil partnership</th>\n",
              "      <th>divorced</th>\n",
              "      <th>married</th>\n",
              "      <th>unmarried</th>\n",
              "      <th>widow / widower</th>\n",
              "    </tr>\n",
              "    <tr>\n",
              "      <th>gender</th>\n",
              "      <th>education</th>\n",
              "      <th></th>\n",
              "      <th></th>\n",
              "      <th></th>\n",
              "      <th></th>\n",
              "      <th></th>\n",
              "    </tr>\n",
              "  </thead>\n",
              "  <tbody>\n",
              "    <tr>\n",
              "      <th rowspan=\"5\" valign=\"top\">M</th>\n",
              "      <th>bachelor's degree</th>\n",
              "      <td>39399.934916</td>\n",
              "      <td>40913.058293</td>\n",
              "      <td>40388.886142</td>\n",
              "      <td>33541.957563</td>\n",
              "      <td>23360.727455</td>\n",
              "    </tr>\n",
              "    <tr>\n",
              "      <th>graduate degree</th>\n",
              "      <td>NaN</td>\n",
              "      <td>18551.846000</td>\n",
              "      <td>29373.096500</td>\n",
              "      <td>31771.321000</td>\n",
              "      <td>NaN</td>\n",
              "    </tr>\n",
              "    <tr>\n",
              "      <th>primary education</th>\n",
              "      <td>20135.487067</td>\n",
              "      <td>18320.423600</td>\n",
              "      <td>25400.655229</td>\n",
              "      <td>24102.138158</td>\n",
              "      <td>14914.590750</td>\n",
              "    </tr>\n",
              "    <tr>\n",
              "      <th>secondary education</th>\n",
              "      <td>28346.883412</td>\n",
              "      <td>27930.500168</td>\n",
              "      <td>28744.833042</td>\n",
              "      <td>26463.518990</td>\n",
              "      <td>23183.251200</td>\n",
              "    </tr>\n",
              "    <tr>\n",
              "      <th>some college</th>\n",
              "      <td>32752.735694</td>\n",
              "      <td>28843.260000</td>\n",
              "      <td>35104.973386</td>\n",
              "      <td>31251.306659</td>\n",
              "      <td>NaN</td>\n",
              "    </tr>\n",
              "    <tr>\n",
              "      <th rowspan=\"5\" valign=\"top\">F</th>\n",
              "      <th>bachelor's degree</th>\n",
              "      <td>30457.299251</td>\n",
              "      <td>30990.335287</td>\n",
              "      <td>30072.373307</td>\n",
              "      <td>31299.115156</td>\n",
              "      <td>28490.961777</td>\n",
              "    </tr>\n",
              "    <tr>\n",
              "      <th>graduate degree</th>\n",
              "      <td>NaN</td>\n",
              "      <td>NaN</td>\n",
              "      <td>29345.394000</td>\n",
              "      <td>NaN</td>\n",
              "      <td>NaN</td>\n",
              "    </tr>\n",
              "    <tr>\n",
              "      <th>primary education</th>\n",
              "      <td>19979.276857</td>\n",
              "      <td>19804.439800</td>\n",
              "      <td>19148.954475</td>\n",
              "      <td>16978.843154</td>\n",
              "      <td>18515.937833</td>\n",
              "    </tr>\n",
              "    <tr>\n",
              "      <th>secondary education</th>\n",
              "      <td>23032.993352</td>\n",
              "      <td>24017.901757</td>\n",
              "      <td>22269.478019</td>\n",
              "      <td>23592.016044</td>\n",
              "      <td>22247.717597</td>\n",
              "    </tr>\n",
              "    <tr>\n",
              "      <th>some college</th>\n",
              "      <td>25663.093436</td>\n",
              "      <td>37463.759778</td>\n",
              "      <td>26808.754188</td>\n",
              "      <td>24830.885659</td>\n",
              "      <td>24420.224846</td>\n",
              "    </tr>\n",
              "  </tbody>\n",
              "</table>\n",
              "</div>\n",
              "      <button class=\"colab-df-convert\" onclick=\"convertToInteractive('df-f5f9b110-23c0-4898-beae-dc26ec0d4194')\"\n",
              "              title=\"Convert this dataframe to an interactive table.\"\n",
              "              style=\"display:none;\">\n",
              "        \n",
              "  <svg xmlns=\"http://www.w3.org/2000/svg\" height=\"24px\"viewBox=\"0 0 24 24\"\n",
              "       width=\"24px\">\n",
              "    <path d=\"M0 0h24v24H0V0z\" fill=\"none\"/>\n",
              "    <path d=\"M18.56 5.44l.94 2.06.94-2.06 2.06-.94-2.06-.94-.94-2.06-.94 2.06-2.06.94zm-11 1L8.5 8.5l.94-2.06 2.06-.94-2.06-.94L8.5 2.5l-.94 2.06-2.06.94zm10 10l.94 2.06.94-2.06 2.06-.94-2.06-.94-.94-2.06-.94 2.06-2.06.94z\"/><path d=\"M17.41 7.96l-1.37-1.37c-.4-.4-.92-.59-1.43-.59-.52 0-1.04.2-1.43.59L10.3 9.45l-7.72 7.72c-.78.78-.78 2.05 0 2.83L4 21.41c.39.39.9.59 1.41.59.51 0 1.02-.2 1.41-.59l7.78-7.78 2.81-2.81c.8-.78.8-2.07 0-2.86zM5.41 20L4 18.59l7.72-7.72 1.47 1.35L5.41 20z\"/>\n",
              "  </svg>\n",
              "      </button>\n",
              "      \n",
              "  <style>\n",
              "    .colab-df-container {\n",
              "      display:flex;\n",
              "      flex-wrap:wrap;\n",
              "      gap: 12px;\n",
              "    }\n",
              "\n",
              "    .colab-df-convert {\n",
              "      background-color: #E8F0FE;\n",
              "      border: none;\n",
              "      border-radius: 50%;\n",
              "      cursor: pointer;\n",
              "      display: none;\n",
              "      fill: #1967D2;\n",
              "      height: 32px;\n",
              "      padding: 0 0 0 0;\n",
              "      width: 32px;\n",
              "    }\n",
              "\n",
              "    .colab-df-convert:hover {\n",
              "      background-color: #E2EBFA;\n",
              "      box-shadow: 0px 1px 2px rgba(60, 64, 67, 0.3), 0px 1px 3px 1px rgba(60, 64, 67, 0.15);\n",
              "      fill: #174EA6;\n",
              "    }\n",
              "\n",
              "    [theme=dark] .colab-df-convert {\n",
              "      background-color: #3B4455;\n",
              "      fill: #D2E3FC;\n",
              "    }\n",
              "\n",
              "    [theme=dark] .colab-df-convert:hover {\n",
              "      background-color: #434B5C;\n",
              "      box-shadow: 0px 1px 3px 1px rgba(0, 0, 0, 0.15);\n",
              "      filter: drop-shadow(0px 1px 2px rgba(0, 0, 0, 0.3));\n",
              "      fill: #FFFFFF;\n",
              "    }\n",
              "  </style>\n",
              "\n",
              "      <script>\n",
              "        const buttonEl =\n",
              "          document.querySelector('#df-f5f9b110-23c0-4898-beae-dc26ec0d4194 button.colab-df-convert');\n",
              "        buttonEl.style.display =\n",
              "          google.colab.kernel.accessAllowed ? 'block' : 'none';\n",
              "\n",
              "        async function convertToInteractive(key) {\n",
              "          const element = document.querySelector('#df-f5f9b110-23c0-4898-beae-dc26ec0d4194');\n",
              "          const dataTable =\n",
              "            await google.colab.kernel.invokeFunction('convertToInteractive',\n",
              "                                                     [key], {});\n",
              "          if (!dataTable) return;\n",
              "\n",
              "          const docLinkHtml = 'Like what you see? Visit the ' +\n",
              "            '<a target=\"_blank\" href=https://colab.research.google.com/notebooks/data_table.ipynb>data table notebook</a>'\n",
              "            + ' to learn more about interactive tables.';\n",
              "          element.innerHTML = '';\n",
              "          dataTable['output_type'] = 'display_data';\n",
              "          await google.colab.output.renderOutput(dataTable, element);\n",
              "          const docLink = document.createElement('div');\n",
              "          docLink.innerHTML = docLinkHtml;\n",
              "          element.appendChild(docLink);\n",
              "        }\n",
              "      </script>\n",
              "    </div>\n",
              "  </div>\n",
              "  "
            ]
          },
          "metadata": {},
          "execution_count": 147
        }
      ]
    },
    {
      "cell_type": "code",
      "source": [
        "df_groupby = df_groupby.fillna(df_groupby.mean())\n",
        "print(df_groupby)"
      ],
      "metadata": {
        "colab": {
          "base_uri": "https://localhost:8080/"
        },
        "id": "fPa7xHiZF3BW",
        "outputId": "c122b25f-d5ac-4d47-e978-52748cff9cac"
      },
      "execution_count": 148,
      "outputs": [
        {
          "output_type": "stream",
          "name": "stdout",
          "text": [
            "family_status               civil partnership      divorced       married  \\\n",
            "gender education                                                            \n",
            "F      bachelor's degree         30457.299251  30990.335287  30072.373307   \n",
            "       graduate degree           27470.962998  27426.169409  29345.394000   \n",
            "       primary education         19979.276857  19804.439800  19148.954475   \n",
            "       secondary education       23032.993352  24017.901757  22269.478019   \n",
            "       some college              25663.093436  37463.759778  26808.754188   \n",
            "M      bachelor's degree         39399.934916  40913.058293  40388.886142   \n",
            "       graduate degree           27470.962998  18551.846000  29373.096500   \n",
            "       primary education         20135.487067  18320.423600  25400.655229   \n",
            "       secondary education       28346.883412  27930.500168  28744.833042   \n",
            "       some college              32752.735694  28843.260000  35104.973386   \n",
            "\n",
            "family_status                  unmarried  widow / widower  \n",
            "gender education                                           \n",
            "F      bachelor's degree    31299.115156     28490.961777  \n",
            "       graduate degree      27092.344709     22161.915922  \n",
            "       primary education    16978.843154     18515.937833  \n",
            "       secondary education  23592.016044     22247.717597  \n",
            "       some college         24830.885659     24420.224846  \n",
            "M      bachelor's degree    33541.957563     23360.727455  \n",
            "       graduate degree      31771.321000     22161.915922  \n",
            "       primary education    24102.138158     14914.590750  \n",
            "       secondary education  26463.518990     23183.251200  \n",
            "       some college         31251.306659     22161.915922  \n"
          ]
        }
      ]
    },
    {
      "cell_type": "code",
      "execution_count": 149,
      "metadata": {
        "scrolled": true,
        "id": "1ZbERqXf2If4",
        "colab": {
          "base_uri": "https://localhost:8080/"
        },
        "outputId": "9fe44ee4-893b-499d-d810-012810757981"
      },
      "outputs": [
        {
          "output_type": "stream",
          "name": "stdout",
          "text": [
            "family_status               civil partnership    divorced     married  \\\n",
            "gender education                                                        \n",
            "F      bachelor's degree           26108.5490  26702.5945  26075.9335   \n",
            "       graduate degree                    NaN         NaN  29345.3940   \n",
            "       primary education           16400.0270  19546.3410  17401.0310   \n",
            "       secondary education         20547.8260  21123.4235  19623.3825   \n",
            "       some college                23384.4030  37549.5950  21539.1830   \n",
            "M      bachelor's degree           33569.5380  31770.8855  33484.8860   \n",
            "       graduate degree                    NaN  18551.8460  29373.0965   \n",
            "       primary education           19538.3120  11652.8520  24261.0880   \n",
            "       secondary education         25209.7395  25540.3240  25843.7030   \n",
            "       some college                30247.7730  27367.3205  32735.2060   \n",
            "\n",
            "family_status               unmarried  widow / widower  \n",
            "gender education                                        \n",
            "F      bachelor's degree    26178.910       24265.0875  \n",
            "       graduate degree            NaN              NaN  \n",
            "       primary education    13433.206       16632.7265  \n",
            "       secondary education  20664.778       20241.1715  \n",
            "       some college         22380.506       20531.8480  \n",
            "M      bachelor's degree    30638.078       16807.1900  \n",
            "       graduate degree      31771.321              NaN  \n",
            "       primary education    21204.086       16271.1960  \n",
            "       secondary education  24155.854       22091.4800  \n",
            "       some college         28035.539              NaN  \n"
          ]
        }
      ],
      "source": [
        "df_groupby1 = df.groupby(['gender','education','family_status'])['total_income'].aggregate('median').unstack()\n",
        "print(df_groupby1)"
      ]
    },
    {
      "cell_type": "code",
      "source": [
        "df_groupby1 = df_groupby1.fillna(df_groupby.median())\n",
        "print(df_groupby1)"
      ],
      "metadata": {
        "colab": {
          "base_uri": "https://localhost:8080/"
        },
        "id": "DSgS0zBNF9Gp",
        "outputId": "0e77c1c4-a61a-4fc3-9b5e-67cc3125a851"
      },
      "execution_count": 150,
      "outputs": [
        {
          "output_type": "stream",
          "name": "stdout",
          "text": [
            "family_status               civil partnership      divorced     married  \\\n",
            "gender education                                                          \n",
            "F      bachelor's degree         26108.549000  26702.594500  26075.9335   \n",
            "       graduate degree           27470.962998  27678.334788  29345.3940   \n",
            "       primary education         16400.027000  19546.341000  17401.0310   \n",
            "       secondary education       20547.826000  21123.423500  19623.3825   \n",
            "       some college              23384.403000  37549.595000  21539.1830   \n",
            "M      bachelor's degree         33569.538000  31770.885500  33484.8860   \n",
            "       graduate degree           27470.962998  18551.846000  29373.0965   \n",
            "       primary education         19538.312000  11652.852000  24261.0880   \n",
            "       secondary education       25209.739500  25540.324000  25843.7030   \n",
            "       some college              30247.773000  27367.320500  32735.2060   \n",
            "\n",
            "family_status                 unmarried  widow / widower  \n",
            "gender education                                          \n",
            "F      bachelor's degree    26178.91000      24265.08750  \n",
            "       graduate degree      26777.93185      22204.81676  \n",
            "       primary education    13433.20600      16632.72650  \n",
            "       secondary education  20664.77800      20241.17150  \n",
            "       some college         22380.50600      20531.84800  \n",
            "M      bachelor's degree    30638.07800      16807.19000  \n",
            "       graduate degree      31771.32100      22204.81676  \n",
            "       primary education    21204.08600      16271.19600  \n",
            "       secondary education  24155.85400      22091.48000  \n",
            "       some college         28035.53900      22204.81676  \n"
          ]
        }
      ]
    },
    {
      "cell_type": "markdown",
      "source": [
        "**Observations**\n",
        "<p>Looking at the mean and median values in the groupby tables, I proceeded using the median values to replace the missing values rather than the mean. I noticed that the median values are closer to the values of those with no NaN values. "
      ],
      "metadata": {
        "id": "mN3ReFkhFeRB"
      }
    },
    {
      "cell_type": "markdown",
      "metadata": {
        "id": "uPZ4PorQ2If5"
      },
      "source": [
        "###  Restoring values in `days_employed`"
      ]
    },
    {
      "cell_type": "code",
      "execution_count": 153,
      "metadata": {
        "pycharm": {
          "name": "#%%\n"
        },
        "id": "u3jg24J32If5",
        "colab": {
          "base_uri": "https://localhost:8080/"
        },
        "outputId": "6d666782-2a17-4d20-ceb6-fe6dc77a9f06"
      },
      "outputs": [
        {
          "output_type": "stream",
          "name": "stdout",
          "text": [
            "family_status               civil partnership      divorced        married  \\\n",
            "gender education                                                             \n",
            "F      bachelor's degree         40277.410934  49842.463653   42061.839074   \n",
            "       graduate degree                    NaN           NaN  191122.147707   \n",
            "       primary education        157468.413516  77600.145363  161925.329951   \n",
            "       secondary education       79579.187272  97574.701864   88779.291429   \n",
            "       some college              23413.100809   1883.232171   29903.717123   \n",
            "M      bachelor's degree         36464.721133  27287.240834   35689.251080   \n",
            "       graduate degree                    NaN   2351.431934  171468.426870   \n",
            "       primary education         26257.199816    904.286392   61346.524566   \n",
            "       secondary education       37407.784055  24166.912778   44509.823815   \n",
            "       some college              16546.012272   1077.732639   11615.214744   \n",
            "\n",
            "family_status                   unmarried  widow / widower  \n",
            "gender education                                            \n",
            "F      bachelor's degree     42591.433345    174917.005483  \n",
            "       graduate degree                NaN              NaN  \n",
            "       primary education    193077.576472    335772.656658  \n",
            "       secondary education   80981.476624    209840.653443  \n",
            "       some college          13432.631972    172240.459836  \n",
            "M      bachelor's degree     13564.209314    131824.025196  \n",
            "       graduate degree         409.200149              NaN  \n",
            "       primary education     41852.496007    352405.917451  \n",
            "       secondary education   17218.111135    135730.584746  \n",
            "       some college           1039.761651              NaN  \n"
          ]
        }
      ],
      "source": [
        "df_groupby2 = df.groupby(['gender','education', 'family_status'])['days_employed'].aggregate('mean').unstack()\n",
        "print(df_groupby2)\n",
        "\n"
      ]
    },
    {
      "cell_type": "code",
      "source": [
        "df_groupby2 = df_groupby2.fillna(df_groupby.mean())\n",
        "print(df_groupby2)"
      ],
      "metadata": {
        "colab": {
          "base_uri": "https://localhost:8080/"
        },
        "id": "KJOv6jTO4Go1",
        "outputId": "80c1a814-dd22-49fb-ff80-09c41bd08a01"
      },
      "execution_count": 154,
      "outputs": [
        {
          "output_type": "stream",
          "name": "stdout",
          "text": [
            "family_status               civil partnership      divorced        married  \\\n",
            "gender education                                                             \n",
            "F      bachelor's degree         40277.410934  49842.463653   42061.839074   \n",
            "       graduate degree           27470.962998  27426.169409  191122.147707   \n",
            "       primary education        157468.413516  77600.145363  161925.329951   \n",
            "       secondary education       79579.187272  97574.701864   88779.291429   \n",
            "       some college              23413.100809   1883.232171   29903.717123   \n",
            "M      bachelor's degree         36464.721133  27287.240834   35689.251080   \n",
            "       graduate degree           27470.962998   2351.431934  171468.426870   \n",
            "       primary education         26257.199816    904.286392   61346.524566   \n",
            "       secondary education       37407.784055  24166.912778   44509.823815   \n",
            "       some college              16546.012272   1077.732639   11615.214744   \n",
            "\n",
            "family_status                   unmarried  widow / widower  \n",
            "gender education                                            \n",
            "F      bachelor's degree     42591.433345    174917.005483  \n",
            "       graduate degree       27092.344709     22161.915922  \n",
            "       primary education    193077.576472    335772.656658  \n",
            "       secondary education   80981.476624    209840.653443  \n",
            "       some college          13432.631972    172240.459836  \n",
            "M      bachelor's degree     13564.209314    131824.025196  \n",
            "       graduate degree         409.200149     22161.915922  \n",
            "       primary education     41852.496007    352405.917451  \n",
            "       secondary education   17218.111135    135730.584746  \n",
            "       some college           1039.761651     22161.915922  \n"
          ]
        }
      ]
    },
    {
      "cell_type": "code",
      "execution_count": 156,
      "metadata": {
        "id": "N1bgU97f2If5",
        "colab": {
          "base_uri": "https://localhost:8080/"
        },
        "outputId": "358c1695-eaa3-42a4-92f3-28a8d6b83c24"
      },
      "outputs": [
        {
          "output_type": "stream",
          "name": "stdout",
          "text": [
            "family_status               civil partnership     divorced        married  \\\n",
            "gender education                                                            \n",
            "F      bachelor's degree          1903.989222  1857.610667    2058.414626   \n",
            "       graduate degree                    NaN          NaN  191122.147707   \n",
            "       primary education          4473.004881  2706.976924    5159.125702   \n",
            "       secondary education        2492.293419  3051.637030    2866.762103   \n",
            "       some college                968.308992  1554.209127    1522.836653   \n",
            "M      bachelor's degree          1723.086845  1917.150141    1803.877939   \n",
            "       graduate degree                    NaN  2351.431934  171468.426870   \n",
            "       primary education          1395.620785   402.188945    1736.502939   \n",
            "       secondary education        1499.500900  1725.897959    1984.976713   \n",
            "       some college               1309.112396   844.004903    1571.870885   \n",
            "\n",
            "family_status                   unmarried  widow / widower  \n",
            "gender education                                            \n",
            "F      bachelor's degree      1612.456830      9619.686466  \n",
            "       graduate degree                NaN              NaN  \n",
            "       primary education    334483.493054    363811.174676  \n",
            "       secondary education    2086.151168    339935.834797  \n",
            "       some college            724.566286      8244.304591  \n",
            "M      bachelor's degree      1206.015770      2105.881071  \n",
            "       graduate degree         409.200149              NaN  \n",
            "       primary education       922.313934    339969.696365  \n",
            "       secondary education    1177.902135      3286.920494  \n",
            "       some college            846.429624              NaN  \n"
          ]
        }
      ],
      "source": [
        "df_groupby3 = df.groupby(['gender','education','family_status'])['days_employed'].aggregate('median').unstack()\n",
        "print(df_groupby3)"
      ]
    },
    {
      "cell_type": "code",
      "source": [
        "df_groupby3 = df_groupby3.fillna(df_groupby.median())\n",
        "print(df_groupby3)"
      ],
      "metadata": {
        "colab": {
          "base_uri": "https://localhost:8080/"
        },
        "id": "unP4ENbq4R58",
        "outputId": "f3064fb1-da8f-45c2-d249-fbe178f594f8"
      },
      "execution_count": 157,
      "outputs": [
        {
          "output_type": "stream",
          "name": "stdout",
          "text": [
            "family_status               civil partnership      divorced        married  \\\n",
            "gender education                                                             \n",
            "F      bachelor's degree          1903.989222   1857.610667    2058.414626   \n",
            "       graduate degree           27470.962998  27678.334788  191122.147707   \n",
            "       primary education          4473.004881   2706.976924    5159.125702   \n",
            "       secondary education        2492.293419   3051.637030    2866.762103   \n",
            "       some college                968.308992   1554.209127    1522.836653   \n",
            "M      bachelor's degree          1723.086845   1917.150141    1803.877939   \n",
            "       graduate degree           27470.962998   2351.431934  171468.426870   \n",
            "       primary education          1395.620785    402.188945    1736.502939   \n",
            "       secondary education        1499.500900   1725.897959    1984.976713   \n",
            "       some college               1309.112396    844.004903    1571.870885   \n",
            "\n",
            "family_status                   unmarried  widow / widower  \n",
            "gender education                                            \n",
            "F      bachelor's degree      1612.456830      9619.686466  \n",
            "       graduate degree       26777.931850     22204.816760  \n",
            "       primary education    334483.493054    363811.174676  \n",
            "       secondary education    2086.151168    339935.834797  \n",
            "       some college            724.566286      8244.304591  \n",
            "M      bachelor's degree      1206.015770      2105.881071  \n",
            "       graduate degree         409.200149     22204.816760  \n",
            "       primary education       922.313934    339969.696365  \n",
            "       secondary education    1177.902135      3286.920494  \n",
            "       some college            846.429624     22204.816760  \n"
          ]
        }
      ]
    },
    {
      "cell_type": "markdown",
      "metadata": {
        "id": "lNtc3KQl2If6"
      },
      "source": [
        "**Observations:**\n",
        "For the days_employed column, it's best to use the mean values to replace the missing values rather than the median. Its close to the values that does not have NaN values. "
      ]
    },
    {
      "cell_type": "markdown",
      "metadata": {
        "id": "bDHNVGC12If6"
      },
      "source": [
        "## Categorization of data\n"
      ]
    },
    {
      "cell_type": "code",
      "execution_count": 158,
      "metadata": {
        "scrolled": true,
        "id": "k9q44SYq2If6"
      },
      "outputs": [],
      "source": [
        "# Print the values for your selected data for categorization\n",
        "def debt_group(debt):\n",
        "    if debt == 0:\n",
        "        return 'NONE'\n",
        "    return 'YES'    "
      ]
    },
    {
      "cell_type": "code",
      "source": [
        "df['debt_group'] = df['debt'].apply(debt_group)\n",
        "print(df.head(10)) "
      ],
      "metadata": {
        "colab": {
          "base_uri": "https://localhost:8080/"
        },
        "id": "BJGtNxibZhto",
        "outputId": "daea84b0-5a27-4368-a05a-51a0b7f05aba"
      },
      "execution_count": 159,
      "outputs": [
        {
          "output_type": "stream",
          "name": "stdout",
          "text": [
            "   children  days_employed  dob_years            education  education_id  \\\n",
            "0         1    8437.673028         42    bachelor's degree             0   \n",
            "1         1    4024.803754         36  secondary education             1   \n",
            "2         0    5623.422610         33  secondary education             1   \n",
            "3         3    4124.747207         32  secondary education             1   \n",
            "4         0  340266.072047         53  secondary education             1   \n",
            "5         0     926.185831         27    bachelor's degree             0   \n",
            "6         0    2879.202052         43    bachelor's degree             0   \n",
            "7         0     152.779569         50  secondary education             1   \n",
            "8         2    6929.865299         35    bachelor's degree             0   \n",
            "9         0    2188.756445         41  secondary education             1   \n",
            "\n",
            "       family_status  family_status_id gender income_type  debt  total_income  \\\n",
            "0            married                 0      F    employee     0     40620.102   \n",
            "1            married                 0      F    employee     0     17932.802   \n",
            "2            married                 0      M    employee     0     23341.752   \n",
            "3            married                 0      M    employee     0     42820.568   \n",
            "4  civil partnership                 1      F     retiree     0     25378.572   \n",
            "5  civil partnership                 1      M    business     0     40922.170   \n",
            "6            married                 0      F    business     0     38484.156   \n",
            "7            married                 0      M    employee     0     21731.829   \n",
            "8  civil partnership                 1      F    employee     0     15337.093   \n",
            "9            married                 0      M    employee     0     23108.150   \n",
            "\n",
            "                               purpose age_group debt_group  \n",
            "0                purchase of the house     Adult       NONE  \n",
            "1                         car purchase     Adult       NONE  \n",
            "2                purchase of the house     Adult       NONE  \n",
            "3              supplementary education     Adult       NONE  \n",
            "4                    to have a wedding     Adult       NONE  \n",
            "5                purchase of the house     Adult       NONE  \n",
            "6                 housing transactions     Adult       NONE  \n",
            "7                            education     Adult       NONE  \n",
            "8                     having a wedding     Adult       NONE  \n",
            "9  purchase of the house for my family     Adult       NONE  \n"
          ]
        }
      ]
    },
    {
      "cell_type": "code",
      "source": [
        "debt_grouped = pd.pivot_table(data=df, index='debt_group', values='debt', aggfunc='sum')\n",
        "print(debt_grouped)"
      ],
      "metadata": {
        "colab": {
          "base_uri": "https://localhost:8080/"
        },
        "id": "BRVr09ldZBuM",
        "outputId": "0aefa775-cfcf-41cd-9dda-250beecb3338"
      },
      "execution_count": 160,
      "outputs": [
        {
          "output_type": "stream",
          "name": "stdout",
          "text": [
            "            debt\n",
            "debt_group      \n",
            "NONE           0\n",
            "YES         1563\n"
          ]
        }
      ]
    },
    {
      "cell_type": "code",
      "source": [
        "total_income_grouped = pd.pivot_table(data=df, index='debt_group', values='total_income', aggfunc='median')\n",
        "print(total_income_grouped)"
      ],
      "metadata": {
        "colab": {
          "base_uri": "https://localhost:8080/"
        },
        "id": "7Zy_ULW4sF_m",
        "outputId": "9ad93ed3-cd63-4ecc-f37a-b06452e18679"
      },
      "execution_count": 161,
      "outputs": [
        {
          "output_type": "stream",
          "name": "stdout",
          "text": [
            "            total_income\n",
            "debt_group              \n",
            "NONE           23225.474\n",
            "YES            22928.480\n"
          ]
        }
      ]
    },
    {
      "cell_type": "markdown",
      "metadata": {
        "id": "JWEARRhE2If7"
      },
      "source": [
        "**Observations**\n",
        "<p> To prepare categorizing the loan applicants, I used the grouped table, debt_group, and the column total_income. Since in the grouped table, loan applicants are grouped as to their debt history. If they have debt, they are marked as YES. Otherwhise, NONE. Cross-referencing that with total_income, it shows which group have no debt and the median value of their total income. Thus, it seems both categories have close values which makes our data credible and accurate. Going further, I created a function to determine their risk factor based on the above grouping. "
      ]
    },
    {
      "cell_type": "code",
      "execution_count": 164,
      "metadata": {
        "id": "xNuRiuZU2If7"
      },
      "outputs": [],
      "source": [
        "def debt_group_importance(row):\n",
        "    debt_group = row['debt_group']\n",
        "    total_income = row['total_income']\n",
        "\n",
        "    if debt_group == 'NONE':\n",
        "        if total_income >= 23225.474:\n",
        "            return 'NO RISK'\n",
        "    if debt_group == 'NONE':\n",
        "        if total_income <= 22928.480:\n",
        "            return 'MID-RISK'\n",
        "    if debt_group == 'YES':\n",
        "        if total_income >= 23225.474:\n",
        "            return 'RISK'\n",
        "    if debt_group == 'YES':\n",
        "        if total_income <= 22928.480:\n",
        "            return 'CRITICAL RISK'\n",
        "    return 'ticket queued'"
      ]
    },
    {
      "cell_type": "code",
      "source": [
        "df['credit_score'] = df.apply(\n",
        "    debt_group_importance, axis=1\n",
        ")\n",
        "print(df['credit_score'].value_counts())"
      ],
      "metadata": {
        "id": "KknuLfXnfacU",
        "colab": {
          "base_uri": "https://localhost:8080/"
        },
        "outputId": "9af52507-7df7-4557-d104-6addb9503aaf"
      },
      "execution_count": 165,
      "outputs": [
        {
          "output_type": "stream",
          "name": "stdout",
          "text": [
            "NO RISK          8849\n",
            "MID-RISK         8644\n",
            "CRITICAL RISK     782\n",
            "RISK              763\n",
            "ticket queued     222\n",
            "Name: credit_score, dtype: int64\n"
          ]
        }
      ]
    },
    {
      "cell_type": "code",
      "source": [
        "df.groupby('gender').apply(lambda x: x.sort_values('credit_score'))"
      ],
      "metadata": {
        "colab": {
          "base_uri": "https://localhost:8080/",
          "height": 455
        },
        "id": "X53dSo9g735a",
        "outputId": "0cadd36a-dd38-406b-8684-93ab8297cc64"
      },
      "execution_count": 166,
      "outputs": [
        {
          "output_type": "execute_result",
          "data": {
            "text/plain": [
              "              children  days_employed  dob_years            education  \\\n",
              "gender                                                                  \n",
              "F      8545          0     488.649590         44  secondary education   \n",
              "       19484         1     571.551521         44    bachelor's degree   \n",
              "       15260         0    2564.266055         31  secondary education   \n",
              "       5809          1    2286.906266         45  secondary education   \n",
              "       5806          0  343549.647465         58  secondary education   \n",
              "...                ...            ...        ...                  ...   \n",
              "M      17990         0  387729.998932         61  secondary education   \n",
              "       15482         0    2872.211410         41  secondary education   \n",
              "       2535          0    1727.707299         53  secondary education   \n",
              "       12640         0     162.764006         35  secondary education   \n",
              "       10734         0  346850.181966         71  secondary education   \n",
              "\n",
              "              education_id      family_status  family_status_id gender  \\\n",
              "gender                                                                   \n",
              "F      8545              1            married                 0      F   \n",
              "       19484             0            married                 0      F   \n",
              "       15260             1  civil partnership                 1      F   \n",
              "       5809              1  civil partnership                 1      F   \n",
              "       5806              1    widow / widower                 2      F   \n",
              "...                    ...                ...               ...    ...   \n",
              "M      17990             1            married                 0      M   \n",
              "       15482             1           divorced                 3      M   \n",
              "       2535              1            married                 0      M   \n",
              "       12640             1            married                 0      M   \n",
              "       10734             1            married                 0      M   \n",
              "\n",
              "             income_type  debt  total_income  \\\n",
              "gender                                         \n",
              "F      8545     employee     1     15592.771   \n",
              "       19484    employee     1     19890.402   \n",
              "       15260    employee     1     11496.048   \n",
              "       5809     employee     1     18106.697   \n",
              "       5806      retiree     1     15634.114   \n",
              "...                  ...   ...           ...   \n",
              "M      17990     retiree     0     22962.692   \n",
              "       15482    employee     0     23049.623   \n",
              "       2535     employee     1     23198.565   \n",
              "       12640    employee     0     23034.088   \n",
              "       10734     retiree     0     23057.412   \n",
              "\n",
              "                                          purpose age_group debt_group  \\\n",
              "gender                                                                   \n",
              "F      8545       buying property for renting out     Adult        YES   \n",
              "       19484                   to become educated     Adult        YES   \n",
              "       15260                     wedding ceremony     Adult        YES   \n",
              "       5809                      wedding ceremony     Adult        YES   \n",
              "       5806                     profile education     Adult        YES   \n",
              "...                                           ...       ...        ...   \n",
              "M      17990  purchase of the house for my family     Adult       NONE   \n",
              "       15482                 getting an education     Adult       NONE   \n",
              "       2535               supplementary education     Adult        YES   \n",
              "       12640           buy commercial real estate     Adult       NONE   \n",
              "       10734          buy residential real estate   Retired       NONE   \n",
              "\n",
              "               credit_score  \n",
              "gender                       \n",
              "F      8545   CRITICAL RISK  \n",
              "       19484  CRITICAL RISK  \n",
              "       15260  CRITICAL RISK  \n",
              "       5809   CRITICAL RISK  \n",
              "       5806   CRITICAL RISK  \n",
              "...                     ...  \n",
              "M      17990  ticket queued  \n",
              "       15482  ticket queued  \n",
              "       2535   ticket queued  \n",
              "       12640  ticket queued  \n",
              "       10734  ticket queued  \n",
              "\n",
              "[19260 rows x 15 columns]"
            ],
            "text/html": [
              "\n",
              "  <div id=\"df-fd1ddb66-ce3a-4f96-b1d5-b04569575e39\">\n",
              "    <div class=\"colab-df-container\">\n",
              "      <div>\n",
              "<style scoped>\n",
              "    .dataframe tbody tr th:only-of-type {\n",
              "        vertical-align: middle;\n",
              "    }\n",
              "\n",
              "    .dataframe tbody tr th {\n",
              "        vertical-align: top;\n",
              "    }\n",
              "\n",
              "    .dataframe thead th {\n",
              "        text-align: right;\n",
              "    }\n",
              "</style>\n",
              "<table border=\"1\" class=\"dataframe\">\n",
              "  <thead>\n",
              "    <tr style=\"text-align: right;\">\n",
              "      <th></th>\n",
              "      <th></th>\n",
              "      <th>children</th>\n",
              "      <th>days_employed</th>\n",
              "      <th>dob_years</th>\n",
              "      <th>education</th>\n",
              "      <th>education_id</th>\n",
              "      <th>family_status</th>\n",
              "      <th>family_status_id</th>\n",
              "      <th>gender</th>\n",
              "      <th>income_type</th>\n",
              "      <th>debt</th>\n",
              "      <th>total_income</th>\n",
              "      <th>purpose</th>\n",
              "      <th>age_group</th>\n",
              "      <th>debt_group</th>\n",
              "      <th>credit_score</th>\n",
              "    </tr>\n",
              "    <tr>\n",
              "      <th>gender</th>\n",
              "      <th></th>\n",
              "      <th></th>\n",
              "      <th></th>\n",
              "      <th></th>\n",
              "      <th></th>\n",
              "      <th></th>\n",
              "      <th></th>\n",
              "      <th></th>\n",
              "      <th></th>\n",
              "      <th></th>\n",
              "      <th></th>\n",
              "      <th></th>\n",
              "      <th></th>\n",
              "      <th></th>\n",
              "      <th></th>\n",
              "      <th></th>\n",
              "    </tr>\n",
              "  </thead>\n",
              "  <tbody>\n",
              "    <tr>\n",
              "      <th rowspan=\"5\" valign=\"top\">F</th>\n",
              "      <th>8545</th>\n",
              "      <td>0</td>\n",
              "      <td>488.649590</td>\n",
              "      <td>44</td>\n",
              "      <td>secondary education</td>\n",
              "      <td>1</td>\n",
              "      <td>married</td>\n",
              "      <td>0</td>\n",
              "      <td>F</td>\n",
              "      <td>employee</td>\n",
              "      <td>1</td>\n",
              "      <td>15592.771</td>\n",
              "      <td>buying property for renting out</td>\n",
              "      <td>Adult</td>\n",
              "      <td>YES</td>\n",
              "      <td>CRITICAL RISK</td>\n",
              "    </tr>\n",
              "    <tr>\n",
              "      <th>19484</th>\n",
              "      <td>1</td>\n",
              "      <td>571.551521</td>\n",
              "      <td>44</td>\n",
              "      <td>bachelor's degree</td>\n",
              "      <td>0</td>\n",
              "      <td>married</td>\n",
              "      <td>0</td>\n",
              "      <td>F</td>\n",
              "      <td>employee</td>\n",
              "      <td>1</td>\n",
              "      <td>19890.402</td>\n",
              "      <td>to become educated</td>\n",
              "      <td>Adult</td>\n",
              "      <td>YES</td>\n",
              "      <td>CRITICAL RISK</td>\n",
              "    </tr>\n",
              "    <tr>\n",
              "      <th>15260</th>\n",
              "      <td>0</td>\n",
              "      <td>2564.266055</td>\n",
              "      <td>31</td>\n",
              "      <td>secondary education</td>\n",
              "      <td>1</td>\n",
              "      <td>civil partnership</td>\n",
              "      <td>1</td>\n",
              "      <td>F</td>\n",
              "      <td>employee</td>\n",
              "      <td>1</td>\n",
              "      <td>11496.048</td>\n",
              "      <td>wedding ceremony</td>\n",
              "      <td>Adult</td>\n",
              "      <td>YES</td>\n",
              "      <td>CRITICAL RISK</td>\n",
              "    </tr>\n",
              "    <tr>\n",
              "      <th>5809</th>\n",
              "      <td>1</td>\n",
              "      <td>2286.906266</td>\n",
              "      <td>45</td>\n",
              "      <td>secondary education</td>\n",
              "      <td>1</td>\n",
              "      <td>civil partnership</td>\n",
              "      <td>1</td>\n",
              "      <td>F</td>\n",
              "      <td>employee</td>\n",
              "      <td>1</td>\n",
              "      <td>18106.697</td>\n",
              "      <td>wedding ceremony</td>\n",
              "      <td>Adult</td>\n",
              "      <td>YES</td>\n",
              "      <td>CRITICAL RISK</td>\n",
              "    </tr>\n",
              "    <tr>\n",
              "      <th>5806</th>\n",
              "      <td>0</td>\n",
              "      <td>343549.647465</td>\n",
              "      <td>58</td>\n",
              "      <td>secondary education</td>\n",
              "      <td>1</td>\n",
              "      <td>widow / widower</td>\n",
              "      <td>2</td>\n",
              "      <td>F</td>\n",
              "      <td>retiree</td>\n",
              "      <td>1</td>\n",
              "      <td>15634.114</td>\n",
              "      <td>profile education</td>\n",
              "      <td>Adult</td>\n",
              "      <td>YES</td>\n",
              "      <td>CRITICAL RISK</td>\n",
              "    </tr>\n",
              "    <tr>\n",
              "      <th>...</th>\n",
              "      <th>...</th>\n",
              "      <td>...</td>\n",
              "      <td>...</td>\n",
              "      <td>...</td>\n",
              "      <td>...</td>\n",
              "      <td>...</td>\n",
              "      <td>...</td>\n",
              "      <td>...</td>\n",
              "      <td>...</td>\n",
              "      <td>...</td>\n",
              "      <td>...</td>\n",
              "      <td>...</td>\n",
              "      <td>...</td>\n",
              "      <td>...</td>\n",
              "      <td>...</td>\n",
              "      <td>...</td>\n",
              "    </tr>\n",
              "    <tr>\n",
              "      <th rowspan=\"5\" valign=\"top\">M</th>\n",
              "      <th>17990</th>\n",
              "      <td>0</td>\n",
              "      <td>387729.998932</td>\n",
              "      <td>61</td>\n",
              "      <td>secondary education</td>\n",
              "      <td>1</td>\n",
              "      <td>married</td>\n",
              "      <td>0</td>\n",
              "      <td>M</td>\n",
              "      <td>retiree</td>\n",
              "      <td>0</td>\n",
              "      <td>22962.692</td>\n",
              "      <td>purchase of the house for my family</td>\n",
              "      <td>Adult</td>\n",
              "      <td>NONE</td>\n",
              "      <td>ticket queued</td>\n",
              "    </tr>\n",
              "    <tr>\n",
              "      <th>15482</th>\n",
              "      <td>0</td>\n",
              "      <td>2872.211410</td>\n",
              "      <td>41</td>\n",
              "      <td>secondary education</td>\n",
              "      <td>1</td>\n",
              "      <td>divorced</td>\n",
              "      <td>3</td>\n",
              "      <td>M</td>\n",
              "      <td>employee</td>\n",
              "      <td>0</td>\n",
              "      <td>23049.623</td>\n",
              "      <td>getting an education</td>\n",
              "      <td>Adult</td>\n",
              "      <td>NONE</td>\n",
              "      <td>ticket queued</td>\n",
              "    </tr>\n",
              "    <tr>\n",
              "      <th>2535</th>\n",
              "      <td>0</td>\n",
              "      <td>1727.707299</td>\n",
              "      <td>53</td>\n",
              "      <td>secondary education</td>\n",
              "      <td>1</td>\n",
              "      <td>married</td>\n",
              "      <td>0</td>\n",
              "      <td>M</td>\n",
              "      <td>employee</td>\n",
              "      <td>1</td>\n",
              "      <td>23198.565</td>\n",
              "      <td>supplementary education</td>\n",
              "      <td>Adult</td>\n",
              "      <td>YES</td>\n",
              "      <td>ticket queued</td>\n",
              "    </tr>\n",
              "    <tr>\n",
              "      <th>12640</th>\n",
              "      <td>0</td>\n",
              "      <td>162.764006</td>\n",
              "      <td>35</td>\n",
              "      <td>secondary education</td>\n",
              "      <td>1</td>\n",
              "      <td>married</td>\n",
              "      <td>0</td>\n",
              "      <td>M</td>\n",
              "      <td>employee</td>\n",
              "      <td>0</td>\n",
              "      <td>23034.088</td>\n",
              "      <td>buy commercial real estate</td>\n",
              "      <td>Adult</td>\n",
              "      <td>NONE</td>\n",
              "      <td>ticket queued</td>\n",
              "    </tr>\n",
              "    <tr>\n",
              "      <th>10734</th>\n",
              "      <td>0</td>\n",
              "      <td>346850.181966</td>\n",
              "      <td>71</td>\n",
              "      <td>secondary education</td>\n",
              "      <td>1</td>\n",
              "      <td>married</td>\n",
              "      <td>0</td>\n",
              "      <td>M</td>\n",
              "      <td>retiree</td>\n",
              "      <td>0</td>\n",
              "      <td>23057.412</td>\n",
              "      <td>buy residential real estate</td>\n",
              "      <td>Retired</td>\n",
              "      <td>NONE</td>\n",
              "      <td>ticket queued</td>\n",
              "    </tr>\n",
              "  </tbody>\n",
              "</table>\n",
              "<p>19260 rows × 15 columns</p>\n",
              "</div>\n",
              "      <button class=\"colab-df-convert\" onclick=\"convertToInteractive('df-fd1ddb66-ce3a-4f96-b1d5-b04569575e39')\"\n",
              "              title=\"Convert this dataframe to an interactive table.\"\n",
              "              style=\"display:none;\">\n",
              "        \n",
              "  <svg xmlns=\"http://www.w3.org/2000/svg\" height=\"24px\"viewBox=\"0 0 24 24\"\n",
              "       width=\"24px\">\n",
              "    <path d=\"M0 0h24v24H0V0z\" fill=\"none\"/>\n",
              "    <path d=\"M18.56 5.44l.94 2.06.94-2.06 2.06-.94-2.06-.94-.94-2.06-.94 2.06-2.06.94zm-11 1L8.5 8.5l.94-2.06 2.06-.94-2.06-.94L8.5 2.5l-.94 2.06-2.06.94zm10 10l.94 2.06.94-2.06 2.06-.94-2.06-.94-.94-2.06-.94 2.06-2.06.94z\"/><path d=\"M17.41 7.96l-1.37-1.37c-.4-.4-.92-.59-1.43-.59-.52 0-1.04.2-1.43.59L10.3 9.45l-7.72 7.72c-.78.78-.78 2.05 0 2.83L4 21.41c.39.39.9.59 1.41.59.51 0 1.02-.2 1.41-.59l7.78-7.78 2.81-2.81c.8-.78.8-2.07 0-2.86zM5.41 20L4 18.59l7.72-7.72 1.47 1.35L5.41 20z\"/>\n",
              "  </svg>\n",
              "      </button>\n",
              "      \n",
              "  <style>\n",
              "    .colab-df-container {\n",
              "      display:flex;\n",
              "      flex-wrap:wrap;\n",
              "      gap: 12px;\n",
              "    }\n",
              "\n",
              "    .colab-df-convert {\n",
              "      background-color: #E8F0FE;\n",
              "      border: none;\n",
              "      border-radius: 50%;\n",
              "      cursor: pointer;\n",
              "      display: none;\n",
              "      fill: #1967D2;\n",
              "      height: 32px;\n",
              "      padding: 0 0 0 0;\n",
              "      width: 32px;\n",
              "    }\n",
              "\n",
              "    .colab-df-convert:hover {\n",
              "      background-color: #E2EBFA;\n",
              "      box-shadow: 0px 1px 2px rgba(60, 64, 67, 0.3), 0px 1px 3px 1px rgba(60, 64, 67, 0.15);\n",
              "      fill: #174EA6;\n",
              "    }\n",
              "\n",
              "    [theme=dark] .colab-df-convert {\n",
              "      background-color: #3B4455;\n",
              "      fill: #D2E3FC;\n",
              "    }\n",
              "\n",
              "    [theme=dark] .colab-df-convert:hover {\n",
              "      background-color: #434B5C;\n",
              "      box-shadow: 0px 1px 3px 1px rgba(0, 0, 0, 0.15);\n",
              "      filter: drop-shadow(0px 1px 2px rgba(0, 0, 0, 0.3));\n",
              "      fill: #FFFFFF;\n",
              "    }\n",
              "  </style>\n",
              "\n",
              "      <script>\n",
              "        const buttonEl =\n",
              "          document.querySelector('#df-fd1ddb66-ce3a-4f96-b1d5-b04569575e39 button.colab-df-convert');\n",
              "        buttonEl.style.display =\n",
              "          google.colab.kernel.accessAllowed ? 'block' : 'none';\n",
              "\n",
              "        async function convertToInteractive(key) {\n",
              "          const element = document.querySelector('#df-fd1ddb66-ce3a-4f96-b1d5-b04569575e39');\n",
              "          const dataTable =\n",
              "            await google.colab.kernel.invokeFunction('convertToInteractive',\n",
              "                                                     [key], {});\n",
              "          if (!dataTable) return;\n",
              "\n",
              "          const docLinkHtml = 'Like what you see? Visit the ' +\n",
              "            '<a target=\"_blank\" href=https://colab.research.google.com/notebooks/data_table.ipynb>data table notebook</a>'\n",
              "            + ' to learn more about interactive tables.';\n",
              "          element.innerHTML = '';\n",
              "          dataTable['output_type'] = 'display_data';\n",
              "          await google.colab.output.renderOutput(dataTable, element);\n",
              "          const docLink = document.createElement('div');\n",
              "          docLink.innerHTML = docLinkHtml;\n",
              "          element.appendChild(docLink);\n",
              "        }\n",
              "      </script>\n",
              "    </div>\n",
              "  </div>\n",
              "  "
            ]
          },
          "metadata": {},
          "execution_count": 166
        }
      ]
    },
    {
      "cell_type": "markdown",
      "metadata": {
        "id": "LN5I2BNl2If8"
      },
      "source": [
        "## Checking the Hypotheses\n"
      ]
    },
    {
      "cell_type": "markdown",
      "metadata": {
        "id": "T35XQX_i2If8"
      },
      "source": [
        "**Is there a correlation between having children and paying back on time?** default rate = customers who didn't repay the debt / all customers"
      ]
    },
    {
      "cell_type": "code",
      "execution_count": 171,
      "metadata": {
        "id": "OZ4FdztE2If8",
        "colab": {
          "base_uri": "https://localhost:8080/"
        },
        "outputId": "532bc1dd-975e-49d0-92e4-760188266773"
      },
      "outputs": [
        {
          "output_type": "execute_result",
          "data": {
            "text/plain": [
              "count    19260.000000\n",
              "mean         0.479491\n",
              "std          0.753719\n",
              "min          0.000000\n",
              "25%          0.000000\n",
              "50%          0.000000\n",
              "75%          1.000000\n",
              "max          5.000000\n",
              "Name: children, dtype: float64"
            ]
          },
          "metadata": {},
          "execution_count": 171
        }
      ],
      "source": [
        "df['children'].describe()"
      ]
    },
    {
      "cell_type": "code",
      "source": [
        "df['debt'].describe()"
      ],
      "metadata": {
        "colab": {
          "base_uri": "https://localhost:8080/"
        },
        "id": "Wl-jX2-7O209",
        "outputId": "eaff864f-d2b8-47c8-b37d-084a37053b4b"
      },
      "execution_count": 172,
      "outputs": [
        {
          "output_type": "execute_result",
          "data": {
            "text/plain": [
              "count    19260.000000\n",
              "mean         0.081153\n",
              "std          0.273076\n",
              "min          0.000000\n",
              "25%          0.000000\n",
              "50%          0.000000\n",
              "75%          0.000000\n",
              "max          1.000000\n",
              "Name: debt, dtype: float64"
            ]
          },
          "metadata": {},
          "execution_count": 172
        }
      ]
    },
    {
      "cell_type": "code",
      "source": [
        "df['children'].corr(df['debt'])"
      ],
      "metadata": {
        "colab": {
          "base_uri": "https://localhost:8080/"
        },
        "id": "ylCGLobFP7do",
        "outputId": "0d379d0c-dbb6-4cee-f593-cb2bd7590102"
      },
      "execution_count": 176,
      "outputs": [
        {
          "output_type": "execute_result",
          "data": {
            "text/plain": [
              "0.026376572338457284"
            ]
          },
          "metadata": {},
          "execution_count": 176
        }
      ]
    },
    {
      "cell_type": "code",
      "source": [
        "plt.scatter(df['children'], df['debt'])\n",
        "plt.show()"
      ],
      "metadata": {
        "colab": {
          "base_uri": "https://localhost:8080/",
          "height": 265
        },
        "id": "1vCL7YaYS4Rm",
        "outputId": "a383145e-d3df-482d-a6d0-2f364fb3cd3f"
      },
      "execution_count": 188,
      "outputs": [
        {
          "output_type": "display_data",
          "data": {
            "text/plain": [
              "<Figure size 432x288 with 1 Axes>"
            ],
            "image/png": "[encoded data removed]"
          },
          "metadata": {
            "needs_background": "light"
          }
        }
      ]
    },
    {
      "cell_type": "markdown",
      "source": [
        "**Observation**\n",
        "<p> There is no correlation of the columns children and debt since the coefficient is close to 0. "
      ],
      "metadata": {
        "id": "H7b7kOlERwpt"
      }
    },
    {
      "cell_type": "markdown",
      "metadata": {
        "id": "ZP9Eu24D2If8"
      },
      "source": [
        "**Is there a correlation between family status and paying back on time?**"
      ]
    },
    {
      "cell_type": "code",
      "execution_count": 191,
      "metadata": {
        "id": "H46l1wgn2If8",
        "colab": {
          "base_uri": "https://localhost:8080/"
        },
        "outputId": "8e6d4348-c675-4574-d649-ca6ee9fa3411"
      },
      "outputs": [
        {
          "output_type": "execute_result",
          "data": {
            "text/plain": [
              "count       19260\n",
              "unique          5\n",
              "top       married\n",
              "freq        11098\n",
              "Name: family_status, dtype: object"
            ]
          },
          "metadata": {},
          "execution_count": 191
        }
      ],
      "source": [
        "df['family_status'].describe()\n"
      ]
    },
    {
      "cell_type": "code",
      "source": [
        "df['debt'].describe()"
      ],
      "metadata": {
        "colab": {
          "base_uri": "https://localhost:8080/"
        },
        "id": "C4EaiqRyUBJZ",
        "outputId": "491e05a2-7d72-404f-ebf8-3200e7cdef43"
      },
      "execution_count": 192,
      "outputs": [
        {
          "output_type": "execute_result",
          "data": {
            "text/plain": [
              "count    19260.000000\n",
              "mean         0.081153\n",
              "std          0.273076\n",
              "min          0.000000\n",
              "25%          0.000000\n",
              "50%          0.000000\n",
              "75%          0.000000\n",
              "max          1.000000\n",
              "Name: debt, dtype: float64"
            ]
          },
          "metadata": {},
          "execution_count": 192
        }
      ]
    },
    {
      "cell_type": "markdown",
      "metadata": {
        "id": "i_vTHhsI2If9"
      },
      "source": [
        "**Is there a correlation between income level and paying back on time?**"
      ]
    },
    {
      "cell_type": "code",
      "execution_count": 213,
      "metadata": {
        "id": "bepFHqR-2If9",
        "colab": {
          "base_uri": "https://localhost:8080/"
        },
        "outputId": "c0775dd2-5f32-4409-80c8-c19e9b5bbcfe"
      },
      "outputs": [
        {
          "output_type": "execute_result",
          "data": {
            "text/plain": [
              "-0.012420686567347832"
            ]
          },
          "metadata": {},
          "execution_count": 213
        }
      ],
      "source": [
        "df['total_income'].corr(df['debt'])"
      ]
    },
    {
      "cell_type": "code",
      "source": [
        "plt.scatter(df['total_income'], df['debt'])\n",
        "plt.show()"
      ],
      "metadata": {
        "colab": {
          "base_uri": "https://localhost:8080/",
          "height": 265
        },
        "id": "Ba3DJMNRXfPE",
        "outputId": "be6732fd-1f09-4d9f-f455-823536072ade"
      },
      "execution_count": 214,
      "outputs": [
        {
          "output_type": "display_data",
          "data": {
            "text/plain": [
              "<Figure size 432x288 with 1 Axes>"
            ],
            "image/png": "[encoded data removed]"
          },
          "metadata": {
            "needs_background": "light"
          }
        }
      ]
    },
    {
      "cell_type": "markdown",
      "source": [
        "Observation\n",
        "\n",
        "There is a negative correlation of the columns total income and debt."
      ],
      "metadata": {
        "id": "ieAoGRnlXfoU"
      }
    },
    {
      "cell_type": "markdown",
      "metadata": {
        "id": "6dU1Zz8I2If9"
      },
      "source": [
        "**Conclusion**\n",
        "\n",
        "Based on my computations, the age groupings determines how likely the loan applicants will pay back their loan. "
      ]
    },
    {
      "cell_type": "markdown",
      "metadata": {
        "id": "LZIUxh3o2If9"
      },
      "source": [
        "**How does credit purpose affect the default rate?**"
      ]
    },
    {
      "cell_type": "code",
      "source": [
        "df_purpose = (df['purpose'].value_counts()/len(df)) * 100\n",
        "print(df_purpose)"
      ],
      "metadata": {
        "colab": {
          "base_uri": "https://localhost:8080/"
        },
        "id": "3O_PM6y1ZrlB",
        "outputId": "67d2ede7-8dba-49be-c3c9-5cc6b86f4023"
      },
      "execution_count": 228,
      "outputs": [
        {
          "output_type": "stream",
          "name": "stdout",
          "text": [
            "wedding ceremony                            3.722741\n",
            "to have a wedding                           3.572170\n",
            "having a wedding                            3.541018\n",
            "real estate transactions                    3.177570\n",
            "buy commercial real estate                  3.084112\n",
            "purchase of the house                       3.058152\n",
            "buying property for renting out             3.042575\n",
            "housing                                     3.026999\n",
            "transactions with commercial real estate    3.011423\n",
            "building a real estate                      2.995846\n",
            "purchase of my own house                    2.975078\n",
            "housing transactions                        2.975078\n",
            "property                                    2.959502\n",
            "purchase of the house for my family         2.954309\n",
            "building a property                         2.912773\n",
            "transactions with my real estate            2.902388\n",
            "construction of own property                2.897196\n",
            "buy real estate                             2.855659\n",
            "buy residential real estate                 2.824507\n",
            "housing renovation                          2.808930\n",
            "car                                         2.336449\n",
            "buying my own car                           2.331256\n",
            "to buy a car                                2.268951\n",
            "going to university                         2.268951\n",
            "buying a second-hand car                    2.268951\n",
            "second-hand car purchase                    2.248183\n",
            "to own a car                                2.206646\n",
            "cars                                        2.175493\n",
            "car purchase                                2.165109\n",
            "supplementary education                     2.139148\n",
            "university education                        2.128764\n",
            "purchase of a car                           2.118380\n",
            "education                                   2.087227\n",
            "to get a supplementary education            2.045691\n",
            "getting an education                        2.035306\n",
            "getting higher education                    2.014538\n",
            "profile education                           2.014538\n",
            "to become educated                          1.848390\n",
            "Name: purpose, dtype: float64\n"
          ]
        }
      ]
    },
    {
      "cell_type": "code",
      "execution_count": 233,
      "metadata": {
        "id": "TA3khm762If9",
        "colab": {
          "base_uri": "https://localhost:8080/"
        },
        "outputId": "b0e68d97-acc6-4f43-e8e7-c7d0f3a02d87"
      },
      "outputs": [
        {
          "output_type": "stream",
          "name": "stdout",
          "text": [
            "2.6315789473684212\n"
          ]
        }
      ],
      "source": [
        "print(df_purpose.mean())"
      ]
    },
    {
      "cell_type": "markdown",
      "metadata": {
        "id": "3dVwBLTH2If9"
      },
      "source": [
        "# General Conclusion \n"
      ]
    },
    {
      "cell_type": "code",
      "source": [
        "print(df['credit_score'].value_counts())"
      ],
      "metadata": {
        "colab": {
          "base_uri": "https://localhost:8080/"
        },
        "id": "nFnm0Lh0cZB2",
        "outputId": "7e100a93-fb1f-4cb7-b6d3-2c5065550b61"
      },
      "execution_count": 241,
      "outputs": [
        {
          "output_type": "stream",
          "name": "stdout",
          "text": [
            "NO RISK          8849\n",
            "MID-RISK         8644\n",
            "CRITICAL RISK     782\n",
            "RISK              763\n",
            "ticket queued     222\n",
            "Name: credit_score, dtype: int64\n"
          ]
        }
      ]
    },
    {
      "cell_type": "markdown",
      "source": [
        "After processing and manipulating the data to be credible and accurate, I came up with the table above to determine loan applicants and their risk in paying back their loan. It seems that age group has more correlation to their ability to pay back their loan other than family status, the number of children, and the purpose of their loan. "
      ],
      "metadata": {
        "id": "zh9UTew0cyCf"
      }
    }
  ],
  "metadata": {
    "ExecuteTimeLog": [
      {
        "duration": 2741,
        "start_time": "2021-10-21T01:08:49.480Z"
      },
      {
        "duration": 52,
        "start_time": "2021-10-21T01:08:53.315Z"
      },
      {
        "duration": 49,
        "start_time": "2021-10-21T01:08:57.432Z"
      },
      {
        "duration": 70,
        "start_time": "2021-10-21T01:09:07.706Z"
      }
    ],
    "kernelspec": {
      "display_name": "Python 3 (ipykernel)",
      "language": "python",
      "name": "python3"
    },
    "language_info": {
      "codemirror_mode": {
        "name": "ipython",
        "version": 3
      },
      "file_extension": ".py",
      "mimetype": "text/x-python",
      "name": "python",
      "nbconvert_exporter": "python",
      "pygments_lexer": "ipython3",
      "version": "3.9.5"
    },
    "toc": {
      "base_numbering": 1,
      "nav_menu": {},
      "number_sections": true,
      "sideBar": true,
      "skip_h1_title": true,
      "title_cell": "Table of Contents",
      "title_sidebar": "Contents",
      "toc_cell": false,
      "toc_position": {},
      "toc_section_display": true,
      "toc_window_display": false
    },
    "colab": {
      "provenance": [],
      "include_colab_link": true
    }
  },
  "nbformat": 4,
  "nbformat_minor": 0
}
