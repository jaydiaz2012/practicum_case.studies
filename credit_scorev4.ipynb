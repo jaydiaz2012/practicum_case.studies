{
 "cells": [
  {
   "cell_type": "markdown",
   "metadata": {},
   "source": [
    "# Hello Jeremie!\n",
    "\n",
    "My name is Oscar Flores. I'm happy to review your project today, if you have any comments you want to add in you answers you can address to me as Oscar.\n",
    "\n",
    "If I see a mistake in the first review, I will just point it out. I let you find it and fix it by yourself. I'm trying to prepare you to work as an Data Analyst. So, at a real job, your team lead will do the same. But if you can't handle this task yet, I will give you a more accurate hint at the next iteration.\n",
    "\n",
    "You will find my comments below - **please do not move, modify or delete them**.\n",
    "\n",
    "You can find my comments in green, yellow or red boxes like this:\n",
    "\n",
    "<div class=\"alert alert-block alert-success\">\n",
    "<b>Reviewer's comment</b> <a class=\"tocSkip\"></a>\n",
    "\n",
    "Success. Everything is done succesfully.\n",
    "</div>\n",
    "\n",
    "<div class=\"alert alert-block alert-warning\">\n",
    "<b>Reviewer's comment</b> <a class=\"tocSkip\"></a>\n",
    "\n",
    "Remarks. Some recommendations.\n",
    "</div>\n",
    "\n",
    "<div class=\"alert alert-block alert-danger\">\n",
    "\n",
    "<b>Reviewer's comment</b> <a class=\"tocSkip\"></a>\n",
    "\n",
    "Needs fixing. The block requires some corrections. Work can't be accepted with the red comments.\n",
    "</div>\n",
    "\n",
    "You can answer me by using this:\n",
    "\n",
    "<div class=\"alert alert-block alert-info\">\n",
    "<b>Student answer.</b> <a class=\"tocSkip\"></a>\n",
    "</div>"
   ]
  },
  {
   "cell_type": "markdown",
   "metadata": {},
   "source": [
    "## Iteration 1: Reviewer's summary <a class=\"tocSkip\"></a>"
   ]
  },
  {
   "cell_type": "markdown",
   "metadata": {},
   "source": [
    "<div class=\"alert alert-block alert-warning\">\n",
    "<b>Reviewer's comment</b> <a class=\"tocSkip\"></a>\n",
    "\n",
    "Hi Jeremie, the code does not run, please fix whatever library is causing this problem. It is important to note that to correctly review your project it must run on this platform, before sending please reset the kernel and run all code to see if it is working correctly.\n",
    "</div>"
   ]
  },
  {
   "cell_type": "markdown",
   "metadata": {},
   "source": [
    "<div class=\"alert alert-block alert-info\">\n",
    "<b>Student answer.</b> <a class=\"tocSkip\"></a>\n",
    "    <p> Hi, Oscar. I apologize. I've used google colab for the Sprint project and uploaded the notebook in practicum. It needs to be opened at the google colab to go through the notebook. Anyway, what I'll do now is to upload the csv file in this jupyter notebook.\n",
    "</div>"
   ]
  },
  {
   "cell_type": "markdown",
   "metadata": {},
   "source": [
    "## Iteration 2: Reviewer's summary <a class=\"tocSkip\"></a>"
   ]
  },
  {
   "cell_type": "markdown",
   "metadata": {},
   "source": [
    "<div class=\"alert alert-block alert-warning\">\n",
    "<b>Reviewer's comment v2</b> <a class=\"tocSkip\"></a>\n",
    "\n",
    "Hi Jeremie, please attend to my comments with respect to dropping the null values, this needs to be fixed in order to continue the review. I also noted other smaller errors that need to be corrected.\n",
    "\n",
    "Cheers!\n",
    "</div>"
   ]
  },
  {
   "cell_type": "markdown",
   "metadata": {},
   "source": [
    "## Iteration 3: Reviewer's summary <a class=\"tocSkip\"></a>"
   ]
  },
  {
   "cell_type": "markdown",
   "metadata": {},
   "source": [
    "<div class=\"alert alert-block alert-warning\">\n",
    "<b>Reviewer's comment v3</b> <a class=\"tocSkip\"></a>\n",
    "\n",
    "Hi Jeremie, I have a 3 main comments that need correction in your work:\n",
    "\n",
    " - For section 2, when we are exploring what causes the null values, you should compare distributions and conclude wether, according to the table, the values are missing at random or if there is any other column that can explain why there are null values.\n",
    " - In section 2, you do not need to replace the missing values, that is done in section 3.\n",
    " - In the last section, you need to calculate a rate of late payment for different groups. Then you should compare if that rate is different among those groups or not. Also, for the column purpose, you should categorize its values so that you don't have to deal with too many different groups when analyzing the hypotheses.\n",
    "    \n",
    "I left more detailed comments about these changes in each section, please have a look at those.\n",
    "\n",
    "Cheers!\n",
    "</div>"
   ]
  },
  {
   "cell_type": "markdown",
   "metadata": {},
   "source": [
    "## Iteration 4: Reviewer's summary <a class=\"tocSkip\"></a>"
   ]
  },
  {
   "cell_type": "markdown",
   "metadata": {},
   "source": [
    "<div class=\"alert alert-block alert-warning\">\n",
    "<b>Reviewer's comment v4</b> <a class=\"tocSkip\"></a>\n",
    "\n",
    "Hi Jeremie, please check my comments about the same issues your project had the last iteration. There are some cells that don't run, please fix those.\n",
    "\n",
    "Cheers!\n",
    "</div>"
   ]
  },
  {
   "cell_type": "markdown",
   "metadata": {
    "id": "3NhUsUxQ2Ifk"
   },
   "source": [
    "# Analyzing borrowers’ risk of defaulting\n",
    "\n",
    "Your project is to prepare a report for a bank’s loan division. You’ll need to find out if a customer’s marital status and number of children has an impact on whether they will default on a loan. The bank already has some data on customers’ credit worthiness.\n",
    "\n",
    "Your report will be considered when building the **credit score** of a potential customer. The **credit score** is used to evaluate the ability of a potential borrower to repay their loan."
   ]
  },
  {
   "cell_type": "markdown",
   "metadata": {
    "id": "zRqdTMkg2Ifp"
   },
   "source": [
    "## Open the data file and have a look at the general information. "
   ]
  },
  {
   "cell_type": "code",
   "execution_count": 644,
   "metadata": {
    "colab": {
     "base_uri": "https://localhost:8080/",
     "height": 74
    },
    "id": "9cbzi-Lv2Ifq",
    "outputId": "81dc5202-3ea5-4e20-adf1-39f2d1a921a4"
   },
   "outputs": [],
   "source": [
    "# Loading all the libraries\n",
    "import pandas as pd\n",
    "import numpy as np\n",
    "import pandas as pd\n",
    "from scipy import stats\n",
    "import seaborn as sns \n",
    "import matplotlib.pyplot as plt \n",
    "import warnings\n",
    "warnings.filterwarnings('ignore')\n",
    "\n",
    "# Load the data\n",
    "#df = pd.read_csv('credit_scoring_eng.csv')\n",
    "df = pd.read_csv('/datasets/credit_scoring_eng.csv')"
   ]
  },
  {
   "cell_type": "markdown",
   "metadata": {},
   "source": [
    "<div class=\"alert alert-block alert-warning\">\n",
    "<b>Reviewer's comment v2</b> <a class=\"tocSkip\"></a>\n",
    "\n",
    "I had to edit the path because the cell wouldn't run. Please check this by resetting a kernel and running the whole project before sending it for review.\n",
    "    \n",
    "It is good practice to import libraries and read data in different cells. Please do that in future projects.\n",
    "</div>"
   ]
  },
  {
   "cell_type": "markdown",
   "metadata": {},
   "source": [
    "<div class=\"alert alert-block alert-info\">\n",
    "<b>Student answer.</b> <a class=\"tocSkip\"></a>\n",
    "    <p>Please give more detailed instructions how to reset the kernel. Thank you. </p>"
   ]
  },
  {
   "cell_type": "markdown",
   "metadata": {},
   "source": [
    "<div class=\"alert alert-block alert-info\">\n",
    "<b>Student answer.</b> <a class=\"tocSkip\"></a>\n",
    "    <p>Update on the above comment please. Thank you. </p>"
   ]
  },
  {
   "cell_type": "markdown",
   "metadata": {
    "id": "zbmiLp4H2Ifr"
   },
   "source": [
    "## Task 1. Data exploration\n",
    "\n",
    "**Description of the data**\n",
    "- `children` - the number of children in the family\n",
    "- `days_employed` - work experience in days\n",
    "- `dob_years` - client's age in years\n",
    "- `education` - client's education\n",
    "- `education_id` - education identifier\n",
    "- `family_status` - marital status\n",
    "- `family_status_id` - marital status identifier\n",
    "- `gender` - gender of the client\n",
    "- `income_type` - type of employment\n",
    "- `debt` - was there any debt on loan repayment\n",
    "- `total_income` - monthly income\n",
    "- `purpose` - the purpose of obtaining a loan"
   ]
  },
  {
   "cell_type": "code",
   "execution_count": 645,
   "metadata": {
    "colab": {
     "base_uri": "https://localhost:8080/"
    },
    "id": "d0tI6_HTlK2z",
    "outputId": "d3551559-3ea6-44e6-dd8f-024365e09dc1"
   },
   "outputs": [
    {
     "name": "stdout",
     "output_type": "stream",
     "text": [
      "Dataframe has 21525 rows and 12 columns\n",
      "\n",
      "*********************************\n",
      "           children  days_employed     dob_years  education_id  \\\n",
      "count  21525.000000   19351.000000  21525.000000  21525.000000   \n",
      "mean       0.538908   63046.497661     43.293380      0.817236   \n",
      "std        1.381587  140827.311974     12.574584      0.548138   \n",
      "min       -1.000000  -18388.949901      0.000000      0.000000   \n",
      "25%        0.000000   -2747.423625     33.000000      1.000000   \n",
      "50%        0.000000   -1203.369529     42.000000      1.000000   \n",
      "75%        1.000000    -291.095954     53.000000      1.000000   \n",
      "max       20.000000  401755.400475     75.000000      4.000000   \n",
      "\n",
      "       family_status_id          debt   total_income  \n",
      "count      21525.000000  21525.000000   19351.000000  \n",
      "mean           0.972544      0.080883   26787.568355  \n",
      "std            1.420324      0.272661   16475.450632  \n",
      "min            0.000000      0.000000    3306.762000  \n",
      "25%            0.000000      0.000000   16488.504500  \n",
      "50%            0.000000      0.000000   23202.870000  \n",
      "75%            1.000000      0.000000   32549.611000  \n",
      "max            4.000000      1.000000  362496.645000  \n",
      "\n",
      " *********************************\n",
      "(21525, 12)\n"
     ]
    }
   ],
   "source": [
    "def check_data_stuff(df):\n",
    "  print(\"Dataframe has {} rows and {} columns\".format(df.shape[0], df.shape[1]))\n",
    "  print('\\n*********************************')\n",
    "  print(df.describe())\n",
    "  print('\\n *********************************')\n",
    "  print(df.shape)\n",
    "\n",
    "check_data_stuff(df)"
   ]
  },
  {
   "cell_type": "markdown",
   "metadata": {},
   "source": [
    "<div class=\"alert alert-block alert-warning\">\n",
    "<b>Reviewer's comment v2</b> <a class=\"tocSkip\"></a>\n",
    "\n",
    "Instead of using print, use display, it shows a prettier output that has a better format.\n",
    "</div>"
   ]
  },
  {
   "cell_type": "markdown",
   "metadata": {},
   "source": [
    "<div class=\"alert alert-block alert-info\">\n",
    "<b>Student answer.</b> <a class=\"tocSkip\"></a>\n",
    "    <p>It's my first time to encounter using display. Neither the tutor or the module mentioned this. But I'll take note of this.</p>"
   ]
  },
  {
   "cell_type": "code",
   "execution_count": 646,
   "metadata": {
    "colab": {
     "base_uri": "https://localhost:8080/",
     "height": 363
    },
    "id": "VTPv_BUS2Ifs",
    "outputId": "b5ed44de-0c3d-4a82-d287-c54aeeafb159",
    "scrolled": true
   },
   "outputs": [
    {
     "data": {
      "text/html": [
       "<div>\n",
       "<style scoped>\n",
       "    .dataframe tbody tr th:only-of-type {\n",
       "        vertical-align: middle;\n",
       "    }\n",
       "\n",
       "    .dataframe tbody tr th {\n",
       "        vertical-align: top;\n",
       "    }\n",
       "\n",
       "    .dataframe thead th {\n",
       "        text-align: right;\n",
       "    }\n",
       "</style>\n",
       "<table border=\"1\" class=\"dataframe\">\n",
       "  <thead>\n",
       "    <tr style=\"text-align: right;\">\n",
       "      <th></th>\n",
       "      <th>children</th>\n",
       "      <th>days_employed</th>\n",
       "      <th>dob_years</th>\n",
       "      <th>education</th>\n",
       "      <th>education_id</th>\n",
       "      <th>family_status</th>\n",
       "      <th>family_status_id</th>\n",
       "      <th>gender</th>\n",
       "      <th>income_type</th>\n",
       "      <th>debt</th>\n",
       "      <th>total_income</th>\n",
       "      <th>purpose</th>\n",
       "    </tr>\n",
       "  </thead>\n",
       "  <tbody>\n",
       "    <tr>\n",
       "      <th>0</th>\n",
       "      <td>1</td>\n",
       "      <td>-8437.673028</td>\n",
       "      <td>42</td>\n",
       "      <td>bachelor's degree</td>\n",
       "      <td>0</td>\n",
       "      <td>married</td>\n",
       "      <td>0</td>\n",
       "      <td>F</td>\n",
       "      <td>employee</td>\n",
       "      <td>0</td>\n",
       "      <td>40620.102</td>\n",
       "      <td>purchase of the house</td>\n",
       "    </tr>\n",
       "    <tr>\n",
       "      <th>1</th>\n",
       "      <td>1</td>\n",
       "      <td>-4024.803754</td>\n",
       "      <td>36</td>\n",
       "      <td>secondary education</td>\n",
       "      <td>1</td>\n",
       "      <td>married</td>\n",
       "      <td>0</td>\n",
       "      <td>F</td>\n",
       "      <td>employee</td>\n",
       "      <td>0</td>\n",
       "      <td>17932.802</td>\n",
       "      <td>car purchase</td>\n",
       "    </tr>\n",
       "    <tr>\n",
       "      <th>2</th>\n",
       "      <td>0</td>\n",
       "      <td>-5623.422610</td>\n",
       "      <td>33</td>\n",
       "      <td>Secondary Education</td>\n",
       "      <td>1</td>\n",
       "      <td>married</td>\n",
       "      <td>0</td>\n",
       "      <td>M</td>\n",
       "      <td>employee</td>\n",
       "      <td>0</td>\n",
       "      <td>23341.752</td>\n",
       "      <td>purchase of the house</td>\n",
       "    </tr>\n",
       "    <tr>\n",
       "      <th>3</th>\n",
       "      <td>3</td>\n",
       "      <td>-4124.747207</td>\n",
       "      <td>32</td>\n",
       "      <td>secondary education</td>\n",
       "      <td>1</td>\n",
       "      <td>married</td>\n",
       "      <td>0</td>\n",
       "      <td>M</td>\n",
       "      <td>employee</td>\n",
       "      <td>0</td>\n",
       "      <td>42820.568</td>\n",
       "      <td>supplementary education</td>\n",
       "    </tr>\n",
       "    <tr>\n",
       "      <th>4</th>\n",
       "      <td>0</td>\n",
       "      <td>340266.072047</td>\n",
       "      <td>53</td>\n",
       "      <td>secondary education</td>\n",
       "      <td>1</td>\n",
       "      <td>civil partnership</td>\n",
       "      <td>1</td>\n",
       "      <td>F</td>\n",
       "      <td>retiree</td>\n",
       "      <td>0</td>\n",
       "      <td>25378.572</td>\n",
       "      <td>to have a wedding</td>\n",
       "    </tr>\n",
       "    <tr>\n",
       "      <th>5</th>\n",
       "      <td>0</td>\n",
       "      <td>-926.185831</td>\n",
       "      <td>27</td>\n",
       "      <td>bachelor's degree</td>\n",
       "      <td>0</td>\n",
       "      <td>civil partnership</td>\n",
       "      <td>1</td>\n",
       "      <td>M</td>\n",
       "      <td>business</td>\n",
       "      <td>0</td>\n",
       "      <td>40922.170</td>\n",
       "      <td>purchase of the house</td>\n",
       "    </tr>\n",
       "    <tr>\n",
       "      <th>6</th>\n",
       "      <td>0</td>\n",
       "      <td>-2879.202052</td>\n",
       "      <td>43</td>\n",
       "      <td>bachelor's degree</td>\n",
       "      <td>0</td>\n",
       "      <td>married</td>\n",
       "      <td>0</td>\n",
       "      <td>F</td>\n",
       "      <td>business</td>\n",
       "      <td>0</td>\n",
       "      <td>38484.156</td>\n",
       "      <td>housing transactions</td>\n",
       "    </tr>\n",
       "    <tr>\n",
       "      <th>7</th>\n",
       "      <td>0</td>\n",
       "      <td>-152.779569</td>\n",
       "      <td>50</td>\n",
       "      <td>SECONDARY EDUCATION</td>\n",
       "      <td>1</td>\n",
       "      <td>married</td>\n",
       "      <td>0</td>\n",
       "      <td>M</td>\n",
       "      <td>employee</td>\n",
       "      <td>0</td>\n",
       "      <td>21731.829</td>\n",
       "      <td>education</td>\n",
       "    </tr>\n",
       "    <tr>\n",
       "      <th>8</th>\n",
       "      <td>2</td>\n",
       "      <td>-6929.865299</td>\n",
       "      <td>35</td>\n",
       "      <td>BACHELOR'S DEGREE</td>\n",
       "      <td>0</td>\n",
       "      <td>civil partnership</td>\n",
       "      <td>1</td>\n",
       "      <td>F</td>\n",
       "      <td>employee</td>\n",
       "      <td>0</td>\n",
       "      <td>15337.093</td>\n",
       "      <td>having a wedding</td>\n",
       "    </tr>\n",
       "    <tr>\n",
       "      <th>9</th>\n",
       "      <td>0</td>\n",
       "      <td>-2188.756445</td>\n",
       "      <td>41</td>\n",
       "      <td>secondary education</td>\n",
       "      <td>1</td>\n",
       "      <td>married</td>\n",
       "      <td>0</td>\n",
       "      <td>M</td>\n",
       "      <td>employee</td>\n",
       "      <td>0</td>\n",
       "      <td>23108.150</td>\n",
       "      <td>purchase of the house for my family</td>\n",
       "    </tr>\n",
       "  </tbody>\n",
       "</table>\n",
       "</div>"
      ],
      "text/plain": [
       "   children  days_employed  dob_years            education  education_id  \\\n",
       "0         1   -8437.673028         42    bachelor's degree             0   \n",
       "1         1   -4024.803754         36  secondary education             1   \n",
       "2         0   -5623.422610         33  Secondary Education             1   \n",
       "3         3   -4124.747207         32  secondary education             1   \n",
       "4         0  340266.072047         53  secondary education             1   \n",
       "5         0    -926.185831         27    bachelor's degree             0   \n",
       "6         0   -2879.202052         43    bachelor's degree             0   \n",
       "7         0    -152.779569         50  SECONDARY EDUCATION             1   \n",
       "8         2   -6929.865299         35    BACHELOR'S DEGREE             0   \n",
       "9         0   -2188.756445         41  secondary education             1   \n",
       "\n",
       "       family_status  family_status_id gender income_type  debt  total_income  \\\n",
       "0            married                 0      F    employee     0     40620.102   \n",
       "1            married                 0      F    employee     0     17932.802   \n",
       "2            married                 0      M    employee     0     23341.752   \n",
       "3            married                 0      M    employee     0     42820.568   \n",
       "4  civil partnership                 1      F     retiree     0     25378.572   \n",
       "5  civil partnership                 1      M    business     0     40922.170   \n",
       "6            married                 0      F    business     0     38484.156   \n",
       "7            married                 0      M    employee     0     21731.829   \n",
       "8  civil partnership                 1      F    employee     0     15337.093   \n",
       "9            married                 0      M    employee     0     23108.150   \n",
       "\n",
       "                               purpose  \n",
       "0                purchase of the house  \n",
       "1                         car purchase  \n",
       "2                purchase of the house  \n",
       "3              supplementary education  \n",
       "4                    to have a wedding  \n",
       "5                purchase of the house  \n",
       "6                 housing transactions  \n",
       "7                            education  \n",
       "8                     having a wedding  \n",
       "9  purchase of the house for my family  "
      ]
     },
     "execution_count": 646,
     "metadata": {},
     "output_type": "execute_result"
    }
   ],
   "source": [
    "df.head(10)\n",
    "\n"
   ]
  },
  {
   "cell_type": "code",
   "execution_count": 647,
   "metadata": {
    "colab": {
     "base_uri": "https://localhost:8080/",
     "height": 363
    },
    "id": "EbGPcyA7x-Rk",
    "outputId": "67dde1d8-6456-44a8-c91b-3cc3c9d470b4"
   },
   "outputs": [
    {
     "data": {
      "text/html": [
       "<div>\n",
       "<style scoped>\n",
       "    .dataframe tbody tr th:only-of-type {\n",
       "        vertical-align: middle;\n",
       "    }\n",
       "\n",
       "    .dataframe tbody tr th {\n",
       "        vertical-align: top;\n",
       "    }\n",
       "\n",
       "    .dataframe thead th {\n",
       "        text-align: right;\n",
       "    }\n",
       "</style>\n",
       "<table border=\"1\" class=\"dataframe\">\n",
       "  <thead>\n",
       "    <tr style=\"text-align: right;\">\n",
       "      <th></th>\n",
       "      <th>children</th>\n",
       "      <th>days_employed</th>\n",
       "      <th>dob_years</th>\n",
       "      <th>education</th>\n",
       "      <th>education_id</th>\n",
       "      <th>family_status</th>\n",
       "      <th>family_status_id</th>\n",
       "      <th>gender</th>\n",
       "      <th>income_type</th>\n",
       "      <th>debt</th>\n",
       "      <th>total_income</th>\n",
       "      <th>purpose</th>\n",
       "    </tr>\n",
       "  </thead>\n",
       "  <tbody>\n",
       "    <tr>\n",
       "      <th>21515</th>\n",
       "      <td>1</td>\n",
       "      <td>-467.685130</td>\n",
       "      <td>28</td>\n",
       "      <td>secondary education</td>\n",
       "      <td>1</td>\n",
       "      <td>married</td>\n",
       "      <td>0</td>\n",
       "      <td>F</td>\n",
       "      <td>employee</td>\n",
       "      <td>1</td>\n",
       "      <td>17517.812</td>\n",
       "      <td>to become educated</td>\n",
       "    </tr>\n",
       "    <tr>\n",
       "      <th>21516</th>\n",
       "      <td>0</td>\n",
       "      <td>-914.391429</td>\n",
       "      <td>42</td>\n",
       "      <td>bachelor's degree</td>\n",
       "      <td>0</td>\n",
       "      <td>married</td>\n",
       "      <td>0</td>\n",
       "      <td>F</td>\n",
       "      <td>business</td>\n",
       "      <td>0</td>\n",
       "      <td>51649.244</td>\n",
       "      <td>purchase of my own house</td>\n",
       "    </tr>\n",
       "    <tr>\n",
       "      <th>21517</th>\n",
       "      <td>0</td>\n",
       "      <td>-404.679034</td>\n",
       "      <td>42</td>\n",
       "      <td>bachelor's degree</td>\n",
       "      <td>0</td>\n",
       "      <td>civil partnership</td>\n",
       "      <td>1</td>\n",
       "      <td>F</td>\n",
       "      <td>business</td>\n",
       "      <td>0</td>\n",
       "      <td>28489.529</td>\n",
       "      <td>buying my own car</td>\n",
       "    </tr>\n",
       "    <tr>\n",
       "      <th>21518</th>\n",
       "      <td>0</td>\n",
       "      <td>373995.710838</td>\n",
       "      <td>59</td>\n",
       "      <td>SECONDARY EDUCATION</td>\n",
       "      <td>1</td>\n",
       "      <td>married</td>\n",
       "      <td>0</td>\n",
       "      <td>F</td>\n",
       "      <td>retiree</td>\n",
       "      <td>0</td>\n",
       "      <td>24618.344</td>\n",
       "      <td>purchase of a car</td>\n",
       "    </tr>\n",
       "    <tr>\n",
       "      <th>21519</th>\n",
       "      <td>1</td>\n",
       "      <td>-2351.431934</td>\n",
       "      <td>37</td>\n",
       "      <td>graduate degree</td>\n",
       "      <td>4</td>\n",
       "      <td>divorced</td>\n",
       "      <td>3</td>\n",
       "      <td>M</td>\n",
       "      <td>employee</td>\n",
       "      <td>0</td>\n",
       "      <td>18551.846</td>\n",
       "      <td>buy commercial real estate</td>\n",
       "    </tr>\n",
       "    <tr>\n",
       "      <th>21520</th>\n",
       "      <td>1</td>\n",
       "      <td>-4529.316663</td>\n",
       "      <td>43</td>\n",
       "      <td>secondary education</td>\n",
       "      <td>1</td>\n",
       "      <td>civil partnership</td>\n",
       "      <td>1</td>\n",
       "      <td>F</td>\n",
       "      <td>business</td>\n",
       "      <td>0</td>\n",
       "      <td>35966.698</td>\n",
       "      <td>housing transactions</td>\n",
       "    </tr>\n",
       "    <tr>\n",
       "      <th>21521</th>\n",
       "      <td>0</td>\n",
       "      <td>343937.404131</td>\n",
       "      <td>67</td>\n",
       "      <td>secondary education</td>\n",
       "      <td>1</td>\n",
       "      <td>married</td>\n",
       "      <td>0</td>\n",
       "      <td>F</td>\n",
       "      <td>retiree</td>\n",
       "      <td>0</td>\n",
       "      <td>24959.969</td>\n",
       "      <td>purchase of a car</td>\n",
       "    </tr>\n",
       "    <tr>\n",
       "      <th>21522</th>\n",
       "      <td>1</td>\n",
       "      <td>-2113.346888</td>\n",
       "      <td>38</td>\n",
       "      <td>secondary education</td>\n",
       "      <td>1</td>\n",
       "      <td>civil partnership</td>\n",
       "      <td>1</td>\n",
       "      <td>M</td>\n",
       "      <td>employee</td>\n",
       "      <td>1</td>\n",
       "      <td>14347.610</td>\n",
       "      <td>property</td>\n",
       "    </tr>\n",
       "    <tr>\n",
       "      <th>21523</th>\n",
       "      <td>3</td>\n",
       "      <td>-3112.481705</td>\n",
       "      <td>38</td>\n",
       "      <td>secondary education</td>\n",
       "      <td>1</td>\n",
       "      <td>married</td>\n",
       "      <td>0</td>\n",
       "      <td>M</td>\n",
       "      <td>employee</td>\n",
       "      <td>1</td>\n",
       "      <td>39054.888</td>\n",
       "      <td>buying my own car</td>\n",
       "    </tr>\n",
       "    <tr>\n",
       "      <th>21524</th>\n",
       "      <td>2</td>\n",
       "      <td>-1984.507589</td>\n",
       "      <td>40</td>\n",
       "      <td>secondary education</td>\n",
       "      <td>1</td>\n",
       "      <td>married</td>\n",
       "      <td>0</td>\n",
       "      <td>F</td>\n",
       "      <td>employee</td>\n",
       "      <td>0</td>\n",
       "      <td>13127.587</td>\n",
       "      <td>to buy a car</td>\n",
       "    </tr>\n",
       "  </tbody>\n",
       "</table>\n",
       "</div>"
      ],
      "text/plain": [
       "       children  days_employed  dob_years            education  education_id  \\\n",
       "21515         1    -467.685130         28  secondary education             1   \n",
       "21516         0    -914.391429         42    bachelor's degree             0   \n",
       "21517         0    -404.679034         42    bachelor's degree             0   \n",
       "21518         0  373995.710838         59  SECONDARY EDUCATION             1   \n",
       "21519         1   -2351.431934         37      graduate degree             4   \n",
       "21520         1   -4529.316663         43  secondary education             1   \n",
       "21521         0  343937.404131         67  secondary education             1   \n",
       "21522         1   -2113.346888         38  secondary education             1   \n",
       "21523         3   -3112.481705         38  secondary education             1   \n",
       "21524         2   -1984.507589         40  secondary education             1   \n",
       "\n",
       "           family_status  family_status_id gender income_type  debt  \\\n",
       "21515            married                 0      F    employee     1   \n",
       "21516            married                 0      F    business     0   \n",
       "21517  civil partnership                 1      F    business     0   \n",
       "21518            married                 0      F     retiree     0   \n",
       "21519           divorced                 3      M    employee     0   \n",
       "21520  civil partnership                 1      F    business     0   \n",
       "21521            married                 0      F     retiree     0   \n",
       "21522  civil partnership                 1      M    employee     1   \n",
       "21523            married                 0      M    employee     1   \n",
       "21524            married                 0      F    employee     0   \n",
       "\n",
       "       total_income                     purpose  \n",
       "21515     17517.812          to become educated  \n",
       "21516     51649.244    purchase of my own house  \n",
       "21517     28489.529           buying my own car  \n",
       "21518     24618.344           purchase of a car  \n",
       "21519     18551.846  buy commercial real estate  \n",
       "21520     35966.698        housing transactions  \n",
       "21521     24959.969           purchase of a car  \n",
       "21522     14347.610                    property  \n",
       "21523     39054.888           buying my own car  \n",
       "21524     13127.587                to buy a car  "
      ]
     },
     "execution_count": 647,
     "metadata": {},
     "output_type": "execute_result"
    }
   ],
   "source": [
    "df.tail(10)"
   ]
  },
  {
   "cell_type": "markdown",
   "metadata": {
    "id": "CMiiTJRd2Ift"
   },
   "source": [
    "Observations:\n",
    "<p>The days_employed column contain negative values. It needs to be investigated further. The entries in education column are inconsistent with the cases. Some are in lower case while the rest are in uppoer case. Education_id and family_status_id seems to show responses in various scale. Values in the Debt column seems to be Boolean. There's Nan in a single row which shows that there are duplicate values.</p>  "
   ]
  },
  {
   "cell_type": "code",
   "execution_count": 648,
   "metadata": {
    "colab": {
     "base_uri": "https://localhost:8080/"
    },
    "id": "G9jXDI8-2Ift",
    "outputId": "8b636ec6-ffb8-4d3b-a37f-70c49dc2be72",
    "scrolled": false
   },
   "outputs": [
    {
     "name": "stdout",
     "output_type": "stream",
     "text": [
      "<class 'pandas.core.frame.DataFrame'>\n",
      "RangeIndex: 21525 entries, 0 to 21524\n",
      "Data columns (total 12 columns):\n",
      " #   Column            Non-Null Count  Dtype  \n",
      "---  ------            --------------  -----  \n",
      " 0   children          21525 non-null  int64  \n",
      " 1   days_employed     19351 non-null  float64\n",
      " 2   dob_years         21525 non-null  int64  \n",
      " 3   education         21525 non-null  object \n",
      " 4   education_id      21525 non-null  int64  \n",
      " 5   family_status     21525 non-null  object \n",
      " 6   family_status_id  21525 non-null  int64  \n",
      " 7   gender            21525 non-null  object \n",
      " 8   income_type       21525 non-null  object \n",
      " 9   debt              21525 non-null  int64  \n",
      " 10  total_income      19351 non-null  float64\n",
      " 11  purpose           21525 non-null  object \n",
      "dtypes: float64(2), int64(5), object(5)\n",
      "memory usage: 2.0+ MB\n"
     ]
    }
   ],
   "source": [
    "df.info(show_counts=True, verbose=True)\n"
   ]
  },
  {
   "cell_type": "code",
   "execution_count": 649,
   "metadata": {
    "colab": {
     "base_uri": "https://localhost:8080/"
    },
    "id": "gw-VAuhCeuIM",
    "outputId": "29caafd6-01d8-43c2-d296-7b03745e4cad"
   },
   "outputs": [
    {
     "data": {
      "text/plain": [
       "Index(['children', 'days_employed', 'dob_years', 'education', 'education_id',\n",
       "       'family_status', 'family_status_id', 'gender', 'income_type', 'debt',\n",
       "       'total_income', 'purpose'],\n",
       "      dtype='object')"
      ]
     },
     "execution_count": 649,
     "metadata": {},
     "output_type": "execute_result"
    }
   ],
   "source": [
    "df.columns"
   ]
  },
  {
   "cell_type": "code",
   "execution_count": 650,
   "metadata": {
    "colab": {
     "base_uri": "https://localhost:8080/"
    },
    "id": "5Lq3EQwVriX0",
    "outputId": "96c6c036-8e21-414d-ca4c-7705b740dcd8"
   },
   "outputs": [
    {
     "name": "stdout",
     "output_type": "stream",
     "text": [
      "[\"BACHELOR'S DEGREE\" \"Bachelor's Degree\" 'GRADUATE DEGREE'\n",
      " 'Graduate Degree' 'PRIMARY EDUCATION' 'Primary Education'\n",
      " 'SECONDARY EDUCATION' 'SOME COLLEGE' 'Secondary Education' 'Some College'\n",
      " \"bachelor's degree\" 'graduate degree' 'primary education'\n",
      " 'secondary education' 'some college']\n",
      "\n",
      "*********************************\n",
      "['F' 'M' 'XNA']\n",
      "\n",
      " *********************************\n",
      "[\"BACHELOR'S DEGREE\" \"Bachelor's Degree\" 'GRADUATE DEGREE'\n",
      " 'Graduate Degree' 'PRIMARY EDUCATION' 'Primary Education'\n",
      " 'SECONDARY EDUCATION' 'SOME COLLEGE' 'Secondary Education' 'Some College'\n",
      " \"bachelor's degree\" 'graduate degree' 'primary education'\n",
      " 'secondary education' 'some college']\n",
      "\n",
      " *********************************\n",
      "['civil partnership' 'divorced' 'married' 'unmarried' 'widow / widower']\n",
      "\n",
      " *********************************\n",
      "['business' 'civil servant' 'employee' 'entrepreneur'\n",
      " 'paternity / maternity leave' 'retiree' 'student' 'unemployed']\n",
      "\n",
      " *********************************\n",
      "['building a property' 'building a real estate'\n",
      " 'buy commercial real estate' 'buy real estate'\n",
      " 'buy residential real estate' 'buying a second-hand car'\n",
      " 'buying my own car' 'buying property for renting out' 'car'\n",
      " 'car purchase' 'cars' 'construction of own property' 'education'\n",
      " 'getting an education' 'getting higher education' 'going to university'\n",
      " 'having a wedding' 'housing' 'housing renovation' 'housing transactions'\n",
      " 'profile education' 'property' 'purchase of a car'\n",
      " 'purchase of my own house' 'purchase of the house'\n",
      " 'purchase of the house for my family' 'real estate transactions'\n",
      " 'second-hand car purchase' 'supplementary education' 'to become educated'\n",
      " 'to buy a car' 'to get a supplementary education' 'to have a wedding'\n",
      " 'to own a car' 'transactions with commercial real estate'\n",
      " 'transactions with my real estate' 'university education'\n",
      " 'wedding ceremony']\n"
     ]
    }
   ],
   "source": [
    "def check_data_category(df):\n",
    "  print(df['education'].sort_values().unique())\n",
    "  print('\\n*********************************')\n",
    "  print(df['gender'].sort_values().unique())\n",
    "  print('\\n *********************************')\n",
    "  print(df['education'].sort_values().unique())\n",
    "  print('\\n *********************************')\n",
    "  print(df['family_status'].sort_values().unique())\n",
    "  print('\\n *********************************')\n",
    "  print(df['income_type'].sort_values().unique())\n",
    "  print('\\n *********************************')\n",
    "  print(df['purpose'].sort_values().unique())\n",
    "\n",
    "check_data_category(df)"
   ]
  },
  {
   "cell_type": "code",
   "execution_count": 651,
   "metadata": {
    "colab": {
     "base_uri": "https://localhost:8080/",
     "height": 206
    },
    "id": "nlaACIHDjH9a",
    "outputId": "acc5a114-43af-41ba-ec3c-83541a8e5767"
   },
   "outputs": [
    {
     "data": {
      "text/html": [
       "<div>\n",
       "<style scoped>\n",
       "    .dataframe tbody tr th:only-of-type {\n",
       "        vertical-align: middle;\n",
       "    }\n",
       "\n",
       "    .dataframe tbody tr th {\n",
       "        vertical-align: top;\n",
       "    }\n",
       "\n",
       "    .dataframe thead th {\n",
       "        text-align: right;\n",
       "    }\n",
       "</style>\n",
       "<table border=\"1\" class=\"dataframe\">\n",
       "  <thead>\n",
       "    <tr style=\"text-align: right;\">\n",
       "      <th></th>\n",
       "      <th>count</th>\n",
       "      <th>unique</th>\n",
       "      <th>top</th>\n",
       "      <th>freq</th>\n",
       "    </tr>\n",
       "  </thead>\n",
       "  <tbody>\n",
       "    <tr>\n",
       "      <th>education</th>\n",
       "      <td>21525</td>\n",
       "      <td>15</td>\n",
       "      <td>secondary education</td>\n",
       "      <td>13750</td>\n",
       "    </tr>\n",
       "    <tr>\n",
       "      <th>family_status</th>\n",
       "      <td>21525</td>\n",
       "      <td>5</td>\n",
       "      <td>married</td>\n",
       "      <td>12380</td>\n",
       "    </tr>\n",
       "    <tr>\n",
       "      <th>gender</th>\n",
       "      <td>21525</td>\n",
       "      <td>3</td>\n",
       "      <td>F</td>\n",
       "      <td>14236</td>\n",
       "    </tr>\n",
       "    <tr>\n",
       "      <th>income_type</th>\n",
       "      <td>21525</td>\n",
       "      <td>8</td>\n",
       "      <td>employee</td>\n",
       "      <td>11119</td>\n",
       "    </tr>\n",
       "    <tr>\n",
       "      <th>purpose</th>\n",
       "      <td>21525</td>\n",
       "      <td>38</td>\n",
       "      <td>wedding ceremony</td>\n",
       "      <td>797</td>\n",
       "    </tr>\n",
       "  </tbody>\n",
       "</table>\n",
       "</div>"
      ],
      "text/plain": [
       "               count unique                  top   freq\n",
       "education      21525     15  secondary education  13750\n",
       "family_status  21525      5              married  12380\n",
       "gender         21525      3                    F  14236\n",
       "income_type    21525      8             employee  11119\n",
       "purpose        21525     38     wedding ceremony    797"
      ]
     },
     "execution_count": 651,
     "metadata": {},
     "output_type": "execute_result"
    }
   ],
   "source": [
    "categorical = df.dtypes[df.dtypes == \"object\"].index\n",
    "df[categorical].describe().transpose()"
   ]
  },
  {
   "cell_type": "code",
   "execution_count": 652,
   "metadata": {
    "colab": {
     "base_uri": "https://localhost:8080/",
     "height": 269
    },
    "id": "IusYo5ENOOU-",
    "outputId": "fda70392-8a05-4612-9452-2bfe006360de"
   },
   "outputs": [
    {
     "data": {
      "text/html": [
       "<div>\n",
       "<style scoped>\n",
       "    .dataframe tbody tr th:only-of-type {\n",
       "        vertical-align: middle;\n",
       "    }\n",
       "\n",
       "    .dataframe tbody tr th {\n",
       "        vertical-align: top;\n",
       "    }\n",
       "\n",
       "    .dataframe thead th {\n",
       "        text-align: right;\n",
       "    }\n",
       "</style>\n",
       "<table border=\"1\" class=\"dataframe\">\n",
       "  <thead>\n",
       "    <tr style=\"text-align: right;\">\n",
       "      <th></th>\n",
       "      <th>count</th>\n",
       "      <th>mean</th>\n",
       "      <th>std</th>\n",
       "      <th>min</th>\n",
       "      <th>25%</th>\n",
       "      <th>50%</th>\n",
       "      <th>75%</th>\n",
       "      <th>max</th>\n",
       "    </tr>\n",
       "  </thead>\n",
       "  <tbody>\n",
       "    <tr>\n",
       "      <th>children</th>\n",
       "      <td>21525.0</td>\n",
       "      <td>0.538908</td>\n",
       "      <td>1.381587</td>\n",
       "      <td>-1.000000</td>\n",
       "      <td>0.000000</td>\n",
       "      <td>0.000000</td>\n",
       "      <td>1.000000</td>\n",
       "      <td>20.000000</td>\n",
       "    </tr>\n",
       "    <tr>\n",
       "      <th>days_employed</th>\n",
       "      <td>19351.0</td>\n",
       "      <td>63046.497661</td>\n",
       "      <td>140827.311974</td>\n",
       "      <td>-18388.949901</td>\n",
       "      <td>-2747.423625</td>\n",
       "      <td>-1203.369529</td>\n",
       "      <td>-291.095954</td>\n",
       "      <td>401755.400475</td>\n",
       "    </tr>\n",
       "    <tr>\n",
       "      <th>dob_years</th>\n",
       "      <td>21525.0</td>\n",
       "      <td>43.293380</td>\n",
       "      <td>12.574584</td>\n",
       "      <td>0.000000</td>\n",
       "      <td>33.000000</td>\n",
       "      <td>42.000000</td>\n",
       "      <td>53.000000</td>\n",
       "      <td>75.000000</td>\n",
       "    </tr>\n",
       "    <tr>\n",
       "      <th>education_id</th>\n",
       "      <td>21525.0</td>\n",
       "      <td>0.817236</td>\n",
       "      <td>0.548138</td>\n",
       "      <td>0.000000</td>\n",
       "      <td>1.000000</td>\n",
       "      <td>1.000000</td>\n",
       "      <td>1.000000</td>\n",
       "      <td>4.000000</td>\n",
       "    </tr>\n",
       "    <tr>\n",
       "      <th>family_status_id</th>\n",
       "      <td>21525.0</td>\n",
       "      <td>0.972544</td>\n",
       "      <td>1.420324</td>\n",
       "      <td>0.000000</td>\n",
       "      <td>0.000000</td>\n",
       "      <td>0.000000</td>\n",
       "      <td>1.000000</td>\n",
       "      <td>4.000000</td>\n",
       "    </tr>\n",
       "    <tr>\n",
       "      <th>debt</th>\n",
       "      <td>21525.0</td>\n",
       "      <td>0.080883</td>\n",
       "      <td>0.272661</td>\n",
       "      <td>0.000000</td>\n",
       "      <td>0.000000</td>\n",
       "      <td>0.000000</td>\n",
       "      <td>0.000000</td>\n",
       "      <td>1.000000</td>\n",
       "    </tr>\n",
       "    <tr>\n",
       "      <th>total_income</th>\n",
       "      <td>19351.0</td>\n",
       "      <td>26787.568355</td>\n",
       "      <td>16475.450632</td>\n",
       "      <td>3306.762000</td>\n",
       "      <td>16488.504500</td>\n",
       "      <td>23202.870000</td>\n",
       "      <td>32549.611000</td>\n",
       "      <td>362496.645000</td>\n",
       "    </tr>\n",
       "  </tbody>\n",
       "</table>\n",
       "</div>"
      ],
      "text/plain": [
       "                    count          mean            std           min  \\\n",
       "children          21525.0      0.538908       1.381587     -1.000000   \n",
       "days_employed     19351.0  63046.497661  140827.311974 -18388.949901   \n",
       "dob_years         21525.0     43.293380      12.574584      0.000000   \n",
       "education_id      21525.0      0.817236       0.548138      0.000000   \n",
       "family_status_id  21525.0      0.972544       1.420324      0.000000   \n",
       "debt              21525.0      0.080883       0.272661      0.000000   \n",
       "total_income      19351.0  26787.568355   16475.450632   3306.762000   \n",
       "\n",
       "                           25%           50%           75%            max  \n",
       "children              0.000000      0.000000      1.000000      20.000000  \n",
       "days_employed     -2747.423625  -1203.369529   -291.095954  401755.400475  \n",
       "dob_years            33.000000     42.000000     53.000000      75.000000  \n",
       "education_id          1.000000      1.000000      1.000000       4.000000  \n",
       "family_status_id      0.000000      0.000000      1.000000       4.000000  \n",
       "debt                  0.000000      0.000000      0.000000       1.000000  \n",
       "total_income      16488.504500  23202.870000  32549.611000  362496.645000  "
      ]
     },
     "execution_count": 652,
     "metadata": {},
     "output_type": "execute_result"
    }
   ],
   "source": [
    "numCol  = df.dtypes[df.dtypes != \"0\"].index\n",
    "df[numCol].describe().transpose()"
   ]
  },
  {
   "cell_type": "markdown",
   "metadata": {},
   "source": [
    "<div class=\"alert alert-block alert-success\">\n",
    "<b>Comentario de Reviewer v2</b> <a class=\"tocSkip\"></a>\n",
    "\n",
    "Good use of describe\n",
    "</div>"
   ]
  },
  {
   "cell_type": "code",
   "execution_count": 653,
   "metadata": {
    "colab": {
     "base_uri": "https://localhost:8080/"
    },
    "id": "aLstb7yykFvC",
    "outputId": "7646aeb0-3481-4f8a-b877-7db2ba49f30a",
    "scrolled": true
   },
   "outputs": [
    {
     "name": "stdout",
     "output_type": "stream",
     "text": [
      "children\n",
      " 0     14149\n",
      " 1      4818\n",
      " 2      2055\n",
      " 3       330\n",
      " 20       76\n",
      "-1        47\n",
      " 4        41\n",
      " 5         9\n",
      "Name: children, dtype: int64\n",
      "\n",
      "**********************************\n",
      "\n",
      "days_employed\n",
      "-327.685916     1\n",
      "-1580.622577    1\n",
      "-4122.460569    1\n",
      "-2828.237691    1\n",
      "-2636.090517    1\n",
      "               ..\n",
      "-7120.517564    1\n",
      "-2146.884040    1\n",
      "-881.454684     1\n",
      "-794.666350     1\n",
      "-3382.113891    1\n",
      "Name: days_employed, Length: 19351, dtype: int64\n",
      "\n",
      "**********************************\n",
      "\n",
      "dob_years\n",
      "35    617\n",
      "40    609\n",
      "41    607\n",
      "34    603\n",
      "38    598\n",
      "42    597\n",
      "33    581\n",
      "39    573\n",
      "31    560\n",
      "36    555\n",
      "44    547\n",
      "29    545\n",
      "30    540\n",
      "48    538\n",
      "37    537\n",
      "50    514\n",
      "43    513\n",
      "32    510\n",
      "49    508\n",
      "28    503\n",
      "45    497\n",
      "27    493\n",
      "56    487\n",
      "52    484\n",
      "47    480\n",
      "54    479\n",
      "46    475\n",
      "58    461\n",
      "57    460\n",
      "53    459\n",
      "51    448\n",
      "59    444\n",
      "55    443\n",
      "26    408\n",
      "60    377\n",
      "25    357\n",
      "61    355\n",
      "62    352\n",
      "63    269\n",
      "64    265\n",
      "24    264\n",
      "23    254\n",
      "65    194\n",
      "66    183\n",
      "22    183\n",
      "67    167\n",
      "21    111\n",
      "0     101\n",
      "68     99\n",
      "69     85\n",
      "70     65\n",
      "71     58\n",
      "20     51\n",
      "72     33\n",
      "19     14\n",
      "73      8\n",
      "74      6\n",
      "75      1\n",
      "Name: dob_years, dtype: int64\n",
      "\n",
      "**********************************\n",
      "\n",
      "education\n",
      "secondary education    13750\n",
      "bachelor's degree       4718\n",
      "SECONDARY EDUCATION      772\n",
      "Secondary Education      711\n",
      "some college             668\n",
      "BACHELOR'S DEGREE        274\n",
      "Bachelor's Degree        268\n",
      "primary education        250\n",
      "Some College              47\n",
      "SOME COLLEGE              29\n",
      "PRIMARY EDUCATION         17\n",
      "Primary Education         15\n",
      "graduate degree            4\n",
      "GRADUATE DEGREE            1\n",
      "Graduate Degree            1\n",
      "Name: education, dtype: int64\n",
      "\n",
      "**********************************\n",
      "\n",
      "education_id\n",
      "1    15233\n",
      "0     5260\n",
      "2      744\n",
      "3      282\n",
      "4        6\n",
      "Name: education_id, dtype: int64\n",
      "\n",
      "**********************************\n",
      "\n",
      "family_status\n",
      "married              12380\n",
      "civil partnership     4177\n",
      "unmarried             2813\n",
      "divorced              1195\n",
      "widow / widower        960\n",
      "Name: family_status, dtype: int64\n",
      "\n",
      "**********************************\n",
      "\n",
      "family_status_id\n",
      "0    12380\n",
      "1     4177\n",
      "4     2813\n",
      "3     1195\n",
      "2      960\n",
      "Name: family_status_id, dtype: int64\n",
      "\n",
      "**********************************\n",
      "\n",
      "gender\n",
      "F      14236\n",
      "M       7288\n",
      "XNA        1\n",
      "Name: gender, dtype: int64\n",
      "\n",
      "**********************************\n",
      "\n",
      "income_type\n",
      "employee                       11119\n",
      "business                        5085\n",
      "retiree                         3856\n",
      "civil servant                   1459\n",
      "entrepreneur                       2\n",
      "unemployed                         2\n",
      "paternity / maternity leave        1\n",
      "student                            1\n",
      "Name: income_type, dtype: int64\n",
      "\n",
      "**********************************\n",
      "\n",
      "debt\n",
      "0    19784\n",
      "1     1741\n",
      "Name: debt, dtype: int64\n",
      "\n",
      "**********************************\n",
      "\n",
      "total_income\n",
      "42413.096    2\n",
      "17312.717    2\n",
      "31791.384    2\n",
      "14427.878    1\n",
      "20837.034    1\n",
      "            ..\n",
      "27715.458    1\n",
      "23834.534    1\n",
      "26124.613    1\n",
      "28692.182    1\n",
      "41428.916    1\n",
      "Name: total_income, Length: 19348, dtype: int64\n",
      "\n",
      "**********************************\n",
      "\n",
      "purpose\n",
      "wedding ceremony                            797\n",
      "having a wedding                            777\n",
      "to have a wedding                           774\n",
      "real estate transactions                    676\n",
      "buy commercial real estate                  664\n",
      "housing transactions                        653\n",
      "buying property for renting out             653\n",
      "transactions with commercial real estate    651\n",
      "housing                                     647\n",
      "purchase of the house                       647\n",
      "purchase of the house for my family         641\n",
      "construction of own property                635\n",
      "property                                    634\n",
      "transactions with my real estate            630\n",
      "building a real estate                      626\n",
      "buy real estate                             624\n",
      "purchase of my own house                    620\n",
      "building a property                         620\n",
      "housing renovation                          612\n",
      "buy residential real estate                 607\n",
      "buying my own car                           505\n",
      "going to university                         496\n",
      "car                                         495\n",
      "second-hand car purchase                    489\n",
      "to own a car                                480\n",
      "buying a second-hand car                    479\n",
      "cars                                        478\n",
      "to buy a car                                472\n",
      "supplementary education                     462\n",
      "car purchase                                462\n",
      "purchase of a car                           455\n",
      "university education                        453\n",
      "education                                   447\n",
      "to get a supplementary education            447\n",
      "getting an education                        443\n",
      "profile education                           436\n",
      "getting higher education                    426\n",
      "to become educated                          412\n",
      "Name: purpose, dtype: int64\n",
      "\n",
      "**********************************\n",
      "\n"
     ]
    }
   ],
   "source": [
    "for d in df.columns:\n",
    "  print(d)\n",
    "  print(df[d].value_counts())\n",
    "  print('\\n**********************************\\n')"
   ]
  },
  {
   "cell_type": "code",
   "execution_count": 654,
   "metadata": {
    "colab": {
     "base_uri": "https://localhost:8080/"
    },
    "id": "EQ5UDrhiIloK",
    "outputId": "546f1081-9d3e-4faa-be5b-a4bdfbd2168e"
   },
   "outputs": [
    {
     "data": {
      "text/plain": [
       "days_employed       2174\n",
       "total_income        2174\n",
       "children               0\n",
       "dob_years              0\n",
       "education              0\n",
       "education_id           0\n",
       "family_status          0\n",
       "family_status_id       0\n",
       "gender                 0\n",
       "income_type            0\n",
       "debt                   0\n",
       "purpose                0\n",
       "dtype: int64"
      ]
     },
     "execution_count": 654,
     "metadata": {},
     "output_type": "execute_result"
    }
   ],
   "source": [
    "df.isnull().sum().sort_values(ascending=False)"
   ]
  },
  {
   "cell_type": "markdown",
   "metadata": {
    "id": "k99wvddt2Ifu"
   },
   "source": [
    "Observations: \n",
    "<p> 1. Using the .describe () method, we can see that the count in some columns are inconsistent. There are missing values in columns days_employed and total_income. Based on previous observations, there are also duplicated values and other discrepancies in the columns.</p>\n",
    "<p> 2. Both days_employed and total_income have exactly the same number of missing values. At present, I don't see if both correlates to one another. Although, since the aim is to find out the likelihood customers can default on their loan applications, total_income can affect the result. Credit score depends on the financial capability of the customers.</p>  "
   ]
  },
  {
   "cell_type": "code",
   "execution_count": 655,
   "metadata": {
    "colab": {
     "base_uri": "https://localhost:8080/"
    },
    "id": "mdtm-Ikg2Ifv",
    "outputId": "78b5b8e6-8c5d-4ae2-a494-2b3341773d20"
   },
   "outputs": [
    {
     "data": {
      "text/plain": [
       "children  days_employed   dob_years  education            education_id  family_status      family_status_id  gender  income_type    debt  total_income  purpose                                 \n",
       "-1        -9851.184337    44         secondary education  1             divorced           3                 F       employee       0     17758.530     to own a car                                1\n",
       " 1        -7117.338200    42         secondary education  1             married            0                 F       civil servant  0     36511.880     housing renovation                          1\n",
       "          -7137.319761    35         secondary education  1             married            0                 F       employee       0     20696.434     property                                    1\n",
       "          -7146.299384    50         bachelor's degree    0             married            0                 F       employee       0     16782.180     housing transactions                        1\n",
       "          -7152.420165    49         secondary education  1             married            0                 F       employee       0     17529.023     building a real estate                      1\n",
       "                                                                                                                                                                                                   ..\n",
       " 0        -1019.065321    45         secondary education  1             married            0                 F       business       0     34758.642     to get a supplementary education            1\n",
       "          -1019.319566    38         bachelor's degree    0             married            0                 M       business       0     22633.993     buy commercial real estate                  1\n",
       "          -1019.684185    62         secondary education  1             widow / widower    2                 F       employee       0     13070.213     housing transactions                        1\n",
       "          -1020.182597    42         secondary education  1             married            0                 M       employee       0     22863.225     building a real estate                      1\n",
       " 20        385267.263676  62         secondary education  1             civil partnership  1                 F       retiree        0     30755.372     transactions with commercial real estate    1\n",
       "Length: 19351, dtype: int64"
      ]
     },
     "execution_count": 655,
     "metadata": {},
     "output_type": "execute_result"
    }
   ],
   "source": [
    "df.value_counts()\n"
   ]
  },
  {
   "cell_type": "code",
   "execution_count": 656,
   "metadata": {
    "colab": {
     "base_uri": "https://localhost:8080/"
    },
    "id": "E7OQkFc3NwPl",
    "outputId": "f2062501-b00e-4641-f63d-69a52da35b12"
   },
   "outputs": [
    {
     "data": {
      "text/plain": [
       "children                0.538908\n",
       "days_employed       63046.497661\n",
       "dob_years              43.293380\n",
       "education_id            0.817236\n",
       "family_status_id        0.972544\n",
       "debt                    0.080883\n",
       "total_income        26787.568355\n",
       "dtype: float64"
      ]
     },
     "execution_count": 656,
     "metadata": {},
     "output_type": "execute_result"
    }
   ],
   "source": [
    "df.mean()"
   ]
  },
  {
   "cell_type": "code",
   "execution_count": 657,
   "metadata": {
    "colab": {
     "base_uri": "https://localhost:8080/"
    },
    "id": "0QG7IR5-r2rL",
    "outputId": "0e6a4b64-fffe-4460-eca8-43fc6111a888"
   },
   "outputs": [
    {
     "data": {
      "text/plain": [
       "children                0.000000\n",
       "days_employed       -1203.369529\n",
       "dob_years              42.000000\n",
       "education_id            1.000000\n",
       "family_status_id        0.000000\n",
       "debt                    0.000000\n",
       "total_income        23202.870000\n",
       "dtype: float64"
      ]
     },
     "execution_count": 657,
     "metadata": {},
     "output_type": "execute_result"
    }
   ],
   "source": [
    "df.median()"
   ]
  },
  {
   "cell_type": "markdown",
   "metadata": {
    "id": "IXQH4mU72Ifv"
   },
   "source": [
    "**Intermediate conclusion**\n",
    "\n",
    "The number of rows in the filtered table match the number of missing values. The values could be erroneous but still considered as values due to their data type.  \n",
    "\n",
    "Next steps to check and investigate further the columns with the missing values. "
   ]
  },
  {
   "cell_type": "code",
   "execution_count": 658,
   "metadata": {
    "colab": {
     "base_uri": "https://localhost:8080/"
    },
    "id": "wzbw9Dy07tdJ",
    "outputId": "e7577ba4-c490-49bf-8889-b4cda123cdb9"
   },
   "outputs": [
    {
     "data": {
      "text/plain": [
       "days_employed       10.0\n",
       "total_income        10.0\n",
       "children             0.0\n",
       "dob_years            0.0\n",
       "education            0.0\n",
       "education_id         0.0\n",
       "family_status        0.0\n",
       "family_status_id     0.0\n",
       "gender               0.0\n",
       "income_type          0.0\n",
       "debt                 0.0\n",
       "purpose              0.0\n",
       "dtype: float64"
      ]
     },
     "execution_count": 658,
     "metadata": {},
     "output_type": "execute_result"
    }
   ],
   "source": [
    "round(10* (df.isnull().sum() / len(df)*10)).sort_values(ascending=False)"
   ]
  },
  {
   "cell_type": "markdown",
   "metadata": {},
   "source": [
    "<div class=\"alert alert-block alert-success\">\n",
    "<b>Comentario de Reviewer v2</b> <a class=\"tocSkip\"></a>\n",
    "\n",
    "Ok, this tells us that 10% of data is missing.\n",
    "</div>"
   ]
  },
  {
   "cell_type": "markdown",
   "metadata": {},
   "source": [
    "<div class=\"alert alert-block alert-danger\">\n",
    "<b>Comentario de Reviewer v2</b> <a class=\"tocSkip\"></a>\n",
    "\n",
    "I'm not sure if this is meaningful or not. Please explain what are you concluding from this.\n",
    "</div>"
   ]
  },
  {
   "cell_type": "markdown",
   "metadata": {},
   "source": [
    "<div class=\"alert alert-block alert-info\">\n",
    "<b>Student answer.</b> <a class=\"tocSkip\"></a>\n",
    "    <p>The instruction says to get the percentage of the missing values. I'm not sure if its the right step at this point also. </p>"
   ]
  },
  {
   "cell_type": "markdown",
   "metadata": {},
   "source": [
    "<div class=\"alert alert-block alert-warning\">\n",
    "<b>Reviewer's comment v3</b> <a class=\"tocSkip\"></a>\n",
    "\n",
    "What I meant was that the first code is correct, but I think the second is wrong. In the second one, you are showing along axis=1 which is summing each row, and then dividing by the total number of rows. The instructions refer to getting the percentages you did in the first block.\n",
    "</div>"
   ]
  },
  {
   "cell_type": "markdown",
   "metadata": {},
   "source": [
    "<div class=\"alert alert-block alert-info\">\n",
    "<b>Student answer.</b> <a class=\"tocSkip\"></a>\n",
    "    <p>Ok. So, is this resolved then? </p>"
   ]
  },
  {
   "cell_type": "markdown",
   "metadata": {},
   "source": [
    "<div class=\"alert alert-block alert-success\">\n",
    "<b>Reviewer's comment v4</b> <a class=\"tocSkip\"></a>\n",
    "\n",
    "Yes, the main problem is resolved since you are no longer using the code that was wrong.\n",
    "</div>"
   ]
  },
  {
   "cell_type": "markdown",
   "metadata": {
    "id": "kXZ4w7aF2Ifw"
   },
   "source": [
    "The missing values are both the same number in th columns, days_employed and total_income.  "
   ]
  },
  {
   "cell_type": "code",
   "execution_count": 659,
   "metadata": {
    "colab": {
     "base_uri": "https://localhost:8080/"
    },
    "id": "xKdnQnlAgMti",
    "outputId": "0ffe66a1-4542-4080-8397-8ad93e873838"
   },
   "outputs": [
    {
     "data": {
      "text/plain": [
       "Index(['days_employed', 'total_income'], dtype='object')"
      ]
     },
     "execution_count": 659,
     "metadata": {},
     "output_type": "execute_result"
    }
   ],
   "source": [
    "df.columns[df.isnull().any()]"
   ]
  },
  {
   "cell_type": "code",
   "execution_count": 660,
   "metadata": {},
   "outputs": [
    {
     "data": {
      "text/plain": [
       "Index(['days_employed', 'total_income'], dtype='object')"
      ]
     },
     "execution_count": 660,
     "metadata": {},
     "output_type": "execute_result"
    }
   ],
   "source": [
    "df.columns[df.isnull().any()]"
   ]
  },
  {
   "cell_type": "markdown",
   "metadata": {},
   "source": [
    "<div class=\"alert alert-block alert-danger\">\n",
    "<b>Comentario de Reviewer v2</b> <a class=\"tocSkip\"></a>\n",
    "\n",
    "Please don't drop these null values, they are 10% of the total data, which is a lot. In this section you have to see if there is any special relationship between the missing values and other columns. I'm not sure if the base idea is clear, so I will explain that:\n",
    "    \n",
    "Imagine that in all the population without nulls, 50% of the records are of category employee, 25% are business amd 25% are retiree. Then, when we look at the population that has null value in total_income and days_employed, we should find a similar distribution in those percentages. What if, we find that 90% of the records are of business category. Then, we would be right in saying that there is some problem with people that have income_type business and it is causing people from that category to have null values in the total_income and days_employed variables.\n",
    "</div>"
   ]
  },
  {
   "cell_type": "markdown",
   "metadata": {},
   "source": [
    "<div class=\"alert alert-block alert-info\">\n",
    "<b>Student answer.</b> <a class=\"tocSkip\"></a>\n",
    "    <p>As instructed, I didn't drop the null values. I replaced them with the mean value. </p>"
   ]
  },
  {
   "cell_type": "markdown",
   "metadata": {},
   "source": [
    "<div class=\"alert alert-block alert-danger\">\n",
    "<b>Reviewer's comment v3</b> <a class=\"tocSkip\"></a>\n",
    "\n",
    "Nice, now you didn't drop the null values, but in this section, we do not need to replace them, that will be done in subsections of section 3, where we restore missing values in those columns. For this sections you should do the following:\n",
    "    \n",
    " - Create 2 dataframes from the data `df`: One dataframe with only the rows of `df` that have null values in columns total_income and days_employed and other dataframe with the rest of the data of `df` (i.e. rows without null values)\n",
    " - For each datafram: Get the percentage distribution of one column, dob_years for example. (you can do this by applying to the dataframe the method .value_counts(normalize=True))\n",
    " - Compare those distributions. Check if they are very different or similar.\n",
    "  \n",
    "The idea of this section is to see that if the null values we have here are caused by random or can be explained by another variable in the data (in the example above, when we compare the distribution of dob_years, we try to see if the values of dob_years have anything to do with the missing data)\n",
    "</div>\n"
   ]
  },
  {
   "cell_type": "code",
   "execution_count": 661,
   "metadata": {},
   "outputs": [],
   "source": [
    "df_null_values = df[['total_income', 'days_employed']]"
   ]
  },
  {
   "cell_type": "code",
   "execution_count": 662,
   "metadata": {},
   "outputs": [],
   "source": [
    "df_no_null_values = df[['children', 'dob_years', 'education', 'education_id','family_status', 'family_status_id', 'gender', 'income_type', 'debt', 'purpose']].isnull()"
   ]
  },
  {
   "cell_type": "markdown",
   "metadata": {},
   "source": [
    "<div class=\"alert alert-block alert-danger\">\n",
    "<b>Reviewer's comment v4</b> <a class=\"tocSkip\"></a>\n",
    "\n",
    "Please fix this cell, it doesn't run.\n",
    "</div>"
   ]
  },
  {
   "cell_type": "markdown",
   "metadata": {},
   "source": [
    "<div class=\"alert alert-block alert-info\">\n",
    "<b>Student answer.</b> <a class=\"tocSkip\"></a>\n",
    "    <p>After creating two dataframes and calculating the percentage distribution, the distribution are not similar. This could mean that the columns with no missing values don't affect the columns with the missing values. </p>"
   ]
  },
  {
   "cell_type": "markdown",
   "metadata": {},
   "source": [
    "<div class=\"alert alert-block alert-danger\">\n",
    "<b>Reviewer's comment v4</b> <a class=\"tocSkip\"></a>\n",
    "\n",
    "Note that the dataframe df_null_values only has boolean values, what you have to do is get the data from table df, with the corresponding values in the other columns. Take a look at this code:\n",
    "    \n",
    " - `data_nan = df[df['days_employed'].isnull()]`\n",
    " - `data_nan['income_type'].value_counts(normalize = True)`\n",
    "    \n",
    "This will show us the behaviour of rows with nulls with regard to the income_type variable. If you do the same for non null values, we will get the behvaiour of rows without nulls. Then we will be able to compare those and notice if there is something special about those 2 distributions.\n",
    "</div>"
   ]
  },
  {
   "cell_type": "markdown",
   "metadata": {},
   "source": [
    "<div class=\"alert alert-block alert-info\">\n",
    "<b>Student answer.</b> <a class=\"tocSkip\"></a>\n",
    "    <p>Do you mean total_income? income type is a string. it gives an error when applying the code above.</p>"
   ]
  },
  {
   "cell_type": "code",
   "execution_count": 663,
   "metadata": {},
   "outputs": [
    {
     "data": {
      "text/plain": [
       "2174"
      ]
     },
     "execution_count": 663,
     "metadata": {},
     "output_type": "execute_result"
    }
   ],
   "source": [
    "df['days_employed'].isnull().sum()"
   ]
  },
  {
   "cell_type": "code",
   "execution_count": 664,
   "metadata": {},
   "outputs": [
    {
     "data": {
      "text/plain": [
       "2174"
      ]
     },
     "execution_count": 664,
     "metadata": {},
     "output_type": "execute_result"
    }
   ],
   "source": [
    "df['total_income'].isnull().sum()"
   ]
  },
  {
   "cell_type": "code",
   "execution_count": 665,
   "metadata": {},
   "outputs": [
    {
     "data": {
      "text/plain": [
       "Series([], Name: total_income, dtype: float64)"
      ]
     },
     "execution_count": 665,
     "metadata": {},
     "output_type": "execute_result"
    }
   ],
   "source": [
    "data_nan = df[df['days_employed'].isnull()]\n",
    "data_nan['total_income'].value_counts(normalize = True)"
   ]
  },
  {
   "cell_type": "code",
   "execution_count": 666,
   "metadata": {},
   "outputs": [
    {
     "data": {
      "text/plain": [
       "False    1.0\n",
       "Name: income_type, dtype: float64"
      ]
     },
     "execution_count": 666,
     "metadata": {},
     "output_type": "execute_result"
    }
   ],
   "source": [
    "df_no_null_values['income_type'].value_counts(normalize = True)"
   ]
  },
  {
   "cell_type": "code",
   "execution_count": 667,
   "metadata": {},
   "outputs": [
    {
     "data": {
      "text/plain": [
       "2174"
      ]
     },
     "execution_count": 667,
     "metadata": {},
     "output_type": "execute_result"
    }
   ],
   "source": [
    "df['days_employed'].isnull().sum()"
   ]
  },
  {
   "cell_type": "code",
   "execution_count": 668,
   "metadata": {},
   "outputs": [
    {
     "data": {
      "text/plain": [
       "2174"
      ]
     },
     "execution_count": 668,
     "metadata": {},
     "output_type": "execute_result"
    }
   ],
   "source": [
    "df['total_income'].isnull().sum()"
   ]
  },
  {
   "cell_type": "markdown",
   "metadata": {
    "id": "uOx4BmEB2Ifx"
   },
   "source": [
    "## Data transformation\n"
   ]
  },
  {
   "cell_type": "code",
   "execution_count": 669,
   "metadata": {
    "colab": {
     "base_uri": "https://localhost:8080/"
    },
    "id": "mg1ObIDxFfBb",
    "outputId": "d02579e6-3d2c-4441-84c1-a58ed25b5fca"
   },
   "outputs": [
    {
     "name": "stdout",
     "output_type": "stream",
     "text": [
      "54\n"
     ]
    }
   ],
   "source": [
    "print(df.duplicated().sum())"
   ]
  },
  {
   "cell_type": "code",
   "execution_count": 670,
   "metadata": {},
   "outputs": [],
   "source": [
    "df.drop_duplicates(keep=False, inplace=True)"
   ]
  },
  {
   "cell_type": "code",
   "execution_count": 671,
   "metadata": {},
   "outputs": [
    {
     "name": "stdout",
     "output_type": "stream",
     "text": [
      "0\n"
     ]
    }
   ],
   "source": [
    "print(df.duplicated().sum())"
   ]
  },
  {
   "cell_type": "markdown",
   "metadata": {
    "id": "FSxOPp4V3TRG"
   },
   "source": [
    "**Checking the education attainment of the loan applicants.**"
   ]
  },
  {
   "cell_type": "code",
   "execution_count": 672,
   "metadata": {
    "colab": {
     "base_uri": "https://localhost:8080/"
    },
    "id": "unL1bGaa2Ifx",
    "outputId": "57a5a160-9533-4b69-cf06-e8cddaca9e2b"
   },
   "outputs": [
    {
     "data": {
      "text/plain": [
       "secondary education    13662\n",
       "bachelor's degree       4702\n",
       "SECONDARY EDUCATION      772\n",
       "Secondary Education      711\n",
       "some college             668\n",
       "BACHELOR'S DEGREE        272\n",
       "Bachelor's Degree        268\n",
       "primary education        250\n",
       "Some College              47\n",
       "SOME COLLEGE              29\n",
       "PRIMARY EDUCATION         17\n",
       "Primary Education         15\n",
       "graduate degree            4\n",
       "GRADUATE DEGREE            1\n",
       "Graduate Degree            1\n",
       "Name: education, dtype: int64"
      ]
     },
     "execution_count": 672,
     "metadata": {},
     "output_type": "execute_result"
    }
   ],
   "source": [
    "df['education'].value_counts()"
   ]
  },
  {
   "cell_type": "code",
   "execution_count": 673,
   "metadata": {
    "colab": {
     "base_uri": "https://localhost:8080/"
    },
    "id": "zNy9bVnH2Ify",
    "outputId": "7e235407-c1d3-4b90-80b3-23c6711cf233",
    "scrolled": true
   },
   "outputs": [
    {
     "data": {
      "text/plain": [
       "array([\"BACHELOR'S DEGREE\", \"Bachelor's Degree\", 'GRADUATE DEGREE',\n",
       "       'Graduate Degree', 'PRIMARY EDUCATION', 'Primary Education',\n",
       "       'SECONDARY EDUCATION', 'SOME COLLEGE', 'Secondary Education',\n",
       "       'Some College', \"bachelor's degree\", 'graduate degree',\n",
       "       'primary education', 'secondary education', 'some college'],\n",
       "      dtype=object)"
      ]
     },
     "execution_count": 673,
     "metadata": {},
     "output_type": "execute_result"
    }
   ],
   "source": [
    "df['education'].sort_values().unique() \n"
   ]
  },
  {
   "cell_type": "code",
   "execution_count": 674,
   "metadata": {
    "id": "IqLjGMlA2Ify"
   },
   "outputs": [],
   "source": [
    "def replace_wrong_education(wrong_education, correct_education): \n",
    "    for wrong_educ in wrong_education: \n",
    "        df['education'] = df['education'].replace(wrong_educ, correct_education)\n",
    "\n"
   ]
  },
  {
   "cell_type": "code",
   "execution_count": 675,
   "metadata": {
    "id": "13WN6e09HE3S"
   },
   "outputs": [],
   "source": [
    "duplicates = [\"BACHELOR\\'S DEGREE\", \"Bachelor\\'s Degree\"] \n",
    "name = 'bachelor\\'s degree'\n",
    "replace_wrong_education(duplicates, name)\n",
    "duplicates = [\"GRADUATE DEGREE\", \"Graduate Degree\"] \n",
    "name = 'graduate degree'\n",
    "replace_wrong_education(duplicates, name)\n",
    "duplicates = [\"PRIMARY EDUCATION\", \"Primary Education\"] \n",
    "name = 'primary education'\n",
    "replace_wrong_education(duplicates, name)\n",
    "duplicates = [\"SECONDARY EDUCATION\", \"Secondary Education\"] \n",
    "name = 'secondary education'\n",
    "replace_wrong_education(duplicates, name)\n",
    "duplicates = [\"SOME COLLEGE\", \"Some College\"] \n",
    "name = 'some college'\n",
    "replace_wrong_education(duplicates, name)"
   ]
  },
  {
   "cell_type": "code",
   "execution_count": 676,
   "metadata": {
    "colab": {
     "base_uri": "https://localhost:8080/"
    },
    "id": "6clWl4CWINZT",
    "outputId": "654a29dc-8cc7-47b9-dbc6-0d869e178326"
   },
   "outputs": [
    {
     "name": "stdout",
     "output_type": "stream",
     "text": [
      "[\"bachelor's degree\" 'graduate degree' 'primary education'\n",
      " 'secondary education' 'some college']\n"
     ]
    }
   ],
   "source": [
    "print(df['education'].sort_values().unique())"
   ]
  },
  {
   "cell_type": "markdown",
   "metadata": {},
   "source": [
    "<div class=\"alert alert-block alert-success\">\n",
    "<b>Reviewer's comment</b> <a class=\"tocSkip\"></a>\n",
    "\n",
    "Ok, this is correct. Also, you could've done `df['education'] = df['education'].str.lower()`\n",
    "</div>"
   ]
  },
  {
   "cell_type": "markdown",
   "metadata": {},
   "source": [
    "<div class=\"alert alert-block alert-info\">\n",
    "<b>Student answer.</b> <a class=\"tocSkip\"></a>\n",
    "    <p>Noted on further exercises. </p>"
   ]
  },
  {
   "cell_type": "code",
   "execution_count": 677,
   "metadata": {
    "colab": {
     "base_uri": "https://localhost:8080/"
    },
    "id": "-JuM79h0JYR5",
    "outputId": "c0bfd429-f4fa-4290-b574-cc61cb89cd37"
   },
   "outputs": [
    {
     "data": {
      "text/plain": [
       "(21419, 12)"
      ]
     },
     "execution_count": 677,
     "metadata": {},
     "output_type": "execute_result"
    }
   ],
   "source": [
    "df.shape"
   ]
  },
  {
   "cell_type": "code",
   "execution_count": 678,
   "metadata": {
    "colab": {
     "base_uri": "https://localhost:8080/"
    },
    "id": "vuLFVlCRJndr",
    "outputId": "062359c4-d0e3-48ba-c526-13946cb7df7d"
   },
   "outputs": [
    {
     "data": {
      "text/plain": [
       "0          bachelor's degree\n",
       "1        secondary education\n",
       "2        secondary education\n",
       "3        secondary education\n",
       "4        secondary education\n",
       "                ...         \n",
       "21520    secondary education\n",
       "21521    secondary education\n",
       "21522    secondary education\n",
       "21523    secondary education\n",
       "21524    secondary education\n",
       "Name: education, Length: 21419, dtype: object"
      ]
     },
     "execution_count": 678,
     "metadata": {},
     "output_type": "execute_result"
    }
   ],
   "source": [
    "df['education']"
   ]
  },
  {
   "cell_type": "code",
   "execution_count": 679,
   "metadata": {
    "colab": {
     "base_uri": "https://localhost:8080/",
     "height": 279
    },
    "id": "y8hzZB0K3s0W",
    "outputId": "6c39f607-59bf-4a95-b0f3-36e409318084"
   },
   "outputs": [
    {
     "data": {
      "image/png": "[encoded data removed]",
      "text/plain": [
       "<Figure size 432x288 with 1 Axes>"
      ]
     },
     "metadata": {},
     "output_type": "display_data"
    }
   ],
   "source": [
    "import seaborn as sns\n",
    "sns.histplot(x=df['education'], bins=10, kde=True);"
   ]
  },
  {
   "cell_type": "markdown",
   "metadata": {},
   "source": [
    "<div class=\"alert alert-block alert-success\">\n",
    "<b>Reviewer's comment</b> <a class=\"tocSkip\"></a>\n",
    "\n",
    "Good, showing the distribution with plots is nice.\n",
    "</div>"
   ]
  },
  {
   "cell_type": "markdown",
   "metadata": {
    "id": "P8MMviZE2Ify"
   },
   "source": [
    "**Checking the number of children of the loan applicants.**"
   ]
  },
  {
   "cell_type": "code",
   "execution_count": 680,
   "metadata": {},
   "outputs": [
    {
     "data": {
      "text/plain": [
       "2068"
      ]
     },
     "execution_count": 680,
     "metadata": {},
     "output_type": "execute_result"
    }
   ],
   "source": [
    "df['days_employed'].isnull().sum()"
   ]
  },
  {
   "cell_type": "code",
   "execution_count": 681,
   "metadata": {
    "colab": {
     "base_uri": "https://localhost:8080/"
    },
    "id": "lv8TQf2i2Ify",
    "outputId": "dce68efe-7154-4177-c5fc-c6888dcd6a9f"
   },
   "outputs": [
    {
     "data": {
      "text/plain": [
       " 0     14067\n",
       " 1      4800\n",
       " 2      2049\n",
       " 3       330\n",
       " 20       76\n",
       "-1        47\n",
       " 4        41\n",
       " 5         9\n",
       "Name: children, dtype: int64"
      ]
     },
     "execution_count": 681,
     "metadata": {},
     "output_type": "execute_result"
    }
   ],
   "source": [
    "df['children'].value_counts()\n"
   ]
  },
  {
   "cell_type": "code",
   "execution_count": 682,
   "metadata": {
    "colab": {
     "base_uri": "https://localhost:8080/",
     "height": 279
    },
    "id": "v5vWtwd2hMgP",
    "outputId": "72a17b72-ef09-4cb0-a392-951af3db13e1"
   },
   "outputs": [
    {
     "data": {
      "image/png": "[encoded data removed]",
      "text/plain": [
       "<Figure size 432x288 with 1 Axes>"
      ]
     },
     "metadata": {},
     "output_type": "display_data"
    }
   ],
   "source": [
    "sns.histplot(x=df['children'], bins=10, kde=True);"
   ]
  },
  {
   "cell_type": "code",
   "execution_count": 683,
   "metadata": {
    "colab": {
     "base_uri": "https://localhost:8080/"
    },
    "id": "yVwuhztZhXlQ",
    "outputId": "6e252292-2b95-4b1e-92cd-cf5b8e8d2d01"
   },
   "outputs": [
    {
     "data": {
      "text/plain": [
       "(76, 12)"
      ]
     },
     "execution_count": 683,
     "metadata": {},
     "output_type": "execute_result"
    }
   ],
   "source": [
    "df[df['children'] == 20].shape"
   ]
  },
  {
   "cell_type": "code",
   "execution_count": 684,
   "metadata": {
    "colab": {
     "base_uri": "https://localhost:8080/",
     "height": 424
    },
    "id": "guQlBPyihY1W",
    "outputId": "2a42f580-7649-4ad9-de00-227dec866e6b"
   },
   "outputs": [
    {
     "data": {
      "text/html": [
       "<div>\n",
       "<style scoped>\n",
       "    .dataframe tbody tr th:only-of-type {\n",
       "        vertical-align: middle;\n",
       "    }\n",
       "\n",
       "    .dataframe tbody tr th {\n",
       "        vertical-align: top;\n",
       "    }\n",
       "\n",
       "    .dataframe thead th {\n",
       "        text-align: right;\n",
       "    }\n",
       "</style>\n",
       "<table border=\"1\" class=\"dataframe\">\n",
       "  <thead>\n",
       "    <tr style=\"text-align: right;\">\n",
       "      <th></th>\n",
       "      <th>children</th>\n",
       "      <th>days_employed</th>\n",
       "      <th>dob_years</th>\n",
       "      <th>education</th>\n",
       "      <th>education_id</th>\n",
       "      <th>family_status</th>\n",
       "      <th>family_status_id</th>\n",
       "      <th>gender</th>\n",
       "      <th>income_type</th>\n",
       "      <th>debt</th>\n",
       "      <th>total_income</th>\n",
       "      <th>purpose</th>\n",
       "    </tr>\n",
       "  </thead>\n",
       "  <tbody>\n",
       "    <tr>\n",
       "      <th>606</th>\n",
       "      <td>20</td>\n",
       "      <td>-880.221113</td>\n",
       "      <td>21</td>\n",
       "      <td>secondary education</td>\n",
       "      <td>1</td>\n",
       "      <td>married</td>\n",
       "      <td>0</td>\n",
       "      <td>M</td>\n",
       "      <td>business</td>\n",
       "      <td>0</td>\n",
       "      <td>23253.578</td>\n",
       "      <td>purchase of the house</td>\n",
       "    </tr>\n",
       "    <tr>\n",
       "      <th>720</th>\n",
       "      <td>20</td>\n",
       "      <td>-855.595512</td>\n",
       "      <td>44</td>\n",
       "      <td>secondary education</td>\n",
       "      <td>1</td>\n",
       "      <td>married</td>\n",
       "      <td>0</td>\n",
       "      <td>F</td>\n",
       "      <td>business</td>\n",
       "      <td>0</td>\n",
       "      <td>18079.798</td>\n",
       "      <td>buy real estate</td>\n",
       "    </tr>\n",
       "    <tr>\n",
       "      <th>1074</th>\n",
       "      <td>20</td>\n",
       "      <td>-3310.411598</td>\n",
       "      <td>56</td>\n",
       "      <td>secondary education</td>\n",
       "      <td>1</td>\n",
       "      <td>married</td>\n",
       "      <td>0</td>\n",
       "      <td>F</td>\n",
       "      <td>employee</td>\n",
       "      <td>1</td>\n",
       "      <td>36722.966</td>\n",
       "      <td>getting an education</td>\n",
       "    </tr>\n",
       "    <tr>\n",
       "      <th>2510</th>\n",
       "      <td>20</td>\n",
       "      <td>-2714.161249</td>\n",
       "      <td>59</td>\n",
       "      <td>bachelor's degree</td>\n",
       "      <td>0</td>\n",
       "      <td>widow / widower</td>\n",
       "      <td>2</td>\n",
       "      <td>F</td>\n",
       "      <td>employee</td>\n",
       "      <td>0</td>\n",
       "      <td>42315.974</td>\n",
       "      <td>transactions with commercial real estate</td>\n",
       "    </tr>\n",
       "    <tr>\n",
       "      <th>2941</th>\n",
       "      <td>20</td>\n",
       "      <td>-2161.591519</td>\n",
       "      <td>0</td>\n",
       "      <td>secondary education</td>\n",
       "      <td>1</td>\n",
       "      <td>married</td>\n",
       "      <td>0</td>\n",
       "      <td>F</td>\n",
       "      <td>employee</td>\n",
       "      <td>0</td>\n",
       "      <td>31958.391</td>\n",
       "      <td>to buy a car</td>\n",
       "    </tr>\n",
       "    <tr>\n",
       "      <th>...</th>\n",
       "      <td>...</td>\n",
       "      <td>...</td>\n",
       "      <td>...</td>\n",
       "      <td>...</td>\n",
       "      <td>...</td>\n",
       "      <td>...</td>\n",
       "      <td>...</td>\n",
       "      <td>...</td>\n",
       "      <td>...</td>\n",
       "      <td>...</td>\n",
       "      <td>...</td>\n",
       "      <td>...</td>\n",
       "    </tr>\n",
       "    <tr>\n",
       "      <th>21008</th>\n",
       "      <td>20</td>\n",
       "      <td>-1240.257910</td>\n",
       "      <td>40</td>\n",
       "      <td>secondary education</td>\n",
       "      <td>1</td>\n",
       "      <td>married</td>\n",
       "      <td>0</td>\n",
       "      <td>F</td>\n",
       "      <td>employee</td>\n",
       "      <td>1</td>\n",
       "      <td>21363.842</td>\n",
       "      <td>to own a car</td>\n",
       "    </tr>\n",
       "    <tr>\n",
       "      <th>21325</th>\n",
       "      <td>20</td>\n",
       "      <td>-601.174883</td>\n",
       "      <td>37</td>\n",
       "      <td>secondary education</td>\n",
       "      <td>1</td>\n",
       "      <td>married</td>\n",
       "      <td>0</td>\n",
       "      <td>F</td>\n",
       "      <td>business</td>\n",
       "      <td>0</td>\n",
       "      <td>16477.771</td>\n",
       "      <td>profile education</td>\n",
       "    </tr>\n",
       "    <tr>\n",
       "      <th>21390</th>\n",
       "      <td>20</td>\n",
       "      <td>NaN</td>\n",
       "      <td>53</td>\n",
       "      <td>secondary education</td>\n",
       "      <td>1</td>\n",
       "      <td>married</td>\n",
       "      <td>0</td>\n",
       "      <td>M</td>\n",
       "      <td>business</td>\n",
       "      <td>0</td>\n",
       "      <td>NaN</td>\n",
       "      <td>buy residential real estate</td>\n",
       "    </tr>\n",
       "    <tr>\n",
       "      <th>21404</th>\n",
       "      <td>20</td>\n",
       "      <td>-494.788448</td>\n",
       "      <td>52</td>\n",
       "      <td>secondary education</td>\n",
       "      <td>1</td>\n",
       "      <td>married</td>\n",
       "      <td>0</td>\n",
       "      <td>M</td>\n",
       "      <td>business</td>\n",
       "      <td>0</td>\n",
       "      <td>25060.749</td>\n",
       "      <td>transactions with my real estate</td>\n",
       "    </tr>\n",
       "    <tr>\n",
       "      <th>21491</th>\n",
       "      <td>20</td>\n",
       "      <td>-173.954460</td>\n",
       "      <td>27</td>\n",
       "      <td>secondary education</td>\n",
       "      <td>1</td>\n",
       "      <td>married</td>\n",
       "      <td>0</td>\n",
       "      <td>F</td>\n",
       "      <td>employee</td>\n",
       "      <td>0</td>\n",
       "      <td>24883.344</td>\n",
       "      <td>buying a second-hand car</td>\n",
       "    </tr>\n",
       "  </tbody>\n",
       "</table>\n",
       "<p>76 rows × 12 columns</p>\n",
       "</div>"
      ],
      "text/plain": [
       "       children  days_employed  dob_years            education  education_id  \\\n",
       "606          20    -880.221113         21  secondary education             1   \n",
       "720          20    -855.595512         44  secondary education             1   \n",
       "1074         20   -3310.411598         56  secondary education             1   \n",
       "2510         20   -2714.161249         59    bachelor's degree             0   \n",
       "2941         20   -2161.591519          0  secondary education             1   \n",
       "...         ...            ...        ...                  ...           ...   \n",
       "21008        20   -1240.257910         40  secondary education             1   \n",
       "21325        20    -601.174883         37  secondary education             1   \n",
       "21390        20            NaN         53  secondary education             1   \n",
       "21404        20    -494.788448         52  secondary education             1   \n",
       "21491        20    -173.954460         27  secondary education             1   \n",
       "\n",
       "         family_status  family_status_id gender income_type  debt  \\\n",
       "606            married                 0      M    business     0   \n",
       "720            married                 0      F    business     0   \n",
       "1074           married                 0      F    employee     1   \n",
       "2510   widow / widower                 2      F    employee     0   \n",
       "2941           married                 0      F    employee     0   \n",
       "...                ...               ...    ...         ...   ...   \n",
       "21008          married                 0      F    employee     1   \n",
       "21325          married                 0      F    business     0   \n",
       "21390          married                 0      M    business     0   \n",
       "21404          married                 0      M    business     0   \n",
       "21491          married                 0      F    employee     0   \n",
       "\n",
       "       total_income                                   purpose  \n",
       "606       23253.578                     purchase of the house  \n",
       "720       18079.798                           buy real estate  \n",
       "1074      36722.966                      getting an education  \n",
       "2510      42315.974  transactions with commercial real estate  \n",
       "2941      31958.391                              to buy a car  \n",
       "...             ...                                       ...  \n",
       "21008     21363.842                              to own a car  \n",
       "21325     16477.771                         profile education  \n",
       "21390           NaN               buy residential real estate  \n",
       "21404     25060.749          transactions with my real estate  \n",
       "21491     24883.344                  buying a second-hand car  \n",
       "\n",
       "[76 rows x 12 columns]"
      ]
     },
     "execution_count": 684,
     "metadata": {},
     "output_type": "execute_result"
    }
   ],
   "source": [
    "df[df['children'] == 20]"
   ]
  },
  {
   "cell_type": "code",
   "execution_count": 685,
   "metadata": {
    "id": "tywtFUXWK4Fg"
   },
   "outputs": [],
   "source": [
    "df['children'] = df['children'].replace([20], 2)"
   ]
  },
  {
   "cell_type": "code",
   "execution_count": 686,
   "metadata": {
    "colab": {
     "base_uri": "https://localhost:8080/"
    },
    "id": "O0yJ3-qUMu5B",
    "outputId": "f1aa7dce-6121-4cf8-acb6-485b89c12703"
   },
   "outputs": [
    {
     "data": {
      "text/plain": [
       "(0, 12)"
      ]
     },
     "execution_count": 686,
     "metadata": {},
     "output_type": "execute_result"
    }
   ],
   "source": [
    "df[df['children'] == 20].shape"
   ]
  },
  {
   "cell_type": "code",
   "execution_count": 687,
   "metadata": {
    "colab": {
     "base_uri": "https://localhost:8080/"
    },
    "id": "kiLCF2c6M1Vj",
    "outputId": "dae17938-1c28-4fb9-86e8-199459e113e2"
   },
   "outputs": [
    {
     "data": {
      "text/plain": [
       " 0    14067\n",
       " 1     4800\n",
       " 2     2125\n",
       " 3      330\n",
       "-1       47\n",
       " 4       41\n",
       " 5        9\n",
       "Name: children, dtype: int64"
      ]
     },
     "execution_count": 687,
     "metadata": {},
     "output_type": "execute_result"
    }
   ],
   "source": [
    "df['children'].value_counts()"
   ]
  },
  {
   "cell_type": "code",
   "execution_count": 688,
   "metadata": {
    "colab": {
     "base_uri": "https://localhost:8080/"
    },
    "id": "9TtKJwOFJ4_j",
    "outputId": "c3711cc7-2b36-4da5-bfef-a896e0d0202e"
   },
   "outputs": [
    {
     "data": {
      "text/plain": [
       "(47, 12)"
      ]
     },
     "execution_count": 688,
     "metadata": {},
     "output_type": "execute_result"
    }
   ],
   "source": [
    "df[df['children'] == -1].shape"
   ]
  },
  {
   "cell_type": "code",
   "execution_count": 689,
   "metadata": {
    "colab": {
     "base_uri": "https://localhost:8080/",
     "height": 1000
    },
    "id": "1rcdThelKDkS",
    "outputId": "e4b23286-ea2b-4827-a259-a85bb99365e9"
   },
   "outputs": [
    {
     "data": {
      "text/html": [
       "<div>\n",
       "<style scoped>\n",
       "    .dataframe tbody tr th:only-of-type {\n",
       "        vertical-align: middle;\n",
       "    }\n",
       "\n",
       "    .dataframe tbody tr th {\n",
       "        vertical-align: top;\n",
       "    }\n",
       "\n",
       "    .dataframe thead th {\n",
       "        text-align: right;\n",
       "    }\n",
       "</style>\n",
       "<table border=\"1\" class=\"dataframe\">\n",
       "  <thead>\n",
       "    <tr style=\"text-align: right;\">\n",
       "      <th></th>\n",
       "      <th>children</th>\n",
       "      <th>days_employed</th>\n",
       "      <th>dob_years</th>\n",
       "      <th>education</th>\n",
       "      <th>education_id</th>\n",
       "      <th>family_status</th>\n",
       "      <th>family_status_id</th>\n",
       "      <th>gender</th>\n",
       "      <th>income_type</th>\n",
       "      <th>debt</th>\n",
       "      <th>total_income</th>\n",
       "      <th>purpose</th>\n",
       "    </tr>\n",
       "  </thead>\n",
       "  <tbody>\n",
       "    <tr>\n",
       "      <th>291</th>\n",
       "      <td>-1</td>\n",
       "      <td>-4417.703588</td>\n",
       "      <td>46</td>\n",
       "      <td>secondary education</td>\n",
       "      <td>1</td>\n",
       "      <td>civil partnership</td>\n",
       "      <td>1</td>\n",
       "      <td>F</td>\n",
       "      <td>employee</td>\n",
       "      <td>0</td>\n",
       "      <td>16450.615</td>\n",
       "      <td>profile education</td>\n",
       "    </tr>\n",
       "    <tr>\n",
       "      <th>705</th>\n",
       "      <td>-1</td>\n",
       "      <td>-902.084528</td>\n",
       "      <td>50</td>\n",
       "      <td>secondary education</td>\n",
       "      <td>1</td>\n",
       "      <td>married</td>\n",
       "      <td>0</td>\n",
       "      <td>F</td>\n",
       "      <td>civil servant</td>\n",
       "      <td>0</td>\n",
       "      <td>22061.264</td>\n",
       "      <td>car purchase</td>\n",
       "    </tr>\n",
       "    <tr>\n",
       "      <th>742</th>\n",
       "      <td>-1</td>\n",
       "      <td>-3174.456205</td>\n",
       "      <td>57</td>\n",
       "      <td>secondary education</td>\n",
       "      <td>1</td>\n",
       "      <td>married</td>\n",
       "      <td>0</td>\n",
       "      <td>F</td>\n",
       "      <td>employee</td>\n",
       "      <td>0</td>\n",
       "      <td>10282.887</td>\n",
       "      <td>supplementary education</td>\n",
       "    </tr>\n",
       "    <tr>\n",
       "      <th>800</th>\n",
       "      <td>-1</td>\n",
       "      <td>349987.852217</td>\n",
       "      <td>54</td>\n",
       "      <td>secondary education</td>\n",
       "      <td>1</td>\n",
       "      <td>unmarried</td>\n",
       "      <td>4</td>\n",
       "      <td>F</td>\n",
       "      <td>retiree</td>\n",
       "      <td>0</td>\n",
       "      <td>13806.996</td>\n",
       "      <td>supplementary education</td>\n",
       "    </tr>\n",
       "    <tr>\n",
       "      <th>941</th>\n",
       "      <td>-1</td>\n",
       "      <td>NaN</td>\n",
       "      <td>57</td>\n",
       "      <td>secondary education</td>\n",
       "      <td>1</td>\n",
       "      <td>married</td>\n",
       "      <td>0</td>\n",
       "      <td>F</td>\n",
       "      <td>retiree</td>\n",
       "      <td>0</td>\n",
       "      <td>NaN</td>\n",
       "      <td>buying my own car</td>\n",
       "    </tr>\n",
       "    <tr>\n",
       "      <th>1363</th>\n",
       "      <td>-1</td>\n",
       "      <td>-1195.264956</td>\n",
       "      <td>55</td>\n",
       "      <td>secondary education</td>\n",
       "      <td>1</td>\n",
       "      <td>married</td>\n",
       "      <td>0</td>\n",
       "      <td>F</td>\n",
       "      <td>business</td>\n",
       "      <td>0</td>\n",
       "      <td>11128.112</td>\n",
       "      <td>profile education</td>\n",
       "    </tr>\n",
       "    <tr>\n",
       "      <th>1929</th>\n",
       "      <td>-1</td>\n",
       "      <td>-1461.303336</td>\n",
       "      <td>38</td>\n",
       "      <td>secondary education</td>\n",
       "      <td>1</td>\n",
       "      <td>unmarried</td>\n",
       "      <td>4</td>\n",
       "      <td>M</td>\n",
       "      <td>employee</td>\n",
       "      <td>0</td>\n",
       "      <td>17459.451</td>\n",
       "      <td>purchase of the house</td>\n",
       "    </tr>\n",
       "    <tr>\n",
       "      <th>2073</th>\n",
       "      <td>-1</td>\n",
       "      <td>-2539.761232</td>\n",
       "      <td>42</td>\n",
       "      <td>secondary education</td>\n",
       "      <td>1</td>\n",
       "      <td>divorced</td>\n",
       "      <td>3</td>\n",
       "      <td>F</td>\n",
       "      <td>business</td>\n",
       "      <td>0</td>\n",
       "      <td>26022.177</td>\n",
       "      <td>purchase of the house</td>\n",
       "    </tr>\n",
       "    <tr>\n",
       "      <th>3814</th>\n",
       "      <td>-1</td>\n",
       "      <td>-3045.290443</td>\n",
       "      <td>26</td>\n",
       "      <td>secondary education</td>\n",
       "      <td>1</td>\n",
       "      <td>civil partnership</td>\n",
       "      <td>1</td>\n",
       "      <td>F</td>\n",
       "      <td>civil servant</td>\n",
       "      <td>0</td>\n",
       "      <td>21102.846</td>\n",
       "      <td>having a wedding</td>\n",
       "    </tr>\n",
       "    <tr>\n",
       "      <th>4201</th>\n",
       "      <td>-1</td>\n",
       "      <td>-901.101738</td>\n",
       "      <td>41</td>\n",
       "      <td>secondary education</td>\n",
       "      <td>1</td>\n",
       "      <td>married</td>\n",
       "      <td>0</td>\n",
       "      <td>F</td>\n",
       "      <td>civil servant</td>\n",
       "      <td>0</td>\n",
       "      <td>36220.123</td>\n",
       "      <td>transactions with my real estate</td>\n",
       "    </tr>\n",
       "    <tr>\n",
       "      <th>4402</th>\n",
       "      <td>-1</td>\n",
       "      <td>398001.302888</td>\n",
       "      <td>64</td>\n",
       "      <td>secondary education</td>\n",
       "      <td>1</td>\n",
       "      <td>married</td>\n",
       "      <td>0</td>\n",
       "      <td>F</td>\n",
       "      <td>retiree</td>\n",
       "      <td>0</td>\n",
       "      <td>26122.250</td>\n",
       "      <td>buy real estate</td>\n",
       "    </tr>\n",
       "    <tr>\n",
       "      <th>4542</th>\n",
       "      <td>-1</td>\n",
       "      <td>-1811.899756</td>\n",
       "      <td>32</td>\n",
       "      <td>secondary education</td>\n",
       "      <td>1</td>\n",
       "      <td>married</td>\n",
       "      <td>0</td>\n",
       "      <td>F</td>\n",
       "      <td>employee</td>\n",
       "      <td>0</td>\n",
       "      <td>25687.155</td>\n",
       "      <td>education</td>\n",
       "    </tr>\n",
       "    <tr>\n",
       "      <th>5272</th>\n",
       "      <td>-1</td>\n",
       "      <td>-1143.485347</td>\n",
       "      <td>46</td>\n",
       "      <td>secondary education</td>\n",
       "      <td>1</td>\n",
       "      <td>widow / widower</td>\n",
       "      <td>2</td>\n",
       "      <td>F</td>\n",
       "      <td>employee</td>\n",
       "      <td>0</td>\n",
       "      <td>44593.283</td>\n",
       "      <td>buy real estate</td>\n",
       "    </tr>\n",
       "    <tr>\n",
       "      <th>6013</th>\n",
       "      <td>-1</td>\n",
       "      <td>-1361.258696</td>\n",
       "      <td>46</td>\n",
       "      <td>bachelor's degree</td>\n",
       "      <td>0</td>\n",
       "      <td>married</td>\n",
       "      <td>0</td>\n",
       "      <td>F</td>\n",
       "      <td>employee</td>\n",
       "      <td>0</td>\n",
       "      <td>22881.353</td>\n",
       "      <td>construction of own property</td>\n",
       "    </tr>\n",
       "    <tr>\n",
       "      <th>6385</th>\n",
       "      <td>-1</td>\n",
       "      <td>370215.476226</td>\n",
       "      <td>48</td>\n",
       "      <td>secondary education</td>\n",
       "      <td>1</td>\n",
       "      <td>widow / widower</td>\n",
       "      <td>2</td>\n",
       "      <td>F</td>\n",
       "      <td>retiree</td>\n",
       "      <td>0</td>\n",
       "      <td>5768.392</td>\n",
       "      <td>education</td>\n",
       "    </tr>\n",
       "    <tr>\n",
       "      <th>7190</th>\n",
       "      <td>-1</td>\n",
       "      <td>-5928.202068</td>\n",
       "      <td>34</td>\n",
       "      <td>secondary education</td>\n",
       "      <td>1</td>\n",
       "      <td>married</td>\n",
       "      <td>0</td>\n",
       "      <td>M</td>\n",
       "      <td>employee</td>\n",
       "      <td>0</td>\n",
       "      <td>29490.420</td>\n",
       "      <td>car purchase</td>\n",
       "    </tr>\n",
       "    <tr>\n",
       "      <th>7278</th>\n",
       "      <td>-1</td>\n",
       "      <td>-526.318451</td>\n",
       "      <td>51</td>\n",
       "      <td>secondary education</td>\n",
       "      <td>1</td>\n",
       "      <td>married</td>\n",
       "      <td>0</td>\n",
       "      <td>F</td>\n",
       "      <td>employee</td>\n",
       "      <td>0</td>\n",
       "      <td>23508.603</td>\n",
       "      <td>transactions with commercial real estate</td>\n",
       "    </tr>\n",
       "    <tr>\n",
       "      <th>7615</th>\n",
       "      <td>-1</td>\n",
       "      <td>NaN</td>\n",
       "      <td>35</td>\n",
       "      <td>secondary education</td>\n",
       "      <td>1</td>\n",
       "      <td>married</td>\n",
       "      <td>0</td>\n",
       "      <td>M</td>\n",
       "      <td>employee</td>\n",
       "      <td>0</td>\n",
       "      <td>NaN</td>\n",
       "      <td>education</td>\n",
       "    </tr>\n",
       "    <tr>\n",
       "      <th>7685</th>\n",
       "      <td>-1</td>\n",
       "      <td>-3237.360455</td>\n",
       "      <td>53</td>\n",
       "      <td>secondary education</td>\n",
       "      <td>1</td>\n",
       "      <td>widow / widower</td>\n",
       "      <td>2</td>\n",
       "      <td>F</td>\n",
       "      <td>employee</td>\n",
       "      <td>0</td>\n",
       "      <td>25548.188</td>\n",
       "      <td>building a real estate</td>\n",
       "    </tr>\n",
       "    <tr>\n",
       "      <th>8229</th>\n",
       "      <td>-1</td>\n",
       "      <td>-1803.441074</td>\n",
       "      <td>54</td>\n",
       "      <td>bachelor's degree</td>\n",
       "      <td>0</td>\n",
       "      <td>married</td>\n",
       "      <td>0</td>\n",
       "      <td>F</td>\n",
       "      <td>business</td>\n",
       "      <td>0</td>\n",
       "      <td>22209.453</td>\n",
       "      <td>buy real estate</td>\n",
       "    </tr>\n",
       "    <tr>\n",
       "      <th>8251</th>\n",
       "      <td>-1</td>\n",
       "      <td>-3113.998449</td>\n",
       "      <td>31</td>\n",
       "      <td>secondary education</td>\n",
       "      <td>1</td>\n",
       "      <td>civil partnership</td>\n",
       "      <td>1</td>\n",
       "      <td>F</td>\n",
       "      <td>employee</td>\n",
       "      <td>0</td>\n",
       "      <td>8705.929</td>\n",
       "      <td>to own a car</td>\n",
       "    </tr>\n",
       "    <tr>\n",
       "      <th>8561</th>\n",
       "      <td>-1</td>\n",
       "      <td>-195.479496</td>\n",
       "      <td>31</td>\n",
       "      <td>secondary education</td>\n",
       "      <td>1</td>\n",
       "      <td>married</td>\n",
       "      <td>0</td>\n",
       "      <td>F</td>\n",
       "      <td>employee</td>\n",
       "      <td>0</td>\n",
       "      <td>23292.461</td>\n",
       "      <td>housing renovation</td>\n",
       "    </tr>\n",
       "    <tr>\n",
       "      <th>9565</th>\n",
       "      <td>-1</td>\n",
       "      <td>-2896.629686</td>\n",
       "      <td>34</td>\n",
       "      <td>bachelor's degree</td>\n",
       "      <td>0</td>\n",
       "      <td>married</td>\n",
       "      <td>0</td>\n",
       "      <td>M</td>\n",
       "      <td>employee</td>\n",
       "      <td>0</td>\n",
       "      <td>20280.745</td>\n",
       "      <td>real estate transactions</td>\n",
       "    </tr>\n",
       "    <tr>\n",
       "      <th>9574</th>\n",
       "      <td>-1</td>\n",
       "      <td>-2710.419901</td>\n",
       "      <td>28</td>\n",
       "      <td>bachelor's degree</td>\n",
       "      <td>0</td>\n",
       "      <td>married</td>\n",
       "      <td>0</td>\n",
       "      <td>M</td>\n",
       "      <td>civil servant</td>\n",
       "      <td>0</td>\n",
       "      <td>48501.946</td>\n",
       "      <td>to get a supplementary education</td>\n",
       "    </tr>\n",
       "    <tr>\n",
       "      <th>10177</th>\n",
       "      <td>-1</td>\n",
       "      <td>-1743.604011</td>\n",
       "      <td>37</td>\n",
       "      <td>secondary education</td>\n",
       "      <td>1</td>\n",
       "      <td>married</td>\n",
       "      <td>0</td>\n",
       "      <td>M</td>\n",
       "      <td>employee</td>\n",
       "      <td>0</td>\n",
       "      <td>49658.801</td>\n",
       "      <td>getting an education</td>\n",
       "    </tr>\n",
       "    <tr>\n",
       "      <th>10365</th>\n",
       "      <td>-1</td>\n",
       "      <td>345774.125957</td>\n",
       "      <td>63</td>\n",
       "      <td>bachelor's degree</td>\n",
       "      <td>0</td>\n",
       "      <td>widow / widower</td>\n",
       "      <td>2</td>\n",
       "      <td>F</td>\n",
       "      <td>retiree</td>\n",
       "      <td>0</td>\n",
       "      <td>27322.040</td>\n",
       "      <td>building a real estate</td>\n",
       "    </tr>\n",
       "    <tr>\n",
       "      <th>10918</th>\n",
       "      <td>-1</td>\n",
       "      <td>340499.039342</td>\n",
       "      <td>50</td>\n",
       "      <td>secondary education</td>\n",
       "      <td>1</td>\n",
       "      <td>married</td>\n",
       "      <td>0</td>\n",
       "      <td>M</td>\n",
       "      <td>retiree</td>\n",
       "      <td>0</td>\n",
       "      <td>27322.044</td>\n",
       "      <td>purchase of my own house</td>\n",
       "    </tr>\n",
       "    <tr>\n",
       "      <th>11109</th>\n",
       "      <td>-1</td>\n",
       "      <td>-3438.463024</td>\n",
       "      <td>59</td>\n",
       "      <td>secondary education</td>\n",
       "      <td>1</td>\n",
       "      <td>married</td>\n",
       "      <td>0</td>\n",
       "      <td>F</td>\n",
       "      <td>employee</td>\n",
       "      <td>0</td>\n",
       "      <td>35179.842</td>\n",
       "      <td>housing transactions</td>\n",
       "    </tr>\n",
       "    <tr>\n",
       "      <th>11268</th>\n",
       "      <td>-1</td>\n",
       "      <td>-1048.782203</td>\n",
       "      <td>30</td>\n",
       "      <td>bachelor's degree</td>\n",
       "      <td>0</td>\n",
       "      <td>civil partnership</td>\n",
       "      <td>1</td>\n",
       "      <td>F</td>\n",
       "      <td>business</td>\n",
       "      <td>0</td>\n",
       "      <td>51456.592</td>\n",
       "      <td>to buy a car</td>\n",
       "    </tr>\n",
       "    <tr>\n",
       "      <th>11617</th>\n",
       "      <td>-1</td>\n",
       "      <td>-370.827130</td>\n",
       "      <td>27</td>\n",
       "      <td>secondary education</td>\n",
       "      <td>1</td>\n",
       "      <td>married</td>\n",
       "      <td>0</td>\n",
       "      <td>F</td>\n",
       "      <td>business</td>\n",
       "      <td>0</td>\n",
       "      <td>26334.602</td>\n",
       "      <td>buying property for renting out</td>\n",
       "    </tr>\n",
       "    <tr>\n",
       "      <th>12304</th>\n",
       "      <td>-1</td>\n",
       "      <td>-8493.101252</td>\n",
       "      <td>61</td>\n",
       "      <td>some college</td>\n",
       "      <td>2</td>\n",
       "      <td>married</td>\n",
       "      <td>0</td>\n",
       "      <td>M</td>\n",
       "      <td>employee</td>\n",
       "      <td>0</td>\n",
       "      <td>50400.989</td>\n",
       "      <td>property</td>\n",
       "    </tr>\n",
       "    <tr>\n",
       "      <th>13786</th>\n",
       "      <td>-1</td>\n",
       "      <td>NaN</td>\n",
       "      <td>42</td>\n",
       "      <td>secondary education</td>\n",
       "      <td>1</td>\n",
       "      <td>unmarried</td>\n",
       "      <td>4</td>\n",
       "      <td>M</td>\n",
       "      <td>business</td>\n",
       "      <td>0</td>\n",
       "      <td>NaN</td>\n",
       "      <td>car</td>\n",
       "    </tr>\n",
       "    <tr>\n",
       "      <th>14357</th>\n",
       "      <td>-1</td>\n",
       "      <td>-268.337037</td>\n",
       "      <td>23</td>\n",
       "      <td>secondary education</td>\n",
       "      <td>1</td>\n",
       "      <td>divorced</td>\n",
       "      <td>3</td>\n",
       "      <td>F</td>\n",
       "      <td>business</td>\n",
       "      <td>0</td>\n",
       "      <td>14761.213</td>\n",
       "      <td>buy residential real estate</td>\n",
       "    </tr>\n",
       "    <tr>\n",
       "      <th>15147</th>\n",
       "      <td>-1</td>\n",
       "      <td>-9851.184337</td>\n",
       "      <td>44</td>\n",
       "      <td>secondary education</td>\n",
       "      <td>1</td>\n",
       "      <td>divorced</td>\n",
       "      <td>3</td>\n",
       "      <td>F</td>\n",
       "      <td>employee</td>\n",
       "      <td>0</td>\n",
       "      <td>17758.530</td>\n",
       "      <td>to own a car</td>\n",
       "    </tr>\n",
       "    <tr>\n",
       "      <th>15435</th>\n",
       "      <td>-1</td>\n",
       "      <td>-3614.220232</td>\n",
       "      <td>40</td>\n",
       "      <td>bachelor's degree</td>\n",
       "      <td>0</td>\n",
       "      <td>civil partnership</td>\n",
       "      <td>1</td>\n",
       "      <td>F</td>\n",
       "      <td>employee</td>\n",
       "      <td>0</td>\n",
       "      <td>15700.406</td>\n",
       "      <td>to have a wedding</td>\n",
       "    </tr>\n",
       "    <tr>\n",
       "      <th>16129</th>\n",
       "      <td>-1</td>\n",
       "      <td>-457.861760</td>\n",
       "      <td>33</td>\n",
       "      <td>secondary education</td>\n",
       "      <td>1</td>\n",
       "      <td>married</td>\n",
       "      <td>0</td>\n",
       "      <td>F</td>\n",
       "      <td>employee</td>\n",
       "      <td>1</td>\n",
       "      <td>23942.573</td>\n",
       "      <td>car</td>\n",
       "    </tr>\n",
       "    <tr>\n",
       "      <th>16265</th>\n",
       "      <td>-1</td>\n",
       "      <td>-2802.218127</td>\n",
       "      <td>40</td>\n",
       "      <td>bachelor's degree</td>\n",
       "      <td>0</td>\n",
       "      <td>married</td>\n",
       "      <td>0</td>\n",
       "      <td>M</td>\n",
       "      <td>employee</td>\n",
       "      <td>0</td>\n",
       "      <td>17917.516</td>\n",
       "      <td>purchase of the house</td>\n",
       "    </tr>\n",
       "    <tr>\n",
       "      <th>17095</th>\n",
       "      <td>-1</td>\n",
       "      <td>-2809.693200</td>\n",
       "      <td>34</td>\n",
       "      <td>secondary education</td>\n",
       "      <td>1</td>\n",
       "      <td>married</td>\n",
       "      <td>0</td>\n",
       "      <td>F</td>\n",
       "      <td>employee</td>\n",
       "      <td>0</td>\n",
       "      <td>29207.022</td>\n",
       "      <td>buying a second-hand car</td>\n",
       "    </tr>\n",
       "    <tr>\n",
       "      <th>17429</th>\n",
       "      <td>-1</td>\n",
       "      <td>-895.379738</td>\n",
       "      <td>37</td>\n",
       "      <td>secondary education</td>\n",
       "      <td>1</td>\n",
       "      <td>married</td>\n",
       "      <td>0</td>\n",
       "      <td>F</td>\n",
       "      <td>business</td>\n",
       "      <td>0</td>\n",
       "      <td>34370.243</td>\n",
       "      <td>housing</td>\n",
       "    </tr>\n",
       "    <tr>\n",
       "      <th>17657</th>\n",
       "      <td>-1</td>\n",
       "      <td>-4571.957475</td>\n",
       "      <td>41</td>\n",
       "      <td>secondary education</td>\n",
       "      <td>1</td>\n",
       "      <td>married</td>\n",
       "      <td>0</td>\n",
       "      <td>F</td>\n",
       "      <td>employee</td>\n",
       "      <td>0</td>\n",
       "      <td>19536.867</td>\n",
       "      <td>transactions with my real estate</td>\n",
       "    </tr>\n",
       "    <tr>\n",
       "      <th>18219</th>\n",
       "      <td>-1</td>\n",
       "      <td>-3575.215641</td>\n",
       "      <td>33</td>\n",
       "      <td>secondary education</td>\n",
       "      <td>1</td>\n",
       "      <td>married</td>\n",
       "      <td>0</td>\n",
       "      <td>F</td>\n",
       "      <td>employee</td>\n",
       "      <td>0</td>\n",
       "      <td>20537.924</td>\n",
       "      <td>university education</td>\n",
       "    </tr>\n",
       "    <tr>\n",
       "      <th>19100</th>\n",
       "      <td>-1</td>\n",
       "      <td>-617.246968</td>\n",
       "      <td>38</td>\n",
       "      <td>secondary education</td>\n",
       "      <td>1</td>\n",
       "      <td>unmarried</td>\n",
       "      <td>4</td>\n",
       "      <td>M</td>\n",
       "      <td>employee</td>\n",
       "      <td>0</td>\n",
       "      <td>19552.880</td>\n",
       "      <td>building a real estate</td>\n",
       "    </tr>\n",
       "    <tr>\n",
       "      <th>19366</th>\n",
       "      <td>-1</td>\n",
       "      <td>-372.034749</td>\n",
       "      <td>43</td>\n",
       "      <td>secondary education</td>\n",
       "      <td>1</td>\n",
       "      <td>married</td>\n",
       "      <td>0</td>\n",
       "      <td>M</td>\n",
       "      <td>employee</td>\n",
       "      <td>0</td>\n",
       "      <td>24894.203</td>\n",
       "      <td>second-hand car purchase</td>\n",
       "    </tr>\n",
       "    <tr>\n",
       "      <th>19417</th>\n",
       "      <td>-1</td>\n",
       "      <td>350340.760224</td>\n",
       "      <td>28</td>\n",
       "      <td>secondary education</td>\n",
       "      <td>1</td>\n",
       "      <td>divorced</td>\n",
       "      <td>3</td>\n",
       "      <td>F</td>\n",
       "      <td>retiree</td>\n",
       "      <td>0</td>\n",
       "      <td>8459.679</td>\n",
       "      <td>cars</td>\n",
       "    </tr>\n",
       "    <tr>\n",
       "      <th>20393</th>\n",
       "      <td>-1</td>\n",
       "      <td>355157.107212</td>\n",
       "      <td>69</td>\n",
       "      <td>secondary education</td>\n",
       "      <td>1</td>\n",
       "      <td>unmarried</td>\n",
       "      <td>4</td>\n",
       "      <td>F</td>\n",
       "      <td>retiree</td>\n",
       "      <td>0</td>\n",
       "      <td>18643.367</td>\n",
       "      <td>real estate transactions</td>\n",
       "    </tr>\n",
       "    <tr>\n",
       "      <th>20717</th>\n",
       "      <td>-1</td>\n",
       "      <td>-661.822321</td>\n",
       "      <td>32</td>\n",
       "      <td>bachelor's degree</td>\n",
       "      <td>0</td>\n",
       "      <td>married</td>\n",
       "      <td>0</td>\n",
       "      <td>F</td>\n",
       "      <td>employee</td>\n",
       "      <td>0</td>\n",
       "      <td>21984.862</td>\n",
       "      <td>buy residential real estate</td>\n",
       "    </tr>\n",
       "    <tr>\n",
       "      <th>21140</th>\n",
       "      <td>-1</td>\n",
       "      <td>-1422.668059</td>\n",
       "      <td>44</td>\n",
       "      <td>secondary education</td>\n",
       "      <td>1</td>\n",
       "      <td>married</td>\n",
       "      <td>0</td>\n",
       "      <td>F</td>\n",
       "      <td>business</td>\n",
       "      <td>0</td>\n",
       "      <td>27129.935</td>\n",
       "      <td>transactions with my real estate</td>\n",
       "    </tr>\n",
       "  </tbody>\n",
       "</table>\n",
       "</div>"
      ],
      "text/plain": [
       "       children  days_employed  dob_years            education  education_id  \\\n",
       "291          -1   -4417.703588         46  secondary education             1   \n",
       "705          -1    -902.084528         50  secondary education             1   \n",
       "742          -1   -3174.456205         57  secondary education             1   \n",
       "800          -1  349987.852217         54  secondary education             1   \n",
       "941          -1            NaN         57  secondary education             1   \n",
       "1363         -1   -1195.264956         55  secondary education             1   \n",
       "1929         -1   -1461.303336         38  secondary education             1   \n",
       "2073         -1   -2539.761232         42  secondary education             1   \n",
       "3814         -1   -3045.290443         26  secondary education             1   \n",
       "4201         -1    -901.101738         41  secondary education             1   \n",
       "4402         -1  398001.302888         64  secondary education             1   \n",
       "4542         -1   -1811.899756         32  secondary education             1   \n",
       "5272         -1   -1143.485347         46  secondary education             1   \n",
       "6013         -1   -1361.258696         46    bachelor's degree             0   \n",
       "6385         -1  370215.476226         48  secondary education             1   \n",
       "7190         -1   -5928.202068         34  secondary education             1   \n",
       "7278         -1    -526.318451         51  secondary education             1   \n",
       "7615         -1            NaN         35  secondary education             1   \n",
       "7685         -1   -3237.360455         53  secondary education             1   \n",
       "8229         -1   -1803.441074         54    bachelor's degree             0   \n",
       "8251         -1   -3113.998449         31  secondary education             1   \n",
       "8561         -1    -195.479496         31  secondary education             1   \n",
       "9565         -1   -2896.629686         34    bachelor's degree             0   \n",
       "9574         -1   -2710.419901         28    bachelor's degree             0   \n",
       "10177        -1   -1743.604011         37  secondary education             1   \n",
       "10365        -1  345774.125957         63    bachelor's degree             0   \n",
       "10918        -1  340499.039342         50  secondary education             1   \n",
       "11109        -1   -3438.463024         59  secondary education             1   \n",
       "11268        -1   -1048.782203         30    bachelor's degree             0   \n",
       "11617        -1    -370.827130         27  secondary education             1   \n",
       "12304        -1   -8493.101252         61         some college             2   \n",
       "13786        -1            NaN         42  secondary education             1   \n",
       "14357        -1    -268.337037         23  secondary education             1   \n",
       "15147        -1   -9851.184337         44  secondary education             1   \n",
       "15435        -1   -3614.220232         40    bachelor's degree             0   \n",
       "16129        -1    -457.861760         33  secondary education             1   \n",
       "16265        -1   -2802.218127         40    bachelor's degree             0   \n",
       "17095        -1   -2809.693200         34  secondary education             1   \n",
       "17429        -1    -895.379738         37  secondary education             1   \n",
       "17657        -1   -4571.957475         41  secondary education             1   \n",
       "18219        -1   -3575.215641         33  secondary education             1   \n",
       "19100        -1    -617.246968         38  secondary education             1   \n",
       "19366        -1    -372.034749         43  secondary education             1   \n",
       "19417        -1  350340.760224         28  secondary education             1   \n",
       "20393        -1  355157.107212         69  secondary education             1   \n",
       "20717        -1    -661.822321         32    bachelor's degree             0   \n",
       "21140        -1   -1422.668059         44  secondary education             1   \n",
       "\n",
       "           family_status  family_status_id gender    income_type  debt  \\\n",
       "291    civil partnership                 1      F       employee     0   \n",
       "705              married                 0      F  civil servant     0   \n",
       "742              married                 0      F       employee     0   \n",
       "800            unmarried                 4      F        retiree     0   \n",
       "941              married                 0      F        retiree     0   \n",
       "1363             married                 0      F       business     0   \n",
       "1929           unmarried                 4      M       employee     0   \n",
       "2073            divorced                 3      F       business     0   \n",
       "3814   civil partnership                 1      F  civil servant     0   \n",
       "4201             married                 0      F  civil servant     0   \n",
       "4402             married                 0      F        retiree     0   \n",
       "4542             married                 0      F       employee     0   \n",
       "5272     widow / widower                 2      F       employee     0   \n",
       "6013             married                 0      F       employee     0   \n",
       "6385     widow / widower                 2      F        retiree     0   \n",
       "7190             married                 0      M       employee     0   \n",
       "7278             married                 0      F       employee     0   \n",
       "7615             married                 0      M       employee     0   \n",
       "7685     widow / widower                 2      F       employee     0   \n",
       "8229             married                 0      F       business     0   \n",
       "8251   civil partnership                 1      F       employee     0   \n",
       "8561             married                 0      F       employee     0   \n",
       "9565             married                 0      M       employee     0   \n",
       "9574             married                 0      M  civil servant     0   \n",
       "10177            married                 0      M       employee     0   \n",
       "10365    widow / widower                 2      F        retiree     0   \n",
       "10918            married                 0      M        retiree     0   \n",
       "11109            married                 0      F       employee     0   \n",
       "11268  civil partnership                 1      F       business     0   \n",
       "11617            married                 0      F       business     0   \n",
       "12304            married                 0      M       employee     0   \n",
       "13786          unmarried                 4      M       business     0   \n",
       "14357           divorced                 3      F       business     0   \n",
       "15147           divorced                 3      F       employee     0   \n",
       "15435  civil partnership                 1      F       employee     0   \n",
       "16129            married                 0      F       employee     1   \n",
       "16265            married                 0      M       employee     0   \n",
       "17095            married                 0      F       employee     0   \n",
       "17429            married                 0      F       business     0   \n",
       "17657            married                 0      F       employee     0   \n",
       "18219            married                 0      F       employee     0   \n",
       "19100          unmarried                 4      M       employee     0   \n",
       "19366            married                 0      M       employee     0   \n",
       "19417           divorced                 3      F        retiree     0   \n",
       "20393          unmarried                 4      F        retiree     0   \n",
       "20717            married                 0      F       employee     0   \n",
       "21140            married                 0      F       business     0   \n",
       "\n",
       "       total_income                                   purpose  \n",
       "291       16450.615                         profile education  \n",
       "705       22061.264                              car purchase  \n",
       "742       10282.887                   supplementary education  \n",
       "800       13806.996                   supplementary education  \n",
       "941             NaN                         buying my own car  \n",
       "1363      11128.112                         profile education  \n",
       "1929      17459.451                     purchase of the house  \n",
       "2073      26022.177                     purchase of the house  \n",
       "3814      21102.846                          having a wedding  \n",
       "4201      36220.123          transactions with my real estate  \n",
       "4402      26122.250                           buy real estate  \n",
       "4542      25687.155                                 education  \n",
       "5272      44593.283                           buy real estate  \n",
       "6013      22881.353              construction of own property  \n",
       "6385       5768.392                                 education  \n",
       "7190      29490.420                              car purchase  \n",
       "7278      23508.603  transactions with commercial real estate  \n",
       "7615            NaN                                 education  \n",
       "7685      25548.188                    building a real estate  \n",
       "8229      22209.453                           buy real estate  \n",
       "8251       8705.929                              to own a car  \n",
       "8561      23292.461                        housing renovation  \n",
       "9565      20280.745                  real estate transactions  \n",
       "9574      48501.946          to get a supplementary education  \n",
       "10177     49658.801                      getting an education  \n",
       "10365     27322.040                    building a real estate  \n",
       "10918     27322.044                  purchase of my own house  \n",
       "11109     35179.842                      housing transactions  \n",
       "11268     51456.592                              to buy a car  \n",
       "11617     26334.602           buying property for renting out  \n",
       "12304     50400.989                                  property  \n",
       "13786           NaN                                       car  \n",
       "14357     14761.213               buy residential real estate  \n",
       "15147     17758.530                              to own a car  \n",
       "15435     15700.406                         to have a wedding  \n",
       "16129     23942.573                                       car  \n",
       "16265     17917.516                     purchase of the house  \n",
       "17095     29207.022                  buying a second-hand car  \n",
       "17429     34370.243                                   housing  \n",
       "17657     19536.867          transactions with my real estate  \n",
       "18219     20537.924                      university education  \n",
       "19100     19552.880                    building a real estate  \n",
       "19366     24894.203                  second-hand car purchase  \n",
       "19417      8459.679                                      cars  \n",
       "20393     18643.367                  real estate transactions  \n",
       "20717     21984.862               buy residential real estate  \n",
       "21140     27129.935          transactions with my real estate  "
      ]
     },
     "execution_count": 689,
     "metadata": {},
     "output_type": "execute_result"
    }
   ],
   "source": [
    "df[df['children'] == -1]"
   ]
  },
  {
   "cell_type": "code",
   "execution_count": 690,
   "metadata": {
    "id": "6WCoBISnM9SD"
   },
   "outputs": [],
   "source": [
    "df['children'] = df['children'].replace([-1], 1)"
   ]
  },
  {
   "cell_type": "code",
   "execution_count": 691,
   "metadata": {
    "colab": {
     "base_uri": "https://localhost:8080/"
    },
    "id": "PwKRrZglNCE8",
    "outputId": "ae5e879f-9ca1-456f-ffd1-4fb0c7cb0f1e"
   },
   "outputs": [
    {
     "data": {
      "text/plain": [
       "(0, 12)"
      ]
     },
     "execution_count": 691,
     "metadata": {},
     "output_type": "execute_result"
    }
   ],
   "source": [
    "df[df['children'] == -1].shape"
   ]
  },
  {
   "cell_type": "code",
   "execution_count": 692,
   "metadata": {
    "colab": {
     "base_uri": "https://localhost:8080/"
    },
    "id": "t6PhSaiMNIqQ",
    "outputId": "2f2d51c4-e249-4733-803f-720c546b8764"
   },
   "outputs": [
    {
     "data": {
      "text/plain": [
       "0    14067\n",
       "1     4847\n",
       "2     2125\n",
       "3      330\n",
       "4       41\n",
       "5        9\n",
       "Name: children, dtype: int64"
      ]
     },
     "execution_count": 692,
     "metadata": {},
     "output_type": "execute_result"
    }
   ],
   "source": [
    "df['children'].value_counts()"
   ]
  },
  {
   "cell_type": "markdown",
   "metadata": {
    "id": "EMHjzGU92Ify"
   },
   "source": [
    "Observations:\n",
    "<p>In the children column, there are values with negative values (-1) and 20. This could be a human error of putting in the correct values which are 1 and 2 respectively. Thus, I replaced those incorrect values with the right ones.</p> "
   ]
  },
  {
   "cell_type": "markdown",
   "metadata": {},
   "source": [
    "<div class=\"alert alert-block alert-success\">\n",
    "<b>Reviewer's comment</b> <a class=\"tocSkip\"></a>\n",
    "\n",
    "Very good!\n",
    "</div>"
   ]
  },
  {
   "cell_type": "code",
   "execution_count": 693,
   "metadata": {
    "colab": {
     "base_uri": "https://localhost:8080/"
    },
    "id": "mBuF4kN_2Ify",
    "outputId": "6190f3b7-582e-4bf9-9468-67319b9e23ec"
   },
   "outputs": [
    {
     "data": {
      "text/plain": [
       "0        1\n",
       "1        1\n",
       "2        0\n",
       "3        3\n",
       "4        0\n",
       "        ..\n",
       "21520    1\n",
       "21521    0\n",
       "21522    1\n",
       "21523    3\n",
       "21524    2\n",
       "Name: children, Length: 21419, dtype: int64"
      ]
     },
     "execution_count": 693,
     "metadata": {},
     "output_type": "execute_result"
    }
   ],
   "source": [
    "df['children']\n"
   ]
  },
  {
   "cell_type": "code",
   "execution_count": 694,
   "metadata": {
    "colab": {
     "base_uri": "https://localhost:8080/",
     "height": 279
    },
    "id": "MbcOSJ_B9Y_m",
    "outputId": "67e072e3-8a14-4c2e-ca11-453e79a76b5a"
   },
   "outputs": [
    {
     "data": {
      "image/png": "[encoded data removed]",
      "text/plain": [
       "<Figure size 432x288 with 1 Axes>"
      ]
     },
     "metadata": {},
     "output_type": "display_data"
    }
   ],
   "source": [
    "sns.countplot('children', data =df)\n",
    "plt.show()"
   ]
  },
  {
   "cell_type": "markdown",
   "metadata": {
    "id": "mgIPpnNV2Ifz"
   },
   "source": [
    "**Checking the 'days_employed' column.**\n",
    "</p>The main issues will be the length of days the customers were employed. Its a float, so, it can only mean some worked less than a day. But when cross-referencing it with income_type column which shows values of student, retired... it needs to be investigated. The income_type column could have impact to the days_employed column.</p>\n"
   ]
  },
  {
   "cell_type": "code",
   "execution_count": 695,
   "metadata": {},
   "outputs": [
    {
     "name": "stdout",
     "output_type": "stream",
     "text": [
      "   children  days_employed  dob_years            education  education_id  \\\n",
      "0         1   -8437.673028         42    bachelor's degree             0   \n",
      "1         1   -4024.803754         36  secondary education             1   \n",
      "2         0   -5623.422610         33  secondary education             1   \n",
      "3         3   -4124.747207         32  secondary education             1   \n",
      "4         0  340266.072047         53  secondary education             1   \n",
      "5         0    -926.185831         27    bachelor's degree             0   \n",
      "6         0   -2879.202052         43    bachelor's degree             0   \n",
      "7         0    -152.779569         50  secondary education             1   \n",
      "8         2   -6929.865299         35    bachelor's degree             0   \n",
      "9         0   -2188.756445         41  secondary education             1   \n",
      "\n",
      "       family_status  family_status_id gender income_type  debt  total_income  \\\n",
      "0            married                 0      F    employee     0     40620.102   \n",
      "1            married                 0      F    employee     0     17932.802   \n",
      "2            married                 0      M    employee     0     23341.752   \n",
      "3            married                 0      M    employee     0     42820.568   \n",
      "4  civil partnership                 1      F     retiree     0     25378.572   \n",
      "5  civil partnership                 1      M    business     0     40922.170   \n",
      "6            married                 0      F    business     0     38484.156   \n",
      "7            married                 0      M    employee     0     21731.829   \n",
      "8  civil partnership                 1      F    employee     0     15337.093   \n",
      "9            married                 0      M    employee     0     23108.150   \n",
      "\n",
      "                               purpose  \n",
      "0                purchase of the house  \n",
      "1                         car purchase  \n",
      "2                purchase of the house  \n",
      "3              supplementary education  \n",
      "4                    to have a wedding  \n",
      "5                purchase of the house  \n",
      "6                 housing transactions  \n",
      "7                            education  \n",
      "8                     having a wedding  \n",
      "9  purchase of the house for my family  \n"
     ]
    }
   ],
   "source": [
    "print(df.head(10))"
   ]
  },
  {
   "cell_type": "code",
   "execution_count": 696,
   "metadata": {
    "colab": {
     "base_uri": "https://localhost:8080/"
    },
    "id": "hVsaHm0D2Ifz",
    "outputId": "d8bc085c-b0d8-42f3-fff1-aa698e43e93b"
   },
   "outputs": [
    {
     "data": {
      "text/plain": [
       "count     19351.000000\n",
       "mean      63046.497661\n",
       "std      140827.311974\n",
       "min      -18388.949901\n",
       "25%       -2747.423625\n",
       "50%       -1203.369529\n",
       "75%        -291.095954\n",
       "max      401755.400475\n",
       "Name: days_employed, dtype: float64"
      ]
     },
     "execution_count": 696,
     "metadata": {},
     "output_type": "execute_result"
    }
   ],
   "source": [
    "df['days_employed'].describe()\n"
   ]
  },
  {
   "cell_type": "code",
   "execution_count": 697,
   "metadata": {
    "colab": {
     "base_uri": "https://localhost:8080/"
    },
    "id": "3saxUPPxOsdJ",
    "outputId": "1bda3801-5b23-4fa3-af78-1342b96ff8bd"
   },
   "outputs": [
    {
     "data": {
      "text/plain": [
       "9.65497922405341"
      ]
     },
     "execution_count": 697,
     "metadata": {},
     "output_type": "execute_result"
    }
   ],
   "source": [
    "df['days_employed'].isnull().sum() / len(df['days_employed']) * 100"
   ]
  },
  {
   "cell_type": "markdown",
   "metadata": {
    "id": "3RA2jL132Ifz"
   },
   "source": [
    "**Observations:**\n",
    "Looking at the statistics table, the max value is 401755 which is impossible as the number of days in the working age of an individual as well as the min value as negative. It needs to be further investigated. "
   ]
  },
  {
   "cell_type": "code",
   "execution_count": 698,
   "metadata": {
    "colab": {
     "base_uri": "https://localhost:8080/"
    },
    "id": "-nbIN1E92Ifz",
    "outputId": "7cfe9a1a-8237-431d-9f5f-317a29b73e69"
   },
   "outputs": [
    {
     "data": {
      "text/plain": [
       "count     19351.000000\n",
       "mean      66914.728907\n",
       "std      139030.880527\n",
       "min          24.141633\n",
       "25%         927.009265\n",
       "50%        2194.220567\n",
       "75%        5537.882441\n",
       "max      401755.400475\n",
       "Name: days_employed, dtype: float64"
      ]
     },
     "execution_count": 698,
     "metadata": {},
     "output_type": "execute_result"
    }
   ],
   "source": [
    "df['days_employed'] = df['days_employed'].apply(lambda x: abs(x) if x < 0 else x)\n",
    "df['days_employed'].describe()\n"
   ]
  },
  {
   "cell_type": "code",
   "execution_count": 699,
   "metadata": {
    "colab": {
     "base_uri": "https://localhost:8080/"
    },
    "id": "UPgxo2s3QEub",
    "outputId": "2a3514b6-65f3-407b-b045-990910ac6d2d"
   },
   "outputs": [
    {
     "data": {
      "text/plain": [
       "6954     401755.400475\n",
       "10006    401715.811749\n",
       "7664     401675.093434\n",
       "2156     401674.466633\n",
       "7794     401663.850046\n",
       "             ...      \n",
       "21489              NaN\n",
       "21495              NaN\n",
       "21497              NaN\n",
       "21502              NaN\n",
       "21510              NaN\n",
       "Name: days_employed, Length: 21419, dtype: float64"
      ]
     },
     "execution_count": 699,
     "metadata": {},
     "output_type": "execute_result"
    }
   ],
   "source": [
    "df['days_employed'].sort_values(ascending=False)"
   ]
  },
  {
   "cell_type": "code",
   "execution_count": 700,
   "metadata": {
    "colab": {
     "base_uri": "https://localhost:8080/",
     "height": 576
    },
    "id": "cLhPAexjQhNR",
    "outputId": "51f71bfb-b6a3-493f-b6ed-ab9f779e8034"
   },
   "outputs": [
    {
     "name": "stdout",
     "output_type": "stream",
     "text": [
      "count     19351.000000\n",
      "mean      66914.728907\n",
      "std      139030.880527\n",
      "min          24.141633\n",
      "1%          113.426296\n",
      "10%         385.009877\n",
      "25%         927.009265\n",
      "50%        2194.220567\n",
      "75%        5537.882441\n",
      "99%      397588.993236\n",
      "max      401755.400475\n",
      "Name: days_employed, dtype: float64\n",
      "\n"
     ]
    },
    {
     "data": {
      "image/png": "[encoded data removed]",
      "text/plain": [
       "<Figure size 792x360 with 1 Axes>"
      ]
     },
     "metadata": {},
     "output_type": "display_data"
    }
   ],
   "source": [
    "print(df['days_employed'].describe(percentiles=[0.01,0.1,0.25,0.5,0.75,0.99]))\n",
    "print()\n",
    "plt.style.use('ggplot')\n",
    "plt.figure(figsize=(11,5))\n",
    "sns.boxplot(df['days_employed'])\n",
    "plt.show()"
   ]
  },
  {
   "cell_type": "code",
   "execution_count": 701,
   "metadata": {
    "colab": {
     "base_uri": "https://localhost:8080/",
     "height": 424
    },
    "id": "UBkcc2E3QxGO",
    "outputId": "96197f43-d7e8-4385-f410-a52f4a104748"
   },
   "outputs": [
    {
     "data": {
      "text/html": [
       "<div>\n",
       "<style scoped>\n",
       "    .dataframe tbody tr th:only-of-type {\n",
       "        vertical-align: middle;\n",
       "    }\n",
       "\n",
       "    .dataframe tbody tr th {\n",
       "        vertical-align: top;\n",
       "    }\n",
       "\n",
       "    .dataframe thead th {\n",
       "        text-align: right;\n",
       "    }\n",
       "</style>\n",
       "<table border=\"1\" class=\"dataframe\">\n",
       "  <thead>\n",
       "    <tr style=\"text-align: right;\">\n",
       "      <th></th>\n",
       "      <th>children</th>\n",
       "      <th>days_employed</th>\n",
       "      <th>dob_years</th>\n",
       "      <th>education</th>\n",
       "      <th>education_id</th>\n",
       "      <th>family_status</th>\n",
       "      <th>family_status_id</th>\n",
       "      <th>gender</th>\n",
       "      <th>income_type</th>\n",
       "      <th>debt</th>\n",
       "      <th>total_income</th>\n",
       "      <th>purpose</th>\n",
       "    </tr>\n",
       "  </thead>\n",
       "  <tbody>\n",
       "    <tr>\n",
       "      <th>4</th>\n",
       "      <td>0</td>\n",
       "      <td>340266.072047</td>\n",
       "      <td>53</td>\n",
       "      <td>secondary education</td>\n",
       "      <td>1</td>\n",
       "      <td>civil partnership</td>\n",
       "      <td>1</td>\n",
       "      <td>F</td>\n",
       "      <td>retiree</td>\n",
       "      <td>0</td>\n",
       "      <td>25378.572</td>\n",
       "      <td>to have a wedding</td>\n",
       "    </tr>\n",
       "    <tr>\n",
       "      <th>18</th>\n",
       "      <td>0</td>\n",
       "      <td>400281.136913</td>\n",
       "      <td>53</td>\n",
       "      <td>secondary education</td>\n",
       "      <td>1</td>\n",
       "      <td>widow / widower</td>\n",
       "      <td>2</td>\n",
       "      <td>F</td>\n",
       "      <td>retiree</td>\n",
       "      <td>0</td>\n",
       "      <td>9091.804</td>\n",
       "      <td>buying a second-hand car</td>\n",
       "    </tr>\n",
       "    <tr>\n",
       "      <th>24</th>\n",
       "      <td>1</td>\n",
       "      <td>338551.952911</td>\n",
       "      <td>57</td>\n",
       "      <td>secondary education</td>\n",
       "      <td>1</td>\n",
       "      <td>unmarried</td>\n",
       "      <td>4</td>\n",
       "      <td>F</td>\n",
       "      <td>retiree</td>\n",
       "      <td>0</td>\n",
       "      <td>46487.558</td>\n",
       "      <td>transactions with commercial real estate</td>\n",
       "    </tr>\n",
       "    <tr>\n",
       "      <th>25</th>\n",
       "      <td>0</td>\n",
       "      <td>363548.489348</td>\n",
       "      <td>67</td>\n",
       "      <td>secondary education</td>\n",
       "      <td>1</td>\n",
       "      <td>married</td>\n",
       "      <td>0</td>\n",
       "      <td>M</td>\n",
       "      <td>retiree</td>\n",
       "      <td>0</td>\n",
       "      <td>8818.041</td>\n",
       "      <td>buy real estate</td>\n",
       "    </tr>\n",
       "    <tr>\n",
       "      <th>30</th>\n",
       "      <td>1</td>\n",
       "      <td>335581.668515</td>\n",
       "      <td>62</td>\n",
       "      <td>secondary education</td>\n",
       "      <td>1</td>\n",
       "      <td>married</td>\n",
       "      <td>0</td>\n",
       "      <td>F</td>\n",
       "      <td>retiree</td>\n",
       "      <td>0</td>\n",
       "      <td>27432.971</td>\n",
       "      <td>transactions with commercial real estate</td>\n",
       "    </tr>\n",
       "    <tr>\n",
       "      <th>...</th>\n",
       "      <td>...</td>\n",
       "      <td>...</td>\n",
       "      <td>...</td>\n",
       "      <td>...</td>\n",
       "      <td>...</td>\n",
       "      <td>...</td>\n",
       "      <td>...</td>\n",
       "      <td>...</td>\n",
       "      <td>...</td>\n",
       "      <td>...</td>\n",
       "      <td>...</td>\n",
       "      <td>...</td>\n",
       "    </tr>\n",
       "    <tr>\n",
       "      <th>21505</th>\n",
       "      <td>0</td>\n",
       "      <td>338904.866406</td>\n",
       "      <td>53</td>\n",
       "      <td>secondary education</td>\n",
       "      <td>1</td>\n",
       "      <td>civil partnership</td>\n",
       "      <td>1</td>\n",
       "      <td>M</td>\n",
       "      <td>retiree</td>\n",
       "      <td>0</td>\n",
       "      <td>12070.399</td>\n",
       "      <td>to have a wedding</td>\n",
       "    </tr>\n",
       "    <tr>\n",
       "      <th>21508</th>\n",
       "      <td>0</td>\n",
       "      <td>386497.714078</td>\n",
       "      <td>62</td>\n",
       "      <td>secondary education</td>\n",
       "      <td>1</td>\n",
       "      <td>married</td>\n",
       "      <td>0</td>\n",
       "      <td>M</td>\n",
       "      <td>retiree</td>\n",
       "      <td>0</td>\n",
       "      <td>11622.175</td>\n",
       "      <td>property</td>\n",
       "    </tr>\n",
       "    <tr>\n",
       "      <th>21509</th>\n",
       "      <td>0</td>\n",
       "      <td>362161.054124</td>\n",
       "      <td>59</td>\n",
       "      <td>bachelor's degree</td>\n",
       "      <td>0</td>\n",
       "      <td>married</td>\n",
       "      <td>0</td>\n",
       "      <td>M</td>\n",
       "      <td>retiree</td>\n",
       "      <td>0</td>\n",
       "      <td>11684.650</td>\n",
       "      <td>real estate transactions</td>\n",
       "    </tr>\n",
       "    <tr>\n",
       "      <th>21518</th>\n",
       "      <td>0</td>\n",
       "      <td>373995.710838</td>\n",
       "      <td>59</td>\n",
       "      <td>secondary education</td>\n",
       "      <td>1</td>\n",
       "      <td>married</td>\n",
       "      <td>0</td>\n",
       "      <td>F</td>\n",
       "      <td>retiree</td>\n",
       "      <td>0</td>\n",
       "      <td>24618.344</td>\n",
       "      <td>purchase of a car</td>\n",
       "    </tr>\n",
       "    <tr>\n",
       "      <th>21521</th>\n",
       "      <td>0</td>\n",
       "      <td>343937.404131</td>\n",
       "      <td>67</td>\n",
       "      <td>secondary education</td>\n",
       "      <td>1</td>\n",
       "      <td>married</td>\n",
       "      <td>0</td>\n",
       "      <td>F</td>\n",
       "      <td>retiree</td>\n",
       "      <td>0</td>\n",
       "      <td>24959.969</td>\n",
       "      <td>purchase of a car</td>\n",
       "    </tr>\n",
       "  </tbody>\n",
       "</table>\n",
       "<p>3445 rows × 12 columns</p>\n",
       "</div>"
      ],
      "text/plain": [
       "       children  days_employed  dob_years            education  education_id  \\\n",
       "4             0  340266.072047         53  secondary education             1   \n",
       "18            0  400281.136913         53  secondary education             1   \n",
       "24            1  338551.952911         57  secondary education             1   \n",
       "25            0  363548.489348         67  secondary education             1   \n",
       "30            1  335581.668515         62  secondary education             1   \n",
       "...         ...            ...        ...                  ...           ...   \n",
       "21505         0  338904.866406         53  secondary education             1   \n",
       "21508         0  386497.714078         62  secondary education             1   \n",
       "21509         0  362161.054124         59    bachelor's degree             0   \n",
       "21518         0  373995.710838         59  secondary education             1   \n",
       "21521         0  343937.404131         67  secondary education             1   \n",
       "\n",
       "           family_status  family_status_id gender income_type  debt  \\\n",
       "4      civil partnership                 1      F     retiree     0   \n",
       "18       widow / widower                 2      F     retiree     0   \n",
       "24             unmarried                 4      F     retiree     0   \n",
       "25               married                 0      M     retiree     0   \n",
       "30               married                 0      F     retiree     0   \n",
       "...                  ...               ...    ...         ...   ...   \n",
       "21505  civil partnership                 1      M     retiree     0   \n",
       "21508            married                 0      M     retiree     0   \n",
       "21509            married                 0      M     retiree     0   \n",
       "21518            married                 0      F     retiree     0   \n",
       "21521            married                 0      F     retiree     0   \n",
       "\n",
       "       total_income                                   purpose  \n",
       "4         25378.572                         to have a wedding  \n",
       "18         9091.804                  buying a second-hand car  \n",
       "24        46487.558  transactions with commercial real estate  \n",
       "25         8818.041                           buy real estate  \n",
       "30        27432.971  transactions with commercial real estate  \n",
       "...             ...                                       ...  \n",
       "21505     12070.399                         to have a wedding  \n",
       "21508     11622.175                                  property  \n",
       "21509     11684.650                  real estate transactions  \n",
       "21518     24618.344                         purchase of a car  \n",
       "21521     24959.969                         purchase of a car  \n",
       "\n",
       "[3445 rows x 12 columns]"
      ]
     },
     "execution_count": 701,
     "metadata": {},
     "output_type": "execute_result"
    }
   ],
   "source": [
    "df[(df['days_employed'] >= 300000) & (df['days_employed']<=450000)]"
   ]
  },
  {
   "cell_type": "code",
   "execution_count": 702,
   "metadata": {
    "colab": {
     "base_uri": "https://localhost:8080/"
    },
    "id": "n0iAf8SXcAEk",
    "outputId": "c5bde036-619e-4e33-b060-4160d51bedea"
   },
   "outputs": [],
   "source": [
    "outlier_index = df[(df['days_employed'] >= 300000) & (df['days_employed']<=450000)].index"
   ]
  },
  {
   "cell_type": "code",
   "execution_count": 703,
   "metadata": {},
   "outputs": [
    {
     "data": {
      "text/plain": [
       "6954     401755.400475\n",
       "10006    401715.811749\n",
       "7664     401675.093434\n",
       "2156     401674.466633\n",
       "7794     401663.850046\n",
       "             ...      \n",
       "21489              NaN\n",
       "21495              NaN\n",
       "21497              NaN\n",
       "21502              NaN\n",
       "21510              NaN\n",
       "Name: days_employed, Length: 21419, dtype: float64"
      ]
     },
     "execution_count": 703,
     "metadata": {},
     "output_type": "execute_result"
    }
   ],
   "source": [
    "df['days_employed'].sort_values(ascending=False)"
   ]
  },
  {
   "cell_type": "markdown",
   "metadata": {},
   "source": [
    "<div class=\"alert alert-block alert-danger\">\n",
    "<b>Reviewer's comment</b> <a class=\"tocSkip\"></a>\n",
    "\n",
    "Nice to show the distribution of the days_employed column, but how can you fix those very large values?\n",
    "</div>"
   ]
  },
  {
   "cell_type": "markdown",
   "metadata": {},
   "source": [
    "<div class=\"alert alert-block alert-info\">\n",
    "<b>Student answer.</b> <a class=\"tocSkip\"></a>\n",
    "    <p>Noting that the extreme values of days_employed, I scaled those values using log(x) and separating them as another column. I will use this column in further EDA processing. </p>"
   ]
  },
  {
   "cell_type": "markdown",
   "metadata": {},
   "source": [
    "<div class=\"alert alert-block alert-danger\">\n",
    "<b>Reviewer's comment v4</b> <a class=\"tocSkip\"></a>\n",
    "\n",
    "Ok, the log transformation allow us to see better a distribution with small and very large values, it is an aide to see distribution plots. But the problem is with the data itself, the value 401755 days implies many years of work, more than 1000! So, we need to fix those values, maybe discard them.\n",
    "</div>"
   ]
  },
  {
   "cell_type": "code",
   "execution_count": 704,
   "metadata": {},
   "outputs": [],
   "source": [
    "df.drop(outlier_index, inplace=True)"
   ]
  },
  {
   "cell_type": "code",
   "execution_count": 705,
   "metadata": {},
   "outputs": [
    {
     "name": "stdout",
     "output_type": "stream",
     "text": [
      "Empty DataFrame\n",
      "Columns: [children, days_employed, dob_years, education, education_id, family_status, family_status_id, gender, income_type, debt, total_income, purpose]\n",
      "Index: []\n"
     ]
    }
   ],
   "source": [
    "print(df[(df['days_employed'] >= 300000) & (df['days_employed']<=450000)])"
   ]
  },
  {
   "cell_type": "markdown",
   "metadata": {},
   "source": [
    "<div class=\"alert alert-block alert-info\">\n",
    "<b>Student answer.</b> <a class=\"tocSkip\"></a>\n",
    "    <p>As instructed, I discarded the outliers in days_employed column. </p>"
   ]
  },
  {
   "cell_type": "markdown",
   "metadata": {},
   "source": [
    "#df['log_of_days_employed'] = [np.log(x) for x in df['days_employed']]\n",
    "#print(df[(df['days_employed'] >= 300000) & (df['days_employed']<=450000)])"
   ]
  },
  {
   "cell_type": "markdown",
   "metadata": {
    "id": "H_yukpKA2Ifz"
   },
   "source": [
    "**Checking the 'dob_years' column.**"
   ]
  },
  {
   "cell_type": "code",
   "execution_count": 706,
   "metadata": {
    "colab": {
     "base_uri": "https://localhost:8080/"
    },
    "id": "FE1fa4bQ2If0",
    "outputId": "03f48764-95e9-407d-8b17-27fa470c2abe",
    "scrolled": true
   },
   "outputs": [
    {
     "data": {
      "text/plain": [
       "35    614\n",
       "41    599\n",
       "40    598\n",
       "34    596\n",
       "38    588\n",
       "42    586\n",
       "33    579\n",
       "39    567\n",
       "31    557\n",
       "36    550\n",
       "29    543\n",
       "30    536\n",
       "44    533\n",
       "37    530\n",
       "48    516\n",
       "32    505\n",
       "43    502\n",
       "28    502\n",
       "27    490\n",
       "45    486\n",
       "49    478\n",
       "47    462\n",
       "46    458\n",
       "50    451\n",
       "26    406\n",
       "52    389\n",
       "51    375\n",
       "25    357\n",
       "53    354\n",
       "54    328\n",
       "56    297\n",
       "55    281\n",
       "24    264\n",
       "23    252\n",
       "58    243\n",
       "57    240\n",
       "59    188\n",
       "22    182\n",
       "61    139\n",
       "60    128\n",
       "62    112\n",
       "21    111\n",
       "0      84\n",
       "64     80\n",
       "63     77\n",
       "65     58\n",
       "20     51\n",
       "66     42\n",
       "67     35\n",
       "68     19\n",
       "19     14\n",
       "70     11\n",
       "69     11\n",
       "71     10\n",
       "72      5\n",
       "74      2\n",
       "73      2\n",
       "75      1\n",
       "Name: dob_years, dtype: int64"
      ]
     },
     "execution_count": 706,
     "metadata": {},
     "output_type": "execute_result"
    }
   ],
   "source": [
    "df['dob_years'].value_counts()\n"
   ]
  },
  {
   "cell_type": "code",
   "execution_count": 707,
   "metadata": {
    "colab": {
     "base_uri": "https://localhost:8080/",
     "height": 424
    },
    "id": "hzgIXBlJX5uw",
    "outputId": "eedcdcc5-c7df-4725-df56-2222f60b530f"
   },
   "outputs": [
    {
     "data": {
      "text/html": [
       "<div>\n",
       "<style scoped>\n",
       "    .dataframe tbody tr th:only-of-type {\n",
       "        vertical-align: middle;\n",
       "    }\n",
       "\n",
       "    .dataframe tbody tr th {\n",
       "        vertical-align: top;\n",
       "    }\n",
       "\n",
       "    .dataframe thead th {\n",
       "        text-align: right;\n",
       "    }\n",
       "</style>\n",
       "<table border=\"1\" class=\"dataframe\">\n",
       "  <thead>\n",
       "    <tr style=\"text-align: right;\">\n",
       "      <th></th>\n",
       "      <th>children</th>\n",
       "      <th>days_employed</th>\n",
       "      <th>dob_years</th>\n",
       "      <th>education</th>\n",
       "      <th>education_id</th>\n",
       "      <th>family_status</th>\n",
       "      <th>family_status_id</th>\n",
       "      <th>gender</th>\n",
       "      <th>income_type</th>\n",
       "      <th>debt</th>\n",
       "      <th>total_income</th>\n",
       "      <th>purpose</th>\n",
       "    </tr>\n",
       "  </thead>\n",
       "  <tbody>\n",
       "    <tr>\n",
       "      <th>149</th>\n",
       "      <td>0</td>\n",
       "      <td>2664.273168</td>\n",
       "      <td>0</td>\n",
       "      <td>secondary education</td>\n",
       "      <td>1</td>\n",
       "      <td>divorced</td>\n",
       "      <td>3</td>\n",
       "      <td>F</td>\n",
       "      <td>employee</td>\n",
       "      <td>0</td>\n",
       "      <td>11228.230</td>\n",
       "      <td>housing transactions</td>\n",
       "    </tr>\n",
       "    <tr>\n",
       "      <th>270</th>\n",
       "      <td>3</td>\n",
       "      <td>1872.663186</td>\n",
       "      <td>0</td>\n",
       "      <td>secondary education</td>\n",
       "      <td>1</td>\n",
       "      <td>married</td>\n",
       "      <td>0</td>\n",
       "      <td>F</td>\n",
       "      <td>employee</td>\n",
       "      <td>0</td>\n",
       "      <td>16346.633</td>\n",
       "      <td>housing renovation</td>\n",
       "    </tr>\n",
       "    <tr>\n",
       "      <th>1040</th>\n",
       "      <td>0</td>\n",
       "      <td>1158.029561</td>\n",
       "      <td>0</td>\n",
       "      <td>bachelor's degree</td>\n",
       "      <td>0</td>\n",
       "      <td>divorced</td>\n",
       "      <td>3</td>\n",
       "      <td>F</td>\n",
       "      <td>business</td>\n",
       "      <td>0</td>\n",
       "      <td>48639.062</td>\n",
       "      <td>to own a car</td>\n",
       "    </tr>\n",
       "    <tr>\n",
       "      <th>1149</th>\n",
       "      <td>0</td>\n",
       "      <td>934.654854</td>\n",
       "      <td>0</td>\n",
       "      <td>secondary education</td>\n",
       "      <td>1</td>\n",
       "      <td>married</td>\n",
       "      <td>0</td>\n",
       "      <td>F</td>\n",
       "      <td>business</td>\n",
       "      <td>0</td>\n",
       "      <td>32296.389</td>\n",
       "      <td>buy real estate</td>\n",
       "    </tr>\n",
       "    <tr>\n",
       "      <th>1386</th>\n",
       "      <td>0</td>\n",
       "      <td>5043.219890</td>\n",
       "      <td>0</td>\n",
       "      <td>bachelor's degree</td>\n",
       "      <td>0</td>\n",
       "      <td>married</td>\n",
       "      <td>0</td>\n",
       "      <td>M</td>\n",
       "      <td>civil servant</td>\n",
       "      <td>0</td>\n",
       "      <td>38483.779</td>\n",
       "      <td>purchase of a car</td>\n",
       "    </tr>\n",
       "    <tr>\n",
       "      <th>...</th>\n",
       "      <td>...</td>\n",
       "      <td>...</td>\n",
       "      <td>...</td>\n",
       "      <td>...</td>\n",
       "      <td>...</td>\n",
       "      <td>...</td>\n",
       "      <td>...</td>\n",
       "      <td>...</td>\n",
       "      <td>...</td>\n",
       "      <td>...</td>\n",
       "      <td>...</td>\n",
       "      <td>...</td>\n",
       "    </tr>\n",
       "    <tr>\n",
       "      <th>18851</th>\n",
       "      <td>0</td>\n",
       "      <td>10637.001569</td>\n",
       "      <td>0</td>\n",
       "      <td>secondary education</td>\n",
       "      <td>1</td>\n",
       "      <td>married</td>\n",
       "      <td>0</td>\n",
       "      <td>F</td>\n",
       "      <td>civil servant</td>\n",
       "      <td>0</td>\n",
       "      <td>21845.941</td>\n",
       "      <td>supplementary education</td>\n",
       "    </tr>\n",
       "    <tr>\n",
       "      <th>19371</th>\n",
       "      <td>1</td>\n",
       "      <td>2356.250615</td>\n",
       "      <td>0</td>\n",
       "      <td>bachelor's degree</td>\n",
       "      <td>0</td>\n",
       "      <td>married</td>\n",
       "      <td>0</td>\n",
       "      <td>F</td>\n",
       "      <td>business</td>\n",
       "      <td>0</td>\n",
       "      <td>12469.795</td>\n",
       "      <td>car</td>\n",
       "    </tr>\n",
       "    <tr>\n",
       "      <th>19829</th>\n",
       "      <td>0</td>\n",
       "      <td>NaN</td>\n",
       "      <td>0</td>\n",
       "      <td>secondary education</td>\n",
       "      <td>1</td>\n",
       "      <td>married</td>\n",
       "      <td>0</td>\n",
       "      <td>F</td>\n",
       "      <td>employee</td>\n",
       "      <td>0</td>\n",
       "      <td>NaN</td>\n",
       "      <td>housing</td>\n",
       "    </tr>\n",
       "    <tr>\n",
       "      <th>21179</th>\n",
       "      <td>2</td>\n",
       "      <td>108.967042</td>\n",
       "      <td>0</td>\n",
       "      <td>bachelor's degree</td>\n",
       "      <td>0</td>\n",
       "      <td>married</td>\n",
       "      <td>0</td>\n",
       "      <td>M</td>\n",
       "      <td>business</td>\n",
       "      <td>0</td>\n",
       "      <td>38512.321</td>\n",
       "      <td>building a real estate</td>\n",
       "    </tr>\n",
       "    <tr>\n",
       "      <th>21313</th>\n",
       "      <td>0</td>\n",
       "      <td>1268.487728</td>\n",
       "      <td>0</td>\n",
       "      <td>secondary education</td>\n",
       "      <td>1</td>\n",
       "      <td>unmarried</td>\n",
       "      <td>4</td>\n",
       "      <td>M</td>\n",
       "      <td>employee</td>\n",
       "      <td>0</td>\n",
       "      <td>24387.070</td>\n",
       "      <td>housing transactions</td>\n",
       "    </tr>\n",
       "  </tbody>\n",
       "</table>\n",
       "<p>84 rows × 12 columns</p>\n",
       "</div>"
      ],
      "text/plain": [
       "       children  days_employed  dob_years            education  education_id  \\\n",
       "149           0    2664.273168          0  secondary education             1   \n",
       "270           3    1872.663186          0  secondary education             1   \n",
       "1040          0    1158.029561          0    bachelor's degree             0   \n",
       "1149          0     934.654854          0  secondary education             1   \n",
       "1386          0    5043.219890          0    bachelor's degree             0   \n",
       "...         ...            ...        ...                  ...           ...   \n",
       "18851         0   10637.001569          0  secondary education             1   \n",
       "19371         1    2356.250615          0    bachelor's degree             0   \n",
       "19829         0            NaN          0  secondary education             1   \n",
       "21179         2     108.967042          0    bachelor's degree             0   \n",
       "21313         0    1268.487728          0  secondary education             1   \n",
       "\n",
       "      family_status  family_status_id gender    income_type  debt  \\\n",
       "149        divorced                 3      F       employee     0   \n",
       "270         married                 0      F       employee     0   \n",
       "1040       divorced                 3      F       business     0   \n",
       "1149        married                 0      F       business     0   \n",
       "1386        married                 0      M  civil servant     0   \n",
       "...             ...               ...    ...            ...   ...   \n",
       "18851       married                 0      F  civil servant     0   \n",
       "19371       married                 0      F       business     0   \n",
       "19829       married                 0      F       employee     0   \n",
       "21179       married                 0      M       business     0   \n",
       "21313     unmarried                 4      M       employee     0   \n",
       "\n",
       "       total_income                  purpose  \n",
       "149       11228.230     housing transactions  \n",
       "270       16346.633       housing renovation  \n",
       "1040      48639.062             to own a car  \n",
       "1149      32296.389          buy real estate  \n",
       "1386      38483.779        purchase of a car  \n",
       "...             ...                      ...  \n",
       "18851     21845.941  supplementary education  \n",
       "19371     12469.795                      car  \n",
       "19829           NaN                  housing  \n",
       "21179     38512.321   building a real estate  \n",
       "21313     24387.070     housing transactions  \n",
       "\n",
       "[84 rows x 12 columns]"
      ]
     },
     "execution_count": 707,
     "metadata": {},
     "output_type": "execute_result"
    }
   ],
   "source": [
    "df[df['dob_years'] == 0]\n"
   ]
  },
  {
   "cell_type": "code",
   "execution_count": 708,
   "metadata": {
    "colab": {
     "base_uri": "https://localhost:8080/"
    },
    "id": "NC0dxuAruQW-",
    "outputId": "486f2200-510a-48de-d069-0e7f3690a609"
   },
   "outputs": [
    {
     "data": {
      "text/plain": [
       "count    17974.000000\n",
       "mean        40.226104\n",
       "std         10.952290\n",
       "min          0.000000\n",
       "25%         32.000000\n",
       "50%         40.000000\n",
       "75%         48.000000\n",
       "max         75.000000\n",
       "Name: dob_years, dtype: float64"
      ]
     },
     "execution_count": 708,
     "metadata": {},
     "output_type": "execute_result"
    }
   ],
   "source": [
    "df['dob_years'].describe()"
   ]
  },
  {
   "cell_type": "markdown",
   "metadata": {
    "id": "b1v3nULb2If0"
   },
   "source": [
    "**Observations**\n",
    "<p>It's better to drop the rows with 0 values since its impossible to think clients have no age. This is clearly a human error but there's no way of knowing what's the correct input of these zero ages.</p> "
   ]
  },
  {
   "cell_type": "code",
   "execution_count": 709,
   "metadata": {
    "colab": {
     "base_uri": "https://localhost:8080/"
    },
    "id": "HLd78qzeuMJ4",
    "outputId": "b04602ef-43a5-4ea2-b557-36efb79d4431"
   },
   "outputs": [
    {
     "data": {
      "text/plain": [
       "count    17890.000000\n",
       "mean        40.414980\n",
       "std         10.624597\n",
       "min         19.000000\n",
       "25%         32.000000\n",
       "50%         40.000000\n",
       "75%         48.000000\n",
       "max         75.000000\n",
       "Name: dob_years, dtype: float64"
      ]
     },
     "execution_count": 709,
     "metadata": {},
     "output_type": "execute_result"
    }
   ],
   "source": [
    "index = df[(df['dob_years'] >= 100)|(df['dob_years'] <= 18)].index\n",
    "df.drop(index, inplace=True)\n",
    "df['dob_years'].describe()"
   ]
  },
  {
   "cell_type": "markdown",
   "metadata": {},
   "source": [
    "<div class=\"alert alert-block alert-success\">\n",
    "<b>Reviewer's comment</b> <a class=\"tocSkip\"></a>\n",
    "\n",
    "Ok this is correct, but you should've also explained why are you discarding people with 18 years or lower\n",
    "</div>"
   ]
  },
  {
   "cell_type": "markdown",
   "metadata": {},
   "source": [
    "<div class=\"alert alert-block alert-info\">\n",
    "<b>Student answer.</b> <a class=\"tocSkip\"></a>\n",
    "    <p>Since we are processing loan applicants with financial history as well as financial capability, discarding 18 years old and below is necessary to trim loan applicants.</p>"
   ]
  },
  {
   "cell_type": "code",
   "execution_count": 710,
   "metadata": {
    "colab": {
     "base_uri": "https://localhost:8080/",
     "height": 112
    },
    "id": "qbaw_L5ZvOIR",
    "outputId": "8c05a5a4-3dd2-46b2-b7d3-984328de7f76"
   },
   "outputs": [
    {
     "data": {
      "text/html": [
       "<div>\n",
       "<style scoped>\n",
       "    .dataframe tbody tr th:only-of-type {\n",
       "        vertical-align: middle;\n",
       "    }\n",
       "\n",
       "    .dataframe tbody tr th {\n",
       "        vertical-align: top;\n",
       "    }\n",
       "\n",
       "    .dataframe thead th {\n",
       "        text-align: right;\n",
       "    }\n",
       "</style>\n",
       "<table border=\"1\" class=\"dataframe\">\n",
       "  <thead>\n",
       "    <tr style=\"text-align: right;\">\n",
       "      <th></th>\n",
       "      <th>children</th>\n",
       "      <th>days_employed</th>\n",
       "      <th>dob_years</th>\n",
       "      <th>education</th>\n",
       "      <th>education_id</th>\n",
       "      <th>family_status</th>\n",
       "      <th>family_status_id</th>\n",
       "      <th>gender</th>\n",
       "      <th>income_type</th>\n",
       "      <th>debt</th>\n",
       "      <th>total_income</th>\n",
       "      <th>purpose</th>\n",
       "    </tr>\n",
       "  </thead>\n",
       "  <tbody>\n",
       "    <tr>\n",
       "      <th>100</th>\n",
       "      <td>0</td>\n",
       "      <td>605.026441</td>\n",
       "      <td>49</td>\n",
       "      <td>secondary education</td>\n",
       "      <td>1</td>\n",
       "      <td>widow / widower</td>\n",
       "      <td>2</td>\n",
       "      <td>F</td>\n",
       "      <td>employee</td>\n",
       "      <td>1</td>\n",
       "      <td>28221.581</td>\n",
       "      <td>real estate transactions</td>\n",
       "    </tr>\n",
       "  </tbody>\n",
       "</table>\n",
       "</div>"
      ],
      "text/plain": [
       "     children  days_employed  dob_years            education  education_id  \\\n",
       "100         0     605.026441         49  secondary education             1   \n",
       "\n",
       "       family_status  family_status_id gender income_type  debt  total_income  \\\n",
       "100  widow / widower                 2      F    employee     1     28221.581   \n",
       "\n",
       "                      purpose  \n",
       "100  real estate transactions  "
      ]
     },
     "execution_count": 710,
     "metadata": {},
     "output_type": "execute_result"
    }
   ],
   "source": [
    "df.loc[98:100, :]"
   ]
  },
  {
   "cell_type": "code",
   "execution_count": 711,
   "metadata": {
    "colab": {
     "base_uri": "https://localhost:8080/"
    },
    "id": "Ui_TztBw2If0",
    "outputId": "f1216ff4-d105-4298-923c-34dc09460bc5"
   },
   "outputs": [
    {
     "name": "stdout",
     "output_type": "stream",
     "text": [
      "Empty DataFrame\n",
      "Columns: [children, days_employed, dob_years, education, education_id, family_status, family_status_id, gender, income_type, debt, total_income, purpose]\n",
      "Index: []\n"
     ]
    }
   ],
   "source": [
    "print(df[df['dob_years'] == 0])"
   ]
  },
  {
   "cell_type": "markdown",
   "metadata": {
    "id": "3JSUsgY22If0"
   },
   "source": [
    "**Check the `family_status` column**"
   ]
  },
  {
   "cell_type": "code",
   "execution_count": 712,
   "metadata": {
    "colab": {
     "base_uri": "https://localhost:8080/"
    },
    "id": "WQO2IllZ2If0",
    "outputId": "f25ac4e4-3599-420c-f83d-918f212d244b"
   },
   "outputs": [
    {
     "data": {
      "text/plain": [
       "married              10396\n",
       "civil partnership     3551\n",
       "unmarried             2482\n",
       "divorced               988\n",
       "widow / widower        473\n",
       "Name: family_status, dtype: int64"
      ]
     },
     "execution_count": 712,
     "metadata": {},
     "output_type": "execute_result"
    }
   ],
   "source": [
    "df['family_status'].value_counts()"
   ]
  },
  {
   "cell_type": "markdown",
   "metadata": {
    "id": "RmYNfmlK2If1"
   },
   "source": [
    "Observations: No issues. Data seems solid and believable with the categories."
   ]
  },
  {
   "cell_type": "markdown",
   "metadata": {
    "id": "wZEga_LE_xIk"
   },
   "source": [
    "**Checking the 'gender' column.**"
   ]
  },
  {
   "cell_type": "code",
   "execution_count": 713,
   "metadata": {
    "colab": {
     "base_uri": "https://localhost:8080/"
    },
    "id": "-7eTx2iX2If1",
    "outputId": "ad8ea29e-f9c4-47d8-f522-8680157a6181"
   },
   "outputs": [
    {
     "data": {
      "text/plain": [
       "F      11281\n",
       "M       6608\n",
       "XNA        1\n",
       "Name: gender, dtype: int64"
      ]
     },
     "execution_count": 713,
     "metadata": {},
     "output_type": "execute_result"
    }
   ],
   "source": [
    "df['gender'].value_counts()"
   ]
  },
  {
   "cell_type": "markdown",
   "metadata": {
    "id": "P0gAsjUk_5up"
   },
   "source": [
    "**Observations.**\n",
    "<p> The value XNA is erroneous. Either the loan applicant prefers not to disclose the gender or some human error, it should be corrected. Slicing the dataframe to investigated, it looks like the loan applicant is Female. Thus, I converted the erroneous value to F. "
   ]
  },
  {
   "cell_type": "markdown",
   "metadata": {},
   "source": [
    "<div class=\"alert alert-block alert-danger\">\n",
    "<b>Reviewer's comment</b> <a class=\"tocSkip\"></a>\n",
    "\n",
    "\n",
    "Please state the reason to why do you think the applicant is Female\n",
    "</div>"
   ]
  },
  {
   "cell_type": "markdown",
   "metadata": {},
   "source": [
    "<div class=\"alert alert-block alert-info\">\n",
    "<b>Student answer.</b> <a class=\"tocSkip\"></a>\n",
    "    <p>The profile for XNA seems female, with a relationship and intends to take a loan to buy housing for family purposes.</p>"
   ]
  },
  {
   "cell_type": "markdown",
   "metadata": {},
   "source": [
    "<div class=\"alert alert-block alert-warning\">\n",
    "<b>Reviewer's comment v3</b> <a class=\"tocSkip\"></a>\n",
    "\n",
    "\n",
    "Ok, that might be a reason, but it should be better justified by the data we observe. For example, it is likely that this applicant is Female, because F is the mode value.\n",
    "</div>"
   ]
  },
  {
   "cell_type": "code",
   "execution_count": 714,
   "metadata": {
    "colab": {
     "base_uri": "https://localhost:8080/",
     "height": 49
    },
    "id": "bKtHaogd2If1",
    "outputId": "6009e2e6-470c-4bc5-e4b2-58695d62a508"
   },
   "outputs": [
    {
     "data": {
      "text/html": [
       "<div>\n",
       "<style scoped>\n",
       "    .dataframe tbody tr th:only-of-type {\n",
       "        vertical-align: middle;\n",
       "    }\n",
       "\n",
       "    .dataframe tbody tr th {\n",
       "        vertical-align: top;\n",
       "    }\n",
       "\n",
       "    .dataframe thead th {\n",
       "        text-align: right;\n",
       "    }\n",
       "</style>\n",
       "<table border=\"1\" class=\"dataframe\">\n",
       "  <thead>\n",
       "    <tr style=\"text-align: right;\">\n",
       "      <th></th>\n",
       "      <th>children</th>\n",
       "      <th>days_employed</th>\n",
       "      <th>dob_years</th>\n",
       "      <th>education</th>\n",
       "      <th>education_id</th>\n",
       "      <th>family_status</th>\n",
       "      <th>family_status_id</th>\n",
       "      <th>gender</th>\n",
       "      <th>income_type</th>\n",
       "      <th>debt</th>\n",
       "      <th>total_income</th>\n",
       "      <th>purpose</th>\n",
       "    </tr>\n",
       "  </thead>\n",
       "  <tbody>\n",
       "    <tr>\n",
       "      <th>10701</th>\n",
       "      <td>0</td>\n",
       "      <td>2358.600502</td>\n",
       "      <td>24</td>\n",
       "      <td>some college</td>\n",
       "      <td>2</td>\n",
       "      <td>civil partnership</td>\n",
       "      <td>1</td>\n",
       "      <td>XNA</td>\n",
       "      <td>business</td>\n",
       "      <td>0</td>\n",
       "      <td>32624.825</td>\n",
       "      <td>buy real estate</td>\n",
       "    </tr>\n",
       "  </tbody>\n",
       "</table>\n",
       "</div>"
      ],
      "text/plain": [
       "       children  days_employed  dob_years     education  education_id  \\\n",
       "10701         0    2358.600502         24  some college             2   \n",
       "\n",
       "           family_status  family_status_id gender income_type  debt  \\\n",
       "10701  civil partnership                 1    XNA    business     0   \n",
       "\n",
       "       total_income          purpose  \n",
       "10701     32624.825  buy real estate  "
      ]
     },
     "execution_count": 714,
     "metadata": {},
     "output_type": "execute_result"
    }
   ],
   "source": [
    "df[df['gender'] == 'XNA']"
   ]
  },
  {
   "cell_type": "code",
   "execution_count": 715,
   "metadata": {
    "colab": {
     "base_uri": "https://localhost:8080/"
    },
    "id": "sYoHdh2_KuTs",
    "outputId": "222e3a02-0bbf-4fca-c5d0-6fc03210f3a5"
   },
   "outputs": [
    {
     "data": {
      "text/plain": [
       "F    11282\n",
       "M     6608\n",
       "Name: gender, dtype: int64"
      ]
     },
     "execution_count": 715,
     "metadata": {},
     "output_type": "execute_result"
    }
   ],
   "source": [
    "df['gender'] = df['gender'].apply(lambda x: 'F' if x == 'XNA' else x)\n",
    "df['gender'].value_counts()"
   ]
  },
  {
   "cell_type": "code",
   "execution_count": 716,
   "metadata": {
    "colab": {
     "base_uri": "https://localhost:8080/",
     "height": 35
    },
    "id": "pxxLoRWt2If1",
    "outputId": "453f3a40-02a8-4ced-82c3-4a585cd8d1db"
   },
   "outputs": [
    {
     "data": {
      "text/plain": [
       "'F'"
      ]
     },
     "execution_count": 716,
     "metadata": {},
     "output_type": "execute_result"
    }
   ],
   "source": [
    "df.loc[10701, 'gender']\n",
    "\n"
   ]
  },
  {
   "cell_type": "markdown",
   "metadata": {
    "id": "x7RcRxkN2If1"
   },
   "source": [
    "**Check the `income_type` column.**"
   ]
  },
  {
   "cell_type": "code",
   "execution_count": 717,
   "metadata": {
    "colab": {
     "base_uri": "https://localhost:8080/"
    },
    "id": "zN_LPQfu2If1",
    "outputId": "66f269e3-8283-460c-8d5f-872e883d00bb"
   },
   "outputs": [
    {
     "data": {
      "text/plain": [
       "employee                       11009\n",
       "business                        5055\n",
       "civil servant                   1449\n",
       "retiree                          373\n",
       "entrepreneur                       2\n",
       "paternity / maternity leave        1\n",
       "student                            1\n",
       "Name: income_type, dtype: int64"
      ]
     },
     "execution_count": 717,
     "metadata": {},
     "output_type": "execute_result"
    }
   ],
   "source": [
    "# Let's see the values in the column\n",
    "df['income_type'].value_counts()"
   ]
  },
  {
   "cell_type": "code",
   "execution_count": 718,
   "metadata": {
    "colab": {
     "base_uri": "https://localhost:8080/"
    },
    "id": "rbFIP25I2If1",
    "outputId": "54281277-ff69-41c0-88cd-94ee75556eea"
   },
   "outputs": [
    {
     "data": {
      "text/plain": [
       "0.0"
      ]
     },
     "execution_count": 718,
     "metadata": {},
     "output_type": "execute_result"
    }
   ],
   "source": [
    "# Address the problematic values, if they exist\n",
    "df['income_type'].isnull().sum() / len(df['income_type']) * 100"
   ]
  },
  {
   "cell_type": "code",
   "execution_count": 719,
   "metadata": {
    "colab": {
     "base_uri": "https://localhost:8080/",
     "height": 81
    },
    "id": "LV-Cjzg0gmDo",
    "outputId": "9b878516-bf8f-4b73-ba5b-5bf51d995645"
   },
   "outputs": [
    {
     "data": {
      "text/html": [
       "<div>\n",
       "<style scoped>\n",
       "    .dataframe tbody tr th:only-of-type {\n",
       "        vertical-align: middle;\n",
       "    }\n",
       "\n",
       "    .dataframe tbody tr th {\n",
       "        vertical-align: top;\n",
       "    }\n",
       "\n",
       "    .dataframe thead th {\n",
       "        text-align: right;\n",
       "    }\n",
       "</style>\n",
       "<table border=\"1\" class=\"dataframe\">\n",
       "  <thead>\n",
       "    <tr style=\"text-align: right;\">\n",
       "      <th></th>\n",
       "      <th>children</th>\n",
       "      <th>days_employed</th>\n",
       "      <th>dob_years</th>\n",
       "      <th>education</th>\n",
       "      <th>education_id</th>\n",
       "      <th>family_status</th>\n",
       "      <th>family_status_id</th>\n",
       "      <th>gender</th>\n",
       "      <th>income_type</th>\n",
       "      <th>debt</th>\n",
       "      <th>total_income</th>\n",
       "      <th>purpose</th>\n",
       "    </tr>\n",
       "  </thead>\n",
       "  <tbody>\n",
       "    <tr>\n",
       "      <th>20845</th>\n",
       "      <td>2</td>\n",
       "      <td>3296.759962</td>\n",
       "      <td>39</td>\n",
       "      <td>secondary education</td>\n",
       "      <td>1</td>\n",
       "      <td>married</td>\n",
       "      <td>0</td>\n",
       "      <td>F</td>\n",
       "      <td>paternity / maternity leave</td>\n",
       "      <td>1</td>\n",
       "      <td>8612.661</td>\n",
       "      <td>car</td>\n",
       "    </tr>\n",
       "  </tbody>\n",
       "</table>\n",
       "</div>"
      ],
      "text/plain": [
       "       children  days_employed  dob_years            education  education_id  \\\n",
       "20845         2    3296.759962         39  secondary education             1   \n",
       "\n",
       "      family_status  family_status_id gender                  income_type  \\\n",
       "20845       married                 0      F  paternity / maternity leave   \n",
       "\n",
       "       debt  total_income purpose  \n",
       "20845     1      8612.661     car  "
      ]
     },
     "execution_count": 719,
     "metadata": {},
     "output_type": "execute_result"
    }
   ],
   "source": [
    "df[df['income_type'] == 'paternity / maternity leave']"
   ]
  },
  {
   "cell_type": "code",
   "execution_count": 720,
   "metadata": {
    "id": "6cg-vwk6o4Cy"
   },
   "outputs": [],
   "source": [
    "df['income_type'] = df['income_type'].apply(lambda x: 'employee' if x == 'paternity / maternity leave' else x)"
   ]
  },
  {
   "cell_type": "code",
   "execution_count": 721,
   "metadata": {
    "colab": {
     "base_uri": "https://localhost:8080/"
    },
    "id": "vGitICMU2If2",
    "outputId": "f921ba5e-871a-4ed0-d456-b711f794dd0d"
   },
   "outputs": [
    {
     "name": "stdout",
     "output_type": "stream",
     "text": [
      "Empty DataFrame\n",
      "Columns: [children, days_employed, dob_years, education, education_id, family_status, family_status_id, gender, income_type, debt, total_income, purpose]\n",
      "Index: []\n"
     ]
    }
   ],
   "source": [
    "print(df[df['income_type'] == 'paternity / maternity leave'])"
   ]
  },
  {
   "cell_type": "markdown",
   "metadata": {},
   "source": [
    "<div class=\"alert alert-block alert-success\">\n",
    "<b>Reviewer's comment</b> <a class=\"tocSkip\"></a>\n",
    "\n",
    "Good\n",
    "</div>"
   ]
  },
  {
   "cell_type": "markdown",
   "metadata": {
    "id": "TWrK3MqqBX3_"
   },
   "source": [
    "**Checking Duplicates**"
   ]
  },
  {
   "cell_type": "code",
   "execution_count": 722,
   "metadata": {
    "id": "ECKpC8lGG2gz"
   },
   "outputs": [],
   "source": [
    "def check_duplicate(df):\n",
    "    if df.duplicated().sum():\n",
    "        return  'There are Duplicate Data.' \n",
    "    else :\n",
    "        return 'Data is clean. No Duplicate Data Found.'"
   ]
  },
  {
   "cell_type": "code",
   "execution_count": 723,
   "metadata": {
    "colab": {
     "base_uri": "https://localhost:8080/",
     "height": 35
    },
    "id": "OJM353Q3G7US",
    "outputId": "599bbf8e-c4a6-4b01-83a0-ccb8211af955"
   },
   "outputs": [
    {
     "data": {
      "text/plain": [
       "'There are Duplicate Data.'"
      ]
     },
     "execution_count": 723,
     "metadata": {},
     "output_type": "execute_result"
    }
   ],
   "source": [
    "check_duplicate(df)"
   ]
  },
  {
   "cell_type": "code",
   "execution_count": 724,
   "metadata": {},
   "outputs": [],
   "source": [
    "df.drop_duplicates(keep=False, inplace=True)"
   ]
  },
  {
   "cell_type": "code",
   "execution_count": 725,
   "metadata": {},
   "outputs": [],
   "source": [
    "def check_duplicate(df):\n",
    "    if df.duplicated().sum():\n",
    "        return  'There are Duplicate Data.' \n",
    "    else :\n",
    "        return 'Data is clean. No Duplicate Data Found.'"
   ]
  },
  {
   "cell_type": "code",
   "execution_count": 726,
   "metadata": {},
   "outputs": [
    {
     "data": {
      "text/plain": [
       "'Data is clean. No Duplicate Data Found.'"
      ]
     },
     "execution_count": 726,
     "metadata": {},
     "output_type": "execute_result"
    }
   ],
   "source": [
    "check_duplicate(df)"
   ]
  },
  {
   "cell_type": "code",
   "execution_count": 727,
   "metadata": {
    "colab": {
     "base_uri": "https://localhost:8080/"
    },
    "id": "GcpttTcN2If2",
    "outputId": "4c91b247-1e38-4c5f-83de-f3a5c894b820"
   },
   "outputs": [
    {
     "data": {
      "text/plain": [
       "(17861, 12)"
      ]
     },
     "execution_count": 727,
     "metadata": {},
     "output_type": "execute_result"
    }
   ],
   "source": [
    "df.shape"
   ]
  },
  {
   "cell_type": "code",
   "execution_count": 728,
   "metadata": {
    "colab": {
     "base_uri": "https://localhost:8080/"
    },
    "id": "LwStlmBb2If2",
    "outputId": "9bf2c177-9add-4d13-86bc-c2b577280bc1"
   },
   "outputs": [
    {
     "name": "stdout",
     "output_type": "stream",
     "text": [
      "<class 'pandas.core.frame.DataFrame'>\n",
      "Int64Index: 17861 entries, 0 to 21524\n",
      "Data columns (total 12 columns):\n",
      " #   Column            Non-Null Count  Dtype  \n",
      "---  ------            --------------  -----  \n",
      " 0   children          17861 non-null  int64  \n",
      " 1   days_employed     15832 non-null  float64\n",
      " 2   dob_years         17861 non-null  int64  \n",
      " 3   education         17861 non-null  object \n",
      " 4   education_id      17861 non-null  int64  \n",
      " 5   family_status     17861 non-null  object \n",
      " 6   family_status_id  17861 non-null  int64  \n",
      " 7   gender            17861 non-null  object \n",
      " 8   income_type       17861 non-null  object \n",
      " 9   debt              17861 non-null  int64  \n",
      " 10  total_income      15832 non-null  float64\n",
      " 11  purpose           17861 non-null  object \n",
      "dtypes: float64(2), int64(5), object(5)\n",
      "memory usage: 1.8+ MB\n"
     ]
    }
   ],
   "source": [
    "df.info()"
   ]
  },
  {
   "cell_type": "markdown",
   "metadata": {
    "id": "1rYbvYrx2If2"
   },
   "source": [
    "**Observations**\n",
    "<p> The original dataframe has inconsistent values with 21525 entries and 12 columns. The columns days_employed and total_income have the same number of missing values. After correcting for missing values, duplicates, dropping and replacing erroneous errors, the filtered dataframe have now 21289 entries and 13 columns including the log(x) of days_employed containing the scaled values of days_employed.  "
   ]
  },
  {
   "cell_type": "markdown",
   "metadata": {
    "id": "GXpL-UFU2If2"
   },
   "source": [
    "# Working with missing values"
   ]
  },
  {
   "cell_type": "markdown",
   "metadata": {},
   "source": [
    "<div class=\"alert alert-block alert-danger\">\n",
    "<b>Reviewer's comment v3</b> <a class=\"tocSkip\"></a>\n",
    "\n",
    "In this section you'll have to replace the missing values of the dataframe with some representing values of the column where the null values are. For example, for `total_income` look at what is the income distribution for values depending on the education level, and then you could replace the null values of the dataframe by the mean of the corresponding education level. For example, if a row has education level graduate and also has a total_income null value, you could replace that null with the total_income mean (or median) of all the rows which also have education level graduate.\n",
    "</div>"
   ]
  },
  {
   "cell_type": "markdown",
   "metadata": {
    "id": "hikvdeNs2If3"
   },
   "source": [
    "### Restoring missing values in `total_income`"
   ]
  },
  {
   "cell_type": "code",
   "execution_count": 729,
   "metadata": {},
   "outputs": [
    {
     "data": {
      "text/plain": [
       "2029"
      ]
     },
     "execution_count": 729,
     "metadata": {},
     "output_type": "execute_result"
    }
   ],
   "source": [
    "df['total_income'].isnull().sum()"
   ]
  },
  {
   "cell_type": "code",
   "execution_count": 730,
   "metadata": {},
   "outputs": [
    {
     "data": {
      "text/plain": [
       "<AxesSubplot:xlabel='total_income', ylabel='Density'>"
      ]
     },
     "execution_count": 730,
     "metadata": {},
     "output_type": "execute_result"
    },
    {
     "data": {
      "image/png": "[encoded data removed]",
      "text/plain": [
       "<Figure size 720x576 with 1 Axes>"
      ]
     },
     "metadata": {},
     "output_type": "display_data"
    }
   ],
   "source": [
    "fig, ax = plt.subplots(figsize=(10, 8))\n",
    "sns.distplot(df.total_income)"
   ]
  },
  {
   "cell_type": "markdown",
   "metadata": {},
   "source": [
    "<div class=\"alert alert-block alert-info\">\n",
    "<b>Student answer.</b> <a class=\"tocSkip\"></a>\n",
    "    <p>Since the data is skewed in the total_income column, it's best to use median values to fill in the missing values.  </p>"
   ]
  },
  {
   "cell_type": "code",
   "execution_count": 731,
   "metadata": {},
   "outputs": [
    {
     "data": {
      "text/plain": [
       "2029"
      ]
     },
     "execution_count": 731,
     "metadata": {},
     "output_type": "execute_result"
    }
   ],
   "source": [
    "df['total_income'].isnull().sum()"
   ]
  },
  {
   "cell_type": "code",
   "execution_count": 732,
   "metadata": {},
   "outputs": [
    {
     "data": {
      "text/plain": [
       "2029"
      ]
     },
     "execution_count": 732,
     "metadata": {},
     "output_type": "execute_result"
    }
   ],
   "source": [
    "df['days_employed'].isnull().sum()"
   ]
  },
  {
   "cell_type": "code",
   "execution_count": 733,
   "metadata": {},
   "outputs": [],
   "source": [
    "df['total_income'] = df['total_income'].fillna(df['total_income'].median())"
   ]
  },
  {
   "cell_type": "code",
   "execution_count": 734,
   "metadata": {},
   "outputs": [
    {
     "data": {
      "text/plain": [
       "0"
      ]
     },
     "execution_count": 734,
     "metadata": {},
     "output_type": "execute_result"
    }
   ],
   "source": [
    "df['total_income'].isnull().sum()"
   ]
  },
  {
   "cell_type": "code",
   "execution_count": 735,
   "metadata": {},
   "outputs": [
    {
     "name": "stdout",
     "output_type": "stream",
     "text": [
      "education\n",
      "bachelor's degree      32815.858427\n",
      "graduate degree        27772.929500\n",
      "primary education      23122.746484\n",
      "secondary education    25352.655576\n",
      "some college           28908.006088\n",
      "Name: total_income, dtype: float64\n"
     ]
    }
   ],
   "source": [
    "total_income_education = df.groupby(['education'])['total_income'].aggregate('mean')\n",
    "print(total_income_education)"
   ]
  },
  {
   "cell_type": "markdown",
   "metadata": {},
   "source": [
    "<div class=\"alert alert-block alert-success\">\n",
    "<b>Reviewer's comment v4</b> <a class=\"tocSkip\"></a>\n",
    "\n",
    "Good, it is with a dataframe like this that you can replace null values in the main dataframe df.\n",
    "</div>"
   ]
  },
  {
   "cell_type": "markdown",
   "metadata": {
    "id": "XE9LgotwC63Z"
   },
   "source": [
    "**Categorizing Age Group**"
   ]
  },
  {
   "cell_type": "code",
   "execution_count": 736,
   "metadata": {
    "id": "O2CPtwOw2If3"
   },
   "outputs": [],
   "source": [
    "def age_group(dob_years):\n",
    "    if dob_years <= 18:\n",
    "        return 'Child'\n",
    "    if dob_years <= 64:\n",
    "        return 'Adult'\n",
    "    return 'Retired'    "
   ]
  },
  {
   "cell_type": "code",
   "execution_count": 737,
   "metadata": {
    "colab": {
     "base_uri": "https://localhost:8080/"
    },
    "id": "n_BqJQeQ2If3",
    "outputId": "30d6082f-98e5-4680-ebdf-3a088a7df11f"
   },
   "outputs": [
    {
     "name": "stdout",
     "output_type": "stream",
     "text": [
      "Adult\n"
     ]
    }
   ],
   "source": [
    "print(age_group(20)) "
   ]
  },
  {
   "cell_type": "code",
   "execution_count": 738,
   "metadata": {
    "colab": {
     "base_uri": "https://localhost:8080/"
    },
    "id": "h3oOtEqY1BCX",
    "outputId": "c4ed9fee-eef1-40d7-f404-a9cea1d0bcd1"
   },
   "outputs": [
    {
     "name": "stdout",
     "output_type": "stream",
     "text": [
      "    children  days_employed  dob_years            education  education_id  \\\n",
      "0          1    8437.673028         42    bachelor's degree             0   \n",
      "1          1    4024.803754         36  secondary education             1   \n",
      "2          0    5623.422610         33  secondary education             1   \n",
      "3          3    4124.747207         32  secondary education             1   \n",
      "5          0     926.185831         27    bachelor's degree             0   \n",
      "6          0    2879.202052         43    bachelor's degree             0   \n",
      "7          0     152.779569         50  secondary education             1   \n",
      "8          2    6929.865299         35    bachelor's degree             0   \n",
      "9          0    2188.756445         41  secondary education             1   \n",
      "10         2    4171.483647         36    bachelor's degree             0   \n",
      "\n",
      "        family_status  family_status_id gender income_type  debt  \\\n",
      "0             married                 0      F    employee     0   \n",
      "1             married                 0      F    employee     0   \n",
      "2             married                 0      M    employee     0   \n",
      "3             married                 0      M    employee     0   \n",
      "5   civil partnership                 1      M    business     0   \n",
      "6             married                 0      F    business     0   \n",
      "7             married                 0      M    employee     0   \n",
      "8   civil partnership                 1      F    employee     0   \n",
      "9             married                 0      M    employee     0   \n",
      "10            married                 0      M    business     0   \n",
      "\n",
      "    total_income                              purpose age_group  \n",
      "0      40620.102                purchase of the house     Adult  \n",
      "1      17932.802                         car purchase     Adult  \n",
      "2      23341.752                purchase of the house     Adult  \n",
      "3      42820.568              supplementary education     Adult  \n",
      "5      40922.170                purchase of the house     Adult  \n",
      "6      38484.156                 housing transactions     Adult  \n",
      "7      21731.829                            education     Adult  \n",
      "8      15337.093                     having a wedding     Adult  \n",
      "9      23108.150  purchase of the house for my family     Adult  \n",
      "10     18230.959                      buy real estate     Adult  \n"
     ]
    }
   ],
   "source": [
    "df['age_group'] = df['dob_years'].apply(age_group)\n",
    "print(df.head(10)) "
   ]
  },
  {
   "cell_type": "code",
   "execution_count": 739,
   "metadata": {
    "colab": {
     "base_uri": "https://localhost:8080/"
    },
    "id": "d79vbWHmPvTN",
    "outputId": "57479f79-be41-4fa3-eae7-efb287c0caa0"
   },
   "outputs": [
    {
     "name": "stdout",
     "output_type": "stream",
     "text": [
      "           dob_years\n",
      "age_group           \n",
      "Adult          17670\n",
      "Retired          191\n"
     ]
    }
   ],
   "source": [
    "grouped = pd.pivot_table(data=df, index='age_group', values='dob_years', aggfunc='count')\n",
    "print(grouped)"
   ]
  },
  {
   "cell_type": "code",
   "execution_count": 740,
   "metadata": {
    "colab": {
     "base_uri": "https://localhost:8080/"
    },
    "id": "_VDpJyOsEYLP",
    "outputId": "7c3ab924-78d3-433e-ee57-357a9bd62be7"
   },
   "outputs": [
    {
     "name": "stdout",
     "output_type": "stream",
     "text": [
      "           total_income\n",
      "age_group              \n",
      "Adult        24178.6145\n",
      "Retired      24178.6145\n"
     ]
    }
   ],
   "source": [
    "grouped1 = pd.pivot_table(data=df, index='age_group', values='total_income', aggfunc='median')\n",
    "print(grouped1)"
   ]
  },
  {
   "cell_type": "markdown",
   "metadata": {
    "id": "99VvSDJj2If3"
   },
   "source": [
    "**Observations:**\n",
    "<p> There are more than 95% loan applicants who are adults than retired. Adults are more able to pay back their loan rather than retired. However, looking at the total income of the age group, the retired loan applicants are close to adult loan applicants which means the retired loan applicants are capable of paying back their loan. "
   ]
  },
  {
   "cell_type": "code",
   "execution_count": 741,
   "metadata": {
    "colab": {
     "base_uri": "https://localhost:8080/"
    },
    "id": "xogU677B2If4",
    "outputId": "1805392e-b867-4f48-835d-25313707a45a"
   },
   "outputs": [
    {
     "data": {
      "text/plain": [
       "0     40620.102\n",
       "1     17932.802\n",
       "2     23341.752\n",
       "3     42820.568\n",
       "5     40922.170\n",
       "6     38484.156\n",
       "7     21731.829\n",
       "8     15337.093\n",
       "9     23108.150\n",
       "10    18230.959\n",
       "Name: total_income, dtype: float64"
      ]
     },
     "execution_count": 741,
     "metadata": {},
     "output_type": "execute_result"
    }
   ],
   "source": [
    "df['total_income'].head(10)"
   ]
  },
  {
   "cell_type": "code",
   "execution_count": 742,
   "metadata": {
    "colab": {
     "base_uri": "https://localhost:8080/"
    },
    "id": "8EKAq-3g2If4",
    "outputId": "4aeceef0-c01c-417b-832f-aee5b3058984"
   },
   "outputs": [
    {
     "data": {
      "text/plain": [
       "count     17861.000000\n",
       "mean      27429.210979\n",
       "std       16049.729481\n",
       "min        3418.824000\n",
       "25%       18117.570000\n",
       "50%       24178.614500\n",
       "75%       32073.554000\n",
       "max      362496.645000\n",
       "Name: total_income, dtype: float64"
      ]
     },
     "execution_count": 742,
     "metadata": {},
     "output_type": "execute_result"
    }
   ],
   "source": [
    "df['total_income'].describe()\n"
   ]
  },
  {
   "cell_type": "code",
   "execution_count": 743,
   "metadata": {
    "colab": {
     "base_uri": "https://localhost:8080/",
     "height": 206
    },
    "id": "Ljib8ADmNYlc",
    "outputId": "20419442-d51b-45c1-f1d7-6dc6024d548d"
   },
   "outputs": [
    {
     "data": {
      "text/html": [
       "<div>\n",
       "<style scoped>\n",
       "    .dataframe tbody tr th:only-of-type {\n",
       "        vertical-align: middle;\n",
       "    }\n",
       "\n",
       "    .dataframe tbody tr th {\n",
       "        vertical-align: top;\n",
       "    }\n",
       "\n",
       "    .dataframe thead th {\n",
       "        text-align: right;\n",
       "    }\n",
       "</style>\n",
       "<table border=\"1\" class=\"dataframe\">\n",
       "  <thead>\n",
       "    <tr style=\"text-align: right;\">\n",
       "      <th></th>\n",
       "      <th>education</th>\n",
       "      <th>family_status</th>\n",
       "      <th>gender</th>\n",
       "      <th>income_type</th>\n",
       "      <th>purpose</th>\n",
       "    </tr>\n",
       "  </thead>\n",
       "  <tbody>\n",
       "    <tr>\n",
       "      <th>0</th>\n",
       "      <td>bachelor's degree</td>\n",
       "      <td>married</td>\n",
       "      <td>F</td>\n",
       "      <td>employee</td>\n",
       "      <td>purchase of the house</td>\n",
       "    </tr>\n",
       "    <tr>\n",
       "      <th>1</th>\n",
       "      <td>secondary education</td>\n",
       "      <td>married</td>\n",
       "      <td>F</td>\n",
       "      <td>employee</td>\n",
       "      <td>car purchase</td>\n",
       "    </tr>\n",
       "    <tr>\n",
       "      <th>2</th>\n",
       "      <td>secondary education</td>\n",
       "      <td>married</td>\n",
       "      <td>M</td>\n",
       "      <td>employee</td>\n",
       "      <td>purchase of the house</td>\n",
       "    </tr>\n",
       "    <tr>\n",
       "      <th>3</th>\n",
       "      <td>secondary education</td>\n",
       "      <td>married</td>\n",
       "      <td>M</td>\n",
       "      <td>employee</td>\n",
       "      <td>supplementary education</td>\n",
       "    </tr>\n",
       "    <tr>\n",
       "      <th>5</th>\n",
       "      <td>bachelor's degree</td>\n",
       "      <td>civil partnership</td>\n",
       "      <td>M</td>\n",
       "      <td>business</td>\n",
       "      <td>purchase of the house</td>\n",
       "    </tr>\n",
       "  </tbody>\n",
       "</table>\n",
       "</div>"
      ],
      "text/plain": [
       "             education      family_status gender income_type  \\\n",
       "0    bachelor's degree            married      F    employee   \n",
       "1  secondary education            married      F    employee   \n",
       "2  secondary education            married      M    employee   \n",
       "3  secondary education            married      M    employee   \n",
       "5    bachelor's degree  civil partnership      M    business   \n",
       "\n",
       "                   purpose  \n",
       "0    purchase of the house  \n",
       "1             car purchase  \n",
       "2    purchase of the house  \n",
       "3  supplementary education  \n",
       "5    purchase of the house  "
      ]
     },
     "execution_count": 743,
     "metadata": {},
     "output_type": "execute_result"
    }
   ],
   "source": [
    "df1 = df[categorical]\n",
    "df1.head()"
   ]
  },
  {
   "cell_type": "markdown",
   "metadata": {
    "id": "v9qNZiRMJSVI"
   },
   "source": [
    "**Grouping Categorical Columns with Total_Income**\n",
    "<p> To find out if there is a correlation of some of the categorical columns to total_income, I used groupby and get their mean and median values.</p>"
   ]
  },
  {
   "cell_type": "code",
   "execution_count": 744,
   "metadata": {
    "colab": {
     "base_uri": "https://localhost:8080/"
    },
    "id": "rSc_2hfTNl20",
    "outputId": "63d43b75-7be3-42ff-c62c-24cefbac9959"
   },
   "outputs": [
    {
     "name": "stdout",
     "output_type": "stream",
     "text": [
      "family_status               civil partnership      divorced       married  \\\n",
      "gender education                                                            \n",
      "F      bachelor's degree         30018.709774  31121.318789  29858.378287   \n",
      "       graduate degree                    NaN           NaN  17822.757000   \n",
      "       primary education         24196.561140  21138.597667  20250.798402   \n",
      "       secondary education       23688.352027  25012.872620  22989.529008   \n",
      "       some college              26045.029289  35048.278818  26720.982020   \n",
      "M      bachelor's degree         37803.183107  38952.989212  39760.550431   \n",
      "       graduate degree                    NaN  18551.846000  42945.794000   \n",
      "       primary education         21339.127233  18320.423600  25796.903697   \n",
      "       secondary education       28459.073783  28108.194956  28992.150042   \n",
      "       some college              32388.642491  28324.966056  34074.675772   \n",
      "\n",
      "family_status                  unmarried  widow / widower  \n",
      "gender education                                           \n",
      "F      bachelor's degree    30918.480629     30305.563364  \n",
      "       graduate degree               NaN              NaN  \n",
      "       primary education    17046.364333     24075.224100  \n",
      "       secondary education  24122.519061     23939.021433  \n",
      "       some college         24790.058929     30766.240429  \n",
      "M      bachelor's degree    32568.329087     28026.708562  \n",
      "       graduate degree      31771.321000              NaN  \n",
      "       primary education    24914.983789              NaN  \n",
      "       secondary education  26445.447230     24423.479885  \n",
      "       some college         30784.975308              NaN  \n"
     ]
    }
   ],
   "source": [
    "df_groupby = df.groupby(['gender','education','family_status'])['total_income'].aggregate('mean').unstack()\n",
    "print(df_groupby)"
   ]
  },
  {
   "cell_type": "code",
   "execution_count": 745,
   "metadata": {
    "colab": {
     "base_uri": "https://localhost:8080/",
     "height": 394
    },
    "id": "t6mKlLe_TOge",
    "outputId": "545de2e4-b69e-4696-a0a1-5e2cbf292104"
   },
   "outputs": [
    {
     "data": {
      "text/html": [
       "<div>\n",
       "<style scoped>\n",
       "    .dataframe tbody tr th:only-of-type {\n",
       "        vertical-align: middle;\n",
       "    }\n",
       "\n",
       "    .dataframe tbody tr th {\n",
       "        vertical-align: top;\n",
       "    }\n",
       "\n",
       "    .dataframe thead th {\n",
       "        text-align: right;\n",
       "    }\n",
       "</style>\n",
       "<table border=\"1\" class=\"dataframe\">\n",
       "  <thead>\n",
       "    <tr style=\"text-align: right;\">\n",
       "      <th></th>\n",
       "      <th>family_status</th>\n",
       "      <th>civil partnership</th>\n",
       "      <th>divorced</th>\n",
       "      <th>married</th>\n",
       "      <th>unmarried</th>\n",
       "      <th>widow / widower</th>\n",
       "    </tr>\n",
       "    <tr>\n",
       "      <th>gender</th>\n",
       "      <th>education</th>\n",
       "      <th></th>\n",
       "      <th></th>\n",
       "      <th></th>\n",
       "      <th></th>\n",
       "      <th></th>\n",
       "    </tr>\n",
       "  </thead>\n",
       "  <tbody>\n",
       "    <tr>\n",
       "      <th rowspan=\"5\" valign=\"top\">M</th>\n",
       "      <th>bachelor's degree</th>\n",
       "      <td>37803.183107</td>\n",
       "      <td>38952.989212</td>\n",
       "      <td>39760.550431</td>\n",
       "      <td>32568.329087</td>\n",
       "      <td>28026.708562</td>\n",
       "    </tr>\n",
       "    <tr>\n",
       "      <th>graduate degree</th>\n",
       "      <td>NaN</td>\n",
       "      <td>18551.846000</td>\n",
       "      <td>42945.794000</td>\n",
       "      <td>31771.321000</td>\n",
       "      <td>NaN</td>\n",
       "    </tr>\n",
       "    <tr>\n",
       "      <th>primary education</th>\n",
       "      <td>21339.127233</td>\n",
       "      <td>18320.423600</td>\n",
       "      <td>25796.903697</td>\n",
       "      <td>24914.983789</td>\n",
       "      <td>NaN</td>\n",
       "    </tr>\n",
       "    <tr>\n",
       "      <th>secondary education</th>\n",
       "      <td>28459.073783</td>\n",
       "      <td>28108.194956</td>\n",
       "      <td>28992.150042</td>\n",
       "      <td>26445.447230</td>\n",
       "      <td>24423.479885</td>\n",
       "    </tr>\n",
       "    <tr>\n",
       "      <th>some college</th>\n",
       "      <td>32388.642491</td>\n",
       "      <td>28324.966056</td>\n",
       "      <td>34074.675772</td>\n",
       "      <td>30784.975308</td>\n",
       "      <td>NaN</td>\n",
       "    </tr>\n",
       "    <tr>\n",
       "      <th rowspan=\"5\" valign=\"top\">F</th>\n",
       "      <th>bachelor's degree</th>\n",
       "      <td>30018.709774</td>\n",
       "      <td>31121.318789</td>\n",
       "      <td>29858.378287</td>\n",
       "      <td>30918.480629</td>\n",
       "      <td>30305.563364</td>\n",
       "    </tr>\n",
       "    <tr>\n",
       "      <th>graduate degree</th>\n",
       "      <td>NaN</td>\n",
       "      <td>NaN</td>\n",
       "      <td>17822.757000</td>\n",
       "      <td>NaN</td>\n",
       "      <td>NaN</td>\n",
       "    </tr>\n",
       "    <tr>\n",
       "      <th>primary education</th>\n",
       "      <td>24196.561140</td>\n",
       "      <td>21138.597667</td>\n",
       "      <td>20250.798402</td>\n",
       "      <td>17046.364333</td>\n",
       "      <td>24075.224100</td>\n",
       "    </tr>\n",
       "    <tr>\n",
       "      <th>secondary education</th>\n",
       "      <td>23688.352027</td>\n",
       "      <td>25012.872620</td>\n",
       "      <td>22989.529008</td>\n",
       "      <td>24122.519061</td>\n",
       "      <td>23939.021433</td>\n",
       "    </tr>\n",
       "    <tr>\n",
       "      <th>some college</th>\n",
       "      <td>26045.029289</td>\n",
       "      <td>35048.278818</td>\n",
       "      <td>26720.982020</td>\n",
       "      <td>24790.058929</td>\n",
       "      <td>30766.240429</td>\n",
       "    </tr>\n",
       "  </tbody>\n",
       "</table>\n",
       "</div>"
      ],
      "text/plain": [
       "family_status               civil partnership      divorced       married  \\\n",
       "gender education                                                            \n",
       "M      bachelor's degree         37803.183107  38952.989212  39760.550431   \n",
       "       graduate degree                    NaN  18551.846000  42945.794000   \n",
       "       primary education         21339.127233  18320.423600  25796.903697   \n",
       "       secondary education       28459.073783  28108.194956  28992.150042   \n",
       "       some college              32388.642491  28324.966056  34074.675772   \n",
       "F      bachelor's degree         30018.709774  31121.318789  29858.378287   \n",
       "       graduate degree                    NaN           NaN  17822.757000   \n",
       "       primary education         24196.561140  21138.597667  20250.798402   \n",
       "       secondary education       23688.352027  25012.872620  22989.529008   \n",
       "       some college              26045.029289  35048.278818  26720.982020   \n",
       "\n",
       "family_status                  unmarried  widow / widower  \n",
       "gender education                                           \n",
       "M      bachelor's degree    32568.329087     28026.708562  \n",
       "       graduate degree      31771.321000              NaN  \n",
       "       primary education    24914.983789              NaN  \n",
       "       secondary education  26445.447230     24423.479885  \n",
       "       some college         30784.975308              NaN  \n",
       "F      bachelor's degree    30918.480629     30305.563364  \n",
       "       graduate degree               NaN              NaN  \n",
       "       primary education    17046.364333     24075.224100  \n",
       "       secondary education  24122.519061     23939.021433  \n",
       "       some college         24790.058929     30766.240429  "
      ]
     },
     "execution_count": 745,
     "metadata": {},
     "output_type": "execute_result"
    }
   ],
   "source": [
    "df_groupby.sort_values(by=['gender'], ascending=False)"
   ]
  },
  {
   "cell_type": "code",
   "execution_count": 746,
   "metadata": {
    "colab": {
     "base_uri": "https://localhost:8080/"
    },
    "id": "fPa7xHiZF3BW",
    "outputId": "c122b25f-d5ac-4d47-e978-52748cff9cac"
   },
   "outputs": [
    {
     "name": "stdout",
     "output_type": "stream",
     "text": [
      "family_status               civil partnership      divorced       married  \\\n",
      "gender education                                                            \n",
      "F      bachelor's degree         30018.709774  31121.318789  29858.378287   \n",
      "       graduate degree           27992.334856  27175.498635  17822.757000   \n",
      "       primary education         24196.561140  21138.597667  20250.798402   \n",
      "       secondary education       23688.352027  25012.872620  22989.529008   \n",
      "       some college              26045.029289  35048.278818  26720.982020   \n",
      "M      bachelor's degree         37803.183107  38952.989212  39760.550431   \n",
      "       graduate degree           27992.334856  18551.846000  42945.794000   \n",
      "       primary education         21339.127233  18320.423600  25796.903697   \n",
      "       secondary education       28459.073783  28108.194956  28992.150042   \n",
      "       some college              32388.642491  28324.966056  34074.675772   \n",
      "\n",
      "family_status                  unmarried  widow / widower  \n",
      "gender education                                           \n",
      "F      bachelor's degree    30918.480629     30305.563364  \n",
      "       graduate degree      27040.275485     26922.706295  \n",
      "       primary education    17046.364333     24075.224100  \n",
      "       secondary education  24122.519061     23939.021433  \n",
      "       some college         24790.058929     30766.240429  \n",
      "M      bachelor's degree    32568.329087     28026.708562  \n",
      "       graduate degree      31771.321000     26922.706295  \n",
      "       primary education    24914.983789     26922.706295  \n",
      "       secondary education  26445.447230     24423.479885  \n",
      "       some college         30784.975308     26922.706295  \n"
     ]
    }
   ],
   "source": [
    "df_groupby = df_groupby.fillna(df_groupby.mean())\n",
    "print(df_groupby)"
   ]
  },
  {
   "cell_type": "code",
   "execution_count": 747,
   "metadata": {
    "colab": {
     "base_uri": "https://localhost:8080/"
    },
    "id": "1ZbERqXf2If4",
    "outputId": "9fe44ee4-893b-499d-d810-012810757981",
    "scrolled": true
   },
   "outputs": [
    {
     "name": "stdout",
     "output_type": "stream",
     "text": [
      "family_status               civil partnership    divorced     married  \\\n",
      "gender education                                                        \n",
      "F      bachelor's degree           24921.3855  25625.9085  24543.5445   \n",
      "       graduate degree                    NaN         NaN  17822.7570   \n",
      "       primary education           24178.6145  21041.8135  20259.2510   \n",
      "       secondary education         22645.2030  24178.6145  21956.1940   \n",
      "       some college                24178.6145  31191.4385  23722.4580   \n",
      "M      bachelor's degree           30980.9355  30023.3840  32106.3260   \n",
      "       graduate degree                    NaN  18551.8460  42945.7940   \n",
      "       primary education           19810.2530  11652.8520  24843.8990   \n",
      "       secondary education         24178.6145  24496.7360  25014.1490   \n",
      "       some college                27369.8105  24208.1320  29973.6640   \n",
      "\n",
      "family_status                 unmarried  widow / widower  \n",
      "gender education                                          \n",
      "F      bachelor's degree    24195.93575      24479.92875  \n",
      "       graduate degree              NaN              NaN  \n",
      "       primary education    17724.05850      24178.61450  \n",
      "       secondary education  22352.27300      24178.61450  \n",
      "       some college         23959.85100      28993.93400  \n",
      "M      bachelor's degree    27901.98000      28059.27125  \n",
      "       graduate degree      31771.32100              NaN  \n",
      "       primary education    23388.80700              NaN  \n",
      "       secondary education  24178.61450      24178.61450  \n",
      "       some college         25599.12500              NaN  \n"
     ]
    }
   ],
   "source": [
    "df_groupby1 = df.groupby(['gender','education','family_status'])['total_income'].aggregate('median').unstack()\n",
    "print(df_groupby1)"
   ]
  },
  {
   "cell_type": "code",
   "execution_count": 748,
   "metadata": {
    "colab": {
     "base_uri": "https://localhost:8080/"
    },
    "id": "DSgS0zBNF9Gp",
    "outputId": "0e77c1c4-a61a-4fc3-9b5e-67cc3125a851"
   },
   "outputs": [
    {
     "name": "stdout",
     "output_type": "stream",
     "text": [
      "family_status               civil partnership      divorced     married  \\\n",
      "gender education                                                          \n",
      "F      bachelor's degree         24921.385500  25625.908500  24543.5445   \n",
      "       graduate degree           27992.334856  27641.846796  17822.7570   \n",
      "       primary education         24178.614500  21041.813500  20259.2510   \n",
      "       secondary education       22645.203000  24178.614500  21956.1940   \n",
      "       some college              24178.614500  31191.438500  23722.4580   \n",
      "M      bachelor's degree         30980.935500  30023.384000  32106.3260   \n",
      "       graduate degree           27992.334856  18551.846000  42945.7940   \n",
      "       primary education         19810.253000  11652.852000  24843.8990   \n",
      "       secondary education       24178.614500  24496.736000  25014.1490   \n",
      "       some college              27369.810500  24208.132000  29973.6640   \n",
      "\n",
      "family_status                  unmarried  widow / widower  \n",
      "gender education                                           \n",
      "F      bachelor's degree    24195.935750     24479.928750  \n",
      "       graduate degree      26742.861357     26922.706295  \n",
      "       primary education    17724.058500     24178.614500  \n",
      "       secondary education  22352.273000     24178.614500  \n",
      "       some college         23959.851000     28993.934000  \n",
      "M      bachelor's degree    27901.980000     28059.271250  \n",
      "       graduate degree      31771.321000     26922.706295  \n",
      "       primary education    23388.807000     26922.706295  \n",
      "       secondary education  24178.614500     24178.614500  \n",
      "       some college         25599.125000     26922.706295  \n"
     ]
    }
   ],
   "source": [
    "df_groupby1 = df_groupby1.fillna(df_groupby.median())\n",
    "print(df_groupby1)"
   ]
  },
  {
   "cell_type": "markdown",
   "metadata": {
    "id": "mN3ReFkhFeRB"
   },
   "source": [
    "**Observations**\n",
    "<p>Looking at the mean and median values in the groupby tables, I proceeded using the median values to replace the missing values rather than the mean. I noticed that the median values are closer to the values of those with no NaN values. "
   ]
  },
  {
   "cell_type": "markdown",
   "metadata": {},
   "source": [
    "<div class=\"alert alert-block alert-danger\">\n",
    "<b>Reviewer's comment v4</b> <a class=\"tocSkip\"></a>\n",
    "\n",
    "You are missing the last step, restorint the missing values. You'll have to use a function like fillna with a dataframe like total_income_education or def_groupby to restore missing values in the main dataframe which is df.\n",
    "</div>"
   ]
  },
  {
   "cell_type": "markdown",
   "metadata": {
    "id": "uPZ4PorQ2If5"
   },
   "source": [
    "###  Restoring values in `days_employed`"
   ]
  },
  {
   "cell_type": "code",
   "execution_count": 749,
   "metadata": {},
   "outputs": [
    {
     "data": {
      "text/plain": [
       "<AxesSubplot:xlabel='days_employed', ylabel='Density'>"
      ]
     },
     "execution_count": 749,
     "metadata": {},
     "output_type": "execute_result"
    },
    {
     "data": {
      "image/png": "[encoded data removed]",
      "text/plain": [
       "<Figure size 720x576 with 1 Axes>"
      ]
     },
     "metadata": {},
     "output_type": "display_data"
    }
   ],
   "source": [
    "fig, ax = plt.subplots(figsize=(10, 8))\n",
    "sns.distplot(df.days_employed)"
   ]
  },
  {
   "cell_type": "code",
   "execution_count": 750,
   "metadata": {},
   "outputs": [
    {
     "data": {
      "text/plain": [
       "2029"
      ]
     },
     "execution_count": 750,
     "metadata": {},
     "output_type": "execute_result"
    }
   ],
   "source": [
    "df['days_employed'].isnull().sum()"
   ]
  },
  {
   "cell_type": "code",
   "execution_count": 751,
   "metadata": {},
   "outputs": [],
   "source": [
    "df['days_employed'] = df['days_employed'].fillna(df['days_employed'].median())"
   ]
  },
  {
   "cell_type": "code",
   "execution_count": 752,
   "metadata": {},
   "outputs": [
    {
     "data": {
      "text/plain": [
       "0"
      ]
     },
     "execution_count": 752,
     "metadata": {},
     "output_type": "execute_result"
    }
   ],
   "source": [
    "df['days_employed'].isnull().sum()"
   ]
  },
  {
   "cell_type": "code",
   "execution_count": 754,
   "metadata": {
    "colab": {
     "base_uri": "https://localhost:8080/"
    },
    "id": "N1bgU97f2If5",
    "outputId": "358c1695-eaa3-42a4-92f3-28a8d6b83c24"
   },
   "outputs": [
    {
     "name": "stdout",
     "output_type": "stream",
     "text": [
      "family_status               civil partnership  divorced    married  unmarried  \\\n",
      "gender education                                                                \n",
      "F      bachelor's degree             7.402778  7.341563   7.473525   7.158684   \n",
      "       graduate degree               7.223288  7.411369  10.766129   6.934251   \n",
      "       primary education             7.678114  7.903588   8.406144  12.720343   \n",
      "       secondary education           7.652253  7.793356   7.792750   7.470421   \n",
      "       some college                  6.855221  6.964156   7.284284   6.412224   \n",
      "M      bachelor's degree             7.229179  7.462848   7.310949   6.955836   \n",
      "       graduate degree               7.223288  7.762780  10.657402   6.014204   \n",
      "       primary education             7.217397  5.996922   7.300853   6.737261   \n",
      "       secondary education           7.169721  7.411369   7.423911   6.934251   \n",
      "       some college                  7.045550  6.550558   7.256707   6.625861   \n",
      "\n",
      "family_status               widow / widower  \n",
      "gender education                             \n",
      "F      bachelor's degree           8.776636  \n",
      "       graduate degree             9.017278  \n",
      "       primary education          12.789404  \n",
      "       secondary education        12.707533  \n",
      "       some college                9.017278  \n",
      "M      bachelor's degree           7.616249  \n",
      "       graduate degree             9.017278  \n",
      "       primary education          12.736438  \n",
      "       secondary education         8.021762  \n",
      "       some college                9.017278  \n"
     ]
    }
   ],
   "source": [
    "df_groupby2 = df.groupby(['gender','education','family_status'])['days_employed'].aggregate('median').unstack()\n",
    "print(df_groupby3)"
   ]
  },
  {
   "cell_type": "code",
   "execution_count": 755,
   "metadata": {
    "colab": {
     "base_uri": "https://localhost:8080/"
    },
    "id": "unP4ENbq4R58",
    "outputId": "f3064fb1-da8f-45c2-d249-fbe178f594f8"
   },
   "outputs": [
    {
     "name": "stdout",
     "output_type": "stream",
     "text": [
      "family_status               civil partnership  divorced    married  unmarried  \\\n",
      "gender education                                                                \n",
      "F      bachelor's degree             7.402778  7.341563   7.473525   7.158684   \n",
      "       graduate degree               7.223288  7.411369  10.766129   6.934251   \n",
      "       primary education             7.678114  7.903588   8.406144  12.720343   \n",
      "       secondary education           7.652253  7.793356   7.792750   7.470421   \n",
      "       some college                  6.855221  6.964156   7.284284   6.412224   \n",
      "M      bachelor's degree             7.229179  7.462848   7.310949   6.955836   \n",
      "       graduate degree               7.223288  7.762780  10.657402   6.014204   \n",
      "       primary education             7.217397  5.996922   7.300853   6.737261   \n",
      "       secondary education           7.169721  7.411369   7.423911   6.934251   \n",
      "       some college                  7.045550  6.550558   7.256707   6.625861   \n",
      "\n",
      "family_status               widow / widower  \n",
      "gender education                             \n",
      "F      bachelor's degree           8.776636  \n",
      "       graduate degree             9.017278  \n",
      "       primary education          12.789404  \n",
      "       secondary education        12.707533  \n",
      "       some college                9.017278  \n",
      "M      bachelor's degree           7.616249  \n",
      "       graduate degree             9.017278  \n",
      "       primary education          12.736438  \n",
      "       secondary education         8.021762  \n",
      "       some college                9.017278  \n"
     ]
    }
   ],
   "source": [
    "df_groupby2 = df_groupby3.fillna(df_groupby3.median())\n",
    "print(df_groupby3)"
   ]
  },
  {
   "cell_type": "markdown",
   "metadata": {
    "id": "lNtc3KQl2If6"
   },
   "source": [
    "**Observations:**\n",
    "For the days_employed column, it's best to use the median values to replace the missing values rather than the mean. For the categorization, its best fitted to use median values."
   ]
  },
  {
   "cell_type": "markdown",
   "metadata": {
    "id": "bDHNVGC12If6"
   },
   "source": [
    "## Categorization of data\n"
   ]
  },
  {
   "cell_type": "code",
   "execution_count": 756,
   "metadata": {
    "id": "k9q44SYq2If6",
    "scrolled": true
   },
   "outputs": [],
   "source": [
    "def debt_group(debt):\n",
    "    if debt == 0:\n",
    "        return 'NONE'\n",
    "    return 'YES'    "
   ]
  },
  {
   "cell_type": "code",
   "execution_count": 757,
   "metadata": {
    "colab": {
     "base_uri": "https://localhost:8080/"
    },
    "id": "BJGtNxibZhto",
    "outputId": "daea84b0-5a27-4368-a05a-51a0b7f05aba"
   },
   "outputs": [
    {
     "name": "stdout",
     "output_type": "stream",
     "text": [
      "    children  days_employed  dob_years            education  education_id  \\\n",
      "0          1    8437.673028         42    bachelor's degree             0   \n",
      "1          1    4024.803754         36  secondary education             1   \n",
      "2          0    5623.422610         33  secondary education             1   \n",
      "3          3    4124.747207         32  secondary education             1   \n",
      "5          0     926.185831         27    bachelor's degree             0   \n",
      "6          0    2879.202052         43    bachelor's degree             0   \n",
      "7          0     152.779569         50  secondary education             1   \n",
      "8          2    6929.865299         35    bachelor's degree             0   \n",
      "9          0    2188.756445         41  secondary education             1   \n",
      "10         2    4171.483647         36    bachelor's degree             0   \n",
      "\n",
      "        family_status  family_status_id gender income_type  debt  \\\n",
      "0             married                 0      F    employee     0   \n",
      "1             married                 0      F    employee     0   \n",
      "2             married                 0      M    employee     0   \n",
      "3             married                 0      M    employee     0   \n",
      "5   civil partnership                 1      M    business     0   \n",
      "6             married                 0      F    business     0   \n",
      "7             married                 0      M    employee     0   \n",
      "8   civil partnership                 1      F    employee     0   \n",
      "9             married                 0      M    employee     0   \n",
      "10            married                 0      M    business     0   \n",
      "\n",
      "    total_income                              purpose age_group debt_group  \n",
      "0      40620.102                purchase of the house     Adult       NONE  \n",
      "1      17932.802                         car purchase     Adult       NONE  \n",
      "2      23341.752                purchase of the house     Adult       NONE  \n",
      "3      42820.568              supplementary education     Adult       NONE  \n",
      "5      40922.170                purchase of the house     Adult       NONE  \n",
      "6      38484.156                 housing transactions     Adult       NONE  \n",
      "7      21731.829                            education     Adult       NONE  \n",
      "8      15337.093                     having a wedding     Adult       NONE  \n",
      "9      23108.150  purchase of the house for my family     Adult       NONE  \n",
      "10     18230.959                      buy real estate     Adult       NONE  \n"
     ]
    }
   ],
   "source": [
    "df['debt_group'] = df['debt'].apply(debt_group)\n",
    "print(df.head(10)) "
   ]
  },
  {
   "cell_type": "code",
   "execution_count": 758,
   "metadata": {
    "colab": {
     "base_uri": "https://localhost:8080/"
    },
    "id": "BRVr09ldZBuM",
    "outputId": "0aefa775-cfcf-41cd-9dda-250beecb3338"
   },
   "outputs": [
    {
     "name": "stdout",
     "output_type": "stream",
     "text": [
      "             debt\n",
      "debt_group       \n",
      "NONE        16309\n",
      "YES          1552\n"
     ]
    }
   ],
   "source": [
    "debt_grouped = pd.pivot_table(data=df, index='debt_group', values='debt', aggfunc='count')\n",
    "print(debt_grouped)"
   ]
  },
  {
   "cell_type": "code",
   "execution_count": 759,
   "metadata": {
    "colab": {
     "base_uri": "https://localhost:8080/"
    },
    "id": "7Zy_ULW4sF_m",
    "outputId": "9ad93ed3-cd63-4ecc-f37a-b06452e18679"
   },
   "outputs": [
    {
     "name": "stdout",
     "output_type": "stream",
     "text": [
      "            total_income\n",
      "debt_group              \n",
      "NONE          24178.6145\n",
      "YES           24178.6145\n"
     ]
    }
   ],
   "source": [
    "total_income_grouped = pd.pivot_table(data=df, index='debt_group', values='total_income', aggfunc='median')\n",
    "print(total_income_grouped)"
   ]
  },
  {
   "cell_type": "markdown",
   "metadata": {
    "id": "JWEARRhE2If7"
   },
   "source": [
    "**Observations**\n",
    "<p> To prepare categorizing the loan applicants, I used the grouped table, debt_group, and the column total_income. Since in the grouped table, loan applicants are grouped as to their debt history. If they have debt, they are marked as YES. Otherwhise, NONE. Cross-referencing that with total_income, it shows which group have no debt and the median value of their total income. Thus, it seems both categories have close values which makes our data credible and accurate. Going further, I created a function to determine their risk factor based on the above grouping. "
   ]
  },
  {
   "cell_type": "code",
   "execution_count": 760,
   "metadata": {
    "id": "xNuRiuZU2If7"
   },
   "outputs": [],
   "source": [
    "def debt_group_importance(row):\n",
    "    debt_group = row['debt_group']\n",
    "    total_income = row['total_income']\n",
    "\n",
    "    if debt_group == 'NONE':\n",
    "        if total_income >= 24943.461:\n",
    "            return 'NO RISK'\n",
    "    if debt_group == 'YES':\n",
    "        if total_income >= 24406.534:\n",
    "            return 'RISK'\n",
    "    if debt_group == 'NONE':\n",
    "        if total_income <= 24943.461:\n",
    "            return 'RISK'\n",
    "    if debt_group == 'YES':\n",
    "        if total_income <= 24406.534:\n",
    "            return 'CRITICAL RISK'\n",
    "    return 'MID-RISK'"
   ]
  },
  {
   "cell_type": "code",
   "execution_count": 761,
   "metadata": {
    "colab": {
     "base_uri": "https://localhost:8080/"
    },
    "id": "KknuLfXnfacU",
    "outputId": "9af52507-7df7-4557-d104-6addb9503aaf"
   },
   "outputs": [
    {
     "name": "stdout",
     "output_type": "stream",
     "text": [
      "RISK             10021\n",
      "NO RISK           6922\n",
      "CRITICAL RISK      918\n",
      "Name: credit_score, dtype: int64\n"
     ]
    }
   ],
   "source": [
    "df['credit_score'] = df.apply(\n",
    "    debt_group_importance, axis=1\n",
    ")\n",
    "print(df['credit_score'].value_counts())"
   ]
  },
  {
   "cell_type": "code",
   "execution_count": 762,
   "metadata": {
    "colab": {
     "base_uri": "https://localhost:8080/",
     "height": 455
    },
    "id": "X53dSo9g735a",
    "outputId": "0cadd36a-dd38-406b-8684-93ab8297cc64"
   },
   "outputs": [
    {
     "data": {
      "text/html": [
       "<div>\n",
       "<style scoped>\n",
       "    .dataframe tbody tr th:only-of-type {\n",
       "        vertical-align: middle;\n",
       "    }\n",
       "\n",
       "    .dataframe tbody tr th {\n",
       "        vertical-align: top;\n",
       "    }\n",
       "\n",
       "    .dataframe thead th {\n",
       "        text-align: right;\n",
       "    }\n",
       "</style>\n",
       "<table border=\"1\" class=\"dataframe\">\n",
       "  <thead>\n",
       "    <tr style=\"text-align: right;\">\n",
       "      <th></th>\n",
       "      <th></th>\n",
       "      <th>children</th>\n",
       "      <th>days_employed</th>\n",
       "      <th>dob_years</th>\n",
       "      <th>education</th>\n",
       "      <th>education_id</th>\n",
       "      <th>family_status</th>\n",
       "      <th>family_status_id</th>\n",
       "      <th>gender</th>\n",
       "      <th>income_type</th>\n",
       "      <th>debt</th>\n",
       "      <th>total_income</th>\n",
       "      <th>purpose</th>\n",
       "      <th>age_group</th>\n",
       "      <th>debt_group</th>\n",
       "      <th>credit_score</th>\n",
       "    </tr>\n",
       "    <tr>\n",
       "      <th>gender</th>\n",
       "      <th></th>\n",
       "      <th></th>\n",
       "      <th></th>\n",
       "      <th></th>\n",
       "      <th></th>\n",
       "      <th></th>\n",
       "      <th></th>\n",
       "      <th></th>\n",
       "      <th></th>\n",
       "      <th></th>\n",
       "      <th></th>\n",
       "      <th></th>\n",
       "      <th></th>\n",
       "      <th></th>\n",
       "      <th></th>\n",
       "      <th></th>\n",
       "    </tr>\n",
       "  </thead>\n",
       "  <tbody>\n",
       "    <tr>\n",
       "      <th rowspan=\"5\" valign=\"top\">F</th>\n",
       "      <th>6203</th>\n",
       "      <td>1</td>\n",
       "      <td>270.660836</td>\n",
       "      <td>50</td>\n",
       "      <td>secondary education</td>\n",
       "      <td>1</td>\n",
       "      <td>married</td>\n",
       "      <td>0</td>\n",
       "      <td>F</td>\n",
       "      <td>employee</td>\n",
       "      <td>1</td>\n",
       "      <td>14347.062</td>\n",
       "      <td>to buy a car</td>\n",
       "      <td>Adult</td>\n",
       "      <td>YES</td>\n",
       "      <td>CRITICAL RISK</td>\n",
       "    </tr>\n",
       "    <tr>\n",
       "      <th>1650</th>\n",
       "      <td>2</td>\n",
       "      <td>3976.112832</td>\n",
       "      <td>31</td>\n",
       "      <td>secondary education</td>\n",
       "      <td>1</td>\n",
       "      <td>married</td>\n",
       "      <td>0</td>\n",
       "      <td>F</td>\n",
       "      <td>employee</td>\n",
       "      <td>1</td>\n",
       "      <td>17772.322</td>\n",
       "      <td>purchase of the house</td>\n",
       "      <td>Adult</td>\n",
       "      <td>YES</td>\n",
       "      <td>CRITICAL RISK</td>\n",
       "    </tr>\n",
       "    <tr>\n",
       "      <th>17508</th>\n",
       "      <td>0</td>\n",
       "      <td>490.838926</td>\n",
       "      <td>33</td>\n",
       "      <td>secondary education</td>\n",
       "      <td>1</td>\n",
       "      <td>married</td>\n",
       "      <td>0</td>\n",
       "      <td>F</td>\n",
       "      <td>employee</td>\n",
       "      <td>1</td>\n",
       "      <td>15124.713</td>\n",
       "      <td>car</td>\n",
       "      <td>Adult</td>\n",
       "      <td>YES</td>\n",
       "      <td>CRITICAL RISK</td>\n",
       "    </tr>\n",
       "    <tr>\n",
       "      <th>4919</th>\n",
       "      <td>0</td>\n",
       "      <td>773.212469</td>\n",
       "      <td>42</td>\n",
       "      <td>secondary education</td>\n",
       "      <td>1</td>\n",
       "      <td>civil partnership</td>\n",
       "      <td>1</td>\n",
       "      <td>F</td>\n",
       "      <td>employee</td>\n",
       "      <td>1</td>\n",
       "      <td>19347.263</td>\n",
       "      <td>having a wedding</td>\n",
       "      <td>Adult</td>\n",
       "      <td>YES</td>\n",
       "      <td>CRITICAL RISK</td>\n",
       "    </tr>\n",
       "    <tr>\n",
       "      <th>1669</th>\n",
       "      <td>2</td>\n",
       "      <td>421.503725</td>\n",
       "      <td>27</td>\n",
       "      <td>secondary education</td>\n",
       "      <td>1</td>\n",
       "      <td>married</td>\n",
       "      <td>0</td>\n",
       "      <td>F</td>\n",
       "      <td>employee</td>\n",
       "      <td>1</td>\n",
       "      <td>14101.847</td>\n",
       "      <td>housing</td>\n",
       "      <td>Adult</td>\n",
       "      <td>YES</td>\n",
       "      <td>CRITICAL RISK</td>\n",
       "    </tr>\n",
       "    <tr>\n",
       "      <th>...</th>\n",
       "      <th>...</th>\n",
       "      <td>...</td>\n",
       "      <td>...</td>\n",
       "      <td>...</td>\n",
       "      <td>...</td>\n",
       "      <td>...</td>\n",
       "      <td>...</td>\n",
       "      <td>...</td>\n",
       "      <td>...</td>\n",
       "      <td>...</td>\n",
       "      <td>...</td>\n",
       "      <td>...</td>\n",
       "      <td>...</td>\n",
       "      <td>...</td>\n",
       "      <td>...</td>\n",
       "      <td>...</td>\n",
       "    </tr>\n",
       "    <tr>\n",
       "      <th rowspan=\"5\" valign=\"top\">M</th>\n",
       "      <th>9760</th>\n",
       "      <td>0</td>\n",
       "      <td>467.107777</td>\n",
       "      <td>37</td>\n",
       "      <td>secondary education</td>\n",
       "      <td>1</td>\n",
       "      <td>married</td>\n",
       "      <td>0</td>\n",
       "      <td>M</td>\n",
       "      <td>business</td>\n",
       "      <td>0</td>\n",
       "      <td>20073.922</td>\n",
       "      <td>car purchase</td>\n",
       "      <td>Adult</td>\n",
       "      <td>NONE</td>\n",
       "      <td>RISK</td>\n",
       "    </tr>\n",
       "    <tr>\n",
       "      <th>9763</th>\n",
       "      <td>0</td>\n",
       "      <td>1654.678903</td>\n",
       "      <td>23</td>\n",
       "      <td>secondary education</td>\n",
       "      <td>1</td>\n",
       "      <td>unmarried</td>\n",
       "      <td>4</td>\n",
       "      <td>M</td>\n",
       "      <td>employee</td>\n",
       "      <td>0</td>\n",
       "      <td>21513.737</td>\n",
       "      <td>construction of own property</td>\n",
       "      <td>Adult</td>\n",
       "      <td>NONE</td>\n",
       "      <td>RISK</td>\n",
       "    </tr>\n",
       "    <tr>\n",
       "      <th>9772</th>\n",
       "      <td>1</td>\n",
       "      <td>2622.968859</td>\n",
       "      <td>40</td>\n",
       "      <td>secondary education</td>\n",
       "      <td>1</td>\n",
       "      <td>married</td>\n",
       "      <td>0</td>\n",
       "      <td>M</td>\n",
       "      <td>employee</td>\n",
       "      <td>1</td>\n",
       "      <td>26632.140</td>\n",
       "      <td>buying a second-hand car</td>\n",
       "      <td>Adult</td>\n",
       "      <td>YES</td>\n",
       "      <td>RISK</td>\n",
       "    </tr>\n",
       "    <tr>\n",
       "      <th>9792</th>\n",
       "      <td>0</td>\n",
       "      <td>4095.782180</td>\n",
       "      <td>57</td>\n",
       "      <td>secondary education</td>\n",
       "      <td>1</td>\n",
       "      <td>civil partnership</td>\n",
       "      <td>1</td>\n",
       "      <td>M</td>\n",
       "      <td>employee</td>\n",
       "      <td>0</td>\n",
       "      <td>14436.494</td>\n",
       "      <td>to have a wedding</td>\n",
       "      <td>Adult</td>\n",
       "      <td>NONE</td>\n",
       "      <td>RISK</td>\n",
       "    </tr>\n",
       "    <tr>\n",
       "      <th>21523</th>\n",
       "      <td>3</td>\n",
       "      <td>3112.481705</td>\n",
       "      <td>38</td>\n",
       "      <td>secondary education</td>\n",
       "      <td>1</td>\n",
       "      <td>married</td>\n",
       "      <td>0</td>\n",
       "      <td>M</td>\n",
       "      <td>employee</td>\n",
       "      <td>1</td>\n",
       "      <td>39054.888</td>\n",
       "      <td>buying my own car</td>\n",
       "      <td>Adult</td>\n",
       "      <td>YES</td>\n",
       "      <td>RISK</td>\n",
       "    </tr>\n",
       "  </tbody>\n",
       "</table>\n",
       "<p>17861 rows × 15 columns</p>\n",
       "</div>"
      ],
      "text/plain": [
       "              children  days_employed  dob_years            education  \\\n",
       "gender                                                                  \n",
       "F      6203          1     270.660836         50  secondary education   \n",
       "       1650          2    3976.112832         31  secondary education   \n",
       "       17508         0     490.838926         33  secondary education   \n",
       "       4919          0     773.212469         42  secondary education   \n",
       "       1669          2     421.503725         27  secondary education   \n",
       "...                ...            ...        ...                  ...   \n",
       "M      9760          0     467.107777         37  secondary education   \n",
       "       9763          0    1654.678903         23  secondary education   \n",
       "       9772          1    2622.968859         40  secondary education   \n",
       "       9792          0    4095.782180         57  secondary education   \n",
       "       21523         3    3112.481705         38  secondary education   \n",
       "\n",
       "              education_id      family_status  family_status_id gender  \\\n",
       "gender                                                                   \n",
       "F      6203              1            married                 0      F   \n",
       "       1650              1            married                 0      F   \n",
       "       17508             1            married                 0      F   \n",
       "       4919              1  civil partnership                 1      F   \n",
       "       1669              1            married                 0      F   \n",
       "...                    ...                ...               ...    ...   \n",
       "M      9760              1            married                 0      M   \n",
       "       9763              1          unmarried                 4      M   \n",
       "       9772              1            married                 0      M   \n",
       "       9792              1  civil partnership                 1      M   \n",
       "       21523             1            married                 0      M   \n",
       "\n",
       "             income_type  debt  total_income                       purpose  \\\n",
       "gender                                                                       \n",
       "F      6203     employee     1     14347.062                  to buy a car   \n",
       "       1650     employee     1     17772.322         purchase of the house   \n",
       "       17508    employee     1     15124.713                           car   \n",
       "       4919     employee     1     19347.263              having a wedding   \n",
       "       1669     employee     1     14101.847                       housing   \n",
       "...                  ...   ...           ...                           ...   \n",
       "M      9760     business     0     20073.922                  car purchase   \n",
       "       9763     employee     0     21513.737  construction of own property   \n",
       "       9772     employee     1     26632.140      buying a second-hand car   \n",
       "       9792     employee     0     14436.494             to have a wedding   \n",
       "       21523    employee     1     39054.888             buying my own car   \n",
       "\n",
       "             age_group debt_group   credit_score  \n",
       "gender                                            \n",
       "F      6203      Adult        YES  CRITICAL RISK  \n",
       "       1650      Adult        YES  CRITICAL RISK  \n",
       "       17508     Adult        YES  CRITICAL RISK  \n",
       "       4919      Adult        YES  CRITICAL RISK  \n",
       "       1669      Adult        YES  CRITICAL RISK  \n",
       "...                ...        ...            ...  \n",
       "M      9760      Adult       NONE           RISK  \n",
       "       9763      Adult       NONE           RISK  \n",
       "       9772      Adult        YES           RISK  \n",
       "       9792      Adult       NONE           RISK  \n",
       "       21523     Adult        YES           RISK  \n",
       "\n",
       "[17861 rows x 15 columns]"
      ]
     },
     "execution_count": 762,
     "metadata": {},
     "output_type": "execute_result"
    }
   ],
   "source": [
    "df.groupby('gender').apply(lambda x: x.sort_values('credit_score'))"
   ]
  },
  {
   "cell_type": "markdown",
   "metadata": {},
   "source": [
    "<div class=\"alert alert-block alert-success\">\n",
    "<b>Reviewer's comment v3</b> <a class=\"tocSkip\"></a>\n",
    "\n",
    "Nice approach to clasify according to income and actual debt category.\n",
    "</div>"
   ]
  },
  {
   "cell_type": "markdown",
   "metadata": {
    "id": "LZIUxh3o2If9"
   },
   "source": [
    "**How does credit purpose affect the default rate?**"
   ]
  },
  {
   "cell_type": "markdown",
   "metadata": {},
   "source": [
    "<div class=\"alert alert-block alert-danger\">\n",
    "<b>Reviewer's comment v3</b> <a class=\"tocSkip\"></a>\n",
    "\n",
    "For the next section you'll use the purpose `column` to know what type of correlation it has with paying back on time. For that, you have to categorize the `purpose` column, which has too many different values. Group those when they are refering to the same thing, for example 'wedding ceremony' and 'having a wedding' are the same purpose so you could create a category 'wedding'.\n",
    "</div>"
   ]
  },
  {
   "cell_type": "code",
   "execution_count": 763,
   "metadata": {},
   "outputs": [
    {
     "data": {
      "text/plain": [
       "array(['building a property', 'building a real estate',\n",
       "       'buy commercial real estate', 'buy real estate',\n",
       "       'buy residential real estate', 'buying a second-hand car',\n",
       "       'buying my own car', 'buying property for renting out', 'car',\n",
       "       'car purchase', 'cars', 'construction of own property',\n",
       "       'education', 'getting an education', 'getting higher education',\n",
       "       'going to university', 'having a wedding', 'housing',\n",
       "       'housing renovation', 'housing transactions', 'profile education',\n",
       "       'property', 'purchase of a car', 'purchase of my own house',\n",
       "       'purchase of the house', 'purchase of the house for my family',\n",
       "       'real estate transactions', 'second-hand car purchase',\n",
       "       'supplementary education', 'to become educated', 'to buy a car',\n",
       "       'to get a supplementary education', 'to have a wedding',\n",
       "       'to own a car', 'transactions with commercial real estate',\n",
       "       'transactions with my real estate', 'university education',\n",
       "       'wedding ceremony'], dtype=object)"
      ]
     },
     "execution_count": 763,
     "metadata": {},
     "output_type": "execute_result"
    }
   ],
   "source": [
    "df['purpose'].sort_values().unique()"
   ]
  },
  {
   "cell_type": "code",
   "execution_count": 764,
   "metadata": {},
   "outputs": [],
   "source": [
    "def replace_wrong_purposes(wrong_purposes, correct_purposes): \n",
    "    for wrong_purpose in wrong_purposes: \n",
    "        df['purpose'] = df['purpose'].replace(wrong_purpose, correct_purposes)"
   ]
  },
  {
   "cell_type": "code",
   "execution_count": 765,
   "metadata": {},
   "outputs": [
    {
     "name": "stdout",
     "output_type": "stream",
     "text": [
      "['building a property' 'buy real estate' 'car purchase'\n",
      " 'construction of own property' 'getting an education' 'housing']\n"
     ]
    }
   ],
   "source": [
    "duplicates = ['building a real estate', 'buy commercial real estate', 'buy residential real estate', 'real estate transactions', 'transactions with commercial real estate', 'transactions with my real estate'] \n",
    "name = 'buy real estate'\n",
    "duplicates1 = ['car', 'cars', 'buying a second-hand car', 'buying my own car', 'to buy a car', 'purchase of a car', 'second-hand car purchase', 'to own a car']\n",
    "name = 'car purchase'\n",
    "duplicates2 = ['education', 'getting higher education', 'going to university', 'supplementary education', 'profile education', 'to become educated', 'to get a supplementary education', 'university education']\n",
    "name = 'getting an education'\n",
    "duplicates3 = ['having a wedding', 'to have a wedding', 'wedding ceremony']\n",
    "name ='wedding'\n",
    "duplicates4 = ['housing renovation', 'housing transactions', 'property', 'buying property for renting out', 'construction of my own property', 'purchase of my own house', 'purchase of the house', 'purchase of the house for my family', '']\n",
    "name='housing'\n",
    "replace_wrong_purposes(duplicates, name)\n",
    "replace_wrong_purposes(duplicates1, name)\n",
    "replace_wrong_purposes(duplicates2, name)\n",
    "replace_wrong_purposes(duplicates3, name)\n",
    "replace_wrong_purposes(duplicates4, name)\n",
    "print(df['purpose'].sort_values().unique())"
   ]
  },
  {
   "cell_type": "code",
   "execution_count": 766,
   "metadata": {},
   "outputs": [
    {
     "data": {
      "text/plain": [
       "dtype('O')"
      ]
     },
     "execution_count": 766,
     "metadata": {},
     "output_type": "execute_result"
    }
   ],
   "source": [
    "df['purpose'].dtype"
   ]
  },
  {
   "cell_type": "code",
   "execution_count": 768,
   "metadata": {},
   "outputs": [
    {
     "data": {
      "image/png": "[encoded data removed]",
      "text/plain": [
       "<Figure size 432x288 with 1 Axes>"
      ]
     },
     "metadata": {},
     "output_type": "display_data"
    }
   ],
   "source": [
    "plt.scatter(df['purpose'], df['debt'])\n",
    "plt.show()"
   ]
  },
  {
   "cell_type": "code",
   "execution_count": 813,
   "metadata": {},
   "outputs": [
    {
     "name": "stdout",
     "output_type": "stream",
     "text": [
      "debt                              0     1  rate_of_late_payement\n",
      "purpose                                                         \n",
      "building a property             474    48               9.195402\n",
      "buy real estate                 477    37               7.198444\n",
      "car purchase                    342    39              10.236220\n",
      "construction of own property    496    36               6.766917\n",
      "getting an education            333    32               8.767123\n",
      "housing                       14187  1360               8.747668\n"
     ]
    }
   ],
   "source": [
    "pivot_table_purpose = df.pivot_table(index='purpose', columns= 'debt', values='days_employed', aggfunc='count')\n",
    "pivot_table_purpose['rate_of_late_payement'] = pivot_table_purpose[1] / (pivot_table_purpose[1] + pivot_table_purpose[0]) * 100\n",
    "print(pivot_table_purpose)"
   ]
  },
  {
   "cell_type": "markdown",
   "metadata": {},
   "source": [
    "<div class=\"alert alert-block alert-danger\">\n",
    "<b>Reviewer's comment v4</b> <a class=\"tocSkip\"></a>\n",
    "\n",
    "Could you please exaplin this comment in more detail? I did not understand what you explained. Also the code above doesn't run.\n",
    "</div>"
   ]
  },
  {
   "cell_type": "markdown",
   "metadata": {},
   "source": [
    "<div class=\"alert alert-block alert-info\">\n",
    "<b>Student answer.</b> <a class=\"tocSkip\"></a>\n",
    "    <p>As to the purpose of making a loan, purchasing a car has a higher rate which is at 10% while the lowest rate goes to real estate with 7%. The range of rates (7% to 9%) are close to each other.</p>"
   ]
  },
  {
   "cell_type": "markdown",
   "metadata": {
    "id": "LN5I2BNl2If8"
   },
   "source": [
    "## Checking the Hypotheses\n"
   ]
  },
  {
   "cell_type": "markdown",
   "metadata": {
    "id": "T35XQX_i2If8"
   },
   "source": [
    "**Is there a correlation between having children and paying back on time?** default rate = customers who didn't repay the debt / all customers"
   ]
  },
  {
   "cell_type": "code",
   "execution_count": 814,
   "metadata": {},
   "outputs": [
    {
     "data": {
      "text/plain": [
       "0"
      ]
     },
     "execution_count": 814,
     "metadata": {},
     "output_type": "execute_result"
    }
   ],
   "source": [
    "df['children'].isnull().sum()"
   ]
  },
  {
   "cell_type": "code",
   "execution_count": 815,
   "metadata": {
    "colab": {
     "base_uri": "https://localhost:8080/"
    },
    "id": "ylCGLobFP7do",
    "outputId": "0d379d0c-dbb6-4cee-f593-cb2bd7590102"
   },
   "outputs": [
    {
     "data": {
      "text/plain": [
       "0.015714128468013816"
      ]
     },
     "execution_count": 815,
     "metadata": {},
     "output_type": "execute_result"
    }
   ],
   "source": [
    "df['children'].corr(df['debt'])"
   ]
  },
  {
   "cell_type": "code",
   "execution_count": 816,
   "metadata": {
    "colab": {
     "base_uri": "https://localhost:8080/",
     "height": 265
    },
    "id": "1vCL7YaYS4Rm",
    "outputId": "a383145e-d3df-482d-a6d0-2f364fb3cd3f"
   },
   "outputs": [
    {
     "data": {
      "text/plain": [
       "<AxesSubplot:xlabel='children', ylabel='Density'>"
      ]
     },
     "execution_count": 816,
     "metadata": {},
     "output_type": "execute_result"
    },
    {
     "data": {
      "image/png": "[encoded data removed]",
      "text/plain": [
       "<Figure size 720x576 with 1 Axes>"
      ]
     },
     "metadata": {},
     "output_type": "display_data"
    }
   ],
   "source": [
    "fig, ax = plt.subplots(figsize=(10, 8))\n",
    "sns.distplot(df.children)"
   ]
  },
  {
   "cell_type": "code",
   "execution_count": 817,
   "metadata": {},
   "outputs": [
    {
     "name": "stdout",
     "output_type": "stream",
     "text": [
      "       children  days_employed  dob_years            education  education_id  \\\n",
      "3979          5    1630.691372         42  secondary education             1   \n",
      "4397          5    3248.839837         36  secondary education             1   \n",
      "7866          5     773.124856         36  secondary education             1   \n",
      "15822         5     418.199982         31  secondary education             1   \n",
      "15916         5    2286.262752         37  secondary education             1   \n",
      "16211         5     387.317579         35  secondary education             1   \n",
      "20452         5     268.425464         38    primary education             3   \n",
      "20837         5    2386.600221         35  secondary education             1   \n",
      "21156         5    1690.018117         59  secondary education             1   \n",
      "\n",
      "           family_status  family_status_id gender    income_type  debt  \\\n",
      "3979   civil partnership                 1      M       employee     0   \n",
      "4397             married                 0      F       business     0   \n",
      "7866             married                 0      F       employee     0   \n",
      "15822            married                 0      F       employee     0   \n",
      "15916            married                 0      F       employee     0   \n",
      "16211  civil partnership                 1      F  civil servant     0   \n",
      "20452            married                 0      F       employee     0   \n",
      "20837            married                 0      F       business     0   \n",
      "21156            married                 0      M       employee     0   \n",
      "\n",
      "       total_income          purpose age_group debt_group credit_score  \n",
      "3979     24178.6145          housing     Adult       NONE         RISK  \n",
      "4397     26953.7480          housing     Adult       NONE      NO RISK  \n",
      "7866      7803.6630          housing     Adult       NONE         RISK  \n",
      "15822    12408.3890          housing     Adult       NONE         RISK  \n",
      "15916    41071.7360  buy real estate     Adult       NONE      NO RISK  \n",
      "16211    20176.3440          housing     Adult       NONE         RISK  \n",
      "20452    34007.2590          housing     Adult       NONE      NO RISK  \n",
      "20837    32678.7030          housing     Adult       NONE      NO RISK  \n",
      "21156    43050.9360          housing     Adult       NONE      NO RISK  \n"
     ]
    }
   ],
   "source": [
    "df_children = df.query(\"children == 5\")\n",
    "print(df_children)"
   ]
  },
  {
   "cell_type": "markdown",
   "metadata": {},
   "source": [
    "<div class=\"alert alert-block alert-danger\">\n",
    "<b>Reviewer's comment v3</b> <a class=\"tocSkip\"></a>\n",
    "\n",
    "\n",
    "In this section you should compare a rate of not paying in time accross categories. Please try this:\n",
    "    \n",
    " - `pivot_table_children = data.pivot_table(index='children', columns= 'debt', values='days_employed', aggfunc='count')`\n",
    " - `pivot_table_children['rate_of_late_payement'] = pivot_table_children[1] / (pivot_table_children[1] + pivot_table_children[0]) * 100`\n",
    " - Compare the rates among categories of number of children. When number of children grows, does the rate of late payment grow too?\n",
    "    \n",
    "Please follow similar steps for all hypothesis.\n",
    "</div>"
   ]
  },
  {
   "cell_type": "code",
   "execution_count": 818,
   "metadata": {},
   "outputs": [
    {
     "name": "stdout",
     "output_type": "stream",
     "text": [
      "debt           0      1  rate_of_late_payment\n",
      "children                                     \n",
      "0         9942.0  892.0              8.233339\n",
      "1         4139.0  430.0              9.411250\n",
      "2         1887.0  200.0              9.583134\n",
      "3          296.0   26.0              8.074534\n",
      "4           36.0    4.0             10.000000\n",
      "5            9.0    NaN                   NaN\n"
     ]
    }
   ],
   "source": [
    "pivot_table_children = df.pivot_table(index='children', columns= 'debt', values='days_employed', aggfunc='count')\n",
    "pivot_table_children['rate_of_late_payment'] = pivot_table_children[1] / (pivot_table_children[1] + pivot_table_children[0]) * 100\n",
    "print(pivot_table_children)"
   ]
  },
  {
   "cell_type": "markdown",
   "metadata": {
    "id": "H7b7kOlERwpt"
   },
   "source": [
    "<div class=\"alert alert-block alert-info\">\n",
    "<b>Student answer.</b> <a class=\"tocSkip\"></a>\n",
    "<p> As to the number of children influeince rate of late payment, having more children increases its rate to 10% while the lowest rate goes to having no children with 8%. The range of rates (8% to 10%) of the listed purposes are close to each other. </p> "
   ]
  },
  {
   "cell_type": "markdown",
   "metadata": {
    "id": "ZP9Eu24D2If8"
   },
   "source": [
    "**Is there a correlation between family status and paying back on time?**"
   ]
  },
  {
   "cell_type": "code",
   "execution_count": 819,
   "metadata": {},
   "outputs": [
    {
     "name": "stdout",
     "output_type": "stream",
     "text": [
      "debt                  0    1  rate_of_late_payment\n",
      "family_status                                     \n",
      "civil partnership  3175  357             10.107588\n",
      "divorced            914   74              7.489879\n",
      "married            9557  829              7.981899\n",
      "unmarried          2221  261             10.515713\n",
      "widow / widower     442   31              6.553911\n"
     ]
    }
   ],
   "source": [
    "pivot_table_family_status = df.pivot_table(index='family_status', columns= 'debt', values='days_employed', aggfunc='count')\n",
    "pivot_table_family_status['rate_of_late_payment'] = pivot_table_family_status[1] / (pivot_table_family_status[1] + pivot_table_family_status[0]) * 100\n",
    "print(pivot_table_family_status)"
   ]
  },
  {
   "cell_type": "markdown",
   "metadata": {},
   "source": [
    "<div class=\"alert alert-block alert-info\">\n",
    "<b>Student answer.</b> <a class=\"tocSkip\"></a>\n",
    "<p> As to family status making an impact to the rate of late payment, unmarried or single loan applicants has a higher rate which is at 10% while the lowest rate goes to widow or widower with 6%. The range of rates (6% to 10%) are close to each other.</p> "
   ]
  },
  {
   "cell_type": "markdown",
   "metadata": {
    "id": "i_vTHhsI2If9"
   },
   "source": [
    "**Is there a correlation between income level and paying back on time?**"
   ]
  },
  {
   "cell_type": "code",
   "execution_count": 859,
   "metadata": {},
   "outputs": [
    {
     "data": {
      "text/plain": [
       "-0.020899473833803136"
      ]
     },
     "execution_count": 859,
     "metadata": {},
     "output_type": "execute_result"
    }
   ],
   "source": [
    "df['total_income'].corr(df['debt'])"
   ]
  },
  {
   "cell_type": "code",
   "execution_count": 860,
   "metadata": {},
   "outputs": [
    {
     "name": "stdout",
     "output_type": "stream",
     "text": [
      "debt            0    1  rate_of_late_payment\n",
      "total_income                                \n",
      "3418.824      1.0  NaN                   NaN\n",
      "4036.463      1.0  NaN                   NaN\n",
      "4212.770      1.0  NaN                   NaN\n",
      "4245.348      1.0  NaN                   NaN\n",
      "4494.861      1.0  NaN                   NaN\n",
      "...           ...  ...                   ...\n",
      "273809.483    1.0  NaN                   NaN\n",
      "274402.943    1.0  NaN                   NaN\n",
      "276204.162    1.0  NaN                   NaN\n",
      "352136.354    NaN  1.0                   NaN\n",
      "362496.645    1.0  NaN                   NaN\n",
      "\n",
      "[15832 rows x 3 columns]\n"
     ]
    }
   ],
   "source": [
    "pivot_table_income_level = df.pivot_table(index='total_income', columns= 'debt', values='days_employed', aggfunc='count')\n",
    "pivot_table_income_level['rate_of_late_payment'] = pivot_table_income_level[1] / (pivot_table_income_level[1] + pivot_table_income_level[0]) * 100\n",
    "print(pivot_table_income_level)"
   ]
  },
  {
   "cell_type": "markdown",
   "metadata": {
    "id": "ieAoGRnlXfoU"
   },
   "source": [
    "<div class=\"alert alert-block alert-info\">\n",
    "<b>Student answer.</b> <a class=\"tocSkip\"></a>\n",
    "<p> There's no correlation of the income level and paying back in time.</p> "
   ]
  },
  {
   "cell_type": "markdown",
   "metadata": {
    "id": "6dU1Zz8I2If9"
   },
   "source": [
    "**Conclusion**\n",
    "\n",
    "Based on my computations, the age groupings determines how likely the loan applicants will pay back their loan. "
   ]
  },
  {
   "cell_type": "markdown",
   "metadata": {
    "id": "3dVwBLTH2If9"
   },
   "source": [
    "# General Conclusion \n"
   ]
  },
  {
   "cell_type": "code",
   "execution_count": 861,
   "metadata": {
    "colab": {
     "base_uri": "https://localhost:8080/"
    },
    "id": "nFnm0Lh0cZB2",
    "outputId": "7e100a93-fb1f-4cb7-b6d3-2c5065550b61",
    "scrolled": true
   },
   "outputs": [
    {
     "name": "stdout",
     "output_type": "stream",
     "text": [
      "RISK             10021\n",
      "NO RISK           6922\n",
      "CRITICAL RISK      918\n",
      "Name: credit_score, dtype: int64\n"
     ]
    }
   ],
   "source": [
    "print(df['credit_score'].value_counts())"
   ]
  },
  {
   "cell_type": "markdown",
   "metadata": {
    "id": "zh9UTew0cyCf"
   },
   "source": [
    "After processing and manipulating the data to be credible and accurate, I came up with the table above to determine loan applicants and their risk in paying back their loan as the determining factor. There are more loan applicants who are classified as AT RISK. This means that the loan applicants with RISK are able to pay back their loan but with difficulties along the way. It seems that age group has more correlation to their ability to pay back their loan other than family status, the number of children, and the purpose of their loan. "
   ]
  }
 ],
 "metadata": {
  "ExecuteTimeLog": [
   {
    "duration": 2741,
    "start_time": "2021-10-21T01:08:49.480Z"
   },
   {
    "duration": 52,
    "start_time": "2021-10-21T01:08:53.315Z"
   },
   {
    "duration": 49,
    "start_time": "2021-10-21T01:08:57.432Z"
   },
   {
    "duration": 70,
    "start_time": "2021-10-21T01:09:07.706Z"
   }
  ],
  "colab": {
   "provenance": []
  },
  "kernelspec": {
   "display_name": "Python 3 (ipykernel)",
   "language": "python",
   "name": "python3"
  },
  "language_info": {
   "codemirror_mode": {
    "name": "ipython",
    "version": 3
   },
   "file_extension": ".py",
   "mimetype": "text/x-python",
   "name": "python",
   "nbconvert_exporter": "python",
   "pygments_lexer": "ipython3",
   "version": "3.9.5"
  },
  "toc": {
   "base_numbering": 1,
   "nav_menu": {},
   "number_sections": true,
   "sideBar": true,
   "skip_h1_title": true,
   "title_cell": "Table of Contents",
   "title_sidebar": "Contents",
   "toc_cell": false,
   "toc_position": {
    "height": "calc(100% - 180px)",
    "left": "10px",
    "top": "150px",
    "width": "342.575px"
   },
   "toc_section_display": true,
   "toc_window_display": true
  }
 },
 "nbformat": 4,
 "nbformat_minor": 1
}
